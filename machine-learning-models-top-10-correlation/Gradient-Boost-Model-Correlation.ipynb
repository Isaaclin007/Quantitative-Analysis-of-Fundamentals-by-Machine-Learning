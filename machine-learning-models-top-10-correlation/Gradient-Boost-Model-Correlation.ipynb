{
 "cells": [
  {
   "cell_type": "markdown",
   "metadata": {},
   "source": [
    "# Model: Gradient Boost"
   ]
  },
  {
   "cell_type": "markdown",
   "metadata": {},
   "source": [
    "### Importing Libraries"
   ]
  },
  {
   "cell_type": "code",
   "execution_count": 1,
   "metadata": {},
   "outputs": [],
   "source": [
    "import _pickle as pickle\n",
    "import numpy as np\n",
    "import pandas as pd\n",
    "from sklearn.model_selection import train_test_split\n",
    "from sklearn.metrics import precision_score, recall_score, accuracy_score, f1_score, confusion_matrix, classification_report\n",
    "import matplotlib.pyplot as plt\n",
    "from sklearn.preprocessing import StandardScaler\n",
    "# Importing the model\n",
    "from sklearn.ensemble import GradientBoostingClassifier"
   ]
  },
  {
   "cell_type": "markdown",
   "metadata": {},
   "source": [
    "### Loading in Data"
   ]
  },
  {
   "cell_type": "code",
   "execution_count": 2,
   "metadata": {},
   "outputs": [],
   "source": [
    "df = pd.read_excel('../top10_corr_features.xlsx')\n",
    "df = df.drop(df.columns[0], axis = 1)"
   ]
  },
  {
   "cell_type": "markdown",
   "metadata": {},
   "source": [
    "### Scaling the Data"
   ]
  },
  {
   "cell_type": "code",
   "execution_count": 3,
   "metadata": {},
   "outputs": [],
   "source": [
    "scaler = StandardScaler()\n",
    "\n",
    "features_df = df.drop([\"Decision\"], 1)\n",
    "\n",
    "scaled_df = pd.DataFrame(scaler.fit_transform(features_df), \n",
    "                               index=features_df.index, \n",
    "                               columns=features_df.columns)\n",
    "\n",
    "df = scaled_df.join(df.Decision)"
   ]
  },
  {
   "cell_type": "markdown",
   "metadata": {},
   "source": [
    "### Splitting the Data"
   ]
  },
  {
   "cell_type": "code",
   "execution_count": 4,
   "metadata": {},
   "outputs": [],
   "source": [
    "X = df.drop([\"Decision\"], 1)\n",
    "y = df.Decision\n",
    "\n",
    "# Train, test, split\n",
    "X_train, X_test, y_train, y_test = train_test_split(X, y)"
   ]
  },
  {
   "cell_type": "markdown",
   "metadata": {},
   "source": [
    "### Helper Functions"
   ]
  },
  {
   "cell_type": "markdown",
   "metadata": {},
   "source": [
    "#### Function for plotting confusion matrix"
   ]
  },
  {
   "cell_type": "code",
   "execution_count": 5,
   "metadata": {},
   "outputs": [],
   "source": [
    "def plot_confusion_matrix(y_true, y_pred, labels=[\"Sell\", \"Buy\", \"Hold\"], \n",
    "                          normalize=False, title=None, cmap=plt.cm.coolwarm):\n",
    "\n",
    "    cm = confusion_matrix(y_true, y_pred)\n",
    "    fig, ax = plt.subplots(figsize=(12,6))\n",
    "    im = ax.imshow(cm, interpolation='nearest', cmap=cmap)\n",
    "    ax.figure.colorbar(im, ax=ax)\n",
    "    # We want to show all ticks...\n",
    "    ax.set(xticks=np.arange(cm.shape[1]),\n",
    "           yticks=np.arange(cm.shape[0]),\n",
    "           # ... and label them with the respective list entries\n",
    "           xticklabels=labels, yticklabels=labels,\n",
    "           title=title,\n",
    "           ylabel='ACTUAL',\n",
    "           xlabel='PREDICTED')\n",
    "    # Rotate the tick labels and set their alignment.\n",
    "    plt.setp(ax.get_xticklabels(), rotation=45, ha=\"right\",\n",
    "             rotation_mode=\"anchor\")\n",
    "    # Loop over data dimensions and create text annotations.\n",
    "    fmt = '.2f' if normalize else 'd'\n",
    "    thresh = cm.max() / 1.5\n",
    "    for i in range(cm.shape[0]):\n",
    "        for j in range(cm.shape[1]):\n",
    "            ax.text(j, i, format(cm[i, j], fmt),\n",
    "                    ha=\"center\", va=\"center\",\n",
    "                    color=\"snow\" if cm[i, j] > thresh else \"orange\",\n",
    "                    size=26)\n",
    "    ax.grid(False)\n",
    "    fig.tight_layout()\n",
    "    return ax"
   ]
  },
  {
   "cell_type": "markdown",
   "metadata": {},
   "source": [
    "## Modeling\n",
    "The preferred evaluation metric used will be __Precision__ for each class.  They will be optimized using the __F1 Score-Macro-Average__ to balance the Precision and Recall.  This is done because we want to not only be correct when predicting but also make a decent amount of predictions for each class.  Classes such as 'Buy' and 'Sell' are more important than 'Hold'."
   ]
  },
  {
   "cell_type": "markdown",
   "metadata": {},
   "source": [
    "### Fitting and Training"
   ]
  },
  {
   "cell_type": "code",
   "execution_count": 6,
   "metadata": {
    "scrolled": false
   },
   "outputs": [
    {
     "data": {
      "text/plain": [
       "GradientBoostingClassifier(criterion='friedman_mse', init=None,\n",
       "                           learning_rate=0.1, loss='deviance', max_depth=3,\n",
       "                           max_features=None, max_leaf_nodes=None,\n",
       "                           min_impurity_decrease=0.0, min_impurity_split=None,\n",
       "                           min_samples_leaf=1, min_samples_split=2,\n",
       "                           min_weight_fraction_leaf=0.0, n_estimators=100,\n",
       "                           n_iter_no_change=None, presort='auto',\n",
       "                           random_state=None, subsample=1.0, tol=0.0001,\n",
       "                           validation_fraction=0.1, verbose=0,\n",
       "                           warm_start=False)"
      ]
     },
     "execution_count": 6,
     "metadata": {},
     "output_type": "execute_result"
    }
   ],
   "source": [
    "# Fitting and training\n",
    "clf = GradientBoostingClassifier()\n",
    "clf.fit(X_train, y_train)"
   ]
  },
  {
   "cell_type": "markdown",
   "metadata": {},
   "source": [
    "### Printing out Evaluation Metrics"
   ]
  },
  {
   "cell_type": "code",
   "execution_count": 7,
   "metadata": {},
   "outputs": [
    {
     "name": "stdout",
     "output_type": "stream",
     "text": [
      "              precision    recall  f1-score   support\n",
      "\n",
      "        Sell       0.67      0.33      0.44         6\n",
      "         Buy       0.33      0.57      0.42         7\n",
      "        Hold       0.00      0.00      0.00         4\n",
      "\n",
      "    accuracy                           0.35        17\n",
      "   macro avg       0.33      0.30      0.29        17\n",
      "weighted avg       0.37      0.35      0.33        17\n",
      "\n"
     ]
    }
   ],
   "source": [
    "# Classifier predictions\n",
    "pred = clf.predict(X_test)\n",
    "\n",
    "#Printing out results\n",
    "report = classification_report(y_test, pred, target_names=['Sell', 'Buy', 'Hold'])\n",
    "print(report)"
   ]
  },
  {
   "cell_type": "markdown",
   "metadata": {},
   "source": [
    "### Confusion Matrix"
   ]
  },
  {
   "cell_type": "code",
   "execution_count": 8,
   "metadata": {},
   "outputs": [
    {
     "data": {
      "image/png": "[encoded data removed]",
      "text/plain": [
       "<Figure size 864x432 with 2 Axes>"
      ]
     },
     "metadata": {
      "needs_background": "light"
     },
     "output_type": "display_data"
    }
   ],
   "source": [
    "plot_confusion_matrix(y_test, pred, title=\"Confusion Matrix\")\n",
    "np.set_printoptions(precision=1)\n",
    "# Plot non-normalized confusion matrix\n",
    "plt.show()"
   ]
  },
  {
   "cell_type": "markdown",
   "metadata": {},
   "source": [
    "## Tuning Model Parameters"
   ]
  },
  {
   "cell_type": "code",
   "execution_count": 9,
   "metadata": {},
   "outputs": [],
   "source": [
    "from sklearn.model_selection import GridSearchCV"
   ]
  },
  {
   "cell_type": "markdown",
   "metadata": {},
   "source": [
    "### Parameters"
   ]
  },
  {
   "cell_type": "code",
   "execution_count": 10,
   "metadata": {},
   "outputs": [],
   "source": [
    "# Parameters to Tune\n",
    "params = {'n_estimators': [50,100, 200],\n",
    "          'learning_rate': [1,0.1,.01],\n",
    "          'max_depth': [1, 3, 6],\n",
    "          'min_samples_split': [2, 5],\n",
    "          'min_samples_leaf': [1, 3, 5]}"
   ]
  },
  {
   "cell_type": "code",
   "execution_count": 11,
   "metadata": {},
   "outputs": [
    {
     "name": "stdout",
     "output_type": "stream",
     "text": [
      "Fitting 3 folds for each of 162 candidates, totalling 486 fits\n",
      "[CV] learning_rate=1, max_depth=1, min_samples_leaf=1, min_samples_split=2, n_estimators=50 \n",
      "[CV]  learning_rate=1, max_depth=1, min_samples_leaf=1, min_samples_split=2, n_estimators=50, score=(train=1.000, test=0.321), total=   0.1s\n",
      "[CV] learning_rate=1, max_depth=1, min_samples_leaf=1, min_samples_split=2, n_estimators=50 \n",
      "[CV]  learning_rate=1, max_depth=1, min_samples_leaf=1, min_samples_split=2, n_estimators=50, score=(train=1.000, test=0.418), total=   0.1s"
     ]
    },
    {
     "name": "stderr",
     "output_type": "stream",
     "text": [
      "[Parallel(n_jobs=1)]: Using backend SequentialBackend with 1 concurrent workers.\n",
      "[Parallel(n_jobs=1)]: Done   1 out of   1 | elapsed:    0.0s remaining:    0.0s\n"
     ]
    },
    {
     "name": "stdout",
     "output_type": "stream",
     "text": [
      "\n",
      "[CV] learning_rate=1, max_depth=1, min_samples_leaf=1, min_samples_split=2, n_estimators=50 \n",
      "[CV]  learning_rate=1, max_depth=1, min_samples_leaf=1, min_samples_split=2, n_estimators=50, score=(train=1.000, test=0.358), total=   0.1s\n",
      "[CV] learning_rate=1, max_depth=1, min_samples_leaf=1, min_samples_split=2, n_estimators=100 \n"
     ]
    },
    {
     "name": "stderr",
     "output_type": "stream",
     "text": [
      "[Parallel(n_jobs=1)]: Done   2 out of   2 | elapsed:    0.1s remaining:    0.0s\n",
      "[Parallel(n_jobs=1)]: Done   3 out of   3 | elapsed:    0.2s remaining:    0.0s\n",
      "[Parallel(n_jobs=1)]: Done   4 out of   4 | elapsed:    0.3s remaining:    0.0s\n"
     ]
    },
    {
     "name": "stdout",
     "output_type": "stream",
     "text": [
      "[CV]  learning_rate=1, max_depth=1, min_samples_leaf=1, min_samples_split=2, n_estimators=100, score=(train=1.000, test=0.231), total=   0.1s\n",
      "[CV] learning_rate=1, max_depth=1, min_samples_leaf=1, min_samples_split=2, n_estimators=100 \n",
      "[CV]  learning_rate=1, max_depth=1, min_samples_leaf=1, min_samples_split=2, n_estimators=100, score=(train=1.000, test=0.418), total=   0.2s\n",
      "[CV] learning_rate=1, max_depth=1, min_samples_leaf=1, min_samples_split=2, n_estimators=100 \n",
      "[CV]  learning_rate=1, max_depth=1, min_samples_leaf=1, min_samples_split=2, n_estimators=100, score=(train=1.000, test=0.356), total=   0.2s\n",
      "[CV] learning_rate=1, max_depth=1, min_samples_leaf=1, min_samples_split=2, n_estimators=200 \n",
      "[CV]  learning_rate=1, max_depth=1, min_samples_leaf=1, min_samples_split=2, n_estimators=200, score=(train=1.000, test=0.231), total=   0.2s\n",
      "[CV] learning_rate=1, max_depth=1, min_samples_leaf=1, min_samples_split=2, n_estimators=200 \n",
      "[CV]  learning_rate=1, max_depth=1, min_samples_leaf=1, min_samples_split=2, n_estimators=200, score=(train=1.000, test=0.418), total=   0.3s\n",
      "[CV] learning_rate=1, max_depth=1, min_samples_leaf=1, min_samples_split=2, n_estimators=200 \n",
      "[CV]  learning_rate=1, max_depth=1, min_samples_leaf=1, min_samples_split=2, n_estimators=200, score=(train=1.000, test=0.356), total=   0.3s\n",
      "[CV] learning_rate=1, max_depth=1, min_samples_leaf=1, min_samples_split=5, n_estimators=50 \n",
      "[CV]  learning_rate=1, max_depth=1, min_samples_leaf=1, min_samples_split=5, n_estimators=50, score=(train=1.000, test=0.321), total=   0.1s\n",
      "[CV] learning_rate=1, max_depth=1, min_samples_leaf=1, min_samples_split=5, n_estimators=50 \n",
      "[CV]  learning_rate=1, max_depth=1, min_samples_leaf=1, min_samples_split=5, n_estimators=50, score=(train=1.000, test=0.418), total=   0.1s\n",
      "[CV] learning_rate=1, max_depth=1, min_samples_leaf=1, min_samples_split=5, n_estimators=50 \n",
      "[CV]  learning_rate=1, max_depth=1, min_samples_leaf=1, min_samples_split=5, n_estimators=50, score=(train=1.000, test=0.358), total=   0.1s\n",
      "[CV] learning_rate=1, max_depth=1, min_samples_leaf=1, min_samples_split=5, n_estimators=100 \n",
      "[CV]  learning_rate=1, max_depth=1, min_samples_leaf=1, min_samples_split=5, n_estimators=100, score=(train=1.000, test=0.231), total=   0.1s\n",
      "[CV] learning_rate=1, max_depth=1, min_samples_leaf=1, min_samples_split=5, n_estimators=100 \n",
      "[CV]  learning_rate=1, max_depth=1, min_samples_leaf=1, min_samples_split=5, n_estimators=100, score=(train=1.000, test=0.418), total=   0.1s\n",
      "[CV] learning_rate=1, max_depth=1, min_samples_leaf=1, min_samples_split=5, n_estimators=100 \n",
      "[CV]  learning_rate=1, max_depth=1, min_samples_leaf=1, min_samples_split=5, n_estimators=100, score=(train=1.000, test=0.356), total=   0.1s\n",
      "[CV] learning_rate=1, max_depth=1, min_samples_leaf=1, min_samples_split=5, n_estimators=200 \n",
      "[CV]  learning_rate=1, max_depth=1, min_samples_leaf=1, min_samples_split=5, n_estimators=200, score=(train=1.000, test=0.231), total=   0.2s\n",
      "[CV] learning_rate=1, max_depth=1, min_samples_leaf=1, min_samples_split=5, n_estimators=200 \n",
      "[CV]  learning_rate=1, max_depth=1, min_samples_leaf=1, min_samples_split=5, n_estimators=200, score=(train=1.000, test=0.418), total=   0.2s\n",
      "[CV] learning_rate=1, max_depth=1, min_samples_leaf=1, min_samples_split=5, n_estimators=200 \n",
      "[CV]  learning_rate=1, max_depth=1, min_samples_leaf=1, min_samples_split=5, n_estimators=200, score=(train=1.000, test=0.356), total=   0.2s\n",
      "[CV] learning_rate=1, max_depth=1, min_samples_leaf=3, min_samples_split=2, n_estimators=50 \n",
      "[CV]  learning_rate=1, max_depth=1, min_samples_leaf=3, min_samples_split=2, n_estimators=50, score=(train=1.000, test=0.272), total=   0.1s\n",
      "[CV] learning_rate=1, max_depth=1, min_samples_leaf=3, min_samples_split=2, n_estimators=50 \n",
      "[CV]  learning_rate=1, max_depth=1, min_samples_leaf=3, min_samples_split=2, n_estimators=50, score=(train=1.000, test=0.392), total=   0.1s\n",
      "[CV] learning_rate=1, max_depth=1, min_samples_leaf=3, min_samples_split=2, n_estimators=50 \n",
      "[CV]  learning_rate=1, max_depth=1, min_samples_leaf=3, min_samples_split=2, n_estimators=50, score=(train=1.000, test=0.333), total=   0.1s\n",
      "[CV] learning_rate=1, max_depth=1, min_samples_leaf=3, min_samples_split=2, n_estimators=100 \n",
      "[CV]  learning_rate=1, max_depth=1, min_samples_leaf=3, min_samples_split=2, n_estimators=100, score=(train=1.000, test=0.282), total=   0.1s\n",
      "[CV] learning_rate=1, max_depth=1, min_samples_leaf=3, min_samples_split=2, n_estimators=100 \n",
      "[CV]  learning_rate=1, max_depth=1, min_samples_leaf=3, min_samples_split=2, n_estimators=100, score=(train=1.000, test=0.299), total=   0.1s\n",
      "[CV] learning_rate=1, max_depth=1, min_samples_leaf=3, min_samples_split=2, n_estimators=100 \n",
      "[CV]  learning_rate=1, max_depth=1, min_samples_leaf=3, min_samples_split=2, n_estimators=100, score=(train=1.000, test=0.344), total=   0.2s\n",
      "[CV] learning_rate=1, max_depth=1, min_samples_leaf=3, min_samples_split=2, n_estimators=200 \n",
      "[CV]  learning_rate=1, max_depth=1, min_samples_leaf=3, min_samples_split=2, n_estimators=200, score=(train=1.000, test=0.282), total=   0.2s\n",
      "[CV] learning_rate=1, max_depth=1, min_samples_leaf=3, min_samples_split=2, n_estimators=200 \n",
      "[CV]  learning_rate=1, max_depth=1, min_samples_leaf=3, min_samples_split=2, n_estimators=200, score=(train=1.000, test=0.299), total=   0.3s\n",
      "[CV] learning_rate=1, max_depth=1, min_samples_leaf=3, min_samples_split=2, n_estimators=200 \n",
      "[CV]  learning_rate=1, max_depth=1, min_samples_leaf=3, min_samples_split=2, n_estimators=200, score=(train=1.000, test=0.359), total=   0.3s\n",
      "[CV] learning_rate=1, max_depth=1, min_samples_leaf=3, min_samples_split=5, n_estimators=50 \n",
      "[CV]  learning_rate=1, max_depth=1, min_samples_leaf=3, min_samples_split=5, n_estimators=50, score=(train=1.000, test=0.272), total=   0.1s\n",
      "[CV] learning_rate=1, max_depth=1, min_samples_leaf=3, min_samples_split=5, n_estimators=50 \n",
      "[CV]  learning_rate=1, max_depth=1, min_samples_leaf=3, min_samples_split=5, n_estimators=50, score=(train=1.000, test=0.392), total=   0.1s\n",
      "[CV] learning_rate=1, max_depth=1, min_samples_leaf=3, min_samples_split=5, n_estimators=50 \n",
      "[CV]  learning_rate=1, max_depth=1, min_samples_leaf=3, min_samples_split=5, n_estimators=50, score=(train=1.000, test=0.333), total=   0.1s\n",
      "[CV] learning_rate=1, max_depth=1, min_samples_leaf=3, min_samples_split=5, n_estimators=100 \n",
      "[CV]  learning_rate=1, max_depth=1, min_samples_leaf=3, min_samples_split=5, n_estimators=100, score=(train=1.000, test=0.282), total=   0.1s\n",
      "[CV] learning_rate=1, max_depth=1, min_samples_leaf=3, min_samples_split=5, n_estimators=100 \n",
      "[CV]  learning_rate=1, max_depth=1, min_samples_leaf=3, min_samples_split=5, n_estimators=100, score=(train=1.000, test=0.299), total=   0.1s\n",
      "[CV] learning_rate=1, max_depth=1, min_samples_leaf=3, min_samples_split=5, n_estimators=100 \n",
      "[CV]  learning_rate=1, max_depth=1, min_samples_leaf=3, min_samples_split=5, n_estimators=100, score=(train=1.000, test=0.344), total=   0.1s\n",
      "[CV] learning_rate=1, max_depth=1, min_samples_leaf=3, min_samples_split=5, n_estimators=200 \n",
      "[CV]  learning_rate=1, max_depth=1, min_samples_leaf=3, min_samples_split=5, n_estimators=200, score=(train=1.000, test=0.282), total=   0.2s\n",
      "[CV] learning_rate=1, max_depth=1, min_samples_leaf=3, min_samples_split=5, n_estimators=200 \n",
      "[CV]  learning_rate=1, max_depth=1, min_samples_leaf=3, min_samples_split=5, n_estimators=200, score=(train=1.000, test=0.299), total=   0.2s\n",
      "[CV] learning_rate=1, max_depth=1, min_samples_leaf=3, min_samples_split=5, n_estimators=200 \n",
      "[CV]  learning_rate=1, max_depth=1, min_samples_leaf=3, min_samples_split=5, n_estimators=200, score=(train=1.000, test=0.359), total=   0.2s\n",
      "[CV] learning_rate=1, max_depth=1, min_samples_leaf=5, min_samples_split=2, n_estimators=50 \n",
      "[CV]  learning_rate=1, max_depth=1, min_samples_leaf=5, min_samples_split=2, n_estimators=50, score=(train=1.000, test=0.263), total=   0.1s\n",
      "[CV] learning_rate=1, max_depth=1, min_samples_leaf=5, min_samples_split=2, n_estimators=50 \n",
      "[CV]  learning_rate=1, max_depth=1, min_samples_leaf=5, min_samples_split=2, n_estimators=50, score=(train=1.000, test=0.472), total=   0.1s\n",
      "[CV] learning_rate=1, max_depth=1, min_samples_leaf=5, min_samples_split=2, n_estimators=50 \n"
     ]
    },
    {
     "name": "stdout",
     "output_type": "stream",
     "text": [
      "[CV]  learning_rate=1, max_depth=1, min_samples_leaf=5, min_samples_split=2, n_estimators=50, score=(train=1.000, test=0.411), total=   0.1s\n",
      "[CV] learning_rate=1, max_depth=1, min_samples_leaf=5, min_samples_split=2, n_estimators=100 \n",
      "[CV]  learning_rate=1, max_depth=1, min_samples_leaf=5, min_samples_split=2, n_estimators=100, score=(train=1.000, test=0.263), total=   0.1s\n",
      "[CV] learning_rate=1, max_depth=1, min_samples_leaf=5, min_samples_split=2, n_estimators=100 \n",
      "[CV]  learning_rate=1, max_depth=1, min_samples_leaf=5, min_samples_split=2, n_estimators=100, score=(train=1.000, test=0.487), total=   0.2s\n",
      "[CV] learning_rate=1, max_depth=1, min_samples_leaf=5, min_samples_split=2, n_estimators=100 \n",
      "[CV]  learning_rate=1, max_depth=1, min_samples_leaf=5, min_samples_split=2, n_estimators=100, score=(train=1.000, test=0.350), total=   0.1s\n",
      "[CV] learning_rate=1, max_depth=1, min_samples_leaf=5, min_samples_split=2, n_estimators=200 \n",
      "[CV]  learning_rate=1, max_depth=1, min_samples_leaf=5, min_samples_split=2, n_estimators=200, score=(train=1.000, test=0.263), total=   0.2s\n",
      "[CV] learning_rate=1, max_depth=1, min_samples_leaf=5, min_samples_split=2, n_estimators=200 \n",
      "[CV]  learning_rate=1, max_depth=1, min_samples_leaf=5, min_samples_split=2, n_estimators=200, score=(train=1.000, test=0.487), total=   0.3s\n",
      "[CV] learning_rate=1, max_depth=1, min_samples_leaf=5, min_samples_split=2, n_estimators=200 \n",
      "[CV]  learning_rate=1, max_depth=1, min_samples_leaf=5, min_samples_split=2, n_estimators=200, score=(train=1.000, test=0.350), total=   0.3s\n",
      "[CV] learning_rate=1, max_depth=1, min_samples_leaf=5, min_samples_split=5, n_estimators=50 \n",
      "[CV]  learning_rate=1, max_depth=1, min_samples_leaf=5, min_samples_split=5, n_estimators=50, score=(train=1.000, test=0.263), total=   0.1s\n",
      "[CV] learning_rate=1, max_depth=1, min_samples_leaf=5, min_samples_split=5, n_estimators=50 \n",
      "[CV]  learning_rate=1, max_depth=1, min_samples_leaf=5, min_samples_split=5, n_estimators=50, score=(train=1.000, test=0.472), total=   0.1s\n",
      "[CV] learning_rate=1, max_depth=1, min_samples_leaf=5, min_samples_split=5, n_estimators=50 \n",
      "[CV]  learning_rate=1, max_depth=1, min_samples_leaf=5, min_samples_split=5, n_estimators=50, score=(train=1.000, test=0.411), total=   0.1s\n",
      "[CV] learning_rate=1, max_depth=1, min_samples_leaf=5, min_samples_split=5, n_estimators=100 \n",
      "[CV]  learning_rate=1, max_depth=1, min_samples_leaf=5, min_samples_split=5, n_estimators=100, score=(train=1.000, test=0.263), total=   0.1s\n",
      "[CV] learning_rate=1, max_depth=1, min_samples_leaf=5, min_samples_split=5, n_estimators=100 \n",
      "[CV]  learning_rate=1, max_depth=1, min_samples_leaf=5, min_samples_split=5, n_estimators=100, score=(train=1.000, test=0.487), total=   0.1s\n",
      "[CV] learning_rate=1, max_depth=1, min_samples_leaf=5, min_samples_split=5, n_estimators=100 \n",
      "[CV]  learning_rate=1, max_depth=1, min_samples_leaf=5, min_samples_split=5, n_estimators=100, score=(train=1.000, test=0.350), total=   0.1s\n",
      "[CV] learning_rate=1, max_depth=1, min_samples_leaf=5, min_samples_split=5, n_estimators=200 \n",
      "[CV]  learning_rate=1, max_depth=1, min_samples_leaf=5, min_samples_split=5, n_estimators=200, score=(train=1.000, test=0.263), total=   0.3s\n",
      "[CV] learning_rate=1, max_depth=1, min_samples_leaf=5, min_samples_split=5, n_estimators=200 \n",
      "[CV]  learning_rate=1, max_depth=1, min_samples_leaf=5, min_samples_split=5, n_estimators=200, score=(train=1.000, test=0.487), total=   0.2s\n",
      "[CV] learning_rate=1, max_depth=1, min_samples_leaf=5, min_samples_split=5, n_estimators=200 \n",
      "[CV]  learning_rate=1, max_depth=1, min_samples_leaf=5, min_samples_split=5, n_estimators=200, score=(train=1.000, test=0.350), total=   0.2s\n",
      "[CV] learning_rate=1, max_depth=3, min_samples_leaf=1, min_samples_split=2, n_estimators=50 \n",
      "[CV]  learning_rate=1, max_depth=3, min_samples_leaf=1, min_samples_split=2, n_estimators=50, score=(train=1.000, test=0.299), total=   0.1s\n",
      "[CV] learning_rate=1, max_depth=3, min_samples_leaf=1, min_samples_split=2, n_estimators=50 \n",
      "[CV]  learning_rate=1, max_depth=3, min_samples_leaf=1, min_samples_split=2, n_estimators=50, score=(train=1.000, test=0.322), total=   0.1s\n",
      "[CV] learning_rate=1, max_depth=3, min_samples_leaf=1, min_samples_split=2, n_estimators=50 \n",
      "[CV]  learning_rate=1, max_depth=3, min_samples_leaf=1, min_samples_split=2, n_estimators=50, score=(train=1.000, test=0.300), total=   0.1s\n",
      "[CV] learning_rate=1, max_depth=3, min_samples_leaf=1, min_samples_split=2, n_estimators=100 \n",
      "[CV]  learning_rate=1, max_depth=3, min_samples_leaf=1, min_samples_split=2, n_estimators=100, score=(train=1.000, test=0.300), total=   0.1s\n",
      "[CV] learning_rate=1, max_depth=3, min_samples_leaf=1, min_samples_split=2, n_estimators=100 \n",
      "[CV]  learning_rate=1, max_depth=3, min_samples_leaf=1, min_samples_split=2, n_estimators=100, score=(train=1.000, test=0.322), total=   0.1s\n",
      "[CV] learning_rate=1, max_depth=3, min_samples_leaf=1, min_samples_split=2, n_estimators=100 \n",
      "[CV]  learning_rate=1, max_depth=3, min_samples_leaf=1, min_samples_split=2, n_estimators=100, score=(train=1.000, test=0.404), total=   0.1s\n",
      "[CV] learning_rate=1, max_depth=3, min_samples_leaf=1, min_samples_split=2, n_estimators=200 \n",
      "[CV]  learning_rate=1, max_depth=3, min_samples_leaf=1, min_samples_split=2, n_estimators=200, score=(train=1.000, test=0.320), total=   0.3s\n",
      "[CV] learning_rate=1, max_depth=3, min_samples_leaf=1, min_samples_split=2, n_estimators=200 \n",
      "[CV]  learning_rate=1, max_depth=3, min_samples_leaf=1, min_samples_split=2, n_estimators=200, score=(train=1.000, test=0.322), total=   0.3s\n",
      "[CV] learning_rate=1, max_depth=3, min_samples_leaf=1, min_samples_split=2, n_estimators=200 \n",
      "[CV]  learning_rate=1, max_depth=3, min_samples_leaf=1, min_samples_split=2, n_estimators=200, score=(train=1.000, test=0.404), total=   0.2s\n",
      "[CV] learning_rate=1, max_depth=3, min_samples_leaf=1, min_samples_split=5, n_estimators=50 \n",
      "[CV]  learning_rate=1, max_depth=3, min_samples_leaf=1, min_samples_split=5, n_estimators=50, score=(train=1.000, test=0.359), total=   0.1s\n",
      "[CV] learning_rate=1, max_depth=3, min_samples_leaf=1, min_samples_split=5, n_estimators=50 \n",
      "[CV]  learning_rate=1, max_depth=3, min_samples_leaf=1, min_samples_split=5, n_estimators=50, score=(train=1.000, test=0.234), total=   0.1s\n",
      "[CV] learning_rate=1, max_depth=3, min_samples_leaf=1, min_samples_split=5, n_estimators=50 \n",
      "[CV]  learning_rate=1, max_depth=3, min_samples_leaf=1, min_samples_split=5, n_estimators=50, score=(train=1.000, test=0.329), total=   0.1s\n",
      "[CV] learning_rate=1, max_depth=3, min_samples_leaf=1, min_samples_split=5, n_estimators=100 \n",
      "[CV]  learning_rate=1, max_depth=3, min_samples_leaf=1, min_samples_split=5, n_estimators=100, score=(train=1.000, test=0.299), total=   0.1s\n",
      "[CV] learning_rate=1, max_depth=3, min_samples_leaf=1, min_samples_split=5, n_estimators=100 \n",
      "[CV]  learning_rate=1, max_depth=3, min_samples_leaf=1, min_samples_split=5, n_estimators=100, score=(train=1.000, test=0.234), total=   0.1s\n",
      "[CV] learning_rate=1, max_depth=3, min_samples_leaf=1, min_samples_split=5, n_estimators=100 \n",
      "[CV]  learning_rate=1, max_depth=3, min_samples_leaf=1, min_samples_split=5, n_estimators=100, score=(train=1.000, test=0.361), total=   0.1s\n",
      "[CV] learning_rate=1, max_depth=3, min_samples_leaf=1, min_samples_split=5, n_estimators=200 \n",
      "[CV]  learning_rate=1, max_depth=3, min_samples_leaf=1, min_samples_split=5, n_estimators=200, score=(train=1.000, test=0.263), total=   0.3s\n",
      "[CV] learning_rate=1, max_depth=3, min_samples_leaf=1, min_samples_split=5, n_estimators=200 \n",
      "[CV]  learning_rate=1, max_depth=3, min_samples_leaf=1, min_samples_split=5, n_estimators=200, score=(train=1.000, test=0.214), total=   0.4s\n",
      "[CV] learning_rate=1, max_depth=3, min_samples_leaf=1, min_samples_split=5, n_estimators=200 \n",
      "[CV]  learning_rate=1, max_depth=3, min_samples_leaf=1, min_samples_split=5, n_estimators=200, score=(train=1.000, test=0.329), total=   0.3s\n",
      "[CV] learning_rate=1, max_depth=3, min_samples_leaf=3, min_samples_split=2, n_estimators=50 \n",
      "[CV]  learning_rate=1, max_depth=3, min_samples_leaf=3, min_samples_split=2, n_estimators=50, score=(train=1.000, test=0.241), total=   0.1s\n",
      "[CV] learning_rate=1, max_depth=3, min_samples_leaf=3, min_samples_split=2, n_estimators=50 \n"
     ]
    },
    {
     "name": "stdout",
     "output_type": "stream",
     "text": [
      "[CV]  learning_rate=1, max_depth=3, min_samples_leaf=3, min_samples_split=2, n_estimators=50, score=(train=1.000, test=0.214), total=   0.1s\n",
      "[CV] learning_rate=1, max_depth=3, min_samples_leaf=3, min_samples_split=2, n_estimators=50 \n",
      "[CV]  learning_rate=1, max_depth=3, min_samples_leaf=3, min_samples_split=2, n_estimators=50, score=(train=1.000, test=0.329), total=   0.1s\n",
      "[CV] learning_rate=1, max_depth=3, min_samples_leaf=3, min_samples_split=2, n_estimators=100 \n",
      "[CV]  learning_rate=1, max_depth=3, min_samples_leaf=3, min_samples_split=2, n_estimators=100, score=(train=1.000, test=0.176), total=   0.2s\n",
      "[CV] learning_rate=1, max_depth=3, min_samples_leaf=3, min_samples_split=2, n_estimators=100 \n",
      "[CV]  learning_rate=1, max_depth=3, min_samples_leaf=3, min_samples_split=2, n_estimators=100, score=(train=1.000, test=0.234), total=   0.2s\n",
      "[CV] learning_rate=1, max_depth=3, min_samples_leaf=3, min_samples_split=2, n_estimators=100 \n",
      "[CV]  learning_rate=1, max_depth=3, min_samples_leaf=3, min_samples_split=2, n_estimators=100, score=(train=1.000, test=0.411), total=   0.2s\n",
      "[CV] learning_rate=1, max_depth=3, min_samples_leaf=3, min_samples_split=2, n_estimators=200 \n",
      "[CV]  learning_rate=1, max_depth=3, min_samples_leaf=3, min_samples_split=2, n_estimators=200, score=(train=1.000, test=0.154), total=   0.3s\n",
      "[CV] learning_rate=1, max_depth=3, min_samples_leaf=3, min_samples_split=2, n_estimators=200 \n"
     ]
    },
    {
     "name": "stderr",
     "output_type": "stream",
     "text": [
      "C:\\Users\\72445\\AppData\\Local\\Continuum\\anaconda3\\lib\\site-packages\\sklearn\\metrics\\classification.py:1437: UndefinedMetricWarning: F-score is ill-defined and being set to 0.0 in labels with no predicted samples.\n",
      "  'precision', 'predicted', average, warn_for)\n"
     ]
    },
    {
     "name": "stdout",
     "output_type": "stream",
     "text": [
      "[CV]  learning_rate=1, max_depth=3, min_samples_leaf=3, min_samples_split=2, n_estimators=200, score=(train=1.000, test=0.293), total=   0.3s\n",
      "[CV] learning_rate=1, max_depth=3, min_samples_leaf=3, min_samples_split=2, n_estimators=200 \n",
      "[CV]  learning_rate=1, max_depth=3, min_samples_leaf=3, min_samples_split=2, n_estimators=200, score=(train=1.000, test=0.411), total=   0.3s\n",
      "[CV] learning_rate=1, max_depth=3, min_samples_leaf=3, min_samples_split=5, n_estimators=50 \n",
      "[CV]  learning_rate=1, max_depth=3, min_samples_leaf=3, min_samples_split=5, n_estimators=50, score=(train=1.000, test=0.285), total=   0.1s\n",
      "[CV] learning_rate=1, max_depth=3, min_samples_leaf=3, min_samples_split=5, n_estimators=50 \n",
      "[CV]  learning_rate=1, max_depth=3, min_samples_leaf=3, min_samples_split=5, n_estimators=50, score=(train=1.000, test=0.201), total=   0.2s\n",
      "[CV] learning_rate=1, max_depth=3, min_samples_leaf=3, min_samples_split=5, n_estimators=50 \n",
      "[CV]  learning_rate=1, max_depth=3, min_samples_leaf=3, min_samples_split=5, n_estimators=50, score=(train=1.000, test=0.411), total=   0.1s\n",
      "[CV] learning_rate=1, max_depth=3, min_samples_leaf=3, min_samples_split=5, n_estimators=100 \n",
      "[CV]  learning_rate=1, max_depth=3, min_samples_leaf=3, min_samples_split=5, n_estimators=100, score=(train=1.000, test=0.156), total=   0.2s\n",
      "[CV] learning_rate=1, max_depth=3, min_samples_leaf=3, min_samples_split=5, n_estimators=100 \n"
     ]
    },
    {
     "name": "stderr",
     "output_type": "stream",
     "text": [
      "C:\\Users\\72445\\AppData\\Local\\Continuum\\anaconda3\\lib\\site-packages\\sklearn\\metrics\\classification.py:1437: UndefinedMetricWarning: F-score is ill-defined and being set to 0.0 in labels with no predicted samples.\n",
      "  'precision', 'predicted', average, warn_for)\n"
     ]
    },
    {
     "name": "stdout",
     "output_type": "stream",
     "text": [
      "[CV]  learning_rate=1, max_depth=3, min_samples_leaf=3, min_samples_split=5, n_estimators=100, score=(train=1.000, test=0.262), total=   0.2s\n",
      "[CV] learning_rate=1, max_depth=3, min_samples_leaf=3, min_samples_split=5, n_estimators=100 \n",
      "[CV]  learning_rate=1, max_depth=3, min_samples_leaf=3, min_samples_split=5, n_estimators=100, score=(train=1.000, test=0.372), total=   0.2s\n",
      "[CV] learning_rate=1, max_depth=3, min_samples_leaf=3, min_samples_split=5, n_estimators=200 \n",
      "[CV]  learning_rate=1, max_depth=3, min_samples_leaf=3, min_samples_split=5, n_estimators=200, score=(train=1.000, test=0.217), total=   0.5s\n",
      "[CV] learning_rate=1, max_depth=3, min_samples_leaf=3, min_samples_split=5, n_estimators=200 \n",
      "[CV]  learning_rate=1, max_depth=3, min_samples_leaf=3, min_samples_split=5, n_estimators=200, score=(train=1.000, test=0.214), total=   0.4s\n",
      "[CV] learning_rate=1, max_depth=3, min_samples_leaf=3, min_samples_split=5, n_estimators=200 \n",
      "[CV]  learning_rate=1, max_depth=3, min_samples_leaf=3, min_samples_split=5, n_estimators=200, score=(train=1.000, test=0.412), total=   0.3s\n",
      "[CV] learning_rate=1, max_depth=3, min_samples_leaf=5, min_samples_split=2, n_estimators=50 \n",
      "[CV]  learning_rate=1, max_depth=3, min_samples_leaf=5, min_samples_split=2, n_estimators=50, score=(train=1.000, test=0.269), total=   0.1s\n",
      "[CV] learning_rate=1, max_depth=3, min_samples_leaf=5, min_samples_split=2, n_estimators=50 \n",
      "[CV]  learning_rate=1, max_depth=3, min_samples_leaf=5, min_samples_split=2, n_estimators=50, score=(train=1.000, test=0.441), total=   0.1s\n",
      "[CV] learning_rate=1, max_depth=3, min_samples_leaf=5, min_samples_split=2, n_estimators=50 \n",
      "[CV]  learning_rate=1, max_depth=3, min_samples_leaf=5, min_samples_split=2, n_estimators=50, score=(train=1.000, test=0.429), total=   0.1s\n",
      "[CV] learning_rate=1, max_depth=3, min_samples_leaf=5, min_samples_split=2, n_estimators=100 \n",
      "[CV]  learning_rate=1, max_depth=3, min_samples_leaf=5, min_samples_split=2, n_estimators=100, score=(train=1.000, test=0.235), total=   0.2s\n",
      "[CV] learning_rate=1, max_depth=3, min_samples_leaf=5, min_samples_split=2, n_estimators=100 \n",
      "[CV]  learning_rate=1, max_depth=3, min_samples_leaf=5, min_samples_split=2, n_estimators=100, score=(train=1.000, test=0.467), total=   0.1s\n",
      "[CV] learning_rate=1, max_depth=3, min_samples_leaf=5, min_samples_split=2, n_estimators=100 \n",
      "[CV]  learning_rate=1, max_depth=3, min_samples_leaf=5, min_samples_split=2, n_estimators=100, score=(train=1.000, test=0.449), total=   0.2s\n",
      "[CV] learning_rate=1, max_depth=3, min_samples_leaf=5, min_samples_split=2, n_estimators=200 \n",
      "[CV]  learning_rate=1, max_depth=3, min_samples_leaf=5, min_samples_split=2, n_estimators=200, score=(train=1.000, test=0.234), total=   0.3s\n",
      "[CV] learning_rate=1, max_depth=3, min_samples_leaf=5, min_samples_split=2, n_estimators=200 \n",
      "[CV]  learning_rate=1, max_depth=3, min_samples_leaf=5, min_samples_split=2, n_estimators=200, score=(train=1.000, test=0.441), total=   0.2s\n",
      "[CV] learning_rate=1, max_depth=3, min_samples_leaf=5, min_samples_split=2, n_estimators=200 \n",
      "[CV]  learning_rate=1, max_depth=3, min_samples_leaf=5, min_samples_split=2, n_estimators=200, score=(train=1.000, test=0.482), total=   0.3s\n",
      "[CV] learning_rate=1, max_depth=3, min_samples_leaf=5, min_samples_split=5, n_estimators=50 \n",
      "[CV]  learning_rate=1, max_depth=3, min_samples_leaf=5, min_samples_split=5, n_estimators=50, score=(train=1.000, test=0.377), total=   0.1s\n",
      "[CV] learning_rate=1, max_depth=3, min_samples_leaf=5, min_samples_split=5, n_estimators=50 \n",
      "[CV]  learning_rate=1, max_depth=3, min_samples_leaf=5, min_samples_split=5, n_estimators=50, score=(train=1.000, test=0.467), total=   0.1s\n",
      "[CV] learning_rate=1, max_depth=3, min_samples_leaf=5, min_samples_split=5, n_estimators=50 \n",
      "[CV]  learning_rate=1, max_depth=3, min_samples_leaf=5, min_samples_split=5, n_estimators=50, score=(train=1.000, test=0.404), total=   0.1s\n",
      "[CV] learning_rate=1, max_depth=3, min_samples_leaf=5, min_samples_split=5, n_estimators=100 \n",
      "[CV]  learning_rate=1, max_depth=3, min_samples_leaf=5, min_samples_split=5, n_estimators=100, score=(train=1.000, test=0.373), total=   0.1s\n",
      "[CV] learning_rate=1, max_depth=3, min_samples_leaf=5, min_samples_split=5, n_estimators=100 \n",
      "[CV]  learning_rate=1, max_depth=3, min_samples_leaf=5, min_samples_split=5, n_estimators=100, score=(train=1.000, test=0.441), total=   0.1s\n",
      "[CV] learning_rate=1, max_depth=3, min_samples_leaf=5, min_samples_split=5, n_estimators=100 \n",
      "[CV]  learning_rate=1, max_depth=3, min_samples_leaf=5, min_samples_split=5, n_estimators=100, score=(train=1.000, test=0.429), total=   0.1s\n",
      "[CV] learning_rate=1, max_depth=3, min_samples_leaf=5, min_samples_split=5, n_estimators=200 \n",
      "[CV]  learning_rate=1, max_depth=3, min_samples_leaf=5, min_samples_split=5, n_estimators=200, score=(train=1.000, test=0.263), total=   0.5s\n",
      "[CV] learning_rate=1, max_depth=3, min_samples_leaf=5, min_samples_split=5, n_estimators=200 \n",
      "[CV]  learning_rate=1, max_depth=3, min_samples_leaf=5, min_samples_split=5, n_estimators=200, score=(train=1.000, test=0.467), total=   0.5s\n",
      "[CV] learning_rate=1, max_depth=3, min_samples_leaf=5, min_samples_split=5, n_estimators=200 \n",
      "[CV]  learning_rate=1, max_depth=3, min_samples_leaf=5, min_samples_split=5, n_estimators=200, score=(train=1.000, test=0.429), total=   0.4s\n",
      "[CV] learning_rate=1, max_depth=6, min_samples_leaf=1, min_samples_split=2, n_estimators=50 \n",
      "[CV]  learning_rate=1, max_depth=6, min_samples_leaf=1, min_samples_split=2, n_estimators=50, score=(train=1.000, test=0.352), total=   0.2s\n",
      "[CV] learning_rate=1, max_depth=6, min_samples_leaf=1, min_samples_split=2, n_estimators=50 \n",
      "[CV]  learning_rate=1, max_depth=6, min_samples_leaf=1, min_samples_split=2, n_estimators=50, score=(train=1.000, test=0.291), total=   0.2s\n",
      "[CV] learning_rate=1, max_depth=6, min_samples_leaf=1, min_samples_split=2, n_estimators=50 \n",
      "[CV]  learning_rate=1, max_depth=6, min_samples_leaf=1, min_samples_split=2, n_estimators=50, score=(train=1.000, test=0.431), total=   0.2s\n",
      "[CV] learning_rate=1, max_depth=6, min_samples_leaf=1, min_samples_split=2, n_estimators=100 \n",
      "[CV]  learning_rate=1, max_depth=6, min_samples_leaf=1, min_samples_split=2, n_estimators=100, score=(train=1.000, test=0.292), total=   0.4s\n",
      "[CV] learning_rate=1, max_depth=6, min_samples_leaf=1, min_samples_split=2, n_estimators=100 \n",
      "[CV]  learning_rate=1, max_depth=6, min_samples_leaf=1, min_samples_split=2, n_estimators=100, score=(train=1.000, test=0.260), total=   0.2s\n",
      "[CV] learning_rate=1, max_depth=6, min_samples_leaf=1, min_samples_split=2, n_estimators=100 \n",
      "[CV]  learning_rate=1, max_depth=6, min_samples_leaf=1, min_samples_split=2, n_estimators=100, score=(train=1.000, test=0.385), total=   0.2s\n",
      "[CV] learning_rate=1, max_depth=6, min_samples_leaf=1, min_samples_split=2, n_estimators=200 \n",
      "[CV]  learning_rate=1, max_depth=6, min_samples_leaf=1, min_samples_split=2, n_estimators=200, score=(train=1.000, test=0.228), total=   0.6s\n",
      "[CV] learning_rate=1, max_depth=6, min_samples_leaf=1, min_samples_split=2, n_estimators=200 \n",
      "[CV]  learning_rate=1, max_depth=6, min_samples_leaf=1, min_samples_split=2, n_estimators=200, score=(train=1.000, test=0.291), total=   0.4s\n",
      "[CV] learning_rate=1, max_depth=6, min_samples_leaf=1, min_samples_split=2, n_estimators=200 \n",
      "[CV]  learning_rate=1, max_depth=6, min_samples_leaf=1, min_samples_split=2, n_estimators=200, score=(train=1.000, test=0.481), total=   0.3s\n",
      "[CV] learning_rate=1, max_depth=6, min_samples_leaf=1, min_samples_split=5, n_estimators=50 \n",
      "[CV]  learning_rate=1, max_depth=6, min_samples_leaf=1, min_samples_split=5, n_estimators=50, score=(train=1.000, test=0.303), total=   0.1s\n",
      "[CV] learning_rate=1, max_depth=6, min_samples_leaf=1, min_samples_split=5, n_estimators=50 \n",
      "[CV]  learning_rate=1, max_depth=6, min_samples_leaf=1, min_samples_split=5, n_estimators=50, score=(train=1.000, test=0.601), total=   0.1s\n",
      "[CV] learning_rate=1, max_depth=6, min_samples_leaf=1, min_samples_split=5, n_estimators=50 \n",
      "[CV]  learning_rate=1, max_depth=6, min_samples_leaf=1, min_samples_split=5, n_estimators=50, score=(train=1.000, test=0.376), total=   0.1s\n",
      "[CV] learning_rate=1, max_depth=6, min_samples_leaf=1, min_samples_split=5, n_estimators=100 \n"
     ]
    },
    {
     "name": "stdout",
     "output_type": "stream",
     "text": [
      "[CV]  learning_rate=1, max_depth=6, min_samples_leaf=1, min_samples_split=5, n_estimators=100, score=(train=1.000, test=0.360), total=   0.3s\n",
      "[CV] learning_rate=1, max_depth=6, min_samples_leaf=1, min_samples_split=5, n_estimators=100 \n",
      "[CV]  learning_rate=1, max_depth=6, min_samples_leaf=1, min_samples_split=5, n_estimators=100, score=(train=1.000, test=0.406), total=   0.5s\n",
      "[CV] learning_rate=1, max_depth=6, min_samples_leaf=1, min_samples_split=5, n_estimators=100 \n",
      "[CV]  learning_rate=1, max_depth=6, min_samples_leaf=1, min_samples_split=5, n_estimators=100, score=(train=1.000, test=0.381), total=   0.2s\n",
      "[CV] learning_rate=1, max_depth=6, min_samples_leaf=1, min_samples_split=5, n_estimators=200 \n",
      "[CV]  learning_rate=1, max_depth=6, min_samples_leaf=1, min_samples_split=5, n_estimators=200, score=(train=1.000, test=0.204), total=   0.4s\n",
      "[CV] learning_rate=1, max_depth=6, min_samples_leaf=1, min_samples_split=5, n_estimators=200 \n",
      "[CV]  learning_rate=1, max_depth=6, min_samples_leaf=1, min_samples_split=5, n_estimators=200, score=(train=1.000, test=0.167), total=   0.4s\n",
      "[CV] learning_rate=1, max_depth=6, min_samples_leaf=1, min_samples_split=5, n_estimators=200 \n",
      "[CV]  learning_rate=1, max_depth=6, min_samples_leaf=1, min_samples_split=5, n_estimators=200, score=(train=1.000, test=0.381), total=   0.3s\n",
      "[CV] learning_rate=1, max_depth=6, min_samples_leaf=3, min_samples_split=2, n_estimators=50 \n",
      "[CV]  learning_rate=1, max_depth=6, min_samples_leaf=3, min_samples_split=2, n_estimators=50, score=(train=1.000, test=0.333), total=   0.1s\n",
      "[CV] learning_rate=1, max_depth=6, min_samples_leaf=3, min_samples_split=2, n_estimators=50 \n",
      "[CV]  learning_rate=1, max_depth=6, min_samples_leaf=3, min_samples_split=2, n_estimators=50, score=(train=1.000, test=0.190), total=   0.1s\n",
      "[CV] learning_rate=1, max_depth=6, min_samples_leaf=3, min_samples_split=2, n_estimators=50 \n",
      "[CV]  learning_rate=1, max_depth=6, min_samples_leaf=3, min_samples_split=2, n_estimators=50, score=(train=1.000, test=0.402), total=   0.1s\n",
      "[CV] learning_rate=1, max_depth=6, min_samples_leaf=3, min_samples_split=2, n_estimators=100 \n",
      "[CV]  learning_rate=1, max_depth=6, min_samples_leaf=3, min_samples_split=2, n_estimators=100, score=(train=1.000, test=0.263), total=   0.1s\n",
      "[CV] learning_rate=1, max_depth=6, min_samples_leaf=3, min_samples_split=2, n_estimators=100 \n",
      "[CV]  learning_rate=1, max_depth=6, min_samples_leaf=3, min_samples_split=2, n_estimators=100, score=(train=1.000, test=0.154), total=   0.2s\n",
      "[CV] learning_rate=1, max_depth=6, min_samples_leaf=3, min_samples_split=2, n_estimators=100 \n",
      "[CV]  learning_rate=1, max_depth=6, min_samples_leaf=3, min_samples_split=2, n_estimators=100, score=(train=1.000, test=0.431), total=   0.4s\n",
      "[CV] learning_rate=1, max_depth=6, min_samples_leaf=3, min_samples_split=2, n_estimators=200 \n",
      "[CV]  learning_rate=1, max_depth=6, min_samples_leaf=3, min_samples_split=2, n_estimators=200, score=(train=1.000, test=0.187), total=   0.3s\n",
      "[CV] learning_rate=1, max_depth=6, min_samples_leaf=3, min_samples_split=2, n_estimators=200 \n",
      "[CV]  learning_rate=1, max_depth=6, min_samples_leaf=3, min_samples_split=2, n_estimators=200, score=(train=1.000, test=0.190), total=   0.3s\n",
      "[CV] learning_rate=1, max_depth=6, min_samples_leaf=3, min_samples_split=2, n_estimators=200 \n",
      "[CV]  learning_rate=1, max_depth=6, min_samples_leaf=3, min_samples_split=2, n_estimators=200, score=(train=1.000, test=0.375), total=   0.3s\n",
      "[CV] learning_rate=1, max_depth=6, min_samples_leaf=3, min_samples_split=5, n_estimators=50 \n",
      "[CV]  learning_rate=1, max_depth=6, min_samples_leaf=3, min_samples_split=5, n_estimators=50, score=(train=1.000, test=0.273), total=   0.1s\n",
      "[CV] learning_rate=1, max_depth=6, min_samples_leaf=3, min_samples_split=5, n_estimators=50 \n",
      "[CV]  learning_rate=1, max_depth=6, min_samples_leaf=3, min_samples_split=5, n_estimators=50, score=(train=1.000, test=0.262), total=   0.1s\n",
      "[CV] learning_rate=1, max_depth=6, min_samples_leaf=3, min_samples_split=5, n_estimators=50 \n"
     ]
    },
    {
     "name": "stderr",
     "output_type": "stream",
     "text": [
      "C:\\Users\\72445\\AppData\\Local\\Continuum\\anaconda3\\lib\\site-packages\\sklearn\\metrics\\classification.py:1437: UndefinedMetricWarning: F-score is ill-defined and being set to 0.0 in labels with no predicted samples.\n",
      "  'precision', 'predicted', average, warn_for)\n"
     ]
    },
    {
     "name": "stdout",
     "output_type": "stream",
     "text": [
      "[CV]  learning_rate=1, max_depth=6, min_samples_leaf=3, min_samples_split=5, n_estimators=50, score=(train=1.000, test=0.381), total=   0.1s\n",
      "[CV] learning_rate=1, max_depth=6, min_samples_leaf=3, min_samples_split=5, n_estimators=100 \n",
      "[CV]  learning_rate=1, max_depth=6, min_samples_leaf=3, min_samples_split=5, n_estimators=100, score=(train=1.000, test=0.193), total=   0.2s\n",
      "[CV] learning_rate=1, max_depth=6, min_samples_leaf=3, min_samples_split=5, n_estimators=100 \n"
     ]
    },
    {
     "name": "stderr",
     "output_type": "stream",
     "text": [
      "C:\\Users\\72445\\AppData\\Local\\Continuum\\anaconda3\\lib\\site-packages\\sklearn\\metrics\\classification.py:1437: UndefinedMetricWarning: F-score is ill-defined and being set to 0.0 in labels with no predicted samples.\n",
      "  'precision', 'predicted', average, warn_for)\n"
     ]
    },
    {
     "name": "stdout",
     "output_type": "stream",
     "text": [
      "[CV]  learning_rate=1, max_depth=6, min_samples_leaf=3, min_samples_split=5, n_estimators=100, score=(train=1.000, test=0.190), total=   0.2s\n",
      "[CV] learning_rate=1, max_depth=6, min_samples_leaf=3, min_samples_split=5, n_estimators=100 \n",
      "[CV]  learning_rate=1, max_depth=6, min_samples_leaf=3, min_samples_split=5, n_estimators=100, score=(train=1.000, test=0.356), total=   0.1s\n",
      "[CV] learning_rate=1, max_depth=6, min_samples_leaf=3, min_samples_split=5, n_estimators=200 \n",
      "[CV]  learning_rate=1, max_depth=6, min_samples_leaf=3, min_samples_split=5, n_estimators=200, score=(train=1.000, test=0.196), total=   0.3s\n",
      "[CV] learning_rate=1, max_depth=6, min_samples_leaf=3, min_samples_split=5, n_estimators=200 \n",
      "[CV]  learning_rate=1, max_depth=6, min_samples_leaf=3, min_samples_split=5, n_estimators=200, score=(train=1.000, test=0.207), total=   0.3s\n",
      "[CV] learning_rate=1, max_depth=6, min_samples_leaf=3, min_samples_split=5, n_estimators=200 \n",
      "[CV]  learning_rate=1, max_depth=6, min_samples_leaf=3, min_samples_split=5, n_estimators=200, score=(train=1.000, test=0.427), total=   0.3s\n",
      "[CV] learning_rate=1, max_depth=6, min_samples_leaf=5, min_samples_split=2, n_estimators=50 \n",
      "[CV]  learning_rate=1, max_depth=6, min_samples_leaf=5, min_samples_split=2, n_estimators=50, score=(train=1.000, test=0.263), total=   0.1s\n",
      "[CV] learning_rate=1, max_depth=6, min_samples_leaf=5, min_samples_split=2, n_estimators=50 \n",
      "[CV]  learning_rate=1, max_depth=6, min_samples_leaf=5, min_samples_split=2, n_estimators=50, score=(train=1.000, test=0.441), total=   0.1s\n",
      "[CV] learning_rate=1, max_depth=6, min_samples_leaf=5, min_samples_split=2, n_estimators=50 \n",
      "[CV]  learning_rate=1, max_depth=6, min_samples_leaf=5, min_samples_split=2, n_estimators=50, score=(train=1.000, test=0.449), total=   0.1s\n",
      "[CV] learning_rate=1, max_depth=6, min_samples_leaf=5, min_samples_split=2, n_estimators=100 \n",
      "[CV]  learning_rate=1, max_depth=6, min_samples_leaf=5, min_samples_split=2, n_estimators=100, score=(train=1.000, test=0.276), total=   0.1s\n",
      "[CV] learning_rate=1, max_depth=6, min_samples_leaf=5, min_samples_split=2, n_estimators=100 \n",
      "[CV]  learning_rate=1, max_depth=6, min_samples_leaf=5, min_samples_split=2, n_estimators=100, score=(train=1.000, test=0.538), total=   0.1s\n",
      "[CV] learning_rate=1, max_depth=6, min_samples_leaf=5, min_samples_split=2, n_estimators=100 \n",
      "[CV]  learning_rate=1, max_depth=6, min_samples_leaf=5, min_samples_split=2, n_estimators=100, score=(train=1.000, test=0.449), total=   0.2s\n",
      "[CV] learning_rate=1, max_depth=6, min_samples_leaf=5, min_samples_split=2, n_estimators=200 \n",
      "[CV]  learning_rate=1, max_depth=6, min_samples_leaf=5, min_samples_split=2, n_estimators=200, score=(train=1.000, test=0.170), total=   0.3s\n",
      "[CV] learning_rate=1, max_depth=6, min_samples_leaf=5, min_samples_split=2, n_estimators=200 \n",
      "[CV]  learning_rate=1, max_depth=6, min_samples_leaf=5, min_samples_split=2, n_estimators=200, score=(train=1.000, test=0.538), total=   0.3s\n",
      "[CV] learning_rate=1, max_depth=6, min_samples_leaf=5, min_samples_split=2, n_estimators=200 \n",
      "[CV]  learning_rate=1, max_depth=6, min_samples_leaf=5, min_samples_split=2, n_estimators=200, score=(train=1.000, test=0.449), total=   0.3s\n",
      "[CV] learning_rate=1, max_depth=6, min_samples_leaf=5, min_samples_split=5, n_estimators=50 \n",
      "[CV]  learning_rate=1, max_depth=6, min_samples_leaf=5, min_samples_split=5, n_estimators=50, score=(train=1.000, test=0.211), total=   0.2s\n",
      "[CV] learning_rate=1, max_depth=6, min_samples_leaf=5, min_samples_split=5, n_estimators=50 \n",
      "[CV]  learning_rate=1, max_depth=6, min_samples_leaf=5, min_samples_split=5, n_estimators=50, score=(train=1.000, test=0.538), total=   0.1s\n",
      "[CV] learning_rate=1, max_depth=6, min_samples_leaf=5, min_samples_split=5, n_estimators=50 \n",
      "[CV]  learning_rate=1, max_depth=6, min_samples_leaf=5, min_samples_split=5, n_estimators=50, score=(train=1.000, test=0.429), total=   0.1s\n",
      "[CV] learning_rate=1, max_depth=6, min_samples_leaf=5, min_samples_split=5, n_estimators=100 \n",
      "[CV]  learning_rate=1, max_depth=6, min_samples_leaf=5, min_samples_split=5, n_estimators=100, score=(train=1.000, test=0.305), total=   0.2s\n",
      "[CV] learning_rate=1, max_depth=6, min_samples_leaf=5, min_samples_split=5, n_estimators=100 \n",
      "[CV]  learning_rate=1, max_depth=6, min_samples_leaf=5, min_samples_split=5, n_estimators=100, score=(train=1.000, test=0.441), total=   0.3s\n",
      "[CV] learning_rate=1, max_depth=6, min_samples_leaf=5, min_samples_split=5, n_estimators=100 \n",
      "[CV]  learning_rate=1, max_depth=6, min_samples_leaf=5, min_samples_split=5, n_estimators=100, score=(train=1.000, test=0.449), total=   0.2s\n",
      "[CV] learning_rate=1, max_depth=6, min_samples_leaf=5, min_samples_split=5, n_estimators=200 \n",
      "[CV]  learning_rate=1, max_depth=6, min_samples_leaf=5, min_samples_split=5, n_estimators=200, score=(train=1.000, test=0.243), total=   0.6s\n",
      "[CV] learning_rate=1, max_depth=6, min_samples_leaf=5, min_samples_split=5, n_estimators=200 \n",
      "[CV]  learning_rate=1, max_depth=6, min_samples_leaf=5, min_samples_split=5, n_estimators=200, score=(train=1.000, test=0.538), total=   0.3s\n",
      "[CV] learning_rate=1, max_depth=6, min_samples_leaf=5, min_samples_split=5, n_estimators=200 \n",
      "[CV]  learning_rate=1, max_depth=6, min_samples_leaf=5, min_samples_split=5, n_estimators=200, score=(train=1.000, test=0.429), total=   0.3s\n",
      "[CV] learning_rate=0.1, max_depth=1, min_samples_leaf=1, min_samples_split=2, n_estimators=50 \n",
      "[CV]  learning_rate=0.1, max_depth=1, min_samples_leaf=1, min_samples_split=2, n_estimators=50, score=(train=0.943, test=0.264), total=   0.1s\n",
      "[CV] learning_rate=0.1, max_depth=1, min_samples_leaf=1, min_samples_split=2, n_estimators=50 \n",
      "[CV]  learning_rate=0.1, max_depth=1, min_samples_leaf=1, min_samples_split=2, n_estimators=50, score=(train=0.948, test=0.448), total=   0.1s\n",
      "[CV] learning_rate=0.1, max_depth=1, min_samples_leaf=1, min_samples_split=2, n_estimators=50 \n",
      "[CV]  learning_rate=0.1, max_depth=1, min_samples_leaf=1, min_samples_split=2, n_estimators=50, score=(train=0.893, test=0.312), total=   0.1s\n",
      "[CV] learning_rate=0.1, max_depth=1, min_samples_leaf=1, min_samples_split=2, n_estimators=100 \n",
      "[CV]  learning_rate=0.1, max_depth=1, min_samples_leaf=1, min_samples_split=2, n_estimators=100, score=(train=1.000, test=0.423), total=   0.1s\n",
      "[CV] learning_rate=0.1, max_depth=1, min_samples_leaf=1, min_samples_split=2, n_estimators=100 \n",
      "[CV]  learning_rate=0.1, max_depth=1, min_samples_leaf=1, min_samples_split=2, n_estimators=100, score=(train=1.000, test=0.448), total=   0.2s\n",
      "[CV] learning_rate=0.1, max_depth=1, min_samples_leaf=1, min_samples_split=2, n_estimators=100 \n",
      "[CV]  learning_rate=0.1, max_depth=1, min_samples_leaf=1, min_samples_split=2, n_estimators=100, score=(train=0.948, test=0.344), total=   0.2s\n",
      "[CV] learning_rate=0.1, max_depth=1, min_samples_leaf=1, min_samples_split=2, n_estimators=200 \n",
      "[CV]  learning_rate=0.1, max_depth=1, min_samples_leaf=1, min_samples_split=2, n_estimators=200, score=(train=1.000, test=0.298), total=   0.3s\n",
      "[CV] learning_rate=0.1, max_depth=1, min_samples_leaf=1, min_samples_split=2, n_estimators=200 \n",
      "[CV]  learning_rate=0.1, max_depth=1, min_samples_leaf=1, min_samples_split=2, n_estimators=200, score=(train=1.000, test=0.418), total=   0.3s\n",
      "[CV] learning_rate=0.1, max_depth=1, min_samples_leaf=1, min_samples_split=2, n_estimators=200 \n",
      "[CV]  learning_rate=0.1, max_depth=1, min_samples_leaf=1, min_samples_split=2, n_estimators=200, score=(train=1.000, test=0.295), total=   0.3s\n",
      "[CV] learning_rate=0.1, max_depth=1, min_samples_leaf=1, min_samples_split=5, n_estimators=50 \n",
      "[CV]  learning_rate=0.1, max_depth=1, min_samples_leaf=1, min_samples_split=5, n_estimators=50, score=(train=0.943, test=0.264), total=   0.1s\n",
      "[CV] learning_rate=0.1, max_depth=1, min_samples_leaf=1, min_samples_split=5, n_estimators=50 \n",
      "[CV]  learning_rate=0.1, max_depth=1, min_samples_leaf=1, min_samples_split=5, n_estimators=50, score=(train=0.948, test=0.448), total=   0.1s\n",
      "[CV] learning_rate=0.1, max_depth=1, min_samples_leaf=1, min_samples_split=5, n_estimators=50 \n",
      "[CV]  learning_rate=0.1, max_depth=1, min_samples_leaf=1, min_samples_split=5, n_estimators=50, score=(train=0.893, test=0.312), total=   0.1s\n",
      "[CV] learning_rate=0.1, max_depth=1, min_samples_leaf=1, min_samples_split=5, n_estimators=100 \n"
     ]
    },
    {
     "name": "stdout",
     "output_type": "stream",
     "text": [
      "[CV]  learning_rate=0.1, max_depth=1, min_samples_leaf=1, min_samples_split=5, n_estimators=100, score=(train=1.000, test=0.423), total=   0.2s\n",
      "[CV] learning_rate=0.1, max_depth=1, min_samples_leaf=1, min_samples_split=5, n_estimators=100 \n",
      "[CV]  learning_rate=0.1, max_depth=1, min_samples_leaf=1, min_samples_split=5, n_estimators=100, score=(train=1.000, test=0.448), total=   0.2s\n",
      "[CV] learning_rate=0.1, max_depth=1, min_samples_leaf=1, min_samples_split=5, n_estimators=100 \n",
      "[CV]  learning_rate=0.1, max_depth=1, min_samples_leaf=1, min_samples_split=5, n_estimators=100, score=(train=0.948, test=0.344), total=   0.1s\n",
      "[CV] learning_rate=0.1, max_depth=1, min_samples_leaf=1, min_samples_split=5, n_estimators=200 \n",
      "[CV]  learning_rate=0.1, max_depth=1, min_samples_leaf=1, min_samples_split=5, n_estimators=200, score=(train=1.000, test=0.298), total=   0.3s\n",
      "[CV] learning_rate=0.1, max_depth=1, min_samples_leaf=1, min_samples_split=5, n_estimators=200 \n",
      "[CV]  learning_rate=0.1, max_depth=1, min_samples_leaf=1, min_samples_split=5, n_estimators=200, score=(train=1.000, test=0.418), total=   0.3s\n",
      "[CV] learning_rate=0.1, max_depth=1, min_samples_leaf=1, min_samples_split=5, n_estimators=200 \n",
      "[CV]  learning_rate=0.1, max_depth=1, min_samples_leaf=1, min_samples_split=5, n_estimators=200, score=(train=1.000, test=0.295), total=   0.3s\n",
      "[CV] learning_rate=0.1, max_depth=1, min_samples_leaf=3, min_samples_split=2, n_estimators=50 \n",
      "[CV]  learning_rate=0.1, max_depth=1, min_samples_leaf=3, min_samples_split=2, n_estimators=50, score=(train=0.881, test=0.296), total=   0.1s\n",
      "[CV] learning_rate=0.1, max_depth=1, min_samples_leaf=3, min_samples_split=2, n_estimators=50 \n",
      "[CV]  learning_rate=0.1, max_depth=1, min_samples_leaf=3, min_samples_split=2, n_estimators=50, score=(train=0.883, test=0.448), total=   0.1s\n",
      "[CV] learning_rate=0.1, max_depth=1, min_samples_leaf=3, min_samples_split=2, n_estimators=50 \n",
      "[CV]  learning_rate=0.1, max_depth=1, min_samples_leaf=3, min_samples_split=2, n_estimators=50, score=(train=0.876, test=0.344), total=   0.1s\n",
      "[CV] learning_rate=0.1, max_depth=1, min_samples_leaf=3, min_samples_split=2, n_estimators=100 \n",
      "[CV]  learning_rate=0.1, max_depth=1, min_samples_leaf=3, min_samples_split=2, n_estimators=100, score=(train=1.000, test=0.278), total=   0.2s\n",
      "[CV] learning_rate=0.1, max_depth=1, min_samples_leaf=3, min_samples_split=2, n_estimators=100 \n",
      "[CV]  learning_rate=0.1, max_depth=1, min_samples_leaf=3, min_samples_split=2, n_estimators=100, score=(train=1.000, test=0.392), total=   0.2s\n",
      "[CV] learning_rate=0.1, max_depth=1, min_samples_leaf=3, min_samples_split=2, n_estimators=100 \n",
      "[CV]  learning_rate=0.1, max_depth=1, min_samples_leaf=3, min_samples_split=2, n_estimators=100, score=(train=0.982, test=0.333), total=   0.1s\n",
      "[CV] learning_rate=0.1, max_depth=1, min_samples_leaf=3, min_samples_split=2, n_estimators=200 \n",
      "[CV]  learning_rate=0.1, max_depth=1, min_samples_leaf=3, min_samples_split=2, n_estimators=200, score=(train=1.000, test=0.249), total=   0.4s\n",
      "[CV] learning_rate=0.1, max_depth=1, min_samples_leaf=3, min_samples_split=2, n_estimators=200 \n",
      "[CV]  learning_rate=0.1, max_depth=1, min_samples_leaf=3, min_samples_split=2, n_estimators=200, score=(train=1.000, test=0.383), total=   0.3s\n",
      "[CV] learning_rate=0.1, max_depth=1, min_samples_leaf=3, min_samples_split=2, n_estimators=200 \n",
      "[CV]  learning_rate=0.1, max_depth=1, min_samples_leaf=3, min_samples_split=2, n_estimators=200, score=(train=1.000, test=0.279), total=   0.3s\n",
      "[CV] learning_rate=0.1, max_depth=1, min_samples_leaf=3, min_samples_split=5, n_estimators=50 \n",
      "[CV]  learning_rate=0.1, max_depth=1, min_samples_leaf=3, min_samples_split=5, n_estimators=50, score=(train=0.881, test=0.296), total=   0.1s\n",
      "[CV] learning_rate=0.1, max_depth=1, min_samples_leaf=3, min_samples_split=5, n_estimators=50 \n",
      "[CV]  learning_rate=0.1, max_depth=1, min_samples_leaf=3, min_samples_split=5, n_estimators=50, score=(train=0.883, test=0.448), total=   0.1s\n",
      "[CV] learning_rate=0.1, max_depth=1, min_samples_leaf=3, min_samples_split=5, n_estimators=50 \n",
      "[CV]  learning_rate=0.1, max_depth=1, min_samples_leaf=3, min_samples_split=5, n_estimators=50, score=(train=0.876, test=0.344), total=   0.1s\n",
      "[CV] learning_rate=0.1, max_depth=1, min_samples_leaf=3, min_samples_split=5, n_estimators=100 \n",
      "[CV]  learning_rate=0.1, max_depth=1, min_samples_leaf=3, min_samples_split=5, n_estimators=100, score=(train=1.000, test=0.278), total=   0.1s\n",
      "[CV] learning_rate=0.1, max_depth=1, min_samples_leaf=3, min_samples_split=5, n_estimators=100 \n",
      "[CV]  learning_rate=0.1, max_depth=1, min_samples_leaf=3, min_samples_split=5, n_estimators=100, score=(train=1.000, test=0.392), total=   0.1s\n",
      "[CV] learning_rate=0.1, max_depth=1, min_samples_leaf=3, min_samples_split=5, n_estimators=100 \n",
      "[CV]  learning_rate=0.1, max_depth=1, min_samples_leaf=3, min_samples_split=5, n_estimators=100, score=(train=0.982, test=0.333), total=   0.1s\n",
      "[CV] learning_rate=0.1, max_depth=1, min_samples_leaf=3, min_samples_split=5, n_estimators=200 \n",
      "[CV]  learning_rate=0.1, max_depth=1, min_samples_leaf=3, min_samples_split=5, n_estimators=200, score=(train=1.000, test=0.249), total=   0.3s\n",
      "[CV] learning_rate=0.1, max_depth=1, min_samples_leaf=3, min_samples_split=5, n_estimators=200 \n",
      "[CV]  learning_rate=0.1, max_depth=1, min_samples_leaf=3, min_samples_split=5, n_estimators=200, score=(train=1.000, test=0.383), total=   0.3s\n",
      "[CV] learning_rate=0.1, max_depth=1, min_samples_leaf=3, min_samples_split=5, n_estimators=200 \n",
      "[CV]  learning_rate=0.1, max_depth=1, min_samples_leaf=3, min_samples_split=5, n_estimators=200, score=(train=1.000, test=0.279), total=   0.3s\n",
      "[CV] learning_rate=0.1, max_depth=1, min_samples_leaf=5, min_samples_split=2, n_estimators=50 \n",
      "[CV]  learning_rate=0.1, max_depth=1, min_samples_leaf=5, min_samples_split=2, n_estimators=50, score=(train=0.881, test=0.258), total=   0.1s\n",
      "[CV] learning_rate=0.1, max_depth=1, min_samples_leaf=5, min_samples_split=2, n_estimators=50 \n",
      "[CV]  learning_rate=0.1, max_depth=1, min_samples_leaf=5, min_samples_split=2, n_estimators=50, score=(train=0.910, test=0.313), total=   0.1s\n",
      "[CV] learning_rate=0.1, max_depth=1, min_samples_leaf=5, min_samples_split=2, n_estimators=50 \n",
      "[CV]  learning_rate=0.1, max_depth=1, min_samples_leaf=5, min_samples_split=2, n_estimators=50, score=(train=0.913, test=0.295), total=   0.1s\n",
      "[CV] learning_rate=0.1, max_depth=1, min_samples_leaf=5, min_samples_split=2, n_estimators=100 \n",
      "[CV]  learning_rate=0.1, max_depth=1, min_samples_leaf=5, min_samples_split=2, n_estimators=100, score=(train=1.000, test=0.258), total=   0.1s\n",
      "[CV] learning_rate=0.1, max_depth=1, min_samples_leaf=5, min_samples_split=2, n_estimators=100 \n",
      "[CV]  learning_rate=0.1, max_depth=1, min_samples_leaf=5, min_samples_split=2, n_estimators=100, score=(train=1.000, test=0.364), total=   0.1s\n",
      "[CV] learning_rate=0.1, max_depth=1, min_samples_leaf=5, min_samples_split=2, n_estimators=100 \n",
      "[CV]  learning_rate=0.1, max_depth=1, min_samples_leaf=5, min_samples_split=2, n_estimators=100, score=(train=1.000, test=0.295), total=   0.1s\n",
      "[CV] learning_rate=0.1, max_depth=1, min_samples_leaf=5, min_samples_split=2, n_estimators=200 \n",
      "[CV]  learning_rate=0.1, max_depth=1, min_samples_leaf=5, min_samples_split=2, n_estimators=200, score=(train=1.000, test=0.229), total=   1.0s\n",
      "[CV] learning_rate=0.1, max_depth=1, min_samples_leaf=5, min_samples_split=2, n_estimators=200 \n",
      "[CV]  learning_rate=0.1, max_depth=1, min_samples_leaf=5, min_samples_split=2, n_estimators=200, score=(train=1.000, test=0.413), total=   0.4s\n",
      "[CV] learning_rate=0.1, max_depth=1, min_samples_leaf=5, min_samples_split=2, n_estimators=200 \n",
      "[CV]  learning_rate=0.1, max_depth=1, min_samples_leaf=5, min_samples_split=2, n_estimators=200, score=(train=1.000, test=0.333), total=   0.4s\n",
      "[CV] learning_rate=0.1, max_depth=1, min_samples_leaf=5, min_samples_split=5, n_estimators=50 \n",
      "[CV]  learning_rate=0.1, max_depth=1, min_samples_leaf=5, min_samples_split=5, n_estimators=50, score=(train=0.881, test=0.258), total=   0.3s\n",
      "[CV] learning_rate=0.1, max_depth=1, min_samples_leaf=5, min_samples_split=5, n_estimators=50 \n",
      "[CV]  learning_rate=0.1, max_depth=1, min_samples_leaf=5, min_samples_split=5, n_estimators=50, score=(train=0.910, test=0.313), total=   0.3s\n",
      "[CV] learning_rate=0.1, max_depth=1, min_samples_leaf=5, min_samples_split=5, n_estimators=50 \n",
      "[CV]  learning_rate=0.1, max_depth=1, min_samples_leaf=5, min_samples_split=5, n_estimators=50, score=(train=0.913, test=0.295), total=   0.2s\n",
      "[CV] learning_rate=0.1, max_depth=1, min_samples_leaf=5, min_samples_split=5, n_estimators=100 \n"
     ]
    },
    {
     "name": "stdout",
     "output_type": "stream",
     "text": [
      "[CV]  learning_rate=0.1, max_depth=1, min_samples_leaf=5, min_samples_split=5, n_estimators=100, score=(train=1.000, test=0.258), total=   0.2s\n",
      "[CV] learning_rate=0.1, max_depth=1, min_samples_leaf=5, min_samples_split=5, n_estimators=100 \n",
      "[CV]  learning_rate=0.1, max_depth=1, min_samples_leaf=5, min_samples_split=5, n_estimators=100, score=(train=1.000, test=0.364), total=   0.2s\n",
      "[CV] learning_rate=0.1, max_depth=1, min_samples_leaf=5, min_samples_split=5, n_estimators=100 \n",
      "[CV]  learning_rate=0.1, max_depth=1, min_samples_leaf=5, min_samples_split=5, n_estimators=100, score=(train=1.000, test=0.295), total=   0.5s\n",
      "[CV] learning_rate=0.1, max_depth=1, min_samples_leaf=5, min_samples_split=5, n_estimators=200 \n",
      "[CV]  learning_rate=0.1, max_depth=1, min_samples_leaf=5, min_samples_split=5, n_estimators=200, score=(train=1.000, test=0.229), total=   0.8s\n",
      "[CV] learning_rate=0.1, max_depth=1, min_samples_leaf=5, min_samples_split=5, n_estimators=200 \n",
      "[CV]  learning_rate=0.1, max_depth=1, min_samples_leaf=5, min_samples_split=5, n_estimators=200, score=(train=1.000, test=0.413), total=   0.3s\n",
      "[CV] learning_rate=0.1, max_depth=1, min_samples_leaf=5, min_samples_split=5, n_estimators=200 \n",
      "[CV]  learning_rate=0.1, max_depth=1, min_samples_leaf=5, min_samples_split=5, n_estimators=200, score=(train=1.000, test=0.333), total=   0.6s\n",
      "[CV] learning_rate=0.1, max_depth=3, min_samples_leaf=1, min_samples_split=2, n_estimators=50 \n",
      "[CV]  learning_rate=0.1, max_depth=3, min_samples_leaf=1, min_samples_split=2, n_estimators=50, score=(train=1.000, test=0.219), total=   0.2s\n",
      "[CV] learning_rate=0.1, max_depth=3, min_samples_leaf=1, min_samples_split=2, n_estimators=50 \n",
      "[CV]  learning_rate=0.1, max_depth=3, min_samples_leaf=1, min_samples_split=2, n_estimators=50, score=(train=1.000, test=0.237), total=   0.3s\n",
      "[CV] learning_rate=0.1, max_depth=3, min_samples_leaf=1, min_samples_split=2, n_estimators=50 \n",
      "[CV]  learning_rate=0.1, max_depth=3, min_samples_leaf=1, min_samples_split=2, n_estimators=50, score=(train=1.000, test=0.402), total=   0.2s\n",
      "[CV] learning_rate=0.1, max_depth=3, min_samples_leaf=1, min_samples_split=2, n_estimators=100 \n"
     ]
    },
    {
     "name": "stderr",
     "output_type": "stream",
     "text": [
      "C:\\Users\\72445\\AppData\\Local\\Continuum\\anaconda3\\lib\\site-packages\\sklearn\\metrics\\classification.py:1437: UndefinedMetricWarning: F-score is ill-defined and being set to 0.0 in labels with no predicted samples.\n",
      "  'precision', 'predicted', average, warn_for)\n"
     ]
    },
    {
     "name": "stdout",
     "output_type": "stream",
     "text": [
      "[CV]  learning_rate=0.1, max_depth=3, min_samples_leaf=1, min_samples_split=2, n_estimators=100, score=(train=1.000, test=0.279), total=   0.4s\n",
      "[CV] learning_rate=0.1, max_depth=3, min_samples_leaf=1, min_samples_split=2, n_estimators=100 \n",
      "[CV]  learning_rate=0.1, max_depth=3, min_samples_leaf=1, min_samples_split=2, n_estimators=100, score=(train=1.000, test=0.190), total=   0.7s\n",
      "[CV] learning_rate=0.1, max_depth=3, min_samples_leaf=1, min_samples_split=2, n_estimators=100 \n",
      "[CV]  learning_rate=0.1, max_depth=3, min_samples_leaf=1, min_samples_split=2, n_estimators=100, score=(train=1.000, test=0.473), total=   0.5s\n",
      "[CV] learning_rate=0.1, max_depth=3, min_samples_leaf=1, min_samples_split=2, n_estimators=200 \n",
      "[CV]  learning_rate=0.1, max_depth=3, min_samples_leaf=1, min_samples_split=2, n_estimators=200, score=(train=1.000, test=0.300), total=   0.8s\n",
      "[CV] learning_rate=0.1, max_depth=3, min_samples_leaf=1, min_samples_split=2, n_estimators=200 \n",
      "[CV]  learning_rate=0.1, max_depth=3, min_samples_leaf=1, min_samples_split=2, n_estimators=200, score=(train=1.000, test=0.173), total=   0.9s\n",
      "[CV] learning_rate=0.1, max_depth=3, min_samples_leaf=1, min_samples_split=2, n_estimators=200 \n",
      "[CV]  learning_rate=0.1, max_depth=3, min_samples_leaf=1, min_samples_split=2, n_estimators=200, score=(train=1.000, test=0.514), total=   0.8s\n",
      "[CV] learning_rate=0.1, max_depth=3, min_samples_leaf=1, min_samples_split=5, n_estimators=50 \n",
      "[CV]  learning_rate=0.1, max_depth=3, min_samples_leaf=1, min_samples_split=5, n_estimators=50, score=(train=1.000, test=0.227), total=   0.2s\n",
      "[CV] learning_rate=0.1, max_depth=3, min_samples_leaf=1, min_samples_split=5, n_estimators=50 \n",
      "[CV]  learning_rate=0.1, max_depth=3, min_samples_leaf=1, min_samples_split=5, n_estimators=50, score=(train=1.000, test=0.340), total=   0.4s\n",
      "[CV] learning_rate=0.1, max_depth=3, min_samples_leaf=1, min_samples_split=5, n_estimators=50 \n",
      "[CV]  learning_rate=0.1, max_depth=3, min_samples_leaf=1, min_samples_split=5, n_estimators=50, score=(train=1.000, test=0.372), total=   0.2s\n",
      "[CV] learning_rate=0.1, max_depth=3, min_samples_leaf=1, min_samples_split=5, n_estimators=100 \n",
      "[CV]  learning_rate=0.1, max_depth=3, min_samples_leaf=1, min_samples_split=5, n_estimators=100, score=(train=1.000, test=0.264), total=   0.6s\n",
      "[CV] learning_rate=0.1, max_depth=3, min_samples_leaf=1, min_samples_split=5, n_estimators=100 \n",
      "[CV]  learning_rate=0.1, max_depth=3, min_samples_leaf=1, min_samples_split=5, n_estimators=100, score=(train=1.000, test=0.368), total=   0.6s\n",
      "[CV] learning_rate=0.1, max_depth=3, min_samples_leaf=1, min_samples_split=5, n_estimators=100 \n",
      "[CV]  learning_rate=0.1, max_depth=3, min_samples_leaf=1, min_samples_split=5, n_estimators=100, score=(train=1.000, test=0.402), total=   0.6s\n",
      "[CV] learning_rate=0.1, max_depth=3, min_samples_leaf=1, min_samples_split=5, n_estimators=200 \n",
      "[CV]  learning_rate=0.1, max_depth=3, min_samples_leaf=1, min_samples_split=5, n_estimators=200, score=(train=1.000, test=0.264), total=   0.6s\n",
      "[CV] learning_rate=0.1, max_depth=3, min_samples_leaf=1, min_samples_split=5, n_estimators=200 \n",
      "[CV]  learning_rate=0.1, max_depth=3, min_samples_leaf=1, min_samples_split=5, n_estimators=200, score=(train=1.000, test=0.384), total=   0.7s\n",
      "[CV] learning_rate=0.1, max_depth=3, min_samples_leaf=1, min_samples_split=5, n_estimators=200 \n",
      "[CV]  learning_rate=0.1, max_depth=3, min_samples_leaf=1, min_samples_split=5, n_estimators=200, score=(train=1.000, test=0.375), total=   0.4s\n",
      "[CV] learning_rate=0.1, max_depth=3, min_samples_leaf=3, min_samples_split=2, n_estimators=50 \n",
      "[CV]  learning_rate=0.1, max_depth=3, min_samples_leaf=3, min_samples_split=2, n_estimators=50, score=(train=1.000, test=0.170), total=   0.1s\n",
      "[CV] learning_rate=0.1, max_depth=3, min_samples_leaf=3, min_samples_split=2, n_estimators=50 \n"
     ]
    },
    {
     "name": "stderr",
     "output_type": "stream",
     "text": [
      "C:\\Users\\72445\\AppData\\Local\\Continuum\\anaconda3\\lib\\site-packages\\sklearn\\metrics\\classification.py:1437: UndefinedMetricWarning: F-score is ill-defined and being set to 0.0 in labels with no predicted samples.\n",
      "  'precision', 'predicted', average, warn_for)\n"
     ]
    },
    {
     "name": "stdout",
     "output_type": "stream",
     "text": [
      "[CV]  learning_rate=0.1, max_depth=3, min_samples_leaf=3, min_samples_split=2, n_estimators=50, score=(train=1.000, test=0.293), total=   0.1s\n",
      "[CV] learning_rate=0.1, max_depth=3, min_samples_leaf=3, min_samples_split=2, n_estimators=50 \n",
      "[CV]  learning_rate=0.1, max_depth=3, min_samples_leaf=3, min_samples_split=2, n_estimators=50, score=(train=1.000, test=0.473), total=   0.1s\n",
      "[CV] learning_rate=0.1, max_depth=3, min_samples_leaf=3, min_samples_split=2, n_estimators=100 \n",
      "[CV]  learning_rate=0.1, max_depth=3, min_samples_leaf=3, min_samples_split=2, n_estimators=100, score=(train=1.000, test=0.233), total=   0.3s\n",
      "[CV] learning_rate=0.1, max_depth=3, min_samples_leaf=3, min_samples_split=2, n_estimators=100 \n"
     ]
    },
    {
     "name": "stderr",
     "output_type": "stream",
     "text": [
      "C:\\Users\\72445\\AppData\\Local\\Continuum\\anaconda3\\lib\\site-packages\\sklearn\\metrics\\classification.py:1437: UndefinedMetricWarning: F-score is ill-defined and being set to 0.0 in labels with no predicted samples.\n",
      "  'precision', 'predicted', average, warn_for)\n"
     ]
    },
    {
     "name": "stdout",
     "output_type": "stream",
     "text": [
      "[CV]  learning_rate=0.1, max_depth=3, min_samples_leaf=3, min_samples_split=2, n_estimators=100, score=(train=1.000, test=0.317), total=   0.2s\n",
      "[CV] learning_rate=0.1, max_depth=3, min_samples_leaf=3, min_samples_split=2, n_estimators=100 \n",
      "[CV]  learning_rate=0.1, max_depth=3, min_samples_leaf=3, min_samples_split=2, n_estimators=100, score=(train=1.000, test=0.443), total=   0.2s\n",
      "[CV] learning_rate=0.1, max_depth=3, min_samples_leaf=3, min_samples_split=2, n_estimators=200 \n",
      "[CV]  learning_rate=0.1, max_depth=3, min_samples_leaf=3, min_samples_split=2, n_estimators=200, score=(train=1.000, test=0.230), total=   0.3s\n",
      "[CV] learning_rate=0.1, max_depth=3, min_samples_leaf=3, min_samples_split=2, n_estimators=200 \n"
     ]
    },
    {
     "name": "stderr",
     "output_type": "stream",
     "text": [
      "C:\\Users\\72445\\AppData\\Local\\Continuum\\anaconda3\\lib\\site-packages\\sklearn\\metrics\\classification.py:1437: UndefinedMetricWarning: F-score is ill-defined and being set to 0.0 in labels with no predicted samples.\n",
      "  'precision', 'predicted', average, warn_for)\n"
     ]
    },
    {
     "name": "stdout",
     "output_type": "stream",
     "text": [
      "[CV]  learning_rate=0.1, max_depth=3, min_samples_leaf=3, min_samples_split=2, n_estimators=200, score=(train=1.000, test=0.317), total=   0.3s\n",
      "[CV] learning_rate=0.1, max_depth=3, min_samples_leaf=3, min_samples_split=2, n_estimators=200 \n",
      "[CV]  learning_rate=0.1, max_depth=3, min_samples_leaf=3, min_samples_split=2, n_estimators=200, score=(train=1.000, test=0.473), total=   0.4s\n",
      "[CV] learning_rate=0.1, max_depth=3, min_samples_leaf=3, min_samples_split=5, n_estimators=50 \n",
      "[CV]  learning_rate=0.1, max_depth=3, min_samples_leaf=3, min_samples_split=5, n_estimators=50, score=(train=1.000, test=0.204), total=   0.1s\n",
      "[CV] learning_rate=0.1, max_depth=3, min_samples_leaf=3, min_samples_split=5, n_estimators=50 \n",
      "[CV]  learning_rate=0.1, max_depth=3, min_samples_leaf=3, min_samples_split=5, n_estimators=50, score=(train=1.000, test=0.293), total=   0.1s\n",
      "[CV] learning_rate=0.1, max_depth=3, min_samples_leaf=3, min_samples_split=5, n_estimators=50 "
     ]
    },
    {
     "name": "stderr",
     "output_type": "stream",
     "text": [
      "C:\\Users\\72445\\AppData\\Local\\Continuum\\anaconda3\\lib\\site-packages\\sklearn\\metrics\\classification.py:1437: UndefinedMetricWarning: F-score is ill-defined and being set to 0.0 in labels with no predicted samples.\n",
      "  'precision', 'predicted', average, warn_for)\n"
     ]
    },
    {
     "name": "stdout",
     "output_type": "stream",
     "text": [
      "\n",
      "[CV]  learning_rate=0.1, max_depth=3, min_samples_leaf=3, min_samples_split=5, n_estimators=50, score=(train=1.000, test=0.473), total=   0.2s\n",
      "[CV] learning_rate=0.1, max_depth=3, min_samples_leaf=3, min_samples_split=5, n_estimators=100 \n",
      "[CV]  learning_rate=0.1, max_depth=3, min_samples_leaf=3, min_samples_split=5, n_estimators=100, score=(train=1.000, test=0.233), total=   0.3s\n",
      "[CV] learning_rate=0.1, max_depth=3, min_samples_leaf=3, min_samples_split=5, n_estimators=100 \n"
     ]
    },
    {
     "name": "stderr",
     "output_type": "stream",
     "text": [
      "C:\\Users\\72445\\AppData\\Local\\Continuum\\anaconda3\\lib\\site-packages\\sklearn\\metrics\\classification.py:1437: UndefinedMetricWarning: F-score is ill-defined and being set to 0.0 in labels with no predicted samples.\n",
      "  'precision', 'predicted', average, warn_for)\n"
     ]
    },
    {
     "name": "stdout",
     "output_type": "stream",
     "text": [
      "[CV]  learning_rate=0.1, max_depth=3, min_samples_leaf=3, min_samples_split=5, n_estimators=100, score=(train=1.000, test=0.317), total=   0.3s\n",
      "[CV] learning_rate=0.1, max_depth=3, min_samples_leaf=3, min_samples_split=5, n_estimators=100 \n",
      "[CV]  learning_rate=0.1, max_depth=3, min_samples_leaf=3, min_samples_split=5, n_estimators=100, score=(train=1.000, test=0.473), total=   0.3s\n",
      "[CV] learning_rate=0.1, max_depth=3, min_samples_leaf=3, min_samples_split=5, n_estimators=200 \n",
      "[CV]  learning_rate=0.1, max_depth=3, min_samples_leaf=3, min_samples_split=5, n_estimators=200, score=(train=1.000, test=0.201), total=   0.3s\n",
      "[CV] learning_rate=0.1, max_depth=3, min_samples_leaf=3, min_samples_split=5, n_estimators=200 \n",
      "[CV]  learning_rate=0.1, max_depth=3, min_samples_leaf=3, min_samples_split=5, n_estimators=200, score=(train=1.000, test=0.491), total=   0.3s\n",
      "[CV] learning_rate=0.1, max_depth=3, min_samples_leaf=3, min_samples_split=5, n_estimators=200 \n",
      "[CV]  learning_rate=0.1, max_depth=3, min_samples_leaf=3, min_samples_split=5, n_estimators=200, score=(train=1.000, test=0.473), total=   0.5s\n",
      "[CV] learning_rate=0.1, max_depth=3, min_samples_leaf=5, min_samples_split=2, n_estimators=50 \n",
      "[CV]  learning_rate=0.1, max_depth=3, min_samples_leaf=5, min_samples_split=2, n_estimators=50, score=(train=1.000, test=0.223), total=   0.1s\n",
      "[CV] learning_rate=0.1, max_depth=3, min_samples_leaf=5, min_samples_split=2, n_estimators=50 \n",
      "[CV]  learning_rate=0.1, max_depth=3, min_samples_leaf=5, min_samples_split=2, n_estimators=50, score=(train=1.000, test=0.271), total=   0.1s\n",
      "[CV] learning_rate=0.1, max_depth=3, min_samples_leaf=5, min_samples_split=2, n_estimators=50 \n",
      "[CV]  learning_rate=0.1, max_depth=3, min_samples_leaf=5, min_samples_split=2, n_estimators=50, score=(train=1.000, test=0.344), total=   0.1s\n",
      "[CV] learning_rate=0.1, max_depth=3, min_samples_leaf=5, min_samples_split=2, n_estimators=100 \n",
      "[CV]  learning_rate=0.1, max_depth=3, min_samples_leaf=5, min_samples_split=2, n_estimators=100, score=(train=1.000, test=0.269), total=   0.2s\n",
      "[CV] learning_rate=0.1, max_depth=3, min_samples_leaf=5, min_samples_split=2, n_estimators=100 \n",
      "[CV]  learning_rate=0.1, max_depth=3, min_samples_leaf=5, min_samples_split=2, n_estimators=100, score=(train=1.000, test=0.325), total=   0.2s\n",
      "[CV] learning_rate=0.1, max_depth=3, min_samples_leaf=5, min_samples_split=2, n_estimators=100 \n",
      "[CV]  learning_rate=0.1, max_depth=3, min_samples_leaf=5, min_samples_split=2, n_estimators=100, score=(train=1.000, test=0.313), total=   0.2s\n",
      "[CV] learning_rate=0.1, max_depth=3, min_samples_leaf=5, min_samples_split=2, n_estimators=200 \n",
      "[CV]  learning_rate=0.1, max_depth=3, min_samples_leaf=5, min_samples_split=2, n_estimators=200, score=(train=1.000, test=0.245), total=   0.3s\n",
      "[CV] learning_rate=0.1, max_depth=3, min_samples_leaf=5, min_samples_split=2, n_estimators=200 \n",
      "[CV]  learning_rate=0.1, max_depth=3, min_samples_leaf=5, min_samples_split=2, n_estimators=200, score=(train=1.000, test=0.383), total=   0.3s\n",
      "[CV] learning_rate=0.1, max_depth=3, min_samples_leaf=5, min_samples_split=2, n_estimators=200 \n",
      "[CV]  learning_rate=0.1, max_depth=3, min_samples_leaf=5, min_samples_split=2, n_estimators=200, score=(train=1.000, test=0.384), total=   0.3s\n",
      "[CV] learning_rate=0.1, max_depth=3, min_samples_leaf=5, min_samples_split=5, n_estimators=50 \n",
      "[CV]  learning_rate=0.1, max_depth=3, min_samples_leaf=5, min_samples_split=5, n_estimators=50, score=(train=1.000, test=0.200), total=   0.1s\n",
      "[CV] learning_rate=0.1, max_depth=3, min_samples_leaf=5, min_samples_split=5, n_estimators=50 \n",
      "[CV]  learning_rate=0.1, max_depth=3, min_samples_leaf=5, min_samples_split=5, n_estimators=50, score=(train=1.000, test=0.298), total=   0.1s\n",
      "[CV] learning_rate=0.1, max_depth=3, min_samples_leaf=5, min_samples_split=5, n_estimators=50 \n",
      "[CV]  learning_rate=0.1, max_depth=3, min_samples_leaf=5, min_samples_split=5, n_estimators=50, score=(train=1.000, test=0.374), total=   0.1s\n",
      "[CV] learning_rate=0.1, max_depth=3, min_samples_leaf=5, min_samples_split=5, n_estimators=100 \n",
      "[CV]  learning_rate=0.1, max_depth=3, min_samples_leaf=5, min_samples_split=5, n_estimators=100, score=(train=1.000, test=0.250), total=   0.2s\n",
      "[CV] learning_rate=0.1, max_depth=3, min_samples_leaf=5, min_samples_split=5, n_estimators=100 \n",
      "[CV]  learning_rate=0.1, max_depth=3, min_samples_leaf=5, min_samples_split=5, n_estimators=100, score=(train=1.000, test=0.325), total=   0.2s\n",
      "[CV] learning_rate=0.1, max_depth=3, min_samples_leaf=5, min_samples_split=5, n_estimators=100 \n",
      "[CV]  learning_rate=0.1, max_depth=3, min_samples_leaf=5, min_samples_split=5, n_estimators=100, score=(train=1.000, test=0.313), total=   0.2s\n",
      "[CV] learning_rate=0.1, max_depth=3, min_samples_leaf=5, min_samples_split=5, n_estimators=200 \n",
      "[CV]  learning_rate=0.1, max_depth=3, min_samples_leaf=5, min_samples_split=5, n_estimators=200, score=(train=1.000, test=0.200), total=   0.3s\n",
      "[CV] learning_rate=0.1, max_depth=3, min_samples_leaf=5, min_samples_split=5, n_estimators=200 \n",
      "[CV]  learning_rate=0.1, max_depth=3, min_samples_leaf=5, min_samples_split=5, n_estimators=200, score=(train=1.000, test=0.484), total=   0.3s\n",
      "[CV] learning_rate=0.1, max_depth=3, min_samples_leaf=5, min_samples_split=5, n_estimators=200 \n",
      "[CV]  learning_rate=0.1, max_depth=3, min_samples_leaf=5, min_samples_split=5, n_estimators=200, score=(train=1.000, test=0.384), total=   0.3s\n",
      "[CV] learning_rate=0.1, max_depth=6, min_samples_leaf=1, min_samples_split=2, n_estimators=50 \n",
      "[CV]  learning_rate=0.1, max_depth=6, min_samples_leaf=1, min_samples_split=2, n_estimators=50, score=(train=1.000, test=0.293), total=   0.2s\n",
      "[CV] learning_rate=0.1, max_depth=6, min_samples_leaf=1, min_samples_split=2, n_estimators=50 \n",
      "[CV]  learning_rate=0.1, max_depth=6, min_samples_leaf=1, min_samples_split=2, n_estimators=50, score=(train=1.000, test=0.415), total=   0.2s\n",
      "[CV] learning_rate=0.1, max_depth=6, min_samples_leaf=1, min_samples_split=2, n_estimators=50 \n",
      "[CV]  learning_rate=0.1, max_depth=6, min_samples_leaf=1, min_samples_split=2, n_estimators=50, score=(train=1.000, test=0.404), total=   0.2s\n",
      "[CV] learning_rate=0.1, max_depth=6, min_samples_leaf=1, min_samples_split=2, n_estimators=100 \n",
      "[CV]  learning_rate=0.1, max_depth=6, min_samples_leaf=1, min_samples_split=2, n_estimators=100, score=(train=1.000, test=0.352), total=   0.3s\n",
      "[CV] learning_rate=0.1, max_depth=6, min_samples_leaf=1, min_samples_split=2, n_estimators=100 \n",
      "[CV]  learning_rate=0.1, max_depth=6, min_samples_leaf=1, min_samples_split=2, n_estimators=100, score=(train=1.000, test=0.346), total=   0.3s\n",
      "[CV] learning_rate=0.1, max_depth=6, min_samples_leaf=1, min_samples_split=2, n_estimators=100 \n",
      "[CV]  learning_rate=0.1, max_depth=6, min_samples_leaf=1, min_samples_split=2, n_estimators=100, score=(train=1.000, test=0.404), total=   0.4s\n",
      "[CV] learning_rate=0.1, max_depth=6, min_samples_leaf=1, min_samples_split=2, n_estimators=200 \n",
      "[CV]  learning_rate=0.1, max_depth=6, min_samples_leaf=1, min_samples_split=2, n_estimators=200, score=(train=1.000, test=0.352), total=   0.3s\n",
      "[CV] learning_rate=0.1, max_depth=6, min_samples_leaf=1, min_samples_split=2, n_estimators=200 \n",
      "[CV]  learning_rate=0.1, max_depth=6, min_samples_leaf=1, min_samples_split=2, n_estimators=200, score=(train=1.000, test=0.346), total=   0.3s\n",
      "[CV] learning_rate=0.1, max_depth=6, min_samples_leaf=1, min_samples_split=2, n_estimators=200 \n",
      "[CV]  learning_rate=0.1, max_depth=6, min_samples_leaf=1, min_samples_split=2, n_estimators=200, score=(train=1.000, test=0.404), total=   0.3s\n",
      "[CV] learning_rate=0.1, max_depth=6, min_samples_leaf=1, min_samples_split=5, n_estimators=50 \n",
      "[CV]  learning_rate=0.1, max_depth=6, min_samples_leaf=1, min_samples_split=5, n_estimators=50, score=(train=1.000, test=0.292), total=   0.2s\n",
      "[CV] learning_rate=0.1, max_depth=6, min_samples_leaf=1, min_samples_split=5, n_estimators=50 \n",
      "[CV]  learning_rate=0.1, max_depth=6, min_samples_leaf=1, min_samples_split=5, n_estimators=50, score=(train=1.000, test=0.374), total=   0.2s\n",
      "[CV] learning_rate=0.1, max_depth=6, min_samples_leaf=1, min_samples_split=5, n_estimators=50 \n",
      "[CV]  learning_rate=0.1, max_depth=6, min_samples_leaf=1, min_samples_split=5, n_estimators=50, score=(train=1.000, test=0.361), total=   0.1s\n",
      "[CV] learning_rate=0.1, max_depth=6, min_samples_leaf=1, min_samples_split=5, n_estimators=100 \n",
      "[CV]  learning_rate=0.1, max_depth=6, min_samples_leaf=1, min_samples_split=5, n_estimators=100, score=(train=1.000, test=0.294), total=   0.2s\n",
      "[CV] learning_rate=0.1, max_depth=6, min_samples_leaf=1, min_samples_split=5, n_estimators=100 \n"
     ]
    },
    {
     "name": "stdout",
     "output_type": "stream",
     "text": [
      "[CV]  learning_rate=0.1, max_depth=6, min_samples_leaf=1, min_samples_split=5, n_estimators=100, score=(train=1.000, test=0.374), total=   0.2s\n",
      "[CV] learning_rate=0.1, max_depth=6, min_samples_leaf=1, min_samples_split=5, n_estimators=100 \n",
      "[CV]  learning_rate=0.1, max_depth=6, min_samples_leaf=1, min_samples_split=5, n_estimators=100, score=(train=1.000, test=0.431), total=   0.2s\n",
      "[CV] learning_rate=0.1, max_depth=6, min_samples_leaf=1, min_samples_split=5, n_estimators=200 \n",
      "[CV]  learning_rate=0.1, max_depth=6, min_samples_leaf=1, min_samples_split=5, n_estimators=200, score=(train=1.000, test=0.294), total=   0.3s\n",
      "[CV] learning_rate=0.1, max_depth=6, min_samples_leaf=1, min_samples_split=5, n_estimators=200 \n",
      "[CV]  learning_rate=0.1, max_depth=6, min_samples_leaf=1, min_samples_split=5, n_estimators=200, score=(train=1.000, test=0.374), total=   0.3s\n",
      "[CV] learning_rate=0.1, max_depth=6, min_samples_leaf=1, min_samples_split=5, n_estimators=200 \n",
      "[CV]  learning_rate=0.1, max_depth=6, min_samples_leaf=1, min_samples_split=5, n_estimators=200, score=(train=1.000, test=0.484), total=   0.6s\n",
      "[CV] learning_rate=0.1, max_depth=6, min_samples_leaf=3, min_samples_split=2, n_estimators=50 \n",
      "[CV]  learning_rate=0.1, max_depth=6, min_samples_leaf=3, min_samples_split=2, n_estimators=50, score=(train=1.000, test=0.333), total=   0.2s\n",
      "[CV] learning_rate=0.1, max_depth=6, min_samples_leaf=3, min_samples_split=2, n_estimators=50 \n",
      "[CV]  learning_rate=0.1, max_depth=6, min_samples_leaf=3, min_samples_split=2, n_estimators=50, score=(train=1.000, test=0.256), total=   0.2s\n",
      "[CV] learning_rate=0.1, max_depth=6, min_samples_leaf=3, min_samples_split=2, n_estimators=50 \n",
      "[CV]  learning_rate=0.1, max_depth=6, min_samples_leaf=3, min_samples_split=2, n_estimators=50, score=(train=1.000, test=0.379), total=   0.2s\n",
      "[CV] learning_rate=0.1, max_depth=6, min_samples_leaf=3, min_samples_split=2, n_estimators=100 \n",
      "[CV]  learning_rate=0.1, max_depth=6, min_samples_leaf=3, min_samples_split=2, n_estimators=100, score=(train=1.000, test=0.267), total=   0.3s\n",
      "[CV] learning_rate=0.1, max_depth=6, min_samples_leaf=3, min_samples_split=2, n_estimators=100 \n",
      "[CV]  learning_rate=0.1, max_depth=6, min_samples_leaf=3, min_samples_split=2, n_estimators=100, score=(train=1.000, test=0.282), total=   0.3s\n",
      "[CV] learning_rate=0.1, max_depth=6, min_samples_leaf=3, min_samples_split=2, n_estimators=100 \n",
      "[CV]  learning_rate=0.1, max_depth=6, min_samples_leaf=3, min_samples_split=2, n_estimators=100, score=(train=1.000, test=0.329), total=   0.2s\n",
      "[CV] learning_rate=0.1, max_depth=6, min_samples_leaf=3, min_samples_split=2, n_estimators=200 \n",
      "[CV]  learning_rate=0.1, max_depth=6, min_samples_leaf=3, min_samples_split=2, n_estimators=200, score=(train=1.000, test=0.267), total=   0.5s\n",
      "[CV] learning_rate=0.1, max_depth=6, min_samples_leaf=3, min_samples_split=2, n_estimators=200 \n",
      "[CV]  learning_rate=0.1, max_depth=6, min_samples_leaf=3, min_samples_split=2, n_estimators=200, score=(train=1.000, test=0.231), total=   0.3s\n",
      "[CV] learning_rate=0.1, max_depth=6, min_samples_leaf=3, min_samples_split=2, n_estimators=200 \n",
      "[CV]  learning_rate=0.1, max_depth=6, min_samples_leaf=3, min_samples_split=2, n_estimators=200, score=(train=1.000, test=0.329), total=   0.4s\n",
      "[CV] learning_rate=0.1, max_depth=6, min_samples_leaf=3, min_samples_split=5, n_estimators=50 \n",
      "[CV]  learning_rate=0.1, max_depth=6, min_samples_leaf=3, min_samples_split=5, n_estimators=50, score=(train=1.000, test=0.232), total=   0.1s\n",
      "[CV] learning_rate=0.1, max_depth=6, min_samples_leaf=3, min_samples_split=5, n_estimators=50 \n",
      "[CV]  learning_rate=0.1, max_depth=6, min_samples_leaf=3, min_samples_split=5, n_estimators=50, score=(train=1.000, test=0.228), total=   0.1s\n",
      "[CV] learning_rate=0.1, max_depth=6, min_samples_leaf=3, min_samples_split=5, n_estimators=50 \n",
      "[CV]  learning_rate=0.1, max_depth=6, min_samples_leaf=3, min_samples_split=5, n_estimators=50, score=(train=1.000, test=0.355), total=   0.1s\n",
      "[CV] learning_rate=0.1, max_depth=6, min_samples_leaf=3, min_samples_split=5, n_estimators=100 \n",
      "[CV]  learning_rate=0.1, max_depth=6, min_samples_leaf=3, min_samples_split=5, n_estimators=100, score=(train=1.000, test=0.195), total=   0.2s\n",
      "[CV] learning_rate=0.1, max_depth=6, min_samples_leaf=3, min_samples_split=5, n_estimators=100 \n",
      "[CV]  learning_rate=0.1, max_depth=6, min_samples_leaf=3, min_samples_split=5, n_estimators=100, score=(train=1.000, test=0.208), total=   0.2s\n",
      "[CV] learning_rate=0.1, max_depth=6, min_samples_leaf=3, min_samples_split=5, n_estimators=100 \n",
      "[CV]  learning_rate=0.1, max_depth=6, min_samples_leaf=3, min_samples_split=5, n_estimators=100, score=(train=1.000, test=0.278), total=   0.2s\n",
      "[CV] learning_rate=0.1, max_depth=6, min_samples_leaf=3, min_samples_split=5, n_estimators=200 \n",
      "[CV]  learning_rate=0.1, max_depth=6, min_samples_leaf=3, min_samples_split=5, n_estimators=200, score=(train=1.000, test=0.267), total=   0.3s\n",
      "[CV] learning_rate=0.1, max_depth=6, min_samples_leaf=3, min_samples_split=5, n_estimators=200 \n",
      "[CV]  learning_rate=0.1, max_depth=6, min_samples_leaf=3, min_samples_split=5, n_estimators=200, score=(train=1.000, test=0.235), total=   0.4s\n",
      "[CV] learning_rate=0.1, max_depth=6, min_samples_leaf=3, min_samples_split=5, n_estimators=200 \n",
      "[CV]  learning_rate=0.1, max_depth=6, min_samples_leaf=3, min_samples_split=5, n_estimators=200, score=(train=1.000, test=0.329), total=   0.3s\n",
      "[CV] learning_rate=0.1, max_depth=6, min_samples_leaf=5, min_samples_split=2, n_estimators=50 \n",
      "[CV]  learning_rate=0.1, max_depth=6, min_samples_leaf=5, min_samples_split=2, n_estimators=50, score=(train=1.000, test=0.263), total=   0.1s\n",
      "[CV] learning_rate=0.1, max_depth=6, min_samples_leaf=5, min_samples_split=2, n_estimators=50 \n",
      "[CV]  learning_rate=0.1, max_depth=6, min_samples_leaf=5, min_samples_split=2, n_estimators=50, score=(train=1.000, test=0.361), total=   0.1s\n",
      "[CV] learning_rate=0.1, max_depth=6, min_samples_leaf=5, min_samples_split=2, n_estimators=50 \n",
      "[CV]  learning_rate=0.1, max_depth=6, min_samples_leaf=5, min_samples_split=2, n_estimators=50, score=(train=1.000, test=0.429), total=   0.2s\n",
      "[CV] learning_rate=0.1, max_depth=6, min_samples_leaf=5, min_samples_split=2, n_estimators=100 \n",
      "[CV]  learning_rate=0.1, max_depth=6, min_samples_leaf=5, min_samples_split=2, n_estimators=100, score=(train=1.000, test=0.263), total=   0.3s\n",
      "[CV] learning_rate=0.1, max_depth=6, min_samples_leaf=5, min_samples_split=2, n_estimators=100 \n",
      "[CV]  learning_rate=0.1, max_depth=6, min_samples_leaf=5, min_samples_split=2, n_estimators=100, score=(train=1.000, test=0.400), total=   0.2s\n",
      "[CV] learning_rate=0.1, max_depth=6, min_samples_leaf=5, min_samples_split=2, n_estimators=100 \n",
      "[CV]  learning_rate=0.1, max_depth=6, min_samples_leaf=5, min_samples_split=2, n_estimators=100, score=(train=1.000, test=0.375), total=   0.2s\n",
      "[CV] learning_rate=0.1, max_depth=6, min_samples_leaf=5, min_samples_split=2, n_estimators=200 \n",
      "[CV]  learning_rate=0.1, max_depth=6, min_samples_leaf=5, min_samples_split=2, n_estimators=200, score=(train=1.000, test=0.245), total=   0.3s\n",
      "[CV] learning_rate=0.1, max_depth=6, min_samples_leaf=5, min_samples_split=2, n_estimators=200 \n",
      "[CV]  learning_rate=0.1, max_depth=6, min_samples_leaf=5, min_samples_split=2, n_estimators=200, score=(train=1.000, test=0.415), total=   0.3s\n",
      "[CV] learning_rate=0.1, max_depth=6, min_samples_leaf=5, min_samples_split=2, n_estimators=200 \n",
      "[CV]  learning_rate=0.1, max_depth=6, min_samples_leaf=5, min_samples_split=2, n_estimators=200, score=(train=1.000, test=0.329), total=   0.4s\n",
      "[CV] learning_rate=0.1, max_depth=6, min_samples_leaf=5, min_samples_split=5, n_estimators=50 \n",
      "[CV]  learning_rate=0.1, max_depth=6, min_samples_leaf=5, min_samples_split=5, n_estimators=50, score=(train=1.000, test=0.239), total=   0.1s\n",
      "[CV] learning_rate=0.1, max_depth=6, min_samples_leaf=5, min_samples_split=5, n_estimators=50 \n",
      "[CV]  learning_rate=0.1, max_depth=6, min_samples_leaf=5, min_samples_split=5, n_estimators=50, score=(train=1.000, test=0.361), total=   0.1s\n",
      "[CV] learning_rate=0.1, max_depth=6, min_samples_leaf=5, min_samples_split=5, n_estimators=50 \n",
      "[CV]  learning_rate=0.1, max_depth=6, min_samples_leaf=5, min_samples_split=5, n_estimators=50, score=(train=1.000, test=0.429), total=   0.1s\n",
      "[CV] learning_rate=0.1, max_depth=6, min_samples_leaf=5, min_samples_split=5, n_estimators=100 \n"
     ]
    },
    {
     "name": "stdout",
     "output_type": "stream",
     "text": [
      "[CV]  learning_rate=0.1, max_depth=6, min_samples_leaf=5, min_samples_split=5, n_estimators=100, score=(train=1.000, test=0.285), total=   0.2s\n",
      "[CV] learning_rate=0.1, max_depth=6, min_samples_leaf=5, min_samples_split=5, n_estimators=100 \n",
      "[CV]  learning_rate=0.1, max_depth=6, min_samples_leaf=5, min_samples_split=5, n_estimators=100, score=(train=1.000, test=0.415), total=   0.2s\n",
      "[CV] learning_rate=0.1, max_depth=6, min_samples_leaf=5, min_samples_split=5, n_estimators=100 \n",
      "[CV]  learning_rate=0.1, max_depth=6, min_samples_leaf=5, min_samples_split=5, n_estimators=100, score=(train=1.000, test=0.375), total=   0.2s\n",
      "[CV] learning_rate=0.1, max_depth=6, min_samples_leaf=5, min_samples_split=5, n_estimators=200 \n",
      "[CV]  learning_rate=0.1, max_depth=6, min_samples_leaf=5, min_samples_split=5, n_estimators=200, score=(train=1.000, test=0.257), total=   0.4s\n",
      "[CV] learning_rate=0.1, max_depth=6, min_samples_leaf=5, min_samples_split=5, n_estimators=200 \n",
      "[CV]  learning_rate=0.1, max_depth=6, min_samples_leaf=5, min_samples_split=5, n_estimators=200, score=(train=1.000, test=0.373), total=   0.3s\n",
      "[CV] learning_rate=0.1, max_depth=6, min_samples_leaf=5, min_samples_split=5, n_estimators=200 \n",
      "[CV]  learning_rate=0.1, max_depth=6, min_samples_leaf=5, min_samples_split=5, n_estimators=200, score=(train=1.000, test=0.356), total=   0.3s\n",
      "[CV] learning_rate=0.01, max_depth=1, min_samples_leaf=1, min_samples_split=2, n_estimators=50 \n",
      "[CV]  learning_rate=0.01, max_depth=1, min_samples_leaf=1, min_samples_split=2, n_estimators=50, score=(train=0.467, test=0.212), total=   0.1s\n",
      "[CV] learning_rate=0.01, max_depth=1, min_samples_leaf=1, min_samples_split=2, n_estimators=50 \n",
      "[CV]  learning_rate=0.01, max_depth=1, min_samples_leaf=1, min_samples_split=2, n_estimators=50, score=(train=0.494, test=0.190), total=   0.1s\n",
      "[CV] learning_rate=0.01, max_depth=1, min_samples_leaf=1, min_samples_split=2, n_estimators=50 \n"
     ]
    },
    {
     "name": "stderr",
     "output_type": "stream",
     "text": [
      "C:\\Users\\72445\\AppData\\Local\\Continuum\\anaconda3\\lib\\site-packages\\sklearn\\metrics\\classification.py:1437: UndefinedMetricWarning: F-score is ill-defined and being set to 0.0 in labels with no predicted samples.\n",
      "  'precision', 'predicted', average, warn_for)\n",
      "C:\\Users\\72445\\AppData\\Local\\Continuum\\anaconda3\\lib\\site-packages\\sklearn\\metrics\\classification.py:1437: UndefinedMetricWarning: F-score is ill-defined and being set to 0.0 in labels with no predicted samples.\n",
      "  'precision', 'predicted', average, warn_for)\n",
      "C:\\Users\\72445\\AppData\\Local\\Continuum\\anaconda3\\lib\\site-packages\\sklearn\\metrics\\classification.py:1437: UndefinedMetricWarning: F-score is ill-defined and being set to 0.0 in labels with no predicted samples.\n",
      "  'precision', 'predicted', average, warn_for)\n",
      "C:\\Users\\72445\\AppData\\Local\\Continuum\\anaconda3\\lib\\site-packages\\sklearn\\metrics\\classification.py:1437: UndefinedMetricWarning: F-score is ill-defined and being set to 0.0 in labels with no predicted samples.\n",
      "  'precision', 'predicted', average, warn_for)\n",
      "C:\\Users\\72445\\AppData\\Local\\Continuum\\anaconda3\\lib\\site-packages\\sklearn\\metrics\\classification.py:1437: UndefinedMetricWarning: F-score is ill-defined and being set to 0.0 in labels with no predicted samples.\n",
      "  'precision', 'predicted', average, warn_for)\n",
      "C:\\Users\\72445\\AppData\\Local\\Continuum\\anaconda3\\lib\\site-packages\\sklearn\\metrics\\classification.py:1437: UndefinedMetricWarning: F-score is ill-defined and being set to 0.0 in labels with no predicted samples.\n",
      "  'precision', 'predicted', average, warn_for)\n"
     ]
    },
    {
     "name": "stdout",
     "output_type": "stream",
     "text": [
      "[CV]  learning_rate=0.01, max_depth=1, min_samples_leaf=1, min_samples_split=2, n_estimators=50, score=(train=0.480, test=0.154), total=   0.1s\n",
      "[CV] learning_rate=0.01, max_depth=1, min_samples_leaf=1, min_samples_split=2, n_estimators=100 \n",
      "[CV]  learning_rate=0.01, max_depth=1, min_samples_leaf=1, min_samples_split=2, n_estimators=100, score=(train=0.482, test=0.237), total=   0.1s\n",
      "[CV] learning_rate=0.01, max_depth=1, min_samples_leaf=1, min_samples_split=2, n_estimators=100 \n"
     ]
    },
    {
     "name": "stderr",
     "output_type": "stream",
     "text": [
      "C:\\Users\\72445\\AppData\\Local\\Continuum\\anaconda3\\lib\\site-packages\\sklearn\\metrics\\classification.py:1437: UndefinedMetricWarning: F-score is ill-defined and being set to 0.0 in labels with no predicted samples.\n",
      "  'precision', 'predicted', average, warn_for)\n",
      "C:\\Users\\72445\\AppData\\Local\\Continuum\\anaconda3\\lib\\site-packages\\sklearn\\metrics\\classification.py:1437: UndefinedMetricWarning: F-score is ill-defined and being set to 0.0 in labels with no predicted samples.\n",
      "  'precision', 'predicted', average, warn_for)\n",
      "C:\\Users\\72445\\AppData\\Local\\Continuum\\anaconda3\\lib\\site-packages\\sklearn\\metrics\\classification.py:1437: UndefinedMetricWarning: F-score is ill-defined and being set to 0.0 in labels with no predicted samples.\n",
      "  'precision', 'predicted', average, warn_for)\n",
      "C:\\Users\\72445\\AppData\\Local\\Continuum\\anaconda3\\lib\\site-packages\\sklearn\\metrics\\classification.py:1437: UndefinedMetricWarning: F-score is ill-defined and being set to 0.0 in labels with no predicted samples.\n",
      "  'precision', 'predicted', average, warn_for)\n"
     ]
    },
    {
     "name": "stdout",
     "output_type": "stream",
     "text": [
      "[CV]  learning_rate=0.01, max_depth=1, min_samples_leaf=1, min_samples_split=2, n_estimators=100, score=(train=0.527, test=0.219), total=   0.1s\n",
      "[CV] learning_rate=0.01, max_depth=1, min_samples_leaf=1, min_samples_split=2, n_estimators=100 \n",
      "[CV]  learning_rate=0.01, max_depth=1, min_samples_leaf=1, min_samples_split=2, n_estimators=100, score=(train=0.676, test=0.200), total=   0.1s\n",
      "[CV] learning_rate=0.01, max_depth=1, min_samples_leaf=1, min_samples_split=2, n_estimators=200 \n"
     ]
    },
    {
     "name": "stderr",
     "output_type": "stream",
     "text": [
      "C:\\Users\\72445\\AppData\\Local\\Continuum\\anaconda3\\lib\\site-packages\\sklearn\\metrics\\classification.py:1437: UndefinedMetricWarning: F-score is ill-defined and being set to 0.0 in labels with no predicted samples.\n",
      "  'precision', 'predicted', average, warn_for)\n"
     ]
    },
    {
     "name": "stdout",
     "output_type": "stream",
     "text": [
      "[CV]  learning_rate=0.01, max_depth=1, min_samples_leaf=1, min_samples_split=2, n_estimators=200, score=(train=0.635, test=0.243), total=   0.2s\n",
      "[CV] learning_rate=0.01, max_depth=1, min_samples_leaf=1, min_samples_split=2, n_estimators=200 \n",
      "[CV]  learning_rate=0.01, max_depth=1, min_samples_leaf=1, min_samples_split=2, n_estimators=200, score=(train=0.722, test=0.389), total=   0.3s\n",
      "[CV] learning_rate=0.01, max_depth=1, min_samples_leaf=1, min_samples_split=2, n_estimators=200 \n",
      "[CV]  learning_rate=0.01, max_depth=1, min_samples_leaf=1, min_samples_split=2, n_estimators=200, score=(train=0.816, test=0.344), total=   0.3s\n",
      "[CV] learning_rate=0.01, max_depth=1, min_samples_leaf=1, min_samples_split=5, n_estimators=50 \n",
      "[CV]  learning_rate=0.01, max_depth=1, min_samples_leaf=1, min_samples_split=5, n_estimators=50, score=(train=0.467, test=0.212), total=   0.1s\n",
      "[CV] learning_rate=0.01, max_depth=1, min_samples_leaf=1, min_samples_split=5, n_estimators=50 \n",
      "[CV]  learning_rate=0.01, max_depth=1, min_samples_leaf=1, min_samples_split=5, n_estimators=50, score=(train=0.494, test=0.190), total=   0.1s\n",
      "[CV] learning_rate=0.01, max_depth=1, min_samples_leaf=1, min_samples_split=5, n_estimators=50 \n"
     ]
    },
    {
     "name": "stderr",
     "output_type": "stream",
     "text": [
      "C:\\Users\\72445\\AppData\\Local\\Continuum\\anaconda3\\lib\\site-packages\\sklearn\\metrics\\classification.py:1437: UndefinedMetricWarning: F-score is ill-defined and being set to 0.0 in labels with no predicted samples.\n",
      "  'precision', 'predicted', average, warn_for)\n",
      "C:\\Users\\72445\\AppData\\Local\\Continuum\\anaconda3\\lib\\site-packages\\sklearn\\metrics\\classification.py:1437: UndefinedMetricWarning: F-score is ill-defined and being set to 0.0 in labels with no predicted samples.\n",
      "  'precision', 'predicted', average, warn_for)\n",
      "C:\\Users\\72445\\AppData\\Local\\Continuum\\anaconda3\\lib\\site-packages\\sklearn\\metrics\\classification.py:1437: UndefinedMetricWarning: F-score is ill-defined and being set to 0.0 in labels with no predicted samples.\n",
      "  'precision', 'predicted', average, warn_for)\n",
      "C:\\Users\\72445\\AppData\\Local\\Continuum\\anaconda3\\lib\\site-packages\\sklearn\\metrics\\classification.py:1437: UndefinedMetricWarning: F-score is ill-defined and being set to 0.0 in labels with no predicted samples.\n",
      "  'precision', 'predicted', average, warn_for)\n",
      "C:\\Users\\72445\\AppData\\Local\\Continuum\\anaconda3\\lib\\site-packages\\sklearn\\metrics\\classification.py:1437: UndefinedMetricWarning: F-score is ill-defined and being set to 0.0 in labels with no predicted samples.\n",
      "  'precision', 'predicted', average, warn_for)\n",
      "C:\\Users\\72445\\AppData\\Local\\Continuum\\anaconda3\\lib\\site-packages\\sklearn\\metrics\\classification.py:1437: UndefinedMetricWarning: F-score is ill-defined and being set to 0.0 in labels with no predicted samples.\n",
      "  'precision', 'predicted', average, warn_for)\n"
     ]
    },
    {
     "name": "stdout",
     "output_type": "stream",
     "text": [
      "[CV]  learning_rate=0.01, max_depth=1, min_samples_leaf=1, min_samples_split=5, n_estimators=50, score=(train=0.480, test=0.154), total=   0.1s\n",
      "[CV] learning_rate=0.01, max_depth=1, min_samples_leaf=1, min_samples_split=5, n_estimators=100 \n",
      "[CV]  learning_rate=0.01, max_depth=1, min_samples_leaf=1, min_samples_split=5, n_estimators=100, score=(train=0.482, test=0.237), total=   0.1s\n",
      "[CV] learning_rate=0.01, max_depth=1, min_samples_leaf=1, min_samples_split=5, n_estimators=100 \n"
     ]
    },
    {
     "name": "stderr",
     "output_type": "stream",
     "text": [
      "C:\\Users\\72445\\AppData\\Local\\Continuum\\anaconda3\\lib\\site-packages\\sklearn\\metrics\\classification.py:1437: UndefinedMetricWarning: F-score is ill-defined and being set to 0.0 in labels with no predicted samples.\n",
      "  'precision', 'predicted', average, warn_for)\n",
      "C:\\Users\\72445\\AppData\\Local\\Continuum\\anaconda3\\lib\\site-packages\\sklearn\\metrics\\classification.py:1437: UndefinedMetricWarning: F-score is ill-defined and being set to 0.0 in labels with no predicted samples.\n",
      "  'precision', 'predicted', average, warn_for)\n",
      "C:\\Users\\72445\\AppData\\Local\\Continuum\\anaconda3\\lib\\site-packages\\sklearn\\metrics\\classification.py:1437: UndefinedMetricWarning: F-score is ill-defined and being set to 0.0 in labels with no predicted samples.\n",
      "  'precision', 'predicted', average, warn_for)\n",
      "C:\\Users\\72445\\AppData\\Local\\Continuum\\anaconda3\\lib\\site-packages\\sklearn\\metrics\\classification.py:1437: UndefinedMetricWarning: F-score is ill-defined and being set to 0.0 in labels with no predicted samples.\n",
      "  'precision', 'predicted', average, warn_for)\n"
     ]
    },
    {
     "name": "stdout",
     "output_type": "stream",
     "text": [
      "[CV]  learning_rate=0.01, max_depth=1, min_samples_leaf=1, min_samples_split=5, n_estimators=100, score=(train=0.527, test=0.219), total=   0.1s\n",
      "[CV] learning_rate=0.01, max_depth=1, min_samples_leaf=1, min_samples_split=5, n_estimators=100 \n",
      "[CV]  learning_rate=0.01, max_depth=1, min_samples_leaf=1, min_samples_split=5, n_estimators=100, score=(train=0.676, test=0.200), total=   0.1s\n",
      "[CV] learning_rate=0.01, max_depth=1, min_samples_leaf=1, min_samples_split=5, n_estimators=200 \n"
     ]
    },
    {
     "name": "stderr",
     "output_type": "stream",
     "text": [
      "C:\\Users\\72445\\AppData\\Local\\Continuum\\anaconda3\\lib\\site-packages\\sklearn\\metrics\\classification.py:1437: UndefinedMetricWarning: F-score is ill-defined and being set to 0.0 in labels with no predicted samples.\n",
      "  'precision', 'predicted', average, warn_for)\n"
     ]
    },
    {
     "name": "stdout",
     "output_type": "stream",
     "text": [
      "[CV]  learning_rate=0.01, max_depth=1, min_samples_leaf=1, min_samples_split=5, n_estimators=200, score=(train=0.635, test=0.243), total=   0.3s\n",
      "[CV] learning_rate=0.01, max_depth=1, min_samples_leaf=1, min_samples_split=5, n_estimators=200 \n",
      "[CV]  learning_rate=0.01, max_depth=1, min_samples_leaf=1, min_samples_split=5, n_estimators=200, score=(train=0.722, test=0.389), total=   0.3s\n",
      "[CV] learning_rate=0.01, max_depth=1, min_samples_leaf=1, min_samples_split=5, n_estimators=200 \n",
      "[CV]  learning_rate=0.01, max_depth=1, min_samples_leaf=1, min_samples_split=5, n_estimators=200, score=(train=0.816, test=0.344), total=   0.4s\n",
      "[CV] learning_rate=0.01, max_depth=1, min_samples_leaf=3, min_samples_split=2, n_estimators=50 \n",
      "[CV]  learning_rate=0.01, max_depth=1, min_samples_leaf=3, min_samples_split=2, n_estimators=50, score=(train=0.467, test=0.212), total=   0.1s\n",
      "[CV] learning_rate=0.01, max_depth=1, min_samples_leaf=3, min_samples_split=2, n_estimators=50 \n"
     ]
    },
    {
     "name": "stderr",
     "output_type": "stream",
     "text": [
      "C:\\Users\\72445\\AppData\\Local\\Continuum\\anaconda3\\lib\\site-packages\\sklearn\\metrics\\classification.py:1437: UndefinedMetricWarning: F-score is ill-defined and being set to 0.0 in labels with no predicted samples.\n",
      "  'precision', 'predicted', average, warn_for)\n",
      "C:\\Users\\72445\\AppData\\Local\\Continuum\\anaconda3\\lib\\site-packages\\sklearn\\metrics\\classification.py:1437: UndefinedMetricWarning: F-score is ill-defined and being set to 0.0 in labels with no predicted samples.\n",
      "  'precision', 'predicted', average, warn_for)\n",
      "C:\\Users\\72445\\AppData\\Local\\Continuum\\anaconda3\\lib\\site-packages\\sklearn\\metrics\\classification.py:1437: UndefinedMetricWarning: F-score is ill-defined and being set to 0.0 in labels with no predicted samples.\n",
      "  'precision', 'predicted', average, warn_for)\n",
      "C:\\Users\\72445\\AppData\\Local\\Continuum\\anaconda3\\lib\\site-packages\\sklearn\\metrics\\classification.py:1437: UndefinedMetricWarning: F-score is ill-defined and being set to 0.0 in labels with no predicted samples.\n",
      "  'precision', 'predicted', average, warn_for)\n"
     ]
    },
    {
     "name": "stdout",
     "output_type": "stream",
     "text": [
      "[CV]  learning_rate=0.01, max_depth=1, min_samples_leaf=3, min_samples_split=2, n_estimators=50, score=(train=0.494, test=0.190), total=   0.1s\n",
      "[CV] learning_rate=0.01, max_depth=1, min_samples_leaf=3, min_samples_split=2, n_estimators=50 \n",
      "[CV]  learning_rate=0.01, max_depth=1, min_samples_leaf=3, min_samples_split=2, n_estimators=50, score=(train=0.480, test=0.154), total=   0.1s\n",
      "[CV] learning_rate=0.01, max_depth=1, min_samples_leaf=3, min_samples_split=2, n_estimators=100 \n"
     ]
    },
    {
     "name": "stderr",
     "output_type": "stream",
     "text": [
      "C:\\Users\\72445\\AppData\\Local\\Continuum\\anaconda3\\lib\\site-packages\\sklearn\\metrics\\classification.py:1437: UndefinedMetricWarning: F-score is ill-defined and being set to 0.0 in labels with no predicted samples.\n",
      "  'precision', 'predicted', average, warn_for)\n",
      "C:\\Users\\72445\\AppData\\Local\\Continuum\\anaconda3\\lib\\site-packages\\sklearn\\metrics\\classification.py:1437: UndefinedMetricWarning: F-score is ill-defined and being set to 0.0 in labels with no predicted samples.\n",
      "  'precision', 'predicted', average, warn_for)\n",
      "C:\\Users\\72445\\AppData\\Local\\Continuum\\anaconda3\\lib\\site-packages\\sklearn\\metrics\\classification.py:1437: UndefinedMetricWarning: F-score is ill-defined and being set to 0.0 in labels with no predicted samples.\n",
      "  'precision', 'predicted', average, warn_for)\n",
      "C:\\Users\\72445\\AppData\\Local\\Continuum\\anaconda3\\lib\\site-packages\\sklearn\\metrics\\classification.py:1437: UndefinedMetricWarning: F-score is ill-defined and being set to 0.0 in labels with no predicted samples.\n",
      "  'precision', 'predicted', average, warn_for)\n",
      "C:\\Users\\72445\\AppData\\Local\\Continuum\\anaconda3\\lib\\site-packages\\sklearn\\metrics\\classification.py:1437: UndefinedMetricWarning: F-score is ill-defined and being set to 0.0 in labels with no predicted samples.\n",
      "  'precision', 'predicted', average, warn_for)\n"
     ]
    },
    {
     "name": "stdout",
     "output_type": "stream",
     "text": [
      "[CV]  learning_rate=0.01, max_depth=1, min_samples_leaf=3, min_samples_split=2, n_estimators=100, score=(train=0.482, test=0.237), total=   0.2s\n",
      "[CV] learning_rate=0.01, max_depth=1, min_samples_leaf=3, min_samples_split=2, n_estimators=100 \n"
     ]
    },
    {
     "name": "stderr",
     "output_type": "stream",
     "text": [
      "C:\\Users\\72445\\AppData\\Local\\Continuum\\anaconda3\\lib\\site-packages\\sklearn\\metrics\\classification.py:1437: UndefinedMetricWarning: F-score is ill-defined and being set to 0.0 in labels with no predicted samples.\n",
      "  'precision', 'predicted', average, warn_for)\n"
     ]
    },
    {
     "name": "stdout",
     "output_type": "stream",
     "text": [
      "[CV]  learning_rate=0.01, max_depth=1, min_samples_leaf=3, min_samples_split=2, n_estimators=100, score=(train=0.527, test=0.219), total=   0.2s\n",
      "[CV] learning_rate=0.01, max_depth=1, min_samples_leaf=3, min_samples_split=2, n_estimators=100 \n"
     ]
    },
    {
     "name": "stderr",
     "output_type": "stream",
     "text": [
      "C:\\Users\\72445\\AppData\\Local\\Continuum\\anaconda3\\lib\\site-packages\\sklearn\\metrics\\classification.py:1437: UndefinedMetricWarning: F-score is ill-defined and being set to 0.0 in labels with no predicted samples.\n",
      "  'precision', 'predicted', average, warn_for)\n"
     ]
    },
    {
     "name": "stdout",
     "output_type": "stream",
     "text": [
      "[CV]  learning_rate=0.01, max_depth=1, min_samples_leaf=3, min_samples_split=2, n_estimators=100, score=(train=0.676, test=0.200), total=   0.2s\n",
      "[CV] learning_rate=0.01, max_depth=1, min_samples_leaf=3, min_samples_split=2, n_estimators=200 \n"
     ]
    },
    {
     "name": "stderr",
     "output_type": "stream",
     "text": [
      "C:\\Users\\72445\\AppData\\Local\\Continuum\\anaconda3\\lib\\site-packages\\sklearn\\metrics\\classification.py:1437: UndefinedMetricWarning: F-score is ill-defined and being set to 0.0 in labels with no predicted samples.\n",
      "  'precision', 'predicted', average, warn_for)\n"
     ]
    },
    {
     "name": "stdout",
     "output_type": "stream",
     "text": [
      "[CV]  learning_rate=0.01, max_depth=1, min_samples_leaf=3, min_samples_split=2, n_estimators=200, score=(train=0.713, test=0.237), total=   0.3s\n",
      "[CV] learning_rate=0.01, max_depth=1, min_samples_leaf=3, min_samples_split=2, n_estimators=200 \n",
      "[CV]  learning_rate=0.01, max_depth=1, min_samples_leaf=3, min_samples_split=2, n_estimators=200, score=(train=0.722, test=0.389), total=   0.3s\n",
      "[CV] learning_rate=0.01, max_depth=1, min_samples_leaf=3, min_samples_split=2, n_estimators=200 \n",
      "[CV]  learning_rate=0.01, max_depth=1, min_samples_leaf=3, min_samples_split=2, n_estimators=200, score=(train=0.799, test=0.344), total=   0.2s\n",
      "[CV] learning_rate=0.01, max_depth=1, min_samples_leaf=3, min_samples_split=5, n_estimators=50 \n",
      "[CV]  learning_rate=0.01, max_depth=1, min_samples_leaf=3, min_samples_split=5, n_estimators=50, score=(train=0.467, test=0.212), total=   0.1s\n",
      "[CV] learning_rate=0.01, max_depth=1, min_samples_leaf=3, min_samples_split=5, n_estimators=50 \n",
      "[CV]  learning_rate=0.01, max_depth=1, min_samples_leaf=3, min_samples_split=5, n_estimators=50, score=(train=0.494, test=0.190), total=   0.1s\n",
      "[CV] learning_rate=0.01, max_depth=1, min_samples_leaf=3, min_samples_split=5, n_estimators=50 \n"
     ]
    },
    {
     "name": "stderr",
     "output_type": "stream",
     "text": [
      "C:\\Users\\72445\\AppData\\Local\\Continuum\\anaconda3\\lib\\site-packages\\sklearn\\metrics\\classification.py:1437: UndefinedMetricWarning: F-score is ill-defined and being set to 0.0 in labels with no predicted samples.\n",
      "  'precision', 'predicted', average, warn_for)\n",
      "C:\\Users\\72445\\AppData\\Local\\Continuum\\anaconda3\\lib\\site-packages\\sklearn\\metrics\\classification.py:1437: UndefinedMetricWarning: F-score is ill-defined and being set to 0.0 in labels with no predicted samples.\n",
      "  'precision', 'predicted', average, warn_for)\n",
      "C:\\Users\\72445\\AppData\\Local\\Continuum\\anaconda3\\lib\\site-packages\\sklearn\\metrics\\classification.py:1437: UndefinedMetricWarning: F-score is ill-defined and being set to 0.0 in labels with no predicted samples.\n",
      "  'precision', 'predicted', average, warn_for)\n",
      "C:\\Users\\72445\\AppData\\Local\\Continuum\\anaconda3\\lib\\site-packages\\sklearn\\metrics\\classification.py:1437: UndefinedMetricWarning: F-score is ill-defined and being set to 0.0 in labels with no predicted samples.\n",
      "  'precision', 'predicted', average, warn_for)\n",
      "C:\\Users\\72445\\AppData\\Local\\Continuum\\anaconda3\\lib\\site-packages\\sklearn\\metrics\\classification.py:1437: UndefinedMetricWarning: F-score is ill-defined and being set to 0.0 in labels with no predicted samples.\n",
      "  'precision', 'predicted', average, warn_for)\n",
      "C:\\Users\\72445\\AppData\\Local\\Continuum\\anaconda3\\lib\\site-packages\\sklearn\\metrics\\classification.py:1437: UndefinedMetricWarning: F-score is ill-defined and being set to 0.0 in labels with no predicted samples.\n",
      "  'precision', 'predicted', average, warn_for)\n"
     ]
    },
    {
     "name": "stdout",
     "output_type": "stream",
     "text": [
      "[CV]  learning_rate=0.01, max_depth=1, min_samples_leaf=3, min_samples_split=5, n_estimators=50, score=(train=0.480, test=0.154), total=   0.1s\n",
      "[CV] learning_rate=0.01, max_depth=1, min_samples_leaf=3, min_samples_split=5, n_estimators=100 \n",
      "[CV]  learning_rate=0.01, max_depth=1, min_samples_leaf=3, min_samples_split=5, n_estimators=100, score=(train=0.482, test=0.237), total=   0.1s\n",
      "[CV] learning_rate=0.01, max_depth=1, min_samples_leaf=3, min_samples_split=5, n_estimators=100 \n"
     ]
    },
    {
     "name": "stderr",
     "output_type": "stream",
     "text": [
      "C:\\Users\\72445\\AppData\\Local\\Continuum\\anaconda3\\lib\\site-packages\\sklearn\\metrics\\classification.py:1437: UndefinedMetricWarning: F-score is ill-defined and being set to 0.0 in labels with no predicted samples.\n",
      "  'precision', 'predicted', average, warn_for)\n",
      "C:\\Users\\72445\\AppData\\Local\\Continuum\\anaconda3\\lib\\site-packages\\sklearn\\metrics\\classification.py:1437: UndefinedMetricWarning: F-score is ill-defined and being set to 0.0 in labels with no predicted samples.\n",
      "  'precision', 'predicted', average, warn_for)\n",
      "C:\\Users\\72445\\AppData\\Local\\Continuum\\anaconda3\\lib\\site-packages\\sklearn\\metrics\\classification.py:1437: UndefinedMetricWarning: F-score is ill-defined and being set to 0.0 in labels with no predicted samples.\n",
      "  'precision', 'predicted', average, warn_for)\n",
      "C:\\Users\\72445\\AppData\\Local\\Continuum\\anaconda3\\lib\\site-packages\\sklearn\\metrics\\classification.py:1437: UndefinedMetricWarning: F-score is ill-defined and being set to 0.0 in labels with no predicted samples.\n",
      "  'precision', 'predicted', average, warn_for)\n"
     ]
    },
    {
     "name": "stdout",
     "output_type": "stream",
     "text": [
      "[CV]  learning_rate=0.01, max_depth=1, min_samples_leaf=3, min_samples_split=5, n_estimators=100, score=(train=0.527, test=0.219), total=   0.1s\n",
      "[CV] learning_rate=0.01, max_depth=1, min_samples_leaf=3, min_samples_split=5, n_estimators=100 \n",
      "[CV]  learning_rate=0.01, max_depth=1, min_samples_leaf=3, min_samples_split=5, n_estimators=100, score=(train=0.676, test=0.200), total=   0.1s\n",
      "[CV] learning_rate=0.01, max_depth=1, min_samples_leaf=3, min_samples_split=5, n_estimators=200 \n"
     ]
    },
    {
     "name": "stderr",
     "output_type": "stream",
     "text": [
      "C:\\Users\\72445\\AppData\\Local\\Continuum\\anaconda3\\lib\\site-packages\\sklearn\\metrics\\classification.py:1437: UndefinedMetricWarning: F-score is ill-defined and being set to 0.0 in labels with no predicted samples.\n",
      "  'precision', 'predicted', average, warn_for)\n",
      "C:\\Users\\72445\\AppData\\Local\\Continuum\\anaconda3\\lib\\site-packages\\sklearn\\metrics\\classification.py:1437: UndefinedMetricWarning: F-score is ill-defined and being set to 0.0 in labels with no predicted samples.\n",
      "  'precision', 'predicted', average, warn_for)\n"
     ]
    },
    {
     "name": "stdout",
     "output_type": "stream",
     "text": [
      "[CV]  learning_rate=0.01, max_depth=1, min_samples_leaf=3, min_samples_split=5, n_estimators=200, score=(train=0.713, test=0.237), total=   0.2s\n",
      "[CV] learning_rate=0.01, max_depth=1, min_samples_leaf=3, min_samples_split=5, n_estimators=200 \n",
      "[CV]  learning_rate=0.01, max_depth=1, min_samples_leaf=3, min_samples_split=5, n_estimators=200, score=(train=0.722, test=0.389), total=   0.2s\n",
      "[CV] learning_rate=0.01, max_depth=1, min_samples_leaf=3, min_samples_split=5, n_estimators=200 \n",
      "[CV]  learning_rate=0.01, max_depth=1, min_samples_leaf=3, min_samples_split=5, n_estimators=200, score=(train=0.799, test=0.344), total=   0.3s\n",
      "[CV] learning_rate=0.01, max_depth=1, min_samples_leaf=5, min_samples_split=2, n_estimators=50 \n",
      "[CV]  learning_rate=0.01, max_depth=1, min_samples_leaf=5, min_samples_split=2, n_estimators=50, score=(train=0.467, test=0.212), total=   0.1s\n",
      "[CV] learning_rate=0.01, max_depth=1, min_samples_leaf=5, min_samples_split=2, n_estimators=50 \n"
     ]
    },
    {
     "name": "stderr",
     "output_type": "stream",
     "text": [
      "C:\\Users\\72445\\AppData\\Local\\Continuum\\anaconda3\\lib\\site-packages\\sklearn\\metrics\\classification.py:1437: UndefinedMetricWarning: F-score is ill-defined and being set to 0.0 in labels with no predicted samples.\n",
      "  'precision', 'predicted', average, warn_for)\n",
      "C:\\Users\\72445\\AppData\\Local\\Continuum\\anaconda3\\lib\\site-packages\\sklearn\\metrics\\classification.py:1437: UndefinedMetricWarning: F-score is ill-defined and being set to 0.0 in labels with no predicted samples.\n",
      "  'precision', 'predicted', average, warn_for)\n",
      "C:\\Users\\72445\\AppData\\Local\\Continuum\\anaconda3\\lib\\site-packages\\sklearn\\metrics\\classification.py:1437: UndefinedMetricWarning: F-score is ill-defined and being set to 0.0 in labels with no predicted samples.\n",
      "  'precision', 'predicted', average, warn_for)\n",
      "C:\\Users\\72445\\AppData\\Local\\Continuum\\anaconda3\\lib\\site-packages\\sklearn\\metrics\\classification.py:1437: UndefinedMetricWarning: F-score is ill-defined and being set to 0.0 in labels with no predicted samples.\n",
      "  'precision', 'predicted', average, warn_for)\n",
      "C:\\Users\\72445\\AppData\\Local\\Continuum\\anaconda3\\lib\\site-packages\\sklearn\\metrics\\classification.py:1437: UndefinedMetricWarning: F-score is ill-defined and being set to 0.0 in labels with no predicted samples.\n",
      "  'precision', 'predicted', average, warn_for)\n"
     ]
    },
    {
     "name": "stdout",
     "output_type": "stream",
     "text": [
      "[CV]  learning_rate=0.01, max_depth=1, min_samples_leaf=5, min_samples_split=2, n_estimators=50, score=(train=0.460, test=0.217), total=   0.1s\n",
      "[CV] learning_rate=0.01, max_depth=1, min_samples_leaf=5, min_samples_split=2, n_estimators=50 \n",
      "[CV]  learning_rate=0.01, max_depth=1, min_samples_leaf=5, min_samples_split=2, n_estimators=50, score=(train=0.444, test=0.154), total=   0.1s\n",
      "[CV] learning_rate=0.01, max_depth=1, min_samples_leaf=5, min_samples_split=2, n_estimators=100 \n"
     ]
    },
    {
     "name": "stderr",
     "output_type": "stream",
     "text": [
      "C:\\Users\\72445\\AppData\\Local\\Continuum\\anaconda3\\lib\\site-packages\\sklearn\\metrics\\classification.py:1437: UndefinedMetricWarning: F-score is ill-defined and being set to 0.0 in labels with no predicted samples.\n",
      "  'precision', 'predicted', average, warn_for)\n",
      "C:\\Users\\72445\\AppData\\Local\\Continuum\\anaconda3\\lib\\site-packages\\sklearn\\metrics\\classification.py:1437: UndefinedMetricWarning: F-score is ill-defined and being set to 0.0 in labels with no predicted samples.\n",
      "  'precision', 'predicted', average, warn_for)\n",
      "C:\\Users\\72445\\AppData\\Local\\Continuum\\anaconda3\\lib\\site-packages\\sklearn\\metrics\\classification.py:1437: UndefinedMetricWarning: F-score is ill-defined and being set to 0.0 in labels with no predicted samples.\n",
      "  'precision', 'predicted', average, warn_for)\n"
     ]
    },
    {
     "name": "stdout",
     "output_type": "stream",
     "text": [
      "[CV]  learning_rate=0.01, max_depth=1, min_samples_leaf=5, min_samples_split=2, n_estimators=100, score=(train=0.482, test=0.237), total=   0.1s\n",
      "[CV] learning_rate=0.01, max_depth=1, min_samples_leaf=5, min_samples_split=2, n_estimators=100 \n",
      "[CV]  learning_rate=0.01, max_depth=1, min_samples_leaf=5, min_samples_split=2, n_estimators=100, score=(train=0.510, test=0.270), total=   0.1s\n",
      "[CV] learning_rate=0.01, max_depth=1, min_samples_leaf=5, min_samples_split=2, n_estimators=100 \n"
     ]
    },
    {
     "name": "stderr",
     "output_type": "stream",
     "text": [
      "C:\\Users\\72445\\AppData\\Local\\Continuum\\anaconda3\\lib\\site-packages\\sklearn\\metrics\\classification.py:1437: UndefinedMetricWarning: F-score is ill-defined and being set to 0.0 in labels with no predicted samples.\n",
      "  'precision', 'predicted', average, warn_for)\n",
      "C:\\Users\\72445\\AppData\\Local\\Continuum\\anaconda3\\lib\\site-packages\\sklearn\\metrics\\classification.py:1437: UndefinedMetricWarning: F-score is ill-defined and being set to 0.0 in labels with no predicted samples.\n",
      "  'precision', 'predicted', average, warn_for)\n",
      "C:\\Users\\72445\\AppData\\Local\\Continuum\\anaconda3\\lib\\site-packages\\sklearn\\metrics\\classification.py:1437: UndefinedMetricWarning: F-score is ill-defined and being set to 0.0 in labels with no predicted samples.\n",
      "  'precision', 'predicted', average, warn_for)\n",
      "C:\\Users\\72445\\AppData\\Local\\Continuum\\anaconda3\\lib\\site-packages\\sklearn\\metrics\\classification.py:1437: UndefinedMetricWarning: F-score is ill-defined and being set to 0.0 in labels with no predicted samples.\n",
      "  'precision', 'predicted', average, warn_for)\n"
     ]
    },
    {
     "name": "stdout",
     "output_type": "stream",
     "text": [
      "[CV]  learning_rate=0.01, max_depth=1, min_samples_leaf=5, min_samples_split=2, n_estimators=100, score=(train=0.480, test=0.154), total=   0.1s\n",
      "[CV] learning_rate=0.01, max_depth=1, min_samples_leaf=5, min_samples_split=2, n_estimators=200 \n"
     ]
    },
    {
     "name": "stderr",
     "output_type": "stream",
     "text": [
      "C:\\Users\\72445\\AppData\\Local\\Continuum\\anaconda3\\lib\\site-packages\\sklearn\\metrics\\classification.py:1437: UndefinedMetricWarning: F-score is ill-defined and being set to 0.0 in labels with no predicted samples.\n",
      "  'precision', 'predicted', average, warn_for)\n"
     ]
    },
    {
     "name": "stdout",
     "output_type": "stream",
     "text": [
      "[CV]  learning_rate=0.01, max_depth=1, min_samples_leaf=5, min_samples_split=2, n_estimators=200, score=(train=0.713, test=0.237), total=   0.3s\n",
      "[CV] learning_rate=0.01, max_depth=1, min_samples_leaf=5, min_samples_split=2, n_estimators=200 \n",
      "[CV]  learning_rate=0.01, max_depth=1, min_samples_leaf=5, min_samples_split=2, n_estimators=200, score=(train=0.688, test=0.364), total=   0.2s\n",
      "[CV] learning_rate=0.01, max_depth=1, min_samples_leaf=5, min_samples_split=2, n_estimators=200 \n",
      "[CV]  learning_rate=0.01, max_depth=1, min_samples_leaf=5, min_samples_split=2, n_estimators=200, score=(train=0.657, test=0.344), total=   0.3s\n",
      "[CV] learning_rate=0.01, max_depth=1, min_samples_leaf=5, min_samples_split=5, n_estimators=50 \n",
      "[CV]  learning_rate=0.01, max_depth=1, min_samples_leaf=5, min_samples_split=5, n_estimators=50, score=(train=0.467, test=0.212), total=   0.1s\n",
      "[CV] learning_rate=0.01, max_depth=1, min_samples_leaf=5, min_samples_split=5, n_estimators=50 \n",
      "[CV]  learning_rate=0.01, max_depth=1, min_samples_leaf=5, min_samples_split=5, n_estimators=50, score=(train=0.460, test=0.217), total=   0.1s\n",
      "[CV] learning_rate=0.01, max_depth=1, min_samples_leaf=5, min_samples_split=5, n_estimators=50 \n"
     ]
    },
    {
     "name": "stderr",
     "output_type": "stream",
     "text": [
      "C:\\Users\\72445\\AppData\\Local\\Continuum\\anaconda3\\lib\\site-packages\\sklearn\\metrics\\classification.py:1437: UndefinedMetricWarning: F-score is ill-defined and being set to 0.0 in labels with no predicted samples.\n",
      "  'precision', 'predicted', average, warn_for)\n",
      "C:\\Users\\72445\\AppData\\Local\\Continuum\\anaconda3\\lib\\site-packages\\sklearn\\metrics\\classification.py:1437: UndefinedMetricWarning: F-score is ill-defined and being set to 0.0 in labels with no predicted samples.\n",
      "  'precision', 'predicted', average, warn_for)\n",
      "C:\\Users\\72445\\AppData\\Local\\Continuum\\anaconda3\\lib\\site-packages\\sklearn\\metrics\\classification.py:1437: UndefinedMetricWarning: F-score is ill-defined and being set to 0.0 in labels with no predicted samples.\n",
      "  'precision', 'predicted', average, warn_for)\n",
      "C:\\Users\\72445\\AppData\\Local\\Continuum\\anaconda3\\lib\\site-packages\\sklearn\\metrics\\classification.py:1437: UndefinedMetricWarning: F-score is ill-defined and being set to 0.0 in labels with no predicted samples.\n",
      "  'precision', 'predicted', average, warn_for)\n",
      "C:\\Users\\72445\\AppData\\Local\\Continuum\\anaconda3\\lib\\site-packages\\sklearn\\metrics\\classification.py:1437: UndefinedMetricWarning: F-score is ill-defined and being set to 0.0 in labels with no predicted samples.\n",
      "  'precision', 'predicted', average, warn_for)\n",
      "C:\\Users\\72445\\AppData\\Local\\Continuum\\anaconda3\\lib\\site-packages\\sklearn\\metrics\\classification.py:1437: UndefinedMetricWarning: F-score is ill-defined and being set to 0.0 in labels with no predicted samples.\n",
      "  'precision', 'predicted', average, warn_for)\n"
     ]
    },
    {
     "name": "stdout",
     "output_type": "stream",
     "text": [
      "[CV]  learning_rate=0.01, max_depth=1, min_samples_leaf=5, min_samples_split=5, n_estimators=50, score=(train=0.444, test=0.154), total=   0.1s\n",
      "[CV] learning_rate=0.01, max_depth=1, min_samples_leaf=5, min_samples_split=5, n_estimators=100 \n",
      "[CV]  learning_rate=0.01, max_depth=1, min_samples_leaf=5, min_samples_split=5, n_estimators=100, score=(train=0.482, test=0.237), total=   0.1s\n",
      "[CV] learning_rate=0.01, max_depth=1, min_samples_leaf=5, min_samples_split=5, n_estimators=100 \n"
     ]
    },
    {
     "name": "stderr",
     "output_type": "stream",
     "text": [
      "C:\\Users\\72445\\AppData\\Local\\Continuum\\anaconda3\\lib\\site-packages\\sklearn\\metrics\\classification.py:1437: UndefinedMetricWarning: F-score is ill-defined and being set to 0.0 in labels with no predicted samples.\n",
      "  'precision', 'predicted', average, warn_for)\n",
      "C:\\Users\\72445\\AppData\\Local\\Continuum\\anaconda3\\lib\\site-packages\\sklearn\\metrics\\classification.py:1437: UndefinedMetricWarning: F-score is ill-defined and being set to 0.0 in labels with no predicted samples.\n",
      "  'precision', 'predicted', average, warn_for)\n",
      "C:\\Users\\72445\\AppData\\Local\\Continuum\\anaconda3\\lib\\site-packages\\sklearn\\metrics\\classification.py:1437: UndefinedMetricWarning: F-score is ill-defined and being set to 0.0 in labels with no predicted samples.\n",
      "  'precision', 'predicted', average, warn_for)\n",
      "C:\\Users\\72445\\AppData\\Local\\Continuum\\anaconda3\\lib\\site-packages\\sklearn\\metrics\\classification.py:1437: UndefinedMetricWarning: F-score is ill-defined and being set to 0.0 in labels with no predicted samples.\n",
      "  'precision', 'predicted', average, warn_for)\n"
     ]
    },
    {
     "name": "stdout",
     "output_type": "stream",
     "text": [
      "[CV]  learning_rate=0.01, max_depth=1, min_samples_leaf=5, min_samples_split=5, n_estimators=100, score=(train=0.510, test=0.270), total=   0.1s\n",
      "[CV] learning_rate=0.01, max_depth=1, min_samples_leaf=5, min_samples_split=5, n_estimators=100 \n",
      "[CV]  learning_rate=0.01, max_depth=1, min_samples_leaf=5, min_samples_split=5, n_estimators=100, score=(train=0.480, test=0.154), total=   0.1s\n",
      "[CV] learning_rate=0.01, max_depth=1, min_samples_leaf=5, min_samples_split=5, n_estimators=200 \n"
     ]
    },
    {
     "name": "stderr",
     "output_type": "stream",
     "text": [
      "C:\\Users\\72445\\AppData\\Local\\Continuum\\anaconda3\\lib\\site-packages\\sklearn\\metrics\\classification.py:1437: UndefinedMetricWarning: F-score is ill-defined and being set to 0.0 in labels with no predicted samples.\n",
      "  'precision', 'predicted', average, warn_for)\n",
      "C:\\Users\\72445\\AppData\\Local\\Continuum\\anaconda3\\lib\\site-packages\\sklearn\\metrics\\classification.py:1437: UndefinedMetricWarning: F-score is ill-defined and being set to 0.0 in labels with no predicted samples.\n",
      "  'precision', 'predicted', average, warn_for)\n",
      "C:\\Users\\72445\\AppData\\Local\\Continuum\\anaconda3\\lib\\site-packages\\sklearn\\metrics\\classification.py:1437: UndefinedMetricWarning: F-score is ill-defined and being set to 0.0 in labels with no predicted samples.\n",
      "  'precision', 'predicted', average, warn_for)\n"
     ]
    },
    {
     "name": "stdout",
     "output_type": "stream",
     "text": [
      "[CV]  learning_rate=0.01, max_depth=1, min_samples_leaf=5, min_samples_split=5, n_estimators=200, score=(train=0.713, test=0.237), total=   0.3s\n",
      "[CV] learning_rate=0.01, max_depth=1, min_samples_leaf=5, min_samples_split=5, n_estimators=200 \n",
      "[CV]  learning_rate=0.01, max_depth=1, min_samples_leaf=5, min_samples_split=5, n_estimators=200, score=(train=0.688, test=0.364), total=   0.3s\n",
      "[CV] learning_rate=0.01, max_depth=1, min_samples_leaf=5, min_samples_split=5, n_estimators=200 \n",
      "[CV]  learning_rate=0.01, max_depth=1, min_samples_leaf=5, min_samples_split=5, n_estimators=200, score=(train=0.657, test=0.344), total=   0.3s\n",
      "[CV] learning_rate=0.01, max_depth=3, min_samples_leaf=1, min_samples_split=2, n_estimators=50 \n",
      "[CV]  learning_rate=0.01, max_depth=3, min_samples_leaf=1, min_samples_split=2, n_estimators=50, score=(train=0.863, test=0.278), total=   0.1s\n",
      "[CV] learning_rate=0.01, max_depth=3, min_samples_leaf=1, min_samples_split=2, n_estimators=50 \n"
     ]
    },
    {
     "name": "stderr",
     "output_type": "stream",
     "text": [
      "C:\\Users\\72445\\AppData\\Local\\Continuum\\anaconda3\\lib\\site-packages\\sklearn\\metrics\\classification.py:1437: UndefinedMetricWarning: F-score is ill-defined and being set to 0.0 in labels with no predicted samples.\n",
      "  'precision', 'predicted', average, warn_for)\n",
      "C:\\Users\\72445\\AppData\\Local\\Continuum\\anaconda3\\lib\\site-packages\\sklearn\\metrics\\classification.py:1437: UndefinedMetricWarning: F-score is ill-defined and being set to 0.0 in labels with no predicted samples.\n",
      "  'precision', 'predicted', average, warn_for)\n"
     ]
    },
    {
     "name": "stdout",
     "output_type": "stream",
     "text": [
      "[CV]  learning_rate=0.01, max_depth=3, min_samples_leaf=1, min_samples_split=2, n_estimators=50, score=(train=0.947, test=0.220), total=   0.1s\n",
      "[CV] learning_rate=0.01, max_depth=3, min_samples_leaf=1, min_samples_split=2, n_estimators=50 \n",
      "[CV]  learning_rate=0.01, max_depth=3, min_samples_leaf=1, min_samples_split=2, n_estimators=50, score=(train=0.982, test=0.256), total=   0.1s\n",
      "[CV] learning_rate=0.01, max_depth=3, min_samples_leaf=1, min_samples_split=2, n_estimators=100 \n"
     ]
    },
    {
     "name": "stderr",
     "output_type": "stream",
     "text": [
      "C:\\Users\\72445\\AppData\\Local\\Continuum\\anaconda3\\lib\\site-packages\\sklearn\\metrics\\classification.py:1437: UndefinedMetricWarning: F-score is ill-defined and being set to 0.0 in labels with no predicted samples.\n",
      "  'precision', 'predicted', average, warn_for)\n",
      "C:\\Users\\72445\\AppData\\Local\\Continuum\\anaconda3\\lib\\site-packages\\sklearn\\metrics\\classification.py:1437: UndefinedMetricWarning: F-score is ill-defined and being set to 0.0 in labels with no predicted samples.\n",
      "  'precision', 'predicted', average, warn_for)\n"
     ]
    },
    {
     "name": "stdout",
     "output_type": "stream",
     "text": [
      "[CV]  learning_rate=0.01, max_depth=3, min_samples_leaf=1, min_samples_split=2, n_estimators=100, score=(train=0.916, test=0.250), total=   0.2s\n",
      "[CV] learning_rate=0.01, max_depth=3, min_samples_leaf=1, min_samples_split=2, n_estimators=100 \n",
      "[CV]  learning_rate=0.01, max_depth=3, min_samples_leaf=1, min_samples_split=2, n_estimators=100, score=(train=1.000, test=0.173), total=   0.4s\n",
      "[CV] learning_rate=0.01, max_depth=3, min_samples_leaf=1, min_samples_split=2, n_estimators=100 \n",
      "[CV]  learning_rate=0.01, max_depth=3, min_samples_leaf=1, min_samples_split=2, n_estimators=100, score=(train=1.000, test=0.429), total=   0.2s\n",
      "[CV] learning_rate=0.01, max_depth=3, min_samples_leaf=1, min_samples_split=2, n_estimators=200 \n"
     ]
    },
    {
     "name": "stderr",
     "output_type": "stream",
     "text": [
      "C:\\Users\\72445\\AppData\\Local\\Continuum\\anaconda3\\lib\\site-packages\\sklearn\\metrics\\classification.py:1437: UndefinedMetricWarning: F-score is ill-defined and being set to 0.0 in labels with no predicted samples.\n",
      "  'precision', 'predicted', average, warn_for)\n"
     ]
    },
    {
     "name": "stdout",
     "output_type": "stream",
     "text": [
      "[CV]  learning_rate=0.01, max_depth=3, min_samples_leaf=1, min_samples_split=2, n_estimators=200, score=(train=1.000, test=0.213), total=   0.4s\n",
      "[CV] learning_rate=0.01, max_depth=3, min_samples_leaf=1, min_samples_split=2, n_estimators=200 \n",
      "[CV]  learning_rate=0.01, max_depth=3, min_samples_leaf=1, min_samples_split=2, n_estimators=200, score=(train=1.000, test=0.190), total=   0.4s\n",
      "[CV] learning_rate=0.01, max_depth=3, min_samples_leaf=1, min_samples_split=2, n_estimators=200 \n",
      "[CV]  learning_rate=0.01, max_depth=3, min_samples_leaf=1, min_samples_split=2, n_estimators=200, score=(train=1.000, test=0.355), total=   0.6s\n",
      "[CV] learning_rate=0.01, max_depth=3, min_samples_leaf=1, min_samples_split=5, n_estimators=50 \n",
      "[CV]  learning_rate=0.01, max_depth=3, min_samples_leaf=1, min_samples_split=5, n_estimators=50, score=(train=0.863, test=0.278), total=   0.1s\n",
      "[CV] learning_rate=0.01, max_depth=3, min_samples_leaf=1, min_samples_split=5, n_estimators=50 \n"
     ]
    },
    {
     "name": "stderr",
     "output_type": "stream",
     "text": [
      "C:\\Users\\72445\\AppData\\Local\\Continuum\\anaconda3\\lib\\site-packages\\sklearn\\metrics\\classification.py:1437: UndefinedMetricWarning: F-score is ill-defined and being set to 0.0 in labels with no predicted samples.\n",
      "  'precision', 'predicted', average, warn_for)\n",
      "C:\\Users\\72445\\AppData\\Local\\Continuum\\anaconda3\\lib\\site-packages\\sklearn\\metrics\\classification.py:1437: UndefinedMetricWarning: F-score is ill-defined and being set to 0.0 in labels with no predicted samples.\n",
      "  'precision', 'predicted', average, warn_for)\n"
     ]
    },
    {
     "name": "stdout",
     "output_type": "stream",
     "text": [
      "[CV]  learning_rate=0.01, max_depth=3, min_samples_leaf=1, min_samples_split=5, n_estimators=50, score=(train=0.927, test=0.220), total=   0.1s\n",
      "[CV] learning_rate=0.01, max_depth=3, min_samples_leaf=1, min_samples_split=5, n_estimators=50 \n",
      "[CV]  learning_rate=0.01, max_depth=3, min_samples_leaf=1, min_samples_split=5, n_estimators=50, score=(train=0.982, test=0.256), total=   0.1s\n",
      "[CV] learning_rate=0.01, max_depth=3, min_samples_leaf=1, min_samples_split=5, n_estimators=100 \n"
     ]
    },
    {
     "name": "stderr",
     "output_type": "stream",
     "text": [
      "C:\\Users\\72445\\AppData\\Local\\Continuum\\anaconda3\\lib\\site-packages\\sklearn\\metrics\\classification.py:1437: UndefinedMetricWarning: F-score is ill-defined and being set to 0.0 in labels with no predicted samples.\n",
      "  'precision', 'predicted', average, warn_for)\n",
      "C:\\Users\\72445\\AppData\\Local\\Continuum\\anaconda3\\lib\\site-packages\\sklearn\\metrics\\classification.py:1437: UndefinedMetricWarning: F-score is ill-defined and being set to 0.0 in labels with no predicted samples.\n",
      "  'precision', 'predicted', average, warn_for)\n"
     ]
    },
    {
     "name": "stdout",
     "output_type": "stream",
     "text": [
      "[CV]  learning_rate=0.01, max_depth=3, min_samples_leaf=1, min_samples_split=5, n_estimators=100, score=(train=0.916, test=0.250), total=   0.2s\n",
      "[CV] learning_rate=0.01, max_depth=3, min_samples_leaf=1, min_samples_split=5, n_estimators=100 \n",
      "[CV]  learning_rate=0.01, max_depth=3, min_samples_leaf=1, min_samples_split=5, n_estimators=100, score=(train=1.000, test=0.190), total=   0.2s\n",
      "[CV] learning_rate=0.01, max_depth=3, min_samples_leaf=1, min_samples_split=5, n_estimators=100 \n",
      "[CV]  learning_rate=0.01, max_depth=3, min_samples_leaf=1, min_samples_split=5, n_estimators=100, score=(train=1.000, test=0.456), total=   0.2s\n",
      "[CV] learning_rate=0.01, max_depth=3, min_samples_leaf=1, min_samples_split=5, n_estimators=200 \n"
     ]
    },
    {
     "name": "stderr",
     "output_type": "stream",
     "text": [
      "C:\\Users\\72445\\AppData\\Local\\Continuum\\anaconda3\\lib\\site-packages\\sklearn\\metrics\\classification.py:1437: UndefinedMetricWarning: F-score is ill-defined and being set to 0.0 in labels with no predicted samples.\n",
      "  'precision', 'predicted', average, warn_for)\n"
     ]
    },
    {
     "name": "stdout",
     "output_type": "stream",
     "text": [
      "[CV]  learning_rate=0.01, max_depth=3, min_samples_leaf=1, min_samples_split=5, n_estimators=200, score=(train=1.000, test=0.250), total=   0.4s\n",
      "[CV] learning_rate=0.01, max_depth=3, min_samples_leaf=1, min_samples_split=5, n_estimators=200 \n",
      "[CV]  learning_rate=0.01, max_depth=3, min_samples_leaf=1, min_samples_split=5, n_estimators=200, score=(train=1.000, test=0.173), total=   0.3s\n",
      "[CV] learning_rate=0.01, max_depth=3, min_samples_leaf=1, min_samples_split=5, n_estimators=200 \n",
      "[CV]  learning_rate=0.01, max_depth=3, min_samples_leaf=1, min_samples_split=5, n_estimators=200, score=(train=1.000, test=0.429), total=   0.3s\n",
      "[CV] learning_rate=0.01, max_depth=3, min_samples_leaf=3, min_samples_split=2, n_estimators=50 \n",
      "[CV]  learning_rate=0.01, max_depth=3, min_samples_leaf=3, min_samples_split=2, n_estimators=50, score=(train=0.827, test=0.188), total=   0.1s\n",
      "[CV] learning_rate=0.01, max_depth=3, min_samples_leaf=3, min_samples_split=2, n_estimators=50 \n",
      "[CV]  learning_rate=0.01, max_depth=3, min_samples_leaf=3, min_samples_split=2, n_estimators=50, score=(train=0.883, test=0.207), total=   0.1s"
     ]
    },
    {
     "name": "stderr",
     "output_type": "stream",
     "text": [
      "C:\\Users\\72445\\AppData\\Local\\Continuum\\anaconda3\\lib\\site-packages\\sklearn\\metrics\\classification.py:1437: UndefinedMetricWarning: F-score is ill-defined and being set to 0.0 in labels with no predicted samples.\n",
      "  'precision', 'predicted', average, warn_for)\n"
     ]
    },
    {
     "name": "stdout",
     "output_type": "stream",
     "text": [
      "\n",
      "[CV] learning_rate=0.01, max_depth=3, min_samples_leaf=3, min_samples_split=2, n_estimators=50 \n",
      "[CV]  learning_rate=0.01, max_depth=3, min_samples_leaf=3, min_samples_split=2, n_estimators=50, score=(train=0.783, test=0.429), total=   0.1s\n",
      "[CV] learning_rate=0.01, max_depth=3, min_samples_leaf=3, min_samples_split=2, n_estimators=100 \n",
      "[CV]  learning_rate=0.01, max_depth=3, min_samples_leaf=3, min_samples_split=2, n_estimators=100, score=(train=0.944, test=0.223), total=   0.2s\n",
      "[CV] learning_rate=0.01, max_depth=3, min_samples_leaf=3, min_samples_split=2, n_estimators=100 \n",
      "[CV]  learning_rate=0.01, max_depth=3, min_samples_leaf=3, min_samples_split=2, n_estimators=100, score=(train=1.000, test=0.184), total=   0.2s\n",
      "[CV] learning_rate=0.01, max_depth=3, min_samples_leaf=3, min_samples_split=2, n_estimators=100 \n",
      "[CV]  learning_rate=0.01, max_depth=3, min_samples_leaf=3, min_samples_split=2, n_estimators=100, score=(train=0.965, test=0.429), total=   0.2s\n",
      "[CV] learning_rate=0.01, max_depth=3, min_samples_leaf=3, min_samples_split=2, n_estimators=200 \n",
      "[CV]  learning_rate=0.01, max_depth=3, min_samples_leaf=3, min_samples_split=2, n_estimators=200, score=(train=1.000, test=0.296), total=   0.4s\n",
      "[CV] learning_rate=0.01, max_depth=3, min_samples_leaf=3, min_samples_split=2, n_estimators=200 \n",
      "[CV]  learning_rate=0.01, max_depth=3, min_samples_leaf=3, min_samples_split=2, n_estimators=200, score=(train=1.000, test=0.184), total=   0.4s\n",
      "[CV] learning_rate=0.01, max_depth=3, min_samples_leaf=3, min_samples_split=2, n_estimators=200 \n",
      "[CV]  learning_rate=0.01, max_depth=3, min_samples_leaf=3, min_samples_split=2, n_estimators=200, score=(train=1.000, test=0.456), total=   0.3s\n",
      "[CV] learning_rate=0.01, max_depth=3, min_samples_leaf=3, min_samples_split=5, n_estimators=50 \n",
      "[CV]  learning_rate=0.01, max_depth=3, min_samples_leaf=3, min_samples_split=5, n_estimators=50, score=(train=0.827, test=0.188), total=   0.1s\n",
      "[CV] learning_rate=0.01, max_depth=3, min_samples_leaf=3, min_samples_split=5, n_estimators=50 \n",
      "[CV]  learning_rate=0.01, max_depth=3, min_samples_leaf=3, min_samples_split=5, n_estimators=50, score=(train=0.883, test=0.207), total=   0.1s\n",
      "[CV] learning_rate=0.01, max_depth=3, min_samples_leaf=3, min_samples_split=5, n_estimators=50 \n"
     ]
    },
    {
     "name": "stderr",
     "output_type": "stream",
     "text": [
      "C:\\Users\\72445\\AppData\\Local\\Continuum\\anaconda3\\lib\\site-packages\\sklearn\\metrics\\classification.py:1437: UndefinedMetricWarning: F-score is ill-defined and being set to 0.0 in labels with no predicted samples.\n",
      "  'precision', 'predicted', average, warn_for)\n"
     ]
    },
    {
     "name": "stdout",
     "output_type": "stream",
     "text": [
      "[CV]  learning_rate=0.01, max_depth=3, min_samples_leaf=3, min_samples_split=5, n_estimators=50, score=(train=0.783, test=0.429), total=   0.1s\n",
      "[CV] learning_rate=0.01, max_depth=3, min_samples_leaf=3, min_samples_split=5, n_estimators=100 \n",
      "[CV]  learning_rate=0.01, max_depth=3, min_samples_leaf=3, min_samples_split=5, n_estimators=100, score=(train=0.944, test=0.223), total=   0.2s\n",
      "[CV] learning_rate=0.01, max_depth=3, min_samples_leaf=3, min_samples_split=5, n_estimators=100 \n",
      "[CV]  learning_rate=0.01, max_depth=3, min_samples_leaf=3, min_samples_split=5, n_estimators=100, score=(train=1.000, test=0.200), total=   0.3s\n",
      "[CV] learning_rate=0.01, max_depth=3, min_samples_leaf=3, min_samples_split=5, n_estimators=100 \n",
      "[CV]  learning_rate=0.01, max_depth=3, min_samples_leaf=3, min_samples_split=5, n_estimators=100, score=(train=0.965, test=0.429), total=   0.2s\n",
      "[CV] learning_rate=0.01, max_depth=3, min_samples_leaf=3, min_samples_split=5, n_estimators=200 \n",
      "[CV]  learning_rate=0.01, max_depth=3, min_samples_leaf=3, min_samples_split=5, n_estimators=200, score=(train=1.000, test=0.296), total=   0.4s\n",
      "[CV] learning_rate=0.01, max_depth=3, min_samples_leaf=3, min_samples_split=5, n_estimators=200 \n",
      "[CV]  learning_rate=0.01, max_depth=3, min_samples_leaf=3, min_samples_split=5, n_estimators=200, score=(train=1.000, test=0.184), total=   0.4s\n",
      "[CV] learning_rate=0.01, max_depth=3, min_samples_leaf=3, min_samples_split=5, n_estimators=200 \n",
      "[CV]  learning_rate=0.01, max_depth=3, min_samples_leaf=3, min_samples_split=5, n_estimators=200, score=(train=1.000, test=0.456), total=   0.3s\n",
      "[CV] learning_rate=0.01, max_depth=3, min_samples_leaf=5, min_samples_split=2, n_estimators=50 \n",
      "[CV]  learning_rate=0.01, max_depth=3, min_samples_leaf=5, min_samples_split=2, n_estimators=50, score=(train=0.686, test=0.221), total=   0.1s\n",
      "[CV] learning_rate=0.01, max_depth=3, min_samples_leaf=5, min_samples_split=2, n_estimators=50 \n"
     ]
    },
    {
     "name": "stderr",
     "output_type": "stream",
     "text": [
      "C:\\Users\\72445\\AppData\\Local\\Continuum\\anaconda3\\lib\\site-packages\\sklearn\\metrics\\classification.py:1437: UndefinedMetricWarning: F-score is ill-defined and being set to 0.0 in labels with no predicted samples.\n",
      "  'precision', 'predicted', average, warn_for)\n",
      "C:\\Users\\72445\\AppData\\Local\\Continuum\\anaconda3\\lib\\site-packages\\sklearn\\metrics\\classification.py:1437: UndefinedMetricWarning: F-score is ill-defined and being set to 0.0 in labels with no predicted samples.\n",
      "  'precision', 'predicted', average, warn_for)\n",
      "C:\\Users\\72445\\AppData\\Local\\Continuum\\anaconda3\\lib\\site-packages\\sklearn\\metrics\\classification.py:1437: UndefinedMetricWarning: F-score is ill-defined and being set to 0.0 in labels with no predicted samples.\n",
      "  'precision', 'predicted', average, warn_for)\n"
     ]
    },
    {
     "name": "stdout",
     "output_type": "stream",
     "text": [
      "[CV]  learning_rate=0.01, max_depth=3, min_samples_leaf=5, min_samples_split=2, n_estimators=50, score=(train=0.758, test=0.261), total=   0.1s\n",
      "[CV] learning_rate=0.01, max_depth=3, min_samples_leaf=5, min_samples_split=2, n_estimators=50 \n",
      "[CV]  learning_rate=0.01, max_depth=3, min_samples_leaf=5, min_samples_split=2, n_estimators=50, score=(train=0.690, test=0.299), total=   0.1s\n",
      "[CV] learning_rate=0.01, max_depth=3, min_samples_leaf=5, min_samples_split=2, n_estimators=100 \n",
      "[CV]  learning_rate=0.01, max_depth=3, min_samples_leaf=5, min_samples_split=2, n_estimators=100, score=(train=0.944, test=0.250), total=   0.2s\n",
      "[CV] learning_rate=0.01, max_depth=3, min_samples_leaf=5, min_samples_split=2, n_estimators=100 \n",
      "[CV]  learning_rate=0.01, max_depth=3, min_samples_leaf=5, min_samples_split=2, n_estimators=100, score=(train=0.928, test=0.324), total=   0.2s\n",
      "[CV] learning_rate=0.01, max_depth=3, min_samples_leaf=5, min_samples_split=2, n_estimators=100 \n",
      "[CV]  learning_rate=0.01, max_depth=3, min_samples_leaf=5, min_samples_split=2, n_estimators=100, score=(train=0.866, test=0.429), total=   0.2s\n",
      "[CV] learning_rate=0.01, max_depth=3, min_samples_leaf=5, min_samples_split=2, n_estimators=200 \n",
      "[CV]  learning_rate=0.01, max_depth=3, min_samples_leaf=5, min_samples_split=2, n_estimators=200, score=(train=1.000, test=0.263), total=   0.5s\n",
      "[CV] learning_rate=0.01, max_depth=3, min_samples_leaf=5, min_samples_split=2, n_estimators=200 \n",
      "[CV]  learning_rate=0.01, max_depth=3, min_samples_leaf=5, min_samples_split=2, n_estimators=200, score=(train=1.000, test=0.313), total=   0.5s\n",
      "[CV] learning_rate=0.01, max_depth=3, min_samples_leaf=5, min_samples_split=2, n_estimators=200 \n",
      "[CV]  learning_rate=0.01, max_depth=3, min_samples_leaf=5, min_samples_split=2, n_estimators=200, score=(train=1.000, test=0.404), total=   0.4s\n",
      "[CV] learning_rate=0.01, max_depth=3, min_samples_leaf=5, min_samples_split=5, n_estimators=50 \n",
      "[CV]  learning_rate=0.01, max_depth=3, min_samples_leaf=5, min_samples_split=5, n_estimators=50, score=(train=0.686, test=0.221), total=   0.1s\n",
      "[CV] learning_rate=0.01, max_depth=3, min_samples_leaf=5, min_samples_split=5, n_estimators=50 \n",
      "[CV]  learning_rate=0.01, max_depth=3, min_samples_leaf=5, min_samples_split=5, n_estimators=50, score=(train=0.758, test=0.261), total=   0.1s\n",
      "[CV] learning_rate=0.01, max_depth=3, min_samples_leaf=5, min_samples_split=5, n_estimators=50 \n"
     ]
    },
    {
     "name": "stderr",
     "output_type": "stream",
     "text": [
      "C:\\Users\\72445\\AppData\\Local\\Continuum\\anaconda3\\lib\\site-packages\\sklearn\\metrics\\classification.py:1437: UndefinedMetricWarning: F-score is ill-defined and being set to 0.0 in labels with no predicted samples.\n",
      "  'precision', 'predicted', average, warn_for)\n",
      "C:\\Users\\72445\\AppData\\Local\\Continuum\\anaconda3\\lib\\site-packages\\sklearn\\metrics\\classification.py:1437: UndefinedMetricWarning: F-score is ill-defined and being set to 0.0 in labels with no predicted samples.\n",
      "  'precision', 'predicted', average, warn_for)\n",
      "C:\\Users\\72445\\AppData\\Local\\Continuum\\anaconda3\\lib\\site-packages\\sklearn\\metrics\\classification.py:1437: UndefinedMetricWarning: F-score is ill-defined and being set to 0.0 in labels with no predicted samples.\n",
      "  'precision', 'predicted', average, warn_for)\n"
     ]
    },
    {
     "name": "stdout",
     "output_type": "stream",
     "text": [
      "[CV]  learning_rate=0.01, max_depth=3, min_samples_leaf=5, min_samples_split=5, n_estimators=50, score=(train=0.690, test=0.299), total=   0.1s\n",
      "[CV] learning_rate=0.01, max_depth=3, min_samples_leaf=5, min_samples_split=5, n_estimators=100 \n",
      "[CV]  learning_rate=0.01, max_depth=3, min_samples_leaf=5, min_samples_split=5, n_estimators=100, score=(train=0.944, test=0.250), total=   0.2s\n",
      "[CV] learning_rate=0.01, max_depth=3, min_samples_leaf=5, min_samples_split=5, n_estimators=100 \n",
      "[CV]  learning_rate=0.01, max_depth=3, min_samples_leaf=5, min_samples_split=5, n_estimators=100, score=(train=0.928, test=0.324), total=   0.2s\n",
      "[CV] learning_rate=0.01, max_depth=3, min_samples_leaf=5, min_samples_split=5, n_estimators=100 \n",
      "[CV]  learning_rate=0.01, max_depth=3, min_samples_leaf=5, min_samples_split=5, n_estimators=100, score=(train=0.866, test=0.429), total=   0.2s\n",
      "[CV] learning_rate=0.01, max_depth=3, min_samples_leaf=5, min_samples_split=5, n_estimators=200 \n",
      "[CV]  learning_rate=0.01, max_depth=3, min_samples_leaf=5, min_samples_split=5, n_estimators=200, score=(train=1.000, test=0.263), total=   0.4s\n",
      "[CV] learning_rate=0.01, max_depth=3, min_samples_leaf=5, min_samples_split=5, n_estimators=200 \n",
      "[CV]  learning_rate=0.01, max_depth=3, min_samples_leaf=5, min_samples_split=5, n_estimators=200, score=(train=1.000, test=0.313), total=   0.4s\n",
      "[CV] learning_rate=0.01, max_depth=3, min_samples_leaf=5, min_samples_split=5, n_estimators=200 \n",
      "[CV]  learning_rate=0.01, max_depth=3, min_samples_leaf=5, min_samples_split=5, n_estimators=200, score=(train=1.000, test=0.355), total=   0.3s\n",
      "[CV] learning_rate=0.01, max_depth=6, min_samples_leaf=1, min_samples_split=2, n_estimators=50 \n",
      "[CV]  learning_rate=0.01, max_depth=6, min_samples_leaf=1, min_samples_split=2, n_estimators=50, score=(train=1.000, test=0.293), total=   0.1s\n",
      "[CV] learning_rate=0.01, max_depth=6, min_samples_leaf=1, min_samples_split=2, n_estimators=50 \n"
     ]
    },
    {
     "name": "stderr",
     "output_type": "stream",
     "text": [
      "C:\\Users\\72445\\AppData\\Local\\Continuum\\anaconda3\\lib\\site-packages\\sklearn\\metrics\\classification.py:1437: UndefinedMetricWarning: F-score is ill-defined and being set to 0.0 in labels with no predicted samples.\n",
      "  'precision', 'predicted', average, warn_for)\n",
      "C:\\Users\\72445\\AppData\\Local\\Continuum\\anaconda3\\lib\\site-packages\\sklearn\\metrics\\classification.py:1437: UndefinedMetricWarning: F-score is ill-defined and being set to 0.0 in labels with no predicted samples.\n",
      "  'precision', 'predicted', average, warn_for)\n"
     ]
    },
    {
     "name": "stdout",
     "output_type": "stream",
     "text": [
      "[CV]  learning_rate=0.01, max_depth=6, min_samples_leaf=1, min_samples_split=2, n_estimators=50, score=(train=1.000, test=0.293), total=   0.2s\n",
      "[CV] learning_rate=0.01, max_depth=6, min_samples_leaf=1, min_samples_split=2, n_estimators=50 \n",
      "[CV]  learning_rate=0.01, max_depth=6, min_samples_leaf=1, min_samples_split=2, n_estimators=50, score=(train=1.000, test=0.282), total=   0.1s\n",
      "[CV] learning_rate=0.01, max_depth=6, min_samples_leaf=1, min_samples_split=2, n_estimators=100 \n",
      "[CV]  learning_rate=0.01, max_depth=6, min_samples_leaf=1, min_samples_split=2, n_estimators=100, score=(train=1.000, test=0.293), total=   0.3s\n",
      "[CV] learning_rate=0.01, max_depth=6, min_samples_leaf=1, min_samples_split=2, n_estimators=100 \n",
      "[CV]  learning_rate=0.01, max_depth=6, min_samples_leaf=1, min_samples_split=2, n_estimators=100, score=(train=1.000, test=0.467), total=   0.4s\n",
      "[CV] learning_rate=0.01, max_depth=6, min_samples_leaf=1, min_samples_split=2, n_estimators=100 \n",
      "[CV]  learning_rate=0.01, max_depth=6, min_samples_leaf=1, min_samples_split=2, n_estimators=100, score=(train=1.000, test=0.290), total=   0.3s\n",
      "[CV] learning_rate=0.01, max_depth=6, min_samples_leaf=1, min_samples_split=2, n_estimators=200 \n",
      "[CV]  learning_rate=0.01, max_depth=6, min_samples_leaf=1, min_samples_split=2, n_estimators=200, score=(train=1.000, test=0.397), total=   0.5s\n",
      "[CV] learning_rate=0.01, max_depth=6, min_samples_leaf=1, min_samples_split=2, n_estimators=200 \n",
      "[CV]  learning_rate=0.01, max_depth=6, min_samples_leaf=1, min_samples_split=2, n_estimators=200, score=(train=1.000, test=0.415), total=   0.6s\n",
      "[CV] learning_rate=0.01, max_depth=6, min_samples_leaf=1, min_samples_split=2, n_estimators=200 \n",
      "[CV]  learning_rate=0.01, max_depth=6, min_samples_leaf=1, min_samples_split=2, n_estimators=200, score=(train=1.000, test=0.404), total=   0.6s\n",
      "[CV] learning_rate=0.01, max_depth=6, min_samples_leaf=1, min_samples_split=5, n_estimators=50 \n",
      "[CV]  learning_rate=0.01, max_depth=6, min_samples_leaf=1, min_samples_split=5, n_estimators=50, score=(train=1.000, test=0.263), total=   0.1s\n",
      "[CV] learning_rate=0.01, max_depth=6, min_samples_leaf=1, min_samples_split=5, n_estimators=50 \n"
     ]
    },
    {
     "name": "stderr",
     "output_type": "stream",
     "text": [
      "C:\\Users\\72445\\AppData\\Local\\Continuum\\anaconda3\\lib\\site-packages\\sklearn\\metrics\\classification.py:1437: UndefinedMetricWarning: F-score is ill-defined and being set to 0.0 in labels with no predicted samples.\n",
      "  'precision', 'predicted', average, warn_for)\n",
      "C:\\Users\\72445\\AppData\\Local\\Continuum\\anaconda3\\lib\\site-packages\\sklearn\\metrics\\classification.py:1437: UndefinedMetricWarning: F-score is ill-defined and being set to 0.0 in labels with no predicted samples.\n",
      "  'precision', 'predicted', average, warn_for)\n"
     ]
    },
    {
     "name": "stdout",
     "output_type": "stream",
     "text": [
      "[CV]  learning_rate=0.01, max_depth=6, min_samples_leaf=1, min_samples_split=5, n_estimators=50, score=(train=0.966, test=0.239), total=   0.2s\n",
      "[CV] learning_rate=0.01, max_depth=6, min_samples_leaf=1, min_samples_split=5, n_estimators=50 \n",
      "[CV]  learning_rate=0.01, max_depth=6, min_samples_leaf=1, min_samples_split=5, n_estimators=50, score=(train=1.000, test=0.256), total=   0.1s\n",
      "[CV] learning_rate=0.01, max_depth=6, min_samples_leaf=1, min_samples_split=5, n_estimators=100 \n",
      "[CV]  learning_rate=0.01, max_depth=6, min_samples_leaf=1, min_samples_split=5, n_estimators=100, score=(train=1.000, test=0.365), total=   0.3s\n",
      "[CV] learning_rate=0.01, max_depth=6, min_samples_leaf=1, min_samples_split=5, n_estimators=100 \n"
     ]
    },
    {
     "name": "stderr",
     "output_type": "stream",
     "text": [
      "C:\\Users\\72445\\AppData\\Local\\Continuum\\anaconda3\\lib\\site-packages\\sklearn\\metrics\\classification.py:1437: UndefinedMetricWarning: F-score is ill-defined and being set to 0.0 in labels with no predicted samples.\n",
      "  'precision', 'predicted', average, warn_for)\n"
     ]
    },
    {
     "name": "stdout",
     "output_type": "stream",
     "text": [
      "[CV]  learning_rate=0.01, max_depth=6, min_samples_leaf=1, min_samples_split=5, n_estimators=100, score=(train=1.000, test=0.242), total=   0.3s\n",
      "[CV] learning_rate=0.01, max_depth=6, min_samples_leaf=1, min_samples_split=5, n_estimators=100 \n",
      "[CV]  learning_rate=0.01, max_depth=6, min_samples_leaf=1, min_samples_split=5, n_estimators=100, score=(train=1.000, test=0.456), total=   0.5s\n",
      "[CV] learning_rate=0.01, max_depth=6, min_samples_leaf=1, min_samples_split=5, n_estimators=200 \n",
      "[CV]  learning_rate=0.01, max_depth=6, min_samples_leaf=1, min_samples_split=5, n_estimators=200, score=(train=1.000, test=0.336), total=   0.6s\n",
      "[CV] learning_rate=0.01, max_depth=6, min_samples_leaf=1, min_samples_split=5, n_estimators=200 \n",
      "[CV]  learning_rate=0.01, max_depth=6, min_samples_leaf=1, min_samples_split=5, n_estimators=200, score=(train=1.000, test=0.321), total=   0.6s\n",
      "[CV] learning_rate=0.01, max_depth=6, min_samples_leaf=1, min_samples_split=5, n_estimators=200 \n",
      "[CV]  learning_rate=0.01, max_depth=6, min_samples_leaf=1, min_samples_split=5, n_estimators=200, score=(train=1.000, test=0.379), total=   0.6s\n",
      "[CV] learning_rate=0.01, max_depth=6, min_samples_leaf=3, min_samples_split=2, n_estimators=50 \n",
      "[CV]  learning_rate=0.01, max_depth=6, min_samples_leaf=3, min_samples_split=2, n_estimators=50, score=(train=0.845, test=0.191), total=   0.1s\n",
      "[CV] learning_rate=0.01, max_depth=6, min_samples_leaf=3, min_samples_split=2, n_estimators=50 \n"
     ]
    },
    {
     "name": "stderr",
     "output_type": "stream",
     "text": [
      "C:\\Users\\72445\\AppData\\Local\\Continuum\\anaconda3\\lib\\site-packages\\sklearn\\metrics\\classification.py:1437: UndefinedMetricWarning: F-score is ill-defined and being set to 0.0 in labels with no predicted samples.\n",
      "  'precision', 'predicted', average, warn_for)\n"
     ]
    },
    {
     "name": "stdout",
     "output_type": "stream",
     "text": [
      "[CV]  learning_rate=0.01, max_depth=6, min_samples_leaf=3, min_samples_split=2, n_estimators=50, score=(train=0.885, test=0.262), total=   0.1s\n",
      "[CV] learning_rate=0.01, max_depth=6, min_samples_leaf=3, min_samples_split=2, n_estimators=50 \n",
      "[CV]  learning_rate=0.01, max_depth=6, min_samples_leaf=3, min_samples_split=2, n_estimators=50, score=(train=0.834, test=0.405), total=   0.1s\n",
      "[CV] learning_rate=0.01, max_depth=6, min_samples_leaf=3, min_samples_split=2, n_estimators=100 \n",
      "[CV]  learning_rate=0.01, max_depth=6, min_samples_leaf=3, min_samples_split=2, n_estimators=100, score=(train=1.000, test=0.302), total=   0.3s\n",
      "[CV] learning_rate=0.01, max_depth=6, min_samples_leaf=3, min_samples_split=2, n_estimators=100 \n",
      "[CV]  learning_rate=0.01, max_depth=6, min_samples_leaf=3, min_samples_split=2, n_estimators=100, score=(train=1.000, test=0.245), total=   0.3s\n",
      "[CV] learning_rate=0.01, max_depth=6, min_samples_leaf=3, min_samples_split=2, n_estimators=100 \n",
      "[CV]  learning_rate=0.01, max_depth=6, min_samples_leaf=3, min_samples_split=2, n_estimators=100, score=(train=1.000, test=0.381), total=   0.3s\n",
      "[CV] learning_rate=0.01, max_depth=6, min_samples_leaf=3, min_samples_split=2, n_estimators=200 \n",
      "[CV]  learning_rate=0.01, max_depth=6, min_samples_leaf=3, min_samples_split=2, n_estimators=200, score=(train=1.000, test=0.205), total=   0.6s\n",
      "[CV] learning_rate=0.01, max_depth=6, min_samples_leaf=3, min_samples_split=2, n_estimators=200 \n",
      "[CV]  learning_rate=0.01, max_depth=6, min_samples_leaf=3, min_samples_split=2, n_estimators=200, score=(train=1.000, test=0.303), total=   0.6s\n",
      "[CV] learning_rate=0.01, max_depth=6, min_samples_leaf=3, min_samples_split=2, n_estimators=200 \n",
      "[CV]  learning_rate=0.01, max_depth=6, min_samples_leaf=3, min_samples_split=2, n_estimators=200, score=(train=1.000, test=0.381), total=   1.2s\n",
      "[CV] learning_rate=0.01, max_depth=6, min_samples_leaf=3, min_samples_split=5, n_estimators=50 \n",
      "[CV]  learning_rate=0.01, max_depth=6, min_samples_leaf=3, min_samples_split=5, n_estimators=50, score=(train=0.845, test=0.191), total=   0.2s\n",
      "[CV] learning_rate=0.01, max_depth=6, min_samples_leaf=3, min_samples_split=5, n_estimators=50 \n",
      "[CV]  learning_rate=0.01, max_depth=6, min_samples_leaf=3, min_samples_split=5, n_estimators=50, score=(train=0.885, test=0.262), total=   0.1s\n",
      "[CV] learning_rate=0.01, max_depth=6, min_samples_leaf=3, min_samples_split=5, n_estimators=50 \n"
     ]
    },
    {
     "name": "stderr",
     "output_type": "stream",
     "text": [
      "C:\\Users\\72445\\AppData\\Local\\Continuum\\anaconda3\\lib\\site-packages\\sklearn\\metrics\\classification.py:1437: UndefinedMetricWarning: F-score is ill-defined and being set to 0.0 in labels with no predicted samples.\n",
      "  'precision', 'predicted', average, warn_for)\n"
     ]
    },
    {
     "name": "stdout",
     "output_type": "stream",
     "text": [
      "[CV]  learning_rate=0.01, max_depth=6, min_samples_leaf=3, min_samples_split=5, n_estimators=50, score=(train=0.834, test=0.405), total=   0.3s\n",
      "[CV] learning_rate=0.01, max_depth=6, min_samples_leaf=3, min_samples_split=5, n_estimators=100 \n",
      "[CV]  learning_rate=0.01, max_depth=6, min_samples_leaf=3, min_samples_split=5, n_estimators=100, score=(train=1.000, test=0.302), total=   0.3s\n",
      "[CV] learning_rate=0.01, max_depth=6, min_samples_leaf=3, min_samples_split=5, n_estimators=100 \n",
      "[CV]  learning_rate=0.01, max_depth=6, min_samples_leaf=3, min_samples_split=5, n_estimators=100, score=(train=1.000, test=0.245), total=   0.7s\n",
      "[CV] learning_rate=0.01, max_depth=6, min_samples_leaf=3, min_samples_split=5, n_estimators=100 \n",
      "[CV]  learning_rate=0.01, max_depth=6, min_samples_leaf=3, min_samples_split=5, n_estimators=100, score=(train=1.000, test=0.381), total=   0.4s\n",
      "[CV] learning_rate=0.01, max_depth=6, min_samples_leaf=3, min_samples_split=5, n_estimators=200 \n",
      "[CV]  learning_rate=0.01, max_depth=6, min_samples_leaf=3, min_samples_split=5, n_estimators=200, score=(train=1.000, test=0.205), total=   1.1s\n",
      "[CV] learning_rate=0.01, max_depth=6, min_samples_leaf=3, min_samples_split=5, n_estimators=200 \n",
      "[CV]  learning_rate=0.01, max_depth=6, min_samples_leaf=3, min_samples_split=5, n_estimators=200, score=(train=1.000, test=0.272), total=   1.1s\n",
      "[CV] learning_rate=0.01, max_depth=6, min_samples_leaf=3, min_samples_split=5, n_estimators=200 \n",
      "[CV]  learning_rate=0.01, max_depth=6, min_samples_leaf=3, min_samples_split=5, n_estimators=200, score=(train=1.000, test=0.381), total=   0.6s\n",
      "[CV] learning_rate=0.01, max_depth=6, min_samples_leaf=5, min_samples_split=2, n_estimators=50 \n",
      "[CV]  learning_rate=0.01, max_depth=6, min_samples_leaf=5, min_samples_split=2, n_estimators=50, score=(train=0.827, test=0.221), total=   0.1s\n",
      "[CV] learning_rate=0.01, max_depth=6, min_samples_leaf=5, min_samples_split=2, n_estimators=50 \n"
     ]
    },
    {
     "name": "stderr",
     "output_type": "stream",
     "text": [
      "C:\\Users\\72445\\AppData\\Local\\Continuum\\anaconda3\\lib\\site-packages\\sklearn\\metrics\\classification.py:1437: UndefinedMetricWarning: F-score is ill-defined and being set to 0.0 in labels with no predicted samples.\n",
      "  'precision', 'predicted', average, warn_for)\n",
      "C:\\Users\\72445\\AppData\\Local\\Continuum\\anaconda3\\lib\\site-packages\\sklearn\\metrics\\classification.py:1437: UndefinedMetricWarning: F-score is ill-defined and being set to 0.0 in labels with no predicted samples.\n",
      "  'precision', 'predicted', average, warn_for)\n"
     ]
    },
    {
     "name": "stdout",
     "output_type": "stream",
     "text": [
      "[CV]  learning_rate=0.01, max_depth=6, min_samples_leaf=5, min_samples_split=2, n_estimators=50, score=(train=0.818, test=0.261), total=   0.1s\n",
      "[CV] learning_rate=0.01, max_depth=6, min_samples_leaf=5, min_samples_split=2, n_estimators=50 \n",
      "[CV]  learning_rate=0.01, max_depth=6, min_samples_leaf=5, min_samples_split=2, n_estimators=50, score=(train=0.743, test=0.429), total=   0.1s\n",
      "[CV] learning_rate=0.01, max_depth=6, min_samples_leaf=5, min_samples_split=2, n_estimators=100 \n",
      "[CV]  learning_rate=0.01, max_depth=6, min_samples_leaf=5, min_samples_split=2, n_estimators=100, score=(train=1.000, test=0.365), total=   0.2s\n",
      "[CV] learning_rate=0.01, max_depth=6, min_samples_leaf=5, min_samples_split=2, n_estimators=100 \n",
      "[CV]  learning_rate=0.01, max_depth=6, min_samples_leaf=5, min_samples_split=2, n_estimators=100, score=(train=0.928, test=0.391), total=   0.2s\n",
      "[CV] learning_rate=0.01, max_depth=6, min_samples_leaf=5, min_samples_split=2, n_estimators=100 \n",
      "[CV]  learning_rate=0.01, max_depth=6, min_samples_leaf=5, min_samples_split=2, n_estimators=100, score=(train=0.948, test=0.429), total=   0.2s\n",
      "[CV] learning_rate=0.01, max_depth=6, min_samples_leaf=5, min_samples_split=2, n_estimators=200 \n",
      "[CV]  learning_rate=0.01, max_depth=6, min_samples_leaf=5, min_samples_split=2, n_estimators=200, score=(train=1.000, test=0.236), total=   0.5s\n",
      "[CV] learning_rate=0.01, max_depth=6, min_samples_leaf=5, min_samples_split=2, n_estimators=200 \n",
      "[CV]  learning_rate=0.01, max_depth=6, min_samples_leaf=5, min_samples_split=2, n_estimators=200, score=(train=1.000, test=0.313), total=   0.4s\n",
      "[CV] learning_rate=0.01, max_depth=6, min_samples_leaf=5, min_samples_split=2, n_estimators=200 \n",
      "[CV]  learning_rate=0.01, max_depth=6, min_samples_leaf=5, min_samples_split=2, n_estimators=200, score=(train=1.000, test=0.429), total=   0.4s\n",
      "[CV] learning_rate=0.01, max_depth=6, min_samples_leaf=5, min_samples_split=5, n_estimators=50 \n",
      "[CV]  learning_rate=0.01, max_depth=6, min_samples_leaf=5, min_samples_split=5, n_estimators=50, score=(train=0.827, test=0.221), total=   0.1s\n",
      "[CV] learning_rate=0.01, max_depth=6, min_samples_leaf=5, min_samples_split=5, n_estimators=50 \n"
     ]
    },
    {
     "name": "stderr",
     "output_type": "stream",
     "text": [
      "C:\\Users\\72445\\AppData\\Local\\Continuum\\anaconda3\\lib\\site-packages\\sklearn\\metrics\\classification.py:1437: UndefinedMetricWarning: F-score is ill-defined and being set to 0.0 in labels with no predicted samples.\n",
      "  'precision', 'predicted', average, warn_for)\n",
      "C:\\Users\\72445\\AppData\\Local\\Continuum\\anaconda3\\lib\\site-packages\\sklearn\\metrics\\classification.py:1437: UndefinedMetricWarning: F-score is ill-defined and being set to 0.0 in labels with no predicted samples.\n",
      "  'precision', 'predicted', average, warn_for)\n"
     ]
    },
    {
     "name": "stdout",
     "output_type": "stream",
     "text": [
      "[CV]  learning_rate=0.01, max_depth=6, min_samples_leaf=5, min_samples_split=5, n_estimators=50, score=(train=0.818, test=0.261), total=   0.1s\n",
      "[CV] learning_rate=0.01, max_depth=6, min_samples_leaf=5, min_samples_split=5, n_estimators=50 \n",
      "[CV]  learning_rate=0.01, max_depth=6, min_samples_leaf=5, min_samples_split=5, n_estimators=50, score=(train=0.743, test=0.429), total=   0.1s\n",
      "[CV] learning_rate=0.01, max_depth=6, min_samples_leaf=5, min_samples_split=5, n_estimators=100 \n",
      "[CV]  learning_rate=0.01, max_depth=6, min_samples_leaf=5, min_samples_split=5, n_estimators=100, score=(train=1.000, test=0.365), total=   0.2s\n",
      "[CV] learning_rate=0.01, max_depth=6, min_samples_leaf=5, min_samples_split=5, n_estimators=100 \n",
      "[CV]  learning_rate=0.01, max_depth=6, min_samples_leaf=5, min_samples_split=5, n_estimators=100, score=(train=0.928, test=0.391), total=   0.2s\n",
      "[CV] learning_rate=0.01, max_depth=6, min_samples_leaf=5, min_samples_split=5, n_estimators=100 \n",
      "[CV]  learning_rate=0.01, max_depth=6, min_samples_leaf=5, min_samples_split=5, n_estimators=100, score=(train=0.948, test=0.429), total=   0.2s\n",
      "[CV] learning_rate=0.01, max_depth=6, min_samples_leaf=5, min_samples_split=5, n_estimators=200 \n",
      "[CV]  learning_rate=0.01, max_depth=6, min_samples_leaf=5, min_samples_split=5, n_estimators=200, score=(train=1.000, test=0.236), total=   0.4s\n",
      "[CV] learning_rate=0.01, max_depth=6, min_samples_leaf=5, min_samples_split=5, n_estimators=200 \n",
      "[CV]  learning_rate=0.01, max_depth=6, min_samples_leaf=5, min_samples_split=5, n_estimators=200, score=(train=1.000, test=0.313), total=   0.4s\n",
      "[CV] learning_rate=0.01, max_depth=6, min_samples_leaf=5, min_samples_split=5, n_estimators=200 \n",
      "[CV]  learning_rate=0.01, max_depth=6, min_samples_leaf=5, min_samples_split=5, n_estimators=200, score=(train=1.000, test=0.429), total=   0.4s\n"
     ]
    },
    {
     "name": "stderr",
     "output_type": "stream",
     "text": [
      "[Parallel(n_jobs=1)]: Done 486 out of 486 | elapsed:  1.9min finished\n",
      "C:\\Users\\72445\\AppData\\Local\\Continuum\\anaconda3\\lib\\site-packages\\sklearn\\model_selection\\_search.py:813: DeprecationWarning: The default of the `iid` parameter will change from True to False in version 0.22 and will be removed in 0.24. This will change numeric results when test-set sizes are unequal.\n",
      "  DeprecationWarning)\n"
     ]
    },
    {
     "data": {
      "text/plain": [
       "GridSearchCV(cv=3, error_score='raise-deprecating',\n",
       "             estimator=GradientBoostingClassifier(criterion='friedman_mse',\n",
       "                                                  init=None, learning_rate=0.1,\n",
       "                                                  loss='deviance', max_depth=3,\n",
       "                                                  max_features=None,\n",
       "                                                  max_leaf_nodes=None,\n",
       "                                                  min_impurity_decrease=0.0,\n",
       "                                                  min_impurity_split=None,\n",
       "                                                  min_samples_leaf=1,\n",
       "                                                  min_samples_split=2,\n",
       "                                                  min_weight_fraction_leaf=0.0,\n",
       "                                                  n_estimators=100,\n",
       "                                                  n_iter_no...\n",
       "                                                  presort='auto',\n",
       "                                                  random_state=None,\n",
       "                                                  subsample=1.0, tol=0.0001,\n",
       "                                                  validation_fraction=0.1,\n",
       "                                                  verbose=0, warm_start=False),\n",
       "             iid='warn', n_jobs=None,\n",
       "             param_grid={'learning_rate': [1, 0.1, 0.01],\n",
       "                         'max_depth': [1, 3, 6], 'min_samples_leaf': [1, 3, 5],\n",
       "                         'min_samples_split': [2, 5],\n",
       "                         'n_estimators': [50, 100, 200]},\n",
       "             pre_dispatch='2*n_jobs', refit=True, return_train_score=True,\n",
       "             scoring='f1_macro', verbose=5)"
      ]
     },
     "execution_count": 11,
     "metadata": {},
     "output_type": "execute_result"
    }
   ],
   "source": [
    "#search = RandomizedSearchCV(clf, params, n_iter=20, cv=3, return_train_score=True, verbose=5, scoring='f1_macro')\n",
    "search = GridSearchCV(clf, params, cv=3, return_train_score=True, verbose=5, scoring='f1_macro')\n",
    "\n",
    "\n",
    "search.fit(X,y)"
   ]
  },
  {
   "cell_type": "markdown",
   "metadata": {},
   "source": [
    "### Tuned Results"
   ]
  },
  {
   "cell_type": "code",
   "execution_count": 12,
   "metadata": {},
   "outputs": [
    {
     "name": "stdout",
     "output_type": "stream",
     "text": [
      "Mean Training Score: 0.9358067348978291\n",
      "Mean Testing Score: 1.0\n",
      "\n",
      "Best Parameter Found:\n"
     ]
    },
    {
     "data": {
      "text/plain": [
       "{'learning_rate': 1,\n",
       " 'max_depth': 6,\n",
       " 'min_samples_leaf': 1,\n",
       " 'min_samples_split': 5,\n",
       " 'n_estimators': 50}"
      ]
     },
     "execution_count": 12,
     "metadata": {},
     "output_type": "execute_result"
    }
   ],
   "source": [
    "print(\"Mean Training Score:\", np.mean(search.cv_results_['mean_train_score']))\n",
    "print(\"Mean Testing Score:\", search.score(X, y))\n",
    "print(\"\\nBest Parameter Found:\")\n",
    "search.best_params_"
   ]
  },
  {
   "cell_type": "markdown",
   "metadata": {},
   "source": [
    "### Model with the Best Parameters"
   ]
  },
  {
   "cell_type": "code",
   "execution_count": 13,
   "metadata": {},
   "outputs": [
    {
     "data": {
      "text/plain": [
       "GradientBoostingClassifier(criterion='friedman_mse', init=None, learning_rate=1,\n",
       "                           loss='deviance', max_depth=6, max_features=None,\n",
       "                           max_leaf_nodes=None, min_impurity_decrease=0.0,\n",
       "                           min_impurity_split=None, min_samples_leaf=1,\n",
       "                           min_samples_split=5, min_weight_fraction_leaf=0.0,\n",
       "                           n_estimators=50, n_iter_no_change=None,\n",
       "                           presort='auto', random_state=None, subsample=1.0,\n",
       "                           tol=0.0001, validation_fraction=0.1, verbose=0,\n",
       "                           warm_start=False)"
      ]
     },
     "execution_count": 13,
     "metadata": {},
     "output_type": "execute_result"
    }
   ],
   "source": [
    "search_clf = search.best_estimator_\n",
    "\n",
    "search_clf.fit(X_train, y_train)"
   ]
  },
  {
   "cell_type": "markdown",
   "metadata": {},
   "source": [
    "#### Results from Optimum Parameters"
   ]
  },
  {
   "cell_type": "code",
   "execution_count": 14,
   "metadata": {},
   "outputs": [
    {
     "name": "stdout",
     "output_type": "stream",
     "text": [
      "              precision    recall  f1-score   support\n",
      "\n",
      "        Sell       0.60      0.50      0.55         6\n",
      "         Buy       0.40      0.57      0.47         7\n",
      "        Hold       0.00      0.00      0.00         4\n",
      "\n",
      "    accuracy                           0.41        17\n",
      "   macro avg       0.33      0.36      0.34        17\n",
      "weighted avg       0.38      0.41      0.39        17\n",
      "\n"
     ]
    }
   ],
   "source": [
    "# Classifier predictions\n",
    "s_pred = search_clf.predict(X_test)\n",
    "\n",
    "#Printing out results\n",
    "report = classification_report(y_test, s_pred, target_names=['Sell', 'Buy', 'Hold'])\n",
    "print(report)"
   ]
  },
  {
   "cell_type": "markdown",
   "metadata": {},
   "source": [
    "### Confusion Matrix for Optimum Parameters"
   ]
  },
  {
   "cell_type": "code",
   "execution_count": 15,
   "metadata": {},
   "outputs": [
    {
     "data": {
      "image/png": "[encoded data removed]",
      "text/plain": [
       "<Figure size 864x432 with 2 Axes>"
      ]
     },
     "metadata": {
      "needs_background": "light"
     },
     "output_type": "display_data"
    }
   ],
   "source": [
    "plot_confusion_matrix(y_test, s_pred, title=\"Confusion Matrix\")\n",
    "np.set_printoptions(precision=1)\n",
    "# Plot non-normalized confusion matrix\n",
    "plt.show()"
   ]
  },
  {
   "cell_type": "code",
   "execution_count": null,
   "metadata": {},
   "outputs": [],
   "source": []
  }
 ],
 "metadata": {
  "kernelspec": {
   "display_name": "Python 3",
   "language": "python",
   "name": "python3"
  },
  "language_info": {
   "codemirror_mode": {
    "name": "ipython",
    "version": 3
   },
   "file_extension": ".py",
   "mimetype": "text/x-python",
   "name": "python",
   "nbconvert_exporter": "python",
   "pygments_lexer": "ipython3",
   "version": "3.7.3"
  }
 },
 "nbformat": 4,
 "nbformat_minor": 2
}
