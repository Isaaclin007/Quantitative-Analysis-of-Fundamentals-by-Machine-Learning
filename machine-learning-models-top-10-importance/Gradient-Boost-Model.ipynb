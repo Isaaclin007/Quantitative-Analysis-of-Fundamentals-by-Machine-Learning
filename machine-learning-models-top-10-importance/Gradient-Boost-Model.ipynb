{
 "cells": [
  {
   "cell_type": "markdown",
   "metadata": {},
   "source": [
    "# Model: Gradient Boost"
   ]
  },
  {
   "cell_type": "markdown",
   "metadata": {},
   "source": [
    "### Importing Libraries"
   ]
  },
  {
   "cell_type": "code",
   "execution_count": 1,
   "metadata": {},
   "outputs": [],
   "source": [
    "import _pickle as pickle\n",
    "import numpy as np\n",
    "import pandas as pd\n",
    "from sklearn.model_selection import train_test_split\n",
    "from sklearn.metrics import precision_score, recall_score, accuracy_score, f1_score, confusion_matrix, classification_report\n",
    "import matplotlib.pyplot as plt"
   ]
  },
  {
   "cell_type": "markdown",
   "metadata": {},
   "source": [
    "### Loading in Data"
   ]
  },
  {
   "cell_type": "code",
   "execution_count": 2,
   "metadata": {},
   "outputs": [],
   "source": [
    "df = pd.read_excel('../top10_features.xlsx')\n",
    "df = df.drop(df.columns[0], axis = 1)"
   ]
  },
  {
   "cell_type": "markdown",
   "metadata": {},
   "source": [
    "### Scaling the Data"
   ]
  },
  {
   "cell_type": "code",
   "execution_count": 3,
   "metadata": {},
   "outputs": [],
   "source": [
    "from sklearn.preprocessing import StandardScaler\n",
    "\n",
    "scaler = StandardScaler()\n",
    "\n",
    "features_df = df.drop([\"Decision\"], 1)\n",
    "\n",
    "scaled_df = pd.DataFrame(scaler.fit_transform(features_df), \n",
    "                               index=features_df.index, \n",
    "                               columns=features_df.columns)\n",
    "\n",
    "df = scaled_df.join(df.Decision)"
   ]
  },
  {
   "cell_type": "markdown",
   "metadata": {},
   "source": [
    "### Splitting the Data"
   ]
  },
  {
   "cell_type": "code",
   "execution_count": 4,
   "metadata": {},
   "outputs": [],
   "source": [
    "X = df.drop([\"Decision\"], 1)\n",
    "y = df.Decision\n",
    "\n",
    "# Train, test, split\n",
    "X_train, X_test, y_train, y_test = train_test_split(X, y)"
   ]
  },
  {
   "cell_type": "markdown",
   "metadata": {},
   "source": [
    "### Helper Functions"
   ]
  },
  {
   "cell_type": "markdown",
   "metadata": {},
   "source": [
    "#### Function for plotting confusion matrix"
   ]
  },
  {
   "cell_type": "code",
   "execution_count": 5,
   "metadata": {},
   "outputs": [],
   "source": [
    "def plot_confusion_matrix(y_true, y_pred, labels=[\"Sell\", \"Buy\", \"Hold\"], \n",
    "                          normalize=False, title=None, cmap=plt.cm.coolwarm):\n",
    "\n",
    "    cm = confusion_matrix(y_true, y_pred)\n",
    "    fig, ax = plt.subplots(figsize=(12,6))\n",
    "    im = ax.imshow(cm, interpolation='nearest', cmap=cmap)\n",
    "    ax.figure.colorbar(im, ax=ax)\n",
    "    # We want to show all ticks...\n",
    "    ax.set(xticks=np.arange(cm.shape[1]),\n",
    "           yticks=np.arange(cm.shape[0]),\n",
    "           # ... and label them with the respective list entries\n",
    "           xticklabels=labels, yticklabels=labels,\n",
    "           title=title,\n",
    "           ylabel='ACTUAL',\n",
    "           xlabel='PREDICTED')\n",
    "    # Rotate the tick labels and set their alignment.\n",
    "    plt.setp(ax.get_xticklabels(), rotation=45, ha=\"right\",\n",
    "             rotation_mode=\"anchor\")\n",
    "    # Loop over data dimensions and create text annotations.\n",
    "    fmt = '.2f' if normalize else 'd'\n",
    "    thresh = cm.max() / 1.5\n",
    "    for i in range(cm.shape[0]):\n",
    "        for j in range(cm.shape[1]):\n",
    "            ax.text(j, i, format(cm[i, j], fmt),\n",
    "                    ha=\"center\", va=\"center\",\n",
    "                    color=\"snow\" if cm[i, j] > thresh else \"orange\",\n",
    "                    size=26)\n",
    "    ax.grid(False)\n",
    "    fig.tight_layout()\n",
    "    return ax"
   ]
  },
  {
   "cell_type": "markdown",
   "metadata": {},
   "source": [
    "## Modeling\n",
    "The preferred evaluation metric used will be __Precision__ for each class.  They will be optimized using the __F1 Score-Macro-Average__ to balance the Precision and Recall.  This is done because we want to not only be correct when predicting but also make a decent amount of predictions for each class.  Classes such as 'Buy' and 'Sell' are more important than 'Hold'."
   ]
  },
  {
   "cell_type": "markdown",
   "metadata": {},
   "source": [
    "### Fitting and Training"
   ]
  },
  {
   "cell_type": "code",
   "execution_count": 6,
   "metadata": {
    "scrolled": false
   },
   "outputs": [
    {
     "data": {
      "text/plain": [
       "GradientBoostingClassifier(criterion='friedman_mse', init=None,\n",
       "                           learning_rate=0.1, loss='deviance', max_depth=3,\n",
       "                           max_features=None, max_leaf_nodes=None,\n",
       "                           min_impurity_decrease=0.0, min_impurity_split=None,\n",
       "                           min_samples_leaf=1, min_samples_split=2,\n",
       "                           min_weight_fraction_leaf=0.0, n_estimators=100,\n",
       "                           n_iter_no_change=None, presort='auto',\n",
       "                           random_state=None, subsample=1.0, tol=0.0001,\n",
       "                           validation_fraction=0.1, verbose=0,\n",
       "                           warm_start=False)"
      ]
     },
     "execution_count": 6,
     "metadata": {},
     "output_type": "execute_result"
    }
   ],
   "source": [
    "# Importing the model\n",
    "from sklearn.ensemble import GradientBoostingClassifier\n",
    "\n",
    "# Fitting and training\n",
    "clf = GradientBoostingClassifier()\n",
    "clf.fit(X_train, y_train)"
   ]
  },
  {
   "cell_type": "markdown",
   "metadata": {},
   "source": [
    "### Printing out Evaluation Metrics"
   ]
  },
  {
   "cell_type": "code",
   "execution_count": 7,
   "metadata": {},
   "outputs": [
    {
     "name": "stdout",
     "output_type": "stream",
     "text": [
      "              precision    recall  f1-score   support\n",
      "\n",
      "        Sell       0.10      0.20      0.13         5\n",
      "         Buy       0.33      0.22      0.27         9\n",
      "        Hold       0.00      0.00      0.00         3\n",
      "\n",
      "    accuracy                           0.18        17\n",
      "   macro avg       0.14      0.14      0.13        17\n",
      "weighted avg       0.21      0.18      0.18        17\n",
      "\n"
     ]
    }
   ],
   "source": [
    "# Classifier predictions\n",
    "pred = clf.predict(X_test)\n",
    "\n",
    "#Printing out results\n",
    "report = classification_report(y_test, pred, target_names=['Sell', 'Buy', 'Hold'])\n",
    "print(report)"
   ]
  },
  {
   "cell_type": "markdown",
   "metadata": {},
   "source": [
    "### Confusion Matrix"
   ]
  },
  {
   "cell_type": "code",
   "execution_count": 8,
   "metadata": {},
   "outputs": [
    {
     "data": {
      "image/png": "[encoded data removed]",
      "text/plain": [
       "<Figure size 864x432 with 2 Axes>"
      ]
     },
     "metadata": {
      "needs_background": "light"
     },
     "output_type": "display_data"
    }
   ],
   "source": [
    "plot_confusion_matrix(y_test, pred, title=\"Confusion Matrix\")\n",
    "np.set_printoptions(precision=1)\n",
    "# Plot non-normalized confusion matrix\n",
    "plt.show()"
   ]
  },
  {
   "cell_type": "markdown",
   "metadata": {},
   "source": [
    "## Tuning Model Parameters"
   ]
  },
  {
   "cell_type": "code",
   "execution_count": 9,
   "metadata": {},
   "outputs": [],
   "source": [
    "from sklearn.model_selection import GridSearchCV"
   ]
  },
  {
   "cell_type": "markdown",
   "metadata": {},
   "source": [
    "### Parameters"
   ]
  },
  {
   "cell_type": "code",
   "execution_count": 10,
   "metadata": {},
   "outputs": [],
   "source": [
    "# Parameters to Tune\n",
    "params = {'n_estimators': [50,100, 200],\n",
    "          'learning_rate': [1,0.1,.01],\n",
    "          'max_depth': [1, 3, 6],\n",
    "          'min_samples_split': [2, 5],\n",
    "          'min_samples_leaf': [1, 3, 5]}"
   ]
  },
  {
   "cell_type": "code",
   "execution_count": 11,
   "metadata": {
    "scrolled": true
   },
   "outputs": [
    {
     "name": "stdout",
     "output_type": "stream",
     "text": [
      "Fitting 3 folds for each of 162 candidates, totalling 486 fits\n",
      "[CV] learning_rate=1, max_depth=1, min_samples_leaf=1, min_samples_split=2, n_estimators=50 \n",
      "[CV]  learning_rate=1, max_depth=1, min_samples_leaf=1, min_samples_split=2, n_estimators=50, score=(train=1.000, test=0.373), total=   0.2s\n",
      "[CV] learning_rate=1, max_depth=1, min_samples_leaf=1, min_samples_split=2, n_estimators=50 \n"
     ]
    },
    {
     "name": "stderr",
     "output_type": "stream",
     "text": [
      "[Parallel(n_jobs=1)]: Using backend SequentialBackend with 1 concurrent workers.\n",
      "[Parallel(n_jobs=1)]: Done   1 out of   1 | elapsed:    0.1s remaining:    0.0s\n"
     ]
    },
    {
     "name": "stdout",
     "output_type": "stream",
     "text": [
      "[CV]  learning_rate=1, max_depth=1, min_samples_leaf=1, min_samples_split=2, n_estimators=50, score=(train=1.000, test=0.505), total=   0.1s\n",
      "[CV] learning_rate=1, max_depth=1, min_samples_leaf=1, min_samples_split=2, n_estimators=50 \n",
      "[CV]  learning_rate=1, max_depth=1, min_samples_leaf=1, min_samples_split=2, n_estimators=50, score=(train=1.000, test=0.319), total=   0.1s\n",
      "[CV] learning_rate=1, max_depth=1, min_samples_leaf=1, min_samples_split=2, n_estimators=100 \n"
     ]
    },
    {
     "name": "stderr",
     "output_type": "stream",
     "text": [
      "[Parallel(n_jobs=1)]: Done   2 out of   2 | elapsed:    0.2s remaining:    0.0s\n",
      "[Parallel(n_jobs=1)]: Done   3 out of   3 | elapsed:    0.3s remaining:    0.0s\n"
     ]
    },
    {
     "name": "stdout",
     "output_type": "stream",
     "text": [
      "[CV]  learning_rate=1, max_depth=1, min_samples_leaf=1, min_samples_split=2, n_estimators=100, score=(train=1.000, test=0.263), total=   0.2s\n",
      "[CV] learning_rate=1, max_depth=1, min_samples_leaf=1, min_samples_split=2, n_estimators=100 \n"
     ]
    },
    {
     "name": "stderr",
     "output_type": "stream",
     "text": [
      "[Parallel(n_jobs=1)]: Done   4 out of   4 | elapsed:    0.6s remaining:    0.0s\n"
     ]
    },
    {
     "name": "stdout",
     "output_type": "stream",
     "text": [
      "[CV]  learning_rate=1, max_depth=1, min_samples_leaf=1, min_samples_split=2, n_estimators=100, score=(train=1.000, test=0.583), total=   0.4s\n",
      "[CV] learning_rate=1, max_depth=1, min_samples_leaf=1, min_samples_split=2, n_estimators=100 \n",
      "[CV]  learning_rate=1, max_depth=1, min_samples_leaf=1, min_samples_split=2, n_estimators=100, score=(train=1.000, test=0.319), total=   0.3s\n",
      "[CV] learning_rate=1, max_depth=1, min_samples_leaf=1, min_samples_split=2, n_estimators=200 \n",
      "[CV]  learning_rate=1, max_depth=1, min_samples_leaf=1, min_samples_split=2, n_estimators=200, score=(train=1.000, test=0.263), total=   0.7s\n",
      "[CV] learning_rate=1, max_depth=1, min_samples_leaf=1, min_samples_split=2, n_estimators=200 \n",
      "[CV]  learning_rate=1, max_depth=1, min_samples_leaf=1, min_samples_split=2, n_estimators=200, score=(train=1.000, test=0.583), total=   0.5s\n",
      "[CV] learning_rate=1, max_depth=1, min_samples_leaf=1, min_samples_split=2, n_estimators=200 \n",
      "[CV]  learning_rate=1, max_depth=1, min_samples_leaf=1, min_samples_split=2, n_estimators=200, score=(train=1.000, test=0.319), total=   2.0s\n",
      "[CV] learning_rate=1, max_depth=1, min_samples_leaf=1, min_samples_split=5, n_estimators=50 \n",
      "[CV]  learning_rate=1, max_depth=1, min_samples_leaf=1, min_samples_split=5, n_estimators=50, score=(train=1.000, test=0.373), total=   0.5s\n",
      "[CV] learning_rate=1, max_depth=1, min_samples_leaf=1, min_samples_split=5, n_estimators=50 \n",
      "[CV]  learning_rate=1, max_depth=1, min_samples_leaf=1, min_samples_split=5, n_estimators=50, score=(train=1.000, test=0.505), total=   0.4s\n",
      "[CV] learning_rate=1, max_depth=1, min_samples_leaf=1, min_samples_split=5, n_estimators=50 \n",
      "[CV]  learning_rate=1, max_depth=1, min_samples_leaf=1, min_samples_split=5, n_estimators=50, score=(train=1.000, test=0.319), total=   0.3s\n",
      "[CV] learning_rate=1, max_depth=1, min_samples_leaf=1, min_samples_split=5, n_estimators=100 \n",
      "[CV]  learning_rate=1, max_depth=1, min_samples_leaf=1, min_samples_split=5, n_estimators=100, score=(train=1.000, test=0.263), total=   0.6s\n",
      "[CV] learning_rate=1, max_depth=1, min_samples_leaf=1, min_samples_split=5, n_estimators=100 \n",
      "[CV]  learning_rate=1, max_depth=1, min_samples_leaf=1, min_samples_split=5, n_estimators=100, score=(train=1.000, test=0.611), total=   0.6s\n",
      "[CV] learning_rate=1, max_depth=1, min_samples_leaf=1, min_samples_split=5, n_estimators=100 \n",
      "[CV]  learning_rate=1, max_depth=1, min_samples_leaf=1, min_samples_split=5, n_estimators=100, score=(train=1.000, test=0.319), total=   0.4s\n",
      "[CV] learning_rate=1, max_depth=1, min_samples_leaf=1, min_samples_split=5, n_estimators=200 \n",
      "[CV]  learning_rate=1, max_depth=1, min_samples_leaf=1, min_samples_split=5, n_estimators=200, score=(train=1.000, test=0.263), total=   1.3s\n",
      "[CV] learning_rate=1, max_depth=1, min_samples_leaf=1, min_samples_split=5, n_estimators=200 \n",
      "[CV]  learning_rate=1, max_depth=1, min_samples_leaf=1, min_samples_split=5, n_estimators=200, score=(train=1.000, test=0.583), total=   1.1s\n",
      "[CV] learning_rate=1, max_depth=1, min_samples_leaf=1, min_samples_split=5, n_estimators=200 \n",
      "[CV]  learning_rate=1, max_depth=1, min_samples_leaf=1, min_samples_split=5, n_estimators=200, score=(train=1.000, test=0.319), total=   0.5s\n",
      "[CV] learning_rate=1, max_depth=1, min_samples_leaf=3, min_samples_split=2, n_estimators=50 \n",
      "[CV]  learning_rate=1, max_depth=1, min_samples_leaf=3, min_samples_split=2, n_estimators=50, score=(train=1.000, test=0.265), total=   0.1s\n",
      "[CV] learning_rate=1, max_depth=1, min_samples_leaf=3, min_samples_split=2, n_estimators=50 \n",
      "[CV]  learning_rate=1, max_depth=1, min_samples_leaf=3, min_samples_split=2, n_estimators=50, score=(train=1.000, test=0.590), total=   0.1s\n",
      "[CV] learning_rate=1, max_depth=1, min_samples_leaf=3, min_samples_split=2, n_estimators=50 \n",
      "[CV]  learning_rate=1, max_depth=1, min_samples_leaf=3, min_samples_split=2, n_estimators=50, score=(train=1.000, test=0.319), total=   0.1s\n",
      "[CV] learning_rate=1, max_depth=1, min_samples_leaf=3, min_samples_split=2, n_estimators=100 \n",
      "[CV]  learning_rate=1, max_depth=1, min_samples_leaf=3, min_samples_split=2, n_estimators=100, score=(train=1.000, test=0.229), total=   0.3s\n",
      "[CV] learning_rate=1, max_depth=1, min_samples_leaf=3, min_samples_split=2, n_estimators=100 \n",
      "[CV]  learning_rate=1, max_depth=1, min_samples_leaf=3, min_samples_split=2, n_estimators=100, score=(train=1.000, test=0.542), total=   0.3s\n",
      "[CV] learning_rate=1, max_depth=1, min_samples_leaf=3, min_samples_split=2, n_estimators=100 \n",
      "[CV]  learning_rate=1, max_depth=1, min_samples_leaf=3, min_samples_split=2, n_estimators=100, score=(train=1.000, test=0.324), total=   0.4s\n",
      "[CV] learning_rate=1, max_depth=1, min_samples_leaf=3, min_samples_split=2, n_estimators=200 \n",
      "[CV]  learning_rate=1, max_depth=1, min_samples_leaf=3, min_samples_split=2, n_estimators=200, score=(train=1.000, test=0.229), total=   0.6s\n",
      "[CV] learning_rate=1, max_depth=1, min_samples_leaf=3, min_samples_split=2, n_estimators=200 \n",
      "[CV]  learning_rate=1, max_depth=1, min_samples_leaf=3, min_samples_split=2, n_estimators=200, score=(train=1.000, test=0.542), total=   0.6s\n",
      "[CV] learning_rate=1, max_depth=1, min_samples_leaf=3, min_samples_split=2, n_estimators=200 \n",
      "[CV]  learning_rate=1, max_depth=1, min_samples_leaf=3, min_samples_split=2, n_estimators=200, score=(train=1.000, test=0.324), total=   0.3s\n",
      "[CV] learning_rate=1, max_depth=1, min_samples_leaf=3, min_samples_split=5, n_estimators=50 \n",
      "[CV]  learning_rate=1, max_depth=1, min_samples_leaf=3, min_samples_split=5, n_estimators=50, score=(train=1.000, test=0.265), total=   0.1s\n",
      "[CV] learning_rate=1, max_depth=1, min_samples_leaf=3, min_samples_split=5, n_estimators=50 \n",
      "[CV]  learning_rate=1, max_depth=1, min_samples_leaf=3, min_samples_split=5, n_estimators=50, score=(train=1.000, test=0.590), total=   0.1s\n",
      "[CV] learning_rate=1, max_depth=1, min_samples_leaf=3, min_samples_split=5, n_estimators=50 \n",
      "[CV]  learning_rate=1, max_depth=1, min_samples_leaf=3, min_samples_split=5, n_estimators=50, score=(train=1.000, test=0.319), total=   0.1s\n",
      "[CV] learning_rate=1, max_depth=1, min_samples_leaf=3, min_samples_split=5, n_estimators=100 \n",
      "[CV]  learning_rate=1, max_depth=1, min_samples_leaf=3, min_samples_split=5, n_estimators=100, score=(train=1.000, test=0.229), total=   0.4s\n",
      "[CV] learning_rate=1, max_depth=1, min_samples_leaf=3, min_samples_split=5, n_estimators=100 \n",
      "[CV]  learning_rate=1, max_depth=1, min_samples_leaf=3, min_samples_split=5, n_estimators=100, score=(train=1.000, test=0.590), total=   0.2s\n",
      "[CV] learning_rate=1, max_depth=1, min_samples_leaf=3, min_samples_split=5, n_estimators=100 \n",
      "[CV]  learning_rate=1, max_depth=1, min_samples_leaf=3, min_samples_split=5, n_estimators=100, score=(train=1.000, test=0.324), total=   0.2s\n",
      "[CV] learning_rate=1, max_depth=1, min_samples_leaf=3, min_samples_split=5, n_estimators=200 \n",
      "[CV]  learning_rate=1, max_depth=1, min_samples_leaf=3, min_samples_split=5, n_estimators=200, score=(train=1.000, test=0.229), total=   0.5s\n",
      "[CV] learning_rate=1, max_depth=1, min_samples_leaf=3, min_samples_split=5, n_estimators=200 \n",
      "[CV]  learning_rate=1, max_depth=1, min_samples_leaf=3, min_samples_split=5, n_estimators=200, score=(train=1.000, test=0.590), total=   0.4s\n",
      "[CV] learning_rate=1, max_depth=1, min_samples_leaf=3, min_samples_split=5, n_estimators=200 \n",
      "[CV]  learning_rate=1, max_depth=1, min_samples_leaf=3, min_samples_split=5, n_estimators=200, score=(train=1.000, test=0.324), total=   0.3s\n",
      "[CV] learning_rate=1, max_depth=1, min_samples_leaf=5, min_samples_split=2, n_estimators=50 \n",
      "[CV]  learning_rate=1, max_depth=1, min_samples_leaf=5, min_samples_split=2, n_estimators=50, score=(train=1.000, test=0.255), total=   0.1s\n",
      "[CV] learning_rate=1, max_depth=1, min_samples_leaf=5, min_samples_split=2, n_estimators=50 \n",
      "[CV]  learning_rate=1, max_depth=1, min_samples_leaf=5, min_samples_split=2, n_estimators=50, score=(train=1.000, test=0.376), total=   0.1s\n",
      "[CV] learning_rate=1, max_depth=1, min_samples_leaf=5, min_samples_split=2, n_estimators=50 \n",
      "[CV]  learning_rate=1, max_depth=1, min_samples_leaf=5, min_samples_split=2, n_estimators=50, score=(train=1.000, test=0.334), total=   0.1s\n",
      "[CV] learning_rate=1, max_depth=1, min_samples_leaf=5, min_samples_split=2, n_estimators=100 \n",
      "[CV]  learning_rate=1, max_depth=1, min_samples_leaf=5, min_samples_split=2, n_estimators=100, score=(train=1.000, test=0.229), total=   0.1s\n",
      "[CV] learning_rate=1, max_depth=1, min_samples_leaf=5, min_samples_split=2, n_estimators=100 \n"
     ]
    },
    {
     "name": "stdout",
     "output_type": "stream",
     "text": [
      "[CV]  learning_rate=1, max_depth=1, min_samples_leaf=5, min_samples_split=2, n_estimators=100, score=(train=1.000, test=0.374), total=   0.2s\n",
      "[CV] learning_rate=1, max_depth=1, min_samples_leaf=5, min_samples_split=2, n_estimators=100 \n",
      "[CV]  learning_rate=1, max_depth=1, min_samples_leaf=5, min_samples_split=2, n_estimators=100, score=(train=1.000, test=0.324), total=   0.1s\n",
      "[CV] learning_rate=1, max_depth=1, min_samples_leaf=5, min_samples_split=2, n_estimators=200 \n",
      "[CV]  learning_rate=1, max_depth=1, min_samples_leaf=5, min_samples_split=2, n_estimators=200, score=(train=1.000, test=0.229), total=   0.3s\n",
      "[CV] learning_rate=1, max_depth=1, min_samples_leaf=5, min_samples_split=2, n_estimators=200 \n",
      "[CV]  learning_rate=1, max_depth=1, min_samples_leaf=5, min_samples_split=2, n_estimators=200, score=(train=1.000, test=0.341), total=   0.3s\n",
      "[CV] learning_rate=1, max_depth=1, min_samples_leaf=5, min_samples_split=2, n_estimators=200 \n",
      "[CV]  learning_rate=1, max_depth=1, min_samples_leaf=5, min_samples_split=2, n_estimators=200, score=(train=1.000, test=0.324), total=   0.3s\n",
      "[CV] learning_rate=1, max_depth=1, min_samples_leaf=5, min_samples_split=5, n_estimators=50 \n",
      "[CV]  learning_rate=1, max_depth=1, min_samples_leaf=5, min_samples_split=5, n_estimators=50, score=(train=1.000, test=0.255), total=   0.1s\n",
      "[CV] learning_rate=1, max_depth=1, min_samples_leaf=5, min_samples_split=5, n_estimators=50 \n",
      "[CV]  learning_rate=1, max_depth=1, min_samples_leaf=5, min_samples_split=5, n_estimators=50, score=(train=1.000, test=0.374), total=   0.1s\n",
      "[CV] learning_rate=1, max_depth=1, min_samples_leaf=5, min_samples_split=5, n_estimators=50 \n",
      "[CV]  learning_rate=1, max_depth=1, min_samples_leaf=5, min_samples_split=5, n_estimators=50, score=(train=1.000, test=0.334), total=   0.1s\n",
      "[CV] learning_rate=1, max_depth=1, min_samples_leaf=5, min_samples_split=5, n_estimators=100 \n",
      "[CV]  learning_rate=1, max_depth=1, min_samples_leaf=5, min_samples_split=5, n_estimators=100, score=(train=1.000, test=0.229), total=   0.1s\n",
      "[CV] learning_rate=1, max_depth=1, min_samples_leaf=5, min_samples_split=5, n_estimators=100 \n",
      "[CV]  learning_rate=1, max_depth=1, min_samples_leaf=5, min_samples_split=5, n_estimators=100, score=(train=1.000, test=0.374), total=   0.1s\n",
      "[CV] learning_rate=1, max_depth=1, min_samples_leaf=5, min_samples_split=5, n_estimators=100 \n",
      "[CV]  learning_rate=1, max_depth=1, min_samples_leaf=5, min_samples_split=5, n_estimators=100, score=(train=1.000, test=0.324), total=   0.1s\n",
      "[CV] learning_rate=1, max_depth=1, min_samples_leaf=5, min_samples_split=5, n_estimators=200 \n",
      "[CV]  learning_rate=1, max_depth=1, min_samples_leaf=5, min_samples_split=5, n_estimators=200, score=(train=1.000, test=0.229), total=   0.3s\n",
      "[CV] learning_rate=1, max_depth=1, min_samples_leaf=5, min_samples_split=5, n_estimators=200 \n",
      "[CV]  learning_rate=1, max_depth=1, min_samples_leaf=5, min_samples_split=5, n_estimators=200, score=(train=1.000, test=0.341), total=   0.3s\n",
      "[CV] learning_rate=1, max_depth=1, min_samples_leaf=5, min_samples_split=5, n_estimators=200 \n",
      "[CV]  learning_rate=1, max_depth=1, min_samples_leaf=5, min_samples_split=5, n_estimators=200, score=(train=1.000, test=0.324), total=   0.3s\n",
      "[CV] learning_rate=1, max_depth=3, min_samples_leaf=1, min_samples_split=2, n_estimators=50 \n",
      "[CV]  learning_rate=1, max_depth=3, min_samples_leaf=1, min_samples_split=2, n_estimators=50, score=(train=1.000, test=0.222), total=   0.1s\n",
      "[CV] learning_rate=1, max_depth=3, min_samples_leaf=1, min_samples_split=2, n_estimators=50 \n",
      "[CV]  learning_rate=1, max_depth=3, min_samples_leaf=1, min_samples_split=2, n_estimators=50, score=(train=1.000, test=0.346), total=   0.1s\n",
      "[CV] learning_rate=1, max_depth=3, min_samples_leaf=1, min_samples_split=2, n_estimators=50 \n",
      "[CV]  learning_rate=1, max_depth=3, min_samples_leaf=1, min_samples_split=2, n_estimators=50, score=(train=1.000, test=0.351), total=   0.1s\n",
      "[CV] learning_rate=1, max_depth=3, min_samples_leaf=1, min_samples_split=2, n_estimators=100 \n",
      "[CV]  learning_rate=1, max_depth=3, min_samples_leaf=1, min_samples_split=2, n_estimators=100, score=(train=1.000, test=0.299), total=   0.1s\n",
      "[CV] learning_rate=1, max_depth=3, min_samples_leaf=1, min_samples_split=2, n_estimators=100 \n",
      "[CV]  learning_rate=1, max_depth=3, min_samples_leaf=1, min_samples_split=2, n_estimators=100, score=(train=1.000, test=0.372), total=   0.2s\n",
      "[CV] learning_rate=1, max_depth=3, min_samples_leaf=1, min_samples_split=2, n_estimators=100 \n",
      "[CV]  learning_rate=1, max_depth=3, min_samples_leaf=1, min_samples_split=2, n_estimators=100, score=(train=1.000, test=0.273), total=   0.1s\n",
      "[CV] learning_rate=1, max_depth=3, min_samples_leaf=1, min_samples_split=2, n_estimators=200 \n",
      "[CV]  learning_rate=1, max_depth=3, min_samples_leaf=1, min_samples_split=2, n_estimators=200, score=(train=1.000, test=0.229), total=   0.4s\n",
      "[CV] learning_rate=1, max_depth=3, min_samples_leaf=1, min_samples_split=2, n_estimators=200 \n",
      "[CV]  learning_rate=1, max_depth=3, min_samples_leaf=1, min_samples_split=2, n_estimators=200, score=(train=1.000, test=0.337), total=   0.6s\n",
      "[CV] learning_rate=1, max_depth=3, min_samples_leaf=1, min_samples_split=2, n_estimators=200 \n",
      "[CV]  learning_rate=1, max_depth=3, min_samples_leaf=1, min_samples_split=2, n_estimators=200, score=(train=1.000, test=0.264), total=   0.6s\n",
      "[CV] learning_rate=1, max_depth=3, min_samples_leaf=1, min_samples_split=5, n_estimators=50 \n",
      "[CV]  learning_rate=1, max_depth=3, min_samples_leaf=1, min_samples_split=5, n_estimators=50, score=(train=1.000, test=0.282), total=   0.1s\n",
      "[CV] learning_rate=1, max_depth=3, min_samples_leaf=1, min_samples_split=5, n_estimators=50 \n",
      "[CV]  learning_rate=1, max_depth=3, min_samples_leaf=1, min_samples_split=5, n_estimators=50, score=(train=1.000, test=0.456), total=   0.2s\n",
      "[CV] learning_rate=1, max_depth=3, min_samples_leaf=1, min_samples_split=5, n_estimators=50 \n",
      "[CV]  learning_rate=1, max_depth=3, min_samples_leaf=1, min_samples_split=5, n_estimators=50, score=(train=1.000, test=0.356), total=   0.2s\n",
      "[CV] learning_rate=1, max_depth=3, min_samples_leaf=1, min_samples_split=5, n_estimators=100 \n",
      "[CV]  learning_rate=1, max_depth=3, min_samples_leaf=1, min_samples_split=5, n_estimators=100, score=(train=1.000, test=0.295), total=   0.4s\n",
      "[CV] learning_rate=1, max_depth=3, min_samples_leaf=1, min_samples_split=5, n_estimators=100 \n",
      "[CV]  learning_rate=1, max_depth=3, min_samples_leaf=1, min_samples_split=5, n_estimators=100, score=(train=1.000, test=0.456), total=   0.2s\n",
      "[CV] learning_rate=1, max_depth=3, min_samples_leaf=1, min_samples_split=5, n_estimators=100 \n",
      "[CV]  learning_rate=1, max_depth=3, min_samples_leaf=1, min_samples_split=5, n_estimators=100, score=(train=1.000, test=0.302), total=   0.3s\n",
      "[CV] learning_rate=1, max_depth=3, min_samples_leaf=1, min_samples_split=5, n_estimators=200 \n",
      "[CV]  learning_rate=1, max_depth=3, min_samples_leaf=1, min_samples_split=5, n_estimators=200, score=(train=1.000, test=0.249), total=   0.3s\n",
      "[CV] learning_rate=1, max_depth=3, min_samples_leaf=1, min_samples_split=5, n_estimators=200 \n",
      "[CV]  learning_rate=1, max_depth=3, min_samples_leaf=1, min_samples_split=5, n_estimators=200, score=(train=1.000, test=0.372), total=   0.3s\n",
      "[CV] learning_rate=1, max_depth=3, min_samples_leaf=1, min_samples_split=5, n_estimators=200 \n",
      "[CV]  learning_rate=1, max_depth=3, min_samples_leaf=1, min_samples_split=5, n_estimators=200, score=(train=1.000, test=0.390), total=   0.3s\n",
      "[CV] learning_rate=1, max_depth=3, min_samples_leaf=3, min_samples_split=2, n_estimators=50 \n",
      "[CV]  learning_rate=1, max_depth=3, min_samples_leaf=3, min_samples_split=2, n_estimators=50, score=(train=1.000, test=0.253), total=   0.1s\n",
      "[CV] learning_rate=1, max_depth=3, min_samples_leaf=3, min_samples_split=2, n_estimators=50 \n",
      "[CV]  learning_rate=1, max_depth=3, min_samples_leaf=3, min_samples_split=2, n_estimators=50, score=(train=1.000, test=0.616), total=   0.1s\n",
      "[CV] learning_rate=1, max_depth=3, min_samples_leaf=3, min_samples_split=2, n_estimators=50 \n",
      "[CV]  learning_rate=1, max_depth=3, min_samples_leaf=3, min_samples_split=2, n_estimators=50, score=(train=1.000, test=0.404), total=   0.1s\n",
      "[CV] learning_rate=1, max_depth=3, min_samples_leaf=3, min_samples_split=2, n_estimators=100 \n"
     ]
    },
    {
     "name": "stdout",
     "output_type": "stream",
     "text": [
      "[CV]  learning_rate=1, max_depth=3, min_samples_leaf=3, min_samples_split=2, n_estimators=100, score=(train=1.000, test=0.319), total=   0.1s\n",
      "[CV] learning_rate=1, max_depth=3, min_samples_leaf=3, min_samples_split=2, n_estimators=100 \n",
      "[CV]  learning_rate=1, max_depth=3, min_samples_leaf=3, min_samples_split=2, n_estimators=100, score=(train=1.000, test=0.457), total=   0.1s\n",
      "[CV] learning_rate=1, max_depth=3, min_samples_leaf=3, min_samples_split=2, n_estimators=100 \n",
      "[CV]  learning_rate=1, max_depth=3, min_samples_leaf=3, min_samples_split=2, n_estimators=100, score=(train=1.000, test=0.295), total=   0.1s\n",
      "[CV] learning_rate=1, max_depth=3, min_samples_leaf=3, min_samples_split=2, n_estimators=200 \n",
      "[CV]  learning_rate=1, max_depth=3, min_samples_leaf=3, min_samples_split=2, n_estimators=200, score=(train=1.000, test=0.222), total=   0.3s\n",
      "[CV] learning_rate=1, max_depth=3, min_samples_leaf=3, min_samples_split=2, n_estimators=200 \n",
      "[CV]  learning_rate=1, max_depth=3, min_samples_leaf=3, min_samples_split=2, n_estimators=200, score=(train=1.000, test=0.437), total=   0.3s\n",
      "[CV] learning_rate=1, max_depth=3, min_samples_leaf=3, min_samples_split=2, n_estimators=200 \n",
      "[CV]  learning_rate=1, max_depth=3, min_samples_leaf=3, min_samples_split=2, n_estimators=200, score=(train=1.000, test=0.259), total=   0.6s\n",
      "[CV] learning_rate=1, max_depth=3, min_samples_leaf=3, min_samples_split=5, n_estimators=50 \n",
      "[CV]  learning_rate=1, max_depth=3, min_samples_leaf=3, min_samples_split=5, n_estimators=50, score=(train=1.000, test=0.375), total=   0.1s\n",
      "[CV] learning_rate=1, max_depth=3, min_samples_leaf=3, min_samples_split=5, n_estimators=50 \n",
      "[CV]  learning_rate=1, max_depth=3, min_samples_leaf=3, min_samples_split=5, n_estimators=50, score=(train=1.000, test=0.663), total=   0.1s\n",
      "[CV] learning_rate=1, max_depth=3, min_samples_leaf=3, min_samples_split=5, n_estimators=50 \n",
      "[CV]  learning_rate=1, max_depth=3, min_samples_leaf=3, min_samples_split=5, n_estimators=50, score=(train=1.000, test=0.404), total=   0.1s\n",
      "[CV] learning_rate=1, max_depth=3, min_samples_leaf=3, min_samples_split=5, n_estimators=100 \n",
      "[CV]  learning_rate=1, max_depth=3, min_samples_leaf=3, min_samples_split=5, n_estimators=100, score=(train=1.000, test=0.265), total=   0.1s\n",
      "[CV] learning_rate=1, max_depth=3, min_samples_leaf=3, min_samples_split=5, n_estimators=100 \n",
      "[CV]  learning_rate=1, max_depth=3, min_samples_leaf=3, min_samples_split=5, n_estimators=100, score=(train=1.000, test=0.472), total=   0.1s\n",
      "[CV] learning_rate=1, max_depth=3, min_samples_leaf=3, min_samples_split=5, n_estimators=100 \n",
      "[CV]  learning_rate=1, max_depth=3, min_samples_leaf=3, min_samples_split=5, n_estimators=100, score=(train=1.000, test=0.313), total=   0.3s\n",
      "[CV] learning_rate=1, max_depth=3, min_samples_leaf=3, min_samples_split=5, n_estimators=200 \n",
      "[CV]  learning_rate=1, max_depth=3, min_samples_leaf=3, min_samples_split=5, n_estimators=200, score=(train=1.000, test=0.288), total=   0.3s\n",
      "[CV] learning_rate=1, max_depth=3, min_samples_leaf=3, min_samples_split=5, n_estimators=200 \n"
     ]
    },
    {
     "name": "stderr",
     "output_type": "stream",
     "text": [
      "C:\\Users\\72445\\AppData\\Local\\Continuum\\anaconda3\\lib\\site-packages\\sklearn\\metrics\\classification.py:1437: UndefinedMetricWarning: F-score is ill-defined and being set to 0.0 in labels with no predicted samples.\n",
      "  'precision', 'predicted', average, warn_for)\n"
     ]
    },
    {
     "name": "stdout",
     "output_type": "stream",
     "text": [
      "[CV]  learning_rate=1, max_depth=3, min_samples_leaf=3, min_samples_split=5, n_estimators=200, score=(train=1.000, test=0.392), total=   0.3s\n",
      "[CV] learning_rate=1, max_depth=3, min_samples_leaf=3, min_samples_split=5, n_estimators=200 \n",
      "[CV]  learning_rate=1, max_depth=3, min_samples_leaf=3, min_samples_split=5, n_estimators=200, score=(train=1.000, test=0.259), total=   0.2s\n",
      "[CV] learning_rate=1, max_depth=3, min_samples_leaf=5, min_samples_split=2, n_estimators=50 \n",
      "[CV]  learning_rate=1, max_depth=3, min_samples_leaf=5, min_samples_split=2, n_estimators=50, score=(train=1.000, test=0.395), total=   0.1s\n",
      "[CV] learning_rate=1, max_depth=3, min_samples_leaf=5, min_samples_split=2, n_estimators=50 \n",
      "[CV]  learning_rate=1, max_depth=3, min_samples_leaf=5, min_samples_split=2, n_estimators=50, score=(train=1.000, test=0.489), total=   0.1s\n",
      "[CV] learning_rate=1, max_depth=3, min_samples_leaf=5, min_samples_split=2, n_estimators=50 \n",
      "[CV]  learning_rate=1, max_depth=3, min_samples_leaf=5, min_samples_split=2, n_estimators=50, score=(train=1.000, test=0.219), total=   0.1s\n",
      "[CV] learning_rate=1, max_depth=3, min_samples_leaf=5, min_samples_split=2, n_estimators=100 \n",
      "[CV]  learning_rate=1, max_depth=3, min_samples_leaf=5, min_samples_split=2, n_estimators=100, score=(train=1.000, test=0.306), total=   0.1s\n",
      "[CV] learning_rate=1, max_depth=3, min_samples_leaf=5, min_samples_split=2, n_estimators=100 \n",
      "[CV]  learning_rate=1, max_depth=3, min_samples_leaf=5, min_samples_split=2, n_estimators=100, score=(train=1.000, test=0.274), total=   0.2s\n",
      "[CV] learning_rate=1, max_depth=3, min_samples_leaf=5, min_samples_split=2, n_estimators=100 \n",
      "[CV]  learning_rate=1, max_depth=3, min_samples_leaf=5, min_samples_split=2, n_estimators=100, score=(train=1.000, test=0.359), total=   0.1s\n",
      "[CV] learning_rate=1, max_depth=3, min_samples_leaf=5, min_samples_split=2, n_estimators=200 \n"
     ]
    },
    {
     "name": "stderr",
     "output_type": "stream",
     "text": [
      "C:\\Users\\72445\\AppData\\Local\\Continuum\\anaconda3\\lib\\site-packages\\sklearn\\metrics\\classification.py:1437: UndefinedMetricWarning: F-score is ill-defined and being set to 0.0 in labels with no predicted samples.\n",
      "  'precision', 'predicted', average, warn_for)\n"
     ]
    },
    {
     "name": "stdout",
     "output_type": "stream",
     "text": [
      "[CV]  learning_rate=1, max_depth=3, min_samples_leaf=5, min_samples_split=2, n_estimators=200, score=(train=1.000, test=0.250), total=   0.3s\n",
      "[CV] learning_rate=1, max_depth=3, min_samples_leaf=5, min_samples_split=2, n_estimators=200 \n",
      "[CV]  learning_rate=1, max_depth=3, min_samples_leaf=5, min_samples_split=2, n_estimators=200, score=(train=1.000, test=0.274), total=   0.3s\n",
      "[CV] learning_rate=1, max_depth=3, min_samples_leaf=5, min_samples_split=2, n_estimators=200 \n",
      "[CV]  learning_rate=1, max_depth=3, min_samples_leaf=5, min_samples_split=2, n_estimators=200, score=(train=1.000, test=0.444), total=   0.3s\n",
      "[CV] learning_rate=1, max_depth=3, min_samples_leaf=5, min_samples_split=5, n_estimators=50 \n",
      "[CV]  learning_rate=1, max_depth=3, min_samples_leaf=5, min_samples_split=5, n_estimators=50, score=(train=1.000, test=0.323), total=   0.4s\n",
      "[CV] learning_rate=1, max_depth=3, min_samples_leaf=5, min_samples_split=5, n_estimators=50 \n",
      "[CV]  learning_rate=1, max_depth=3, min_samples_leaf=5, min_samples_split=5, n_estimators=50, score=(train=1.000, test=0.455), total=   0.1s\n",
      "[CV] learning_rate=1, max_depth=3, min_samples_leaf=5, min_samples_split=5, n_estimators=50 \n",
      "[CV]  learning_rate=1, max_depth=3, min_samples_leaf=5, min_samples_split=5, n_estimators=50, score=(train=1.000, test=0.369), total=   0.1s\n",
      "[CV] learning_rate=1, max_depth=3, min_samples_leaf=5, min_samples_split=5, n_estimators=100 \n",
      "[CV]  learning_rate=1, max_depth=3, min_samples_leaf=5, min_samples_split=5, n_estimators=100, score=(train=1.000, test=0.249), total=   0.2s\n",
      "[CV] learning_rate=1, max_depth=3, min_samples_leaf=5, min_samples_split=5, n_estimators=100 \n",
      "[CV]  learning_rate=1, max_depth=3, min_samples_leaf=5, min_samples_split=5, n_estimators=100, score=(train=1.000, test=0.230), total=   0.1s\n",
      "[CV] learning_rate=1, max_depth=3, min_samples_leaf=5, min_samples_split=5, n_estimators=100 \n",
      "[CV]  learning_rate=1, max_depth=3, min_samples_leaf=5, min_samples_split=5, n_estimators=100, score=(train=1.000, test=0.324), total=   0.1s\n",
      "[CV] learning_rate=1, max_depth=3, min_samples_leaf=5, min_samples_split=5, n_estimators=200 \n",
      "[CV]  learning_rate=1, max_depth=3, min_samples_leaf=5, min_samples_split=5, n_estimators=200, score=(train=1.000, test=0.263), total=   0.3s\n",
      "[CV] learning_rate=1, max_depth=3, min_samples_leaf=5, min_samples_split=5, n_estimators=200 \n",
      "[CV]  learning_rate=1, max_depth=3, min_samples_leaf=5, min_samples_split=5, n_estimators=200, score=(train=1.000, test=0.274), total=   0.2s\n",
      "[CV] learning_rate=1, max_depth=3, min_samples_leaf=5, min_samples_split=5, n_estimators=200 \n",
      "[CV]  learning_rate=1, max_depth=3, min_samples_leaf=5, min_samples_split=5, n_estimators=200, score=(train=1.000, test=0.288), total=   0.3s\n",
      "[CV] learning_rate=1, max_depth=6, min_samples_leaf=1, min_samples_split=2, n_estimators=50 \n",
      "[CV]  learning_rate=1, max_depth=6, min_samples_leaf=1, min_samples_split=2, n_estimators=50, score=(train=1.000, test=0.133), total=   0.1s\n",
      "[CV] learning_rate=1, max_depth=6, min_samples_leaf=1, min_samples_split=2, n_estimators=50 \n",
      "[CV]  learning_rate=1, max_depth=6, min_samples_leaf=1, min_samples_split=2, n_estimators=50, score=(train=1.000, test=0.401), total=   0.1s\n",
      "[CV] learning_rate=1, max_depth=6, min_samples_leaf=1, min_samples_split=2, n_estimators=50 \n",
      "[CV]  learning_rate=1, max_depth=6, min_samples_leaf=1, min_samples_split=2, n_estimators=50, score=(train=1.000, test=0.348), total=   0.1s\n",
      "[CV] learning_rate=1, max_depth=6, min_samples_leaf=1, min_samples_split=2, n_estimators=100 \n",
      "[CV]  learning_rate=1, max_depth=6, min_samples_leaf=1, min_samples_split=2, n_estimators=100, score=(train=1.000, test=0.211), total=   0.1s\n",
      "[CV] learning_rate=1, max_depth=6, min_samples_leaf=1, min_samples_split=2, n_estimators=100 \n",
      "[CV]  learning_rate=1, max_depth=6, min_samples_leaf=1, min_samples_split=2, n_estimators=100, score=(train=1.000, test=0.444), total=   0.3s\n",
      "[CV] learning_rate=1, max_depth=6, min_samples_leaf=1, min_samples_split=2, n_estimators=100 \n",
      "[CV]  learning_rate=1, max_depth=6, min_samples_leaf=1, min_samples_split=2, n_estimators=100, score=(train=1.000, test=0.285), total=   0.2s\n",
      "[CV] learning_rate=1, max_depth=6, min_samples_leaf=1, min_samples_split=2, n_estimators=200 \n",
      "[CV]  learning_rate=1, max_depth=6, min_samples_leaf=1, min_samples_split=2, n_estimators=200, score=(train=1.000, test=0.290), total=   0.3s\n",
      "[CV] learning_rate=1, max_depth=6, min_samples_leaf=1, min_samples_split=2, n_estimators=200 \n",
      "[CV]  learning_rate=1, max_depth=6, min_samples_leaf=1, min_samples_split=2, n_estimators=200, score=(train=1.000, test=0.459), total=   0.3s\n",
      "[CV] learning_rate=1, max_depth=6, min_samples_leaf=1, min_samples_split=2, n_estimators=200 \n",
      "[CV]  learning_rate=1, max_depth=6, min_samples_leaf=1, min_samples_split=2, n_estimators=200, score=(train=1.000, test=0.369), total=   0.4s\n",
      "[CV] learning_rate=1, max_depth=6, min_samples_leaf=1, min_samples_split=5, n_estimators=50 \n",
      "[CV]  learning_rate=1, max_depth=6, min_samples_leaf=1, min_samples_split=5, n_estimators=50, score=(train=1.000, test=0.227), total=   0.1s\n",
      "[CV] learning_rate=1, max_depth=6, min_samples_leaf=1, min_samples_split=5, n_estimators=50 \n",
      "[CV]  learning_rate=1, max_depth=6, min_samples_leaf=1, min_samples_split=5, n_estimators=50, score=(train=1.000, test=0.346), total=   0.1s\n",
      "[CV] learning_rate=1, max_depth=6, min_samples_leaf=1, min_samples_split=5, n_estimators=50 \n",
      "[CV]  learning_rate=1, max_depth=6, min_samples_leaf=1, min_samples_split=5, n_estimators=50, score=(train=1.000, test=0.148), total=   0.1s\n",
      "[CV] learning_rate=1, max_depth=6, min_samples_leaf=1, min_samples_split=5, n_estimators=100 \n",
      "[CV]  learning_rate=1, max_depth=6, min_samples_leaf=1, min_samples_split=5, n_estimators=100, score=(train=1.000, test=0.291), total=   0.2s\n",
      "[CV] learning_rate=1, max_depth=6, min_samples_leaf=1, min_samples_split=5, n_estimators=100 \n",
      "[CV]  learning_rate=1, max_depth=6, min_samples_leaf=1, min_samples_split=5, n_estimators=100, score=(train=1.000, test=0.320), total=   0.2s\n",
      "[CV] learning_rate=1, max_depth=6, min_samples_leaf=1, min_samples_split=5, n_estimators=100 \n",
      "[CV]  learning_rate=1, max_depth=6, min_samples_leaf=1, min_samples_split=5, n_estimators=100, score=(train=1.000, test=0.292), total=   0.2s\n",
      "[CV] learning_rate=1, max_depth=6, min_samples_leaf=1, min_samples_split=5, n_estimators=200 \n",
      "[CV]  learning_rate=1, max_depth=6, min_samples_leaf=1, min_samples_split=5, n_estimators=200, score=(train=1.000, test=0.365), total=   0.3s\n",
      "[CV] learning_rate=1, max_depth=6, min_samples_leaf=1, min_samples_split=5, n_estimators=200 \n",
      "[CV]  learning_rate=1, max_depth=6, min_samples_leaf=1, min_samples_split=5, n_estimators=200, score=(train=1.000, test=0.444), total=   0.3s\n",
      "[CV] learning_rate=1, max_depth=6, min_samples_leaf=1, min_samples_split=5, n_estimators=200 \n",
      "[CV]  learning_rate=1, max_depth=6, min_samples_leaf=1, min_samples_split=5, n_estimators=200, score=(train=1.000, test=0.248), total=   0.2s\n",
      "[CV] learning_rate=1, max_depth=6, min_samples_leaf=3, min_samples_split=2, n_estimators=50 \n",
      "[CV]  learning_rate=1, max_depth=6, min_samples_leaf=3, min_samples_split=2, n_estimators=50, score=(train=1.000, test=0.272), total=   0.1s\n",
      "[CV] learning_rate=1, max_depth=6, min_samples_leaf=3, min_samples_split=2, n_estimators=50 \n",
      "[CV]  learning_rate=1, max_depth=6, min_samples_leaf=3, min_samples_split=2, n_estimators=50, score=(train=1.000, test=0.386), total=   0.1s\n",
      "[CV] learning_rate=1, max_depth=6, min_samples_leaf=3, min_samples_split=2, n_estimators=50 \n",
      "[CV]  learning_rate=1, max_depth=6, min_samples_leaf=3, min_samples_split=2, n_estimators=50, score=(train=1.000, test=0.388), total=   0.1s\n",
      "[CV] learning_rate=1, max_depth=6, min_samples_leaf=3, min_samples_split=2, n_estimators=100 \n",
      "[CV]  learning_rate=1, max_depth=6, min_samples_leaf=3, min_samples_split=2, n_estimators=100, score=(train=1.000, test=0.222), total=   0.1s\n",
      "[CV] learning_rate=1, max_depth=6, min_samples_leaf=3, min_samples_split=2, n_estimators=100 \n"
     ]
    },
    {
     "name": "stderr",
     "output_type": "stream",
     "text": [
      "C:\\Users\\72445\\AppData\\Local\\Continuum\\anaconda3\\lib\\site-packages\\sklearn\\metrics\\classification.py:1437: UndefinedMetricWarning: F-score is ill-defined and being set to 0.0 in labels with no predicted samples.\n",
      "  'precision', 'predicted', average, warn_for)\n"
     ]
    },
    {
     "name": "stdout",
     "output_type": "stream",
     "text": [
      "[CV]  learning_rate=1, max_depth=6, min_samples_leaf=3, min_samples_split=2, n_estimators=100, score=(train=1.000, test=0.286), total=   0.2s\n",
      "[CV] learning_rate=1, max_depth=6, min_samples_leaf=3, min_samples_split=2, n_estimators=100 \n",
      "[CV]  learning_rate=1, max_depth=6, min_samples_leaf=3, min_samples_split=2, n_estimators=100, score=(train=1.000, test=0.359), total=   0.2s\n",
      "[CV] learning_rate=1, max_depth=6, min_samples_leaf=3, min_samples_split=2, n_estimators=200 \n",
      "[CV]  learning_rate=1, max_depth=6, min_samples_leaf=3, min_samples_split=2, n_estimators=200, score=(train=1.000, test=0.345), total=   0.4s\n",
      "[CV] learning_rate=1, max_depth=6, min_samples_leaf=3, min_samples_split=2, n_estimators=200 \n",
      "[CV]  learning_rate=1, max_depth=6, min_samples_leaf=3, min_samples_split=2, n_estimators=200, score=(train=1.000, test=0.413), total=   0.4s\n",
      "[CV] learning_rate=1, max_depth=6, min_samples_leaf=3, min_samples_split=2, n_estimators=200 \n",
      "[CV]  learning_rate=1, max_depth=6, min_samples_leaf=3, min_samples_split=2, n_estimators=200, score=(train=1.000, test=0.330), total=   0.2s\n",
      "[CV] learning_rate=1, max_depth=6, min_samples_leaf=3, min_samples_split=5, n_estimators=50 \n",
      "[CV]  learning_rate=1, max_depth=6, min_samples_leaf=3, min_samples_split=5, n_estimators=50, score=(train=1.000, test=0.240), total=   0.1s\n",
      "[CV] learning_rate=1, max_depth=6, min_samples_leaf=3, min_samples_split=5, n_estimators=50 \n",
      "[CV]  learning_rate=1, max_depth=6, min_samples_leaf=3, min_samples_split=5, n_estimators=50, score=(train=1.000, test=0.349), total=   0.1s\n",
      "[CV] learning_rate=1, max_depth=6, min_samples_leaf=3, min_samples_split=5, n_estimators=50 \n",
      "[CV]  learning_rate=1, max_depth=6, min_samples_leaf=3, min_samples_split=5, n_estimators=50, score=(train=1.000, test=0.283), total=   0.1s\n",
      "[CV] learning_rate=1, max_depth=6, min_samples_leaf=3, min_samples_split=5, n_estimators=100 \n",
      "[CV]  learning_rate=1, max_depth=6, min_samples_leaf=3, min_samples_split=5, n_estimators=100, score=(train=1.000, test=0.202), total=   0.1s\n",
      "[CV] learning_rate=1, max_depth=6, min_samples_leaf=3, min_samples_split=5, n_estimators=100 \n",
      "[CV]  learning_rate=1, max_depth=6, min_samples_leaf=3, min_samples_split=5, n_estimators=100, score=(train=1.000, test=0.456), total=   0.2s\n",
      "[CV] learning_rate=1, max_depth=6, min_samples_leaf=3, min_samples_split=5, n_estimators=100 \n",
      "[CV]  learning_rate=1, max_depth=6, min_samples_leaf=3, min_samples_split=5, n_estimators=100, score=(train=1.000, test=0.359), total=   0.2s\n",
      "[CV] learning_rate=1, max_depth=6, min_samples_leaf=3, min_samples_split=5, n_estimators=200 \n",
      "[CV]  learning_rate=1, max_depth=6, min_samples_leaf=3, min_samples_split=5, n_estimators=200, score=(train=1.000, test=0.314), total=   0.4s\n",
      "[CV] learning_rate=1, max_depth=6, min_samples_leaf=3, min_samples_split=5, n_estimators=200 \n"
     ]
    },
    {
     "name": "stderr",
     "output_type": "stream",
     "text": [
      "C:\\Users\\72445\\AppData\\Local\\Continuum\\anaconda3\\lib\\site-packages\\sklearn\\metrics\\classification.py:1437: UndefinedMetricWarning: F-score is ill-defined and being set to 0.0 in labels with no predicted samples.\n",
      "  'precision', 'predicted', average, warn_for)\n"
     ]
    },
    {
     "name": "stdout",
     "output_type": "stream",
     "text": [
      "[CV]  learning_rate=1, max_depth=6, min_samples_leaf=3, min_samples_split=5, n_estimators=200, score=(train=1.000, test=0.452), total=   0.4s\n",
      "[CV] learning_rate=1, max_depth=6, min_samples_leaf=3, min_samples_split=5, n_estimators=200 \n",
      "[CV]  learning_rate=1, max_depth=6, min_samples_leaf=3, min_samples_split=5, n_estimators=200, score=(train=1.000, test=0.251), total=   0.4s\n",
      "[CV] learning_rate=1, max_depth=6, min_samples_leaf=5, min_samples_split=2, n_estimators=50 \n",
      "[CV]  learning_rate=1, max_depth=6, min_samples_leaf=5, min_samples_split=2, n_estimators=50, score=(train=1.000, test=0.370), total=   0.1s\n",
      "[CV] learning_rate=1, max_depth=6, min_samples_leaf=5, min_samples_split=2, n_estimators=50 \n",
      "[CV]  learning_rate=1, max_depth=6, min_samples_leaf=5, min_samples_split=2, n_estimators=50, score=(train=1.000, test=0.392), total=   0.2s\n",
      "[CV] learning_rate=1, max_depth=6, min_samples_leaf=5, min_samples_split=2, n_estimators=50 \n",
      "[CV]  learning_rate=1, max_depth=6, min_samples_leaf=5, min_samples_split=2, n_estimators=50, score=(train=1.000, test=0.351), total=   0.1s\n",
      "[CV] learning_rate=1, max_depth=6, min_samples_leaf=5, min_samples_split=2, n_estimators=100 \n",
      "[CV]  learning_rate=1, max_depth=6, min_samples_leaf=5, min_samples_split=2, n_estimators=100, score=(train=1.000, test=0.241), total=   0.1s\n",
      "[CV] learning_rate=1, max_depth=6, min_samples_leaf=5, min_samples_split=2, n_estimators=100 \n",
      "[CV]  learning_rate=1, max_depth=6, min_samples_leaf=5, min_samples_split=2, n_estimators=100, score=(train=1.000, test=0.333), total=   0.1s\n",
      "[CV] learning_rate=1, max_depth=6, min_samples_leaf=5, min_samples_split=2, n_estimators=100 \n",
      "[CV]  learning_rate=1, max_depth=6, min_samples_leaf=5, min_samples_split=2, n_estimators=100, score=(train=1.000, test=0.403), total=   0.1s\n",
      "[CV] learning_rate=1, max_depth=6, min_samples_leaf=5, min_samples_split=2, n_estimators=200 \n",
      "[CV]  learning_rate=1, max_depth=6, min_samples_leaf=5, min_samples_split=2, n_estimators=200, score=(train=1.000, test=0.314), total=   0.3s\n",
      "[CV] learning_rate=1, max_depth=6, min_samples_leaf=5, min_samples_split=2, n_estimators=200 \n"
     ]
    },
    {
     "name": "stderr",
     "output_type": "stream",
     "text": [
      "C:\\Users\\72445\\AppData\\Local\\Continuum\\anaconda3\\lib\\site-packages\\sklearn\\metrics\\classification.py:1437: UndefinedMetricWarning: F-score is ill-defined and being set to 0.0 in labels with no predicted samples.\n",
      "  'precision', 'predicted', average, warn_for)\n"
     ]
    },
    {
     "name": "stdout",
     "output_type": "stream",
     "text": [
      "[CV]  learning_rate=1, max_depth=6, min_samples_leaf=5, min_samples_split=2, n_estimators=200, score=(train=1.000, test=0.310), total=   0.2s\n",
      "[CV] learning_rate=1, max_depth=6, min_samples_leaf=5, min_samples_split=2, n_estimators=200 \n",
      "[CV]  learning_rate=1, max_depth=6, min_samples_leaf=5, min_samples_split=2, n_estimators=200, score=(train=1.000, test=0.400), total=   0.2s\n",
      "[CV] learning_rate=1, max_depth=6, min_samples_leaf=5, min_samples_split=5, n_estimators=50 \n",
      "[CV]  learning_rate=1, max_depth=6, min_samples_leaf=5, min_samples_split=5, n_estimators=50, score=(train=1.000, test=0.317), total=   0.1s\n",
      "[CV] learning_rate=1, max_depth=6, min_samples_leaf=5, min_samples_split=5, n_estimators=50 \n",
      "[CV]  learning_rate=1, max_depth=6, min_samples_leaf=5, min_samples_split=5, n_estimators=50, score=(train=1.000, test=0.361), total=   0.1s\n",
      "[CV] learning_rate=1, max_depth=6, min_samples_leaf=5, min_samples_split=5, n_estimators=50 \n"
     ]
    },
    {
     "name": "stderr",
     "output_type": "stream",
     "text": [
      "C:\\Users\\72445\\AppData\\Local\\Continuum\\anaconda3\\lib\\site-packages\\sklearn\\metrics\\classification.py:1437: UndefinedMetricWarning: F-score is ill-defined and being set to 0.0 in labels with no predicted samples.\n",
      "  'precision', 'predicted', average, warn_for)\n"
     ]
    },
    {
     "name": "stdout",
     "output_type": "stream",
     "text": [
      "[CV]  learning_rate=1, max_depth=6, min_samples_leaf=5, min_samples_split=5, n_estimators=50, score=(train=1.000, test=0.369), total=   0.1s\n",
      "[CV] learning_rate=1, max_depth=6, min_samples_leaf=5, min_samples_split=5, n_estimators=100 \n",
      "[CV]  learning_rate=1, max_depth=6, min_samples_leaf=5, min_samples_split=5, n_estimators=100, score=(train=1.000, test=0.314), total=   0.1s\n",
      "[CV] learning_rate=1, max_depth=6, min_samples_leaf=5, min_samples_split=5, n_estimators=100 \n",
      "[CV]  learning_rate=1, max_depth=6, min_samples_leaf=5, min_samples_split=5, n_estimators=100, score=(train=1.000, test=0.386), total=   0.1s\n",
      "[CV] learning_rate=1, max_depth=6, min_samples_leaf=5, min_samples_split=5, n_estimators=100 \n",
      "[CV]  learning_rate=1, max_depth=6, min_samples_leaf=5, min_samples_split=5, n_estimators=100, score=(train=1.000, test=0.307), total=   0.1s\n",
      "[CV] learning_rate=1, max_depth=6, min_samples_leaf=5, min_samples_split=5, n_estimators=200 \n",
      "[CV]  learning_rate=1, max_depth=6, min_samples_leaf=5, min_samples_split=5, n_estimators=200, score=(train=1.000, test=0.370), total=   0.2s\n",
      "[CV] learning_rate=1, max_depth=6, min_samples_leaf=5, min_samples_split=5, n_estimators=200 \n",
      "[CV]  learning_rate=1, max_depth=6, min_samples_leaf=5, min_samples_split=5, n_estimators=200, score=(train=1.000, test=0.408), total=   0.2s\n",
      "[CV] learning_rate=1, max_depth=6, min_samples_leaf=5, min_samples_split=5, n_estimators=200 \n",
      "[CV]  learning_rate=1, max_depth=6, min_samples_leaf=5, min_samples_split=5, n_estimators=200, score=(train=1.000, test=0.199), total=   0.3s\n",
      "[CV] learning_rate=0.1, max_depth=1, min_samples_leaf=1, min_samples_split=2, n_estimators=50 \n",
      "[CV]  learning_rate=0.1, max_depth=1, min_samples_leaf=1, min_samples_split=2, n_estimators=50, score=(train=0.925, test=0.222), total=   0.1s\n",
      "[CV] learning_rate=0.1, max_depth=1, min_samples_leaf=1, min_samples_split=2, n_estimators=50 \n",
      "[CV]  learning_rate=0.1, max_depth=1, min_samples_leaf=1, min_samples_split=2, n_estimators=50, score=(train=0.966, test=0.408), total=   0.1s\n",
      "[CV] learning_rate=0.1, max_depth=1, min_samples_leaf=1, min_samples_split=2, n_estimators=50 \n",
      "[CV]  learning_rate=0.1, max_depth=1, min_samples_leaf=1, min_samples_split=2, n_estimators=50, score=(train=0.948, test=0.273), total=   0.2s\n",
      "[CV] learning_rate=0.1, max_depth=1, min_samples_leaf=1, min_samples_split=2, n_estimators=100 \n",
      "[CV]  learning_rate=0.1, max_depth=1, min_samples_leaf=1, min_samples_split=2, n_estimators=100, score=(train=1.000, test=0.290), total=   0.3s\n",
      "[CV] learning_rate=0.1, max_depth=1, min_samples_leaf=1, min_samples_split=2, n_estimators=100 \n",
      "[CV]  learning_rate=0.1, max_depth=1, min_samples_leaf=1, min_samples_split=2, n_estimators=100, score=(train=1.000, test=0.547), total=   0.2s\n",
      "[CV] learning_rate=0.1, max_depth=1, min_samples_leaf=1, min_samples_split=2, n_estimators=100 \n",
      "[CV]  learning_rate=0.1, max_depth=1, min_samples_leaf=1, min_samples_split=2, n_estimators=100, score=(train=0.982, test=0.319), total=   0.1s\n",
      "[CV] learning_rate=0.1, max_depth=1, min_samples_leaf=1, min_samples_split=2, n_estimators=200 \n",
      "[CV]  learning_rate=0.1, max_depth=1, min_samples_leaf=1, min_samples_split=2, n_estimators=200, score=(train=1.000, test=0.345), total=   0.3s\n",
      "[CV] learning_rate=0.1, max_depth=1, min_samples_leaf=1, min_samples_split=2, n_estimators=200 \n",
      "[CV]  learning_rate=0.1, max_depth=1, min_samples_leaf=1, min_samples_split=2, n_estimators=200, score=(train=1.000, test=0.611), total=   0.3s\n",
      "[CV] learning_rate=0.1, max_depth=1, min_samples_leaf=1, min_samples_split=2, n_estimators=200 \n",
      "[CV]  learning_rate=0.1, max_depth=1, min_samples_leaf=1, min_samples_split=2, n_estimators=200, score=(train=1.000, test=0.319), total=   0.3s\n",
      "[CV] learning_rate=0.1, max_depth=1, min_samples_leaf=1, min_samples_split=5, n_estimators=50 \n",
      "[CV]  learning_rate=0.1, max_depth=1, min_samples_leaf=1, min_samples_split=5, n_estimators=50, score=(train=0.925, test=0.222), total=   0.1s\n",
      "[CV] learning_rate=0.1, max_depth=1, min_samples_leaf=1, min_samples_split=5, n_estimators=50 \n",
      "[CV]  learning_rate=0.1, max_depth=1, min_samples_leaf=1, min_samples_split=5, n_estimators=50, score=(train=0.966, test=0.268), total=   0.1s\n",
      "[CV] learning_rate=0.1, max_depth=1, min_samples_leaf=1, min_samples_split=5, n_estimators=50 \n",
      "[CV]  learning_rate=0.1, max_depth=1, min_samples_leaf=1, min_samples_split=5, n_estimators=50, score=(train=0.948, test=0.273), total=   0.1s\n",
      "[CV] learning_rate=0.1, max_depth=1, min_samples_leaf=1, min_samples_split=5, n_estimators=100 \n",
      "[CV]  learning_rate=0.1, max_depth=1, min_samples_leaf=1, min_samples_split=5, n_estimators=100, score=(train=1.000, test=0.290), total=   0.1s\n",
      "[CV] learning_rate=0.1, max_depth=1, min_samples_leaf=1, min_samples_split=5, n_estimators=100 \n",
      "[CV]  learning_rate=0.1, max_depth=1, min_samples_leaf=1, min_samples_split=5, n_estimators=100, score=(train=1.000, test=0.527), total=   0.1s\n",
      "[CV] learning_rate=0.1, max_depth=1, min_samples_leaf=1, min_samples_split=5, n_estimators=100 \n",
      "[CV]  learning_rate=0.1, max_depth=1, min_samples_leaf=1, min_samples_split=5, n_estimators=100, score=(train=0.982, test=0.351), total=   0.1s\n",
      "[CV] learning_rate=0.1, max_depth=1, min_samples_leaf=1, min_samples_split=5, n_estimators=200 \n",
      "[CV]  learning_rate=0.1, max_depth=1, min_samples_leaf=1, min_samples_split=5, n_estimators=200, score=(train=1.000, test=0.345), total=   0.3s\n",
      "[CV] learning_rate=0.1, max_depth=1, min_samples_leaf=1, min_samples_split=5, n_estimators=200 \n",
      "[CV]  learning_rate=0.1, max_depth=1, min_samples_leaf=1, min_samples_split=5, n_estimators=200, score=(train=1.000, test=0.611), total=   0.3s\n",
      "[CV] learning_rate=0.1, max_depth=1, min_samples_leaf=1, min_samples_split=5, n_estimators=200 \n",
      "[CV]  learning_rate=0.1, max_depth=1, min_samples_leaf=1, min_samples_split=5, n_estimators=200, score=(train=1.000, test=0.319), total=   0.3s\n",
      "[CV] learning_rate=0.1, max_depth=1, min_samples_leaf=3, min_samples_split=2, n_estimators=50 \n",
      "[CV]  learning_rate=0.1, max_depth=1, min_samples_leaf=3, min_samples_split=2, n_estimators=50, score=(train=0.881, test=0.217), total=   0.1s\n",
      "[CV] learning_rate=0.1, max_depth=1, min_samples_leaf=3, min_samples_split=2, n_estimators=50 \n",
      "[CV]  learning_rate=0.1, max_depth=1, min_samples_leaf=3, min_samples_split=2, n_estimators=50, score=(train=0.927, test=0.268), total=   0.1s\n",
      "[CV] learning_rate=0.1, max_depth=1, min_samples_leaf=3, min_samples_split=2, n_estimators=50 \n",
      "[CV]  learning_rate=0.1, max_depth=1, min_samples_leaf=3, min_samples_split=2, n_estimators=50, score=(train=0.913, test=0.273), total=   0.1s\n",
      "[CV] learning_rate=0.1, max_depth=1, min_samples_leaf=3, min_samples_split=2, n_estimators=100 \n",
      "[CV]  learning_rate=0.1, max_depth=1, min_samples_leaf=3, min_samples_split=2, n_estimators=100, score=(train=1.000, test=0.196), total=   0.2s\n",
      "[CV] learning_rate=0.1, max_depth=1, min_samples_leaf=3, min_samples_split=2, n_estimators=100 \n",
      "[CV]  learning_rate=0.1, max_depth=1, min_samples_leaf=3, min_samples_split=2, n_estimators=100, score=(train=1.000, test=0.493), total=   0.2s\n",
      "[CV] learning_rate=0.1, max_depth=1, min_samples_leaf=3, min_samples_split=2, n_estimators=100 \n",
      "[CV]  learning_rate=0.1, max_depth=1, min_samples_leaf=3, min_samples_split=2, n_estimators=100, score=(train=0.982, test=0.273), total=   0.1s\n",
      "[CV] learning_rate=0.1, max_depth=1, min_samples_leaf=3, min_samples_split=2, n_estimators=200 \n",
      "[CV]  learning_rate=0.1, max_depth=1, min_samples_leaf=3, min_samples_split=2, n_estimators=200, score=(train=1.000, test=0.288), total=   0.3s\n",
      "[CV] learning_rate=0.1, max_depth=1, min_samples_leaf=3, min_samples_split=2, n_estimators=200 \n",
      "[CV]  learning_rate=0.1, max_depth=1, min_samples_leaf=3, min_samples_split=2, n_estimators=200, score=(train=1.000, test=0.542), total=   0.3s\n",
      "[CV] learning_rate=0.1, max_depth=1, min_samples_leaf=3, min_samples_split=2, n_estimators=200 \n",
      "[CV]  learning_rate=0.1, max_depth=1, min_samples_leaf=3, min_samples_split=2, n_estimators=200, score=(train=1.000, test=0.247), total=   0.3s\n",
      "[CV] learning_rate=0.1, max_depth=1, min_samples_leaf=3, min_samples_split=5, n_estimators=50 \n",
      "[CV]  learning_rate=0.1, max_depth=1, min_samples_leaf=3, min_samples_split=5, n_estimators=50, score=(train=0.881, test=0.217), total=   0.1s\n",
      "[CV] learning_rate=0.1, max_depth=1, min_samples_leaf=3, min_samples_split=5, n_estimators=50 \n",
      "[CV]  learning_rate=0.1, max_depth=1, min_samples_leaf=3, min_samples_split=5, n_estimators=50, score=(train=0.927, test=0.268), total=   0.1s\n",
      "[CV] learning_rate=0.1, max_depth=1, min_samples_leaf=3, min_samples_split=5, n_estimators=50 \n"
     ]
    },
    {
     "name": "stdout",
     "output_type": "stream",
     "text": [
      "[CV]  learning_rate=0.1, max_depth=1, min_samples_leaf=3, min_samples_split=5, n_estimators=50, score=(train=0.913, test=0.273), total=   0.1s\n",
      "[CV] learning_rate=0.1, max_depth=1, min_samples_leaf=3, min_samples_split=5, n_estimators=100 \n",
      "[CV]  learning_rate=0.1, max_depth=1, min_samples_leaf=3, min_samples_split=5, n_estimators=100, score=(train=1.000, test=0.196), total=   0.1s\n",
      "[CV] learning_rate=0.1, max_depth=1, min_samples_leaf=3, min_samples_split=5, n_estimators=100 \n",
      "[CV]  learning_rate=0.1, max_depth=1, min_samples_leaf=3, min_samples_split=5, n_estimators=100, score=(train=1.000, test=0.493), total=   0.2s\n",
      "[CV] learning_rate=0.1, max_depth=1, min_samples_leaf=3, min_samples_split=5, n_estimators=100 \n",
      "[CV]  learning_rate=0.1, max_depth=1, min_samples_leaf=3, min_samples_split=5, n_estimators=100, score=(train=0.982, test=0.273), total=   0.2s\n",
      "[CV] learning_rate=0.1, max_depth=1, min_samples_leaf=3, min_samples_split=5, n_estimators=200 \n",
      "[CV]  learning_rate=0.1, max_depth=1, min_samples_leaf=3, min_samples_split=5, n_estimators=200, score=(train=1.000, test=0.288), total=   0.3s\n",
      "[CV] learning_rate=0.1, max_depth=1, min_samples_leaf=3, min_samples_split=5, n_estimators=200 \n",
      "[CV]  learning_rate=0.1, max_depth=1, min_samples_leaf=3, min_samples_split=5, n_estimators=200, score=(train=1.000, test=0.542), total=   0.3s\n",
      "[CV] learning_rate=0.1, max_depth=1, min_samples_leaf=3, min_samples_split=5, n_estimators=200 \n",
      "[CV]  learning_rate=0.1, max_depth=1, min_samples_leaf=3, min_samples_split=5, n_estimators=200, score=(train=1.000, test=0.247), total=   0.3s\n",
      "[CV] learning_rate=0.1, max_depth=1, min_samples_leaf=5, min_samples_split=2, n_estimators=50 \n",
      "[CV]  learning_rate=0.1, max_depth=1, min_samples_leaf=5, min_samples_split=2, n_estimators=50, score=(train=0.863, test=0.267), total=   0.1s\n",
      "[CV] learning_rate=0.1, max_depth=1, min_samples_leaf=5, min_samples_split=2, n_estimators=50 \n",
      "[CV]  learning_rate=0.1, max_depth=1, min_samples_leaf=5, min_samples_split=2, n_estimators=50, score=(train=0.927, test=0.268), total=   0.1s\n",
      "[CV] learning_rate=0.1, max_depth=1, min_samples_leaf=5, min_samples_split=2, n_estimators=50 \n",
      "[CV]  learning_rate=0.1, max_depth=1, min_samples_leaf=5, min_samples_split=2, n_estimators=50, score=(train=0.913, test=0.328), total=   0.1s\n",
      "[CV] learning_rate=0.1, max_depth=1, min_samples_leaf=5, min_samples_split=2, n_estimators=100 \n",
      "[CV]  learning_rate=0.1, max_depth=1, min_samples_leaf=5, min_samples_split=2, n_estimators=100, score=(train=1.000, test=0.223), total=   0.1s\n",
      "[CV] learning_rate=0.1, max_depth=1, min_samples_leaf=5, min_samples_split=2, n_estimators=100 \n",
      "[CV]  learning_rate=0.1, max_depth=1, min_samples_leaf=5, min_samples_split=2, n_estimators=100, score=(train=1.000, test=0.369), total=   0.2s\n",
      "[CV] learning_rate=0.1, max_depth=1, min_samples_leaf=5, min_samples_split=2, n_estimators=100 \n",
      "[CV]  learning_rate=0.1, max_depth=1, min_samples_leaf=5, min_samples_split=2, n_estimators=100, score=(train=0.982, test=0.328), total=   0.2s\n",
      "[CV] learning_rate=0.1, max_depth=1, min_samples_leaf=5, min_samples_split=2, n_estimators=200 \n",
      "[CV]  learning_rate=0.1, max_depth=1, min_samples_leaf=5, min_samples_split=2, n_estimators=200, score=(train=1.000, test=0.288), total=   0.3s\n",
      "[CV] learning_rate=0.1, max_depth=1, min_samples_leaf=5, min_samples_split=2, n_estimators=200 \n",
      "[CV]  learning_rate=0.1, max_depth=1, min_samples_leaf=5, min_samples_split=2, n_estimators=200, score=(train=1.000, test=0.364), total=   0.3s\n",
      "[CV] learning_rate=0.1, max_depth=1, min_samples_leaf=5, min_samples_split=2, n_estimators=200 \n",
      "[CV]  learning_rate=0.1, max_depth=1, min_samples_leaf=5, min_samples_split=2, n_estimators=200, score=(train=1.000, test=0.334), total=   0.3s\n",
      "[CV] learning_rate=0.1, max_depth=1, min_samples_leaf=5, min_samples_split=5, n_estimators=50 \n",
      "[CV]  learning_rate=0.1, max_depth=1, min_samples_leaf=5, min_samples_split=5, n_estimators=50, score=(train=0.863, test=0.267), total=   0.1s\n",
      "[CV] learning_rate=0.1, max_depth=1, min_samples_leaf=5, min_samples_split=5, n_estimators=50 \n",
      "[CV]  learning_rate=0.1, max_depth=1, min_samples_leaf=5, min_samples_split=5, n_estimators=50, score=(train=0.927, test=0.268), total=   0.1s\n",
      "[CV] learning_rate=0.1, max_depth=1, min_samples_leaf=5, min_samples_split=5, n_estimators=50 \n",
      "[CV]  learning_rate=0.1, max_depth=1, min_samples_leaf=5, min_samples_split=5, n_estimators=50, score=(train=0.913, test=0.328), total=   0.1s\n",
      "[CV] learning_rate=0.1, max_depth=1, min_samples_leaf=5, min_samples_split=5, n_estimators=100 \n",
      "[CV]  learning_rate=0.1, max_depth=1, min_samples_leaf=5, min_samples_split=5, n_estimators=100, score=(train=1.000, test=0.223), total=   0.1s\n",
      "[CV] learning_rate=0.1, max_depth=1, min_samples_leaf=5, min_samples_split=5, n_estimators=100 \n",
      "[CV]  learning_rate=0.1, max_depth=1, min_samples_leaf=5, min_samples_split=5, n_estimators=100, score=(train=1.000, test=0.293), total=   0.2s\n",
      "[CV] learning_rate=0.1, max_depth=1, min_samples_leaf=5, min_samples_split=5, n_estimators=100 \n",
      "[CV]  learning_rate=0.1, max_depth=1, min_samples_leaf=5, min_samples_split=5, n_estimators=100, score=(train=0.982, test=0.273), total=   0.2s\n",
      "[CV] learning_rate=0.1, max_depth=1, min_samples_leaf=5, min_samples_split=5, n_estimators=200 \n",
      "[CV]  learning_rate=0.1, max_depth=1, min_samples_leaf=5, min_samples_split=5, n_estimators=200, score=(train=1.000, test=0.288), total=   0.3s\n",
      "[CV] learning_rate=0.1, max_depth=1, min_samples_leaf=5, min_samples_split=5, n_estimators=200 \n",
      "[CV]  learning_rate=0.1, max_depth=1, min_samples_leaf=5, min_samples_split=5, n_estimators=200, score=(train=1.000, test=0.364), total=   0.3s\n",
      "[CV] learning_rate=0.1, max_depth=1, min_samples_leaf=5, min_samples_split=5, n_estimators=200 \n",
      "[CV]  learning_rate=0.1, max_depth=1, min_samples_leaf=5, min_samples_split=5, n_estimators=200, score=(train=1.000, test=0.334), total=   0.3s\n",
      "[CV] learning_rate=0.1, max_depth=3, min_samples_leaf=1, min_samples_split=2, n_estimators=50 \n",
      "[CV]  learning_rate=0.1, max_depth=3, min_samples_leaf=1, min_samples_split=2, n_estimators=50, score=(train=1.000, test=0.222), total=   0.1s\n",
      "[CV] learning_rate=0.1, max_depth=3, min_samples_leaf=1, min_samples_split=2, n_estimators=50 \n",
      "[CV]  learning_rate=0.1, max_depth=3, min_samples_leaf=1, min_samples_split=2, n_estimators=50, score=(train=1.000, test=0.411), total=   0.1s\n",
      "[CV] learning_rate=0.1, max_depth=3, min_samples_leaf=1, min_samples_split=2, n_estimators=50 \n",
      "[CV]  learning_rate=0.1, max_depth=3, min_samples_leaf=1, min_samples_split=2, n_estimators=50, score=(train=1.000, test=0.390), total=   0.2s\n",
      "[CV] learning_rate=0.1, max_depth=3, min_samples_leaf=1, min_samples_split=2, n_estimators=100 \n",
      "[CV]  learning_rate=0.1, max_depth=3, min_samples_leaf=1, min_samples_split=2, n_estimators=100, score=(train=1.000, test=0.263), total=   0.4s\n",
      "[CV] learning_rate=0.1, max_depth=3, min_samples_leaf=1, min_samples_split=2, n_estimators=100 \n",
      "[CV]  learning_rate=0.1, max_depth=3, min_samples_leaf=1, min_samples_split=2, n_estimators=100, score=(train=1.000, test=0.467), total=   0.2s\n",
      "[CV] learning_rate=0.1, max_depth=3, min_samples_leaf=1, min_samples_split=2, n_estimators=100 \n",
      "[CV]  learning_rate=0.1, max_depth=3, min_samples_leaf=1, min_samples_split=2, n_estimators=100, score=(train=1.000, test=0.361), total=   0.2s\n",
      "[CV] learning_rate=0.1, max_depth=3, min_samples_leaf=1, min_samples_split=2, n_estimators=200 \n",
      "[CV]  learning_rate=0.1, max_depth=3, min_samples_leaf=1, min_samples_split=2, n_estimators=200, score=(train=1.000, test=0.263), total=   0.3s\n",
      "[CV] learning_rate=0.1, max_depth=3, min_samples_leaf=1, min_samples_split=2, n_estimators=200 \n",
      "[CV]  learning_rate=0.1, max_depth=3, min_samples_leaf=1, min_samples_split=2, n_estimators=200, score=(train=1.000, test=0.467), total=   0.4s\n",
      "[CV] learning_rate=0.1, max_depth=3, min_samples_leaf=1, min_samples_split=2, n_estimators=200 \n",
      "[CV]  learning_rate=0.1, max_depth=3, min_samples_leaf=1, min_samples_split=2, n_estimators=200, score=(train=1.000, test=0.296), total=   0.3s\n",
      "[CV] learning_rate=0.1, max_depth=3, min_samples_leaf=1, min_samples_split=5, n_estimators=50 \n",
      "[CV]  learning_rate=0.1, max_depth=3, min_samples_leaf=1, min_samples_split=5, n_estimators=50, score=(train=1.000, test=0.263), total=   0.1s\n",
      "[CV] learning_rate=0.1, max_depth=3, min_samples_leaf=1, min_samples_split=5, n_estimators=50 \n"
     ]
    },
    {
     "name": "stdout",
     "output_type": "stream",
     "text": [
      "[CV]  learning_rate=0.1, max_depth=3, min_samples_leaf=1, min_samples_split=5, n_estimators=50, score=(train=1.000, test=0.275), total=   0.1s\n",
      "[CV] learning_rate=0.1, max_depth=3, min_samples_leaf=1, min_samples_split=5, n_estimators=50 \n",
      "[CV]  learning_rate=0.1, max_depth=3, min_samples_leaf=1, min_samples_split=5, n_estimators=50, score=(train=1.000, test=0.361), total=   0.2s\n",
      "[CV] learning_rate=0.1, max_depth=3, min_samples_leaf=1, min_samples_split=5, n_estimators=100 \n",
      "[CV]  learning_rate=0.1, max_depth=3, min_samples_leaf=1, min_samples_split=5, n_estimators=100, score=(train=1.000, test=0.222), total=   0.3s\n",
      "[CV] learning_rate=0.1, max_depth=3, min_samples_leaf=1, min_samples_split=5, n_estimators=100 \n",
      "[CV]  learning_rate=0.1, max_depth=3, min_samples_leaf=1, min_samples_split=5, n_estimators=100, score=(train=1.000, test=0.566), total=   0.3s\n",
      "[CV] learning_rate=0.1, max_depth=3, min_samples_leaf=1, min_samples_split=5, n_estimators=100 \n",
      "[CV]  learning_rate=0.1, max_depth=3, min_samples_leaf=1, min_samples_split=5, n_estimators=100, score=(train=1.000, test=0.314), total=   0.3s\n",
      "[CV] learning_rate=0.1, max_depth=3, min_samples_leaf=1, min_samples_split=5, n_estimators=200 \n",
      "[CV]  learning_rate=0.1, max_depth=3, min_samples_leaf=1, min_samples_split=5, n_estimators=200, score=(train=1.000, test=0.222), total=   0.5s\n",
      "[CV] learning_rate=0.1, max_depth=3, min_samples_leaf=1, min_samples_split=5, n_estimators=200 \n",
      "[CV]  learning_rate=0.1, max_depth=3, min_samples_leaf=1, min_samples_split=5, n_estimators=200, score=(train=1.000, test=0.566), total=   0.3s\n",
      "[CV] learning_rate=0.1, max_depth=3, min_samples_leaf=1, min_samples_split=5, n_estimators=200 \n",
      "[CV]  learning_rate=0.1, max_depth=3, min_samples_leaf=1, min_samples_split=5, n_estimators=200, score=(train=1.000, test=0.314), total=   0.3s\n",
      "[CV] learning_rate=0.1, max_depth=3, min_samples_leaf=3, min_samples_split=2, n_estimators=50 \n",
      "[CV]  learning_rate=0.1, max_depth=3, min_samples_leaf=3, min_samples_split=2, n_estimators=50, score=(train=1.000, test=0.305), total=   0.1s\n",
      "[CV] learning_rate=0.1, max_depth=3, min_samples_leaf=3, min_samples_split=2, n_estimators=50 \n",
      "[CV]  learning_rate=0.1, max_depth=3, min_samples_leaf=3, min_samples_split=2, n_estimators=50, score=(train=1.000, test=0.527), total=   0.1s\n",
      "[CV] learning_rate=0.1, max_depth=3, min_samples_leaf=3, min_samples_split=2, n_estimators=50 \n",
      "[CV]  learning_rate=0.1, max_depth=3, min_samples_leaf=3, min_samples_split=2, n_estimators=50, score=(train=1.000, test=0.431), total=   0.2s\n",
      "[CV] learning_rate=0.1, max_depth=3, min_samples_leaf=3, min_samples_split=2, n_estimators=100 \n",
      "[CV]  learning_rate=0.1, max_depth=3, min_samples_leaf=3, min_samples_split=2, n_estimators=100, score=(train=1.000, test=0.190), total=   0.2s\n",
      "[CV] learning_rate=0.1, max_depth=3, min_samples_leaf=3, min_samples_split=2, n_estimators=100 \n",
      "[CV]  learning_rate=0.1, max_depth=3, min_samples_leaf=3, min_samples_split=2, n_estimators=100, score=(train=1.000, test=0.590), total=   0.2s\n",
      "[CV] learning_rate=0.1, max_depth=3, min_samples_leaf=3, min_samples_split=2, n_estimators=100 \n",
      "[CV]  learning_rate=0.1, max_depth=3, min_samples_leaf=3, min_samples_split=2, n_estimators=100, score=(train=1.000, test=0.345), total=   0.4s\n",
      "[CV] learning_rate=0.1, max_depth=3, min_samples_leaf=3, min_samples_split=2, n_estimators=200 \n",
      "[CV]  learning_rate=0.1, max_depth=3, min_samples_leaf=3, min_samples_split=2, n_estimators=200, score=(train=1.000, test=0.190), total=   0.4s\n",
      "[CV] learning_rate=0.1, max_depth=3, min_samples_leaf=3, min_samples_split=2, n_estimators=200 \n",
      "[CV]  learning_rate=0.1, max_depth=3, min_samples_leaf=3, min_samples_split=2, n_estimators=200, score=(train=1.000, test=0.527), total=   0.4s\n",
      "[CV] learning_rate=0.1, max_depth=3, min_samples_leaf=3, min_samples_split=2, n_estimators=200 \n",
      "[CV]  learning_rate=0.1, max_depth=3, min_samples_leaf=3, min_samples_split=2, n_estimators=200, score=(train=1.000, test=0.264), total=   0.6s\n",
      "[CV] learning_rate=0.1, max_depth=3, min_samples_leaf=3, min_samples_split=5, n_estimators=50 \n",
      "[CV]  learning_rate=0.1, max_depth=3, min_samples_leaf=3, min_samples_split=5, n_estimators=50, score=(train=1.000, test=0.185), total=   0.2s"
     ]
    },
    {
     "name": "stderr",
     "output_type": "stream",
     "text": [
      "C:\\Users\\72445\\AppData\\Local\\Continuum\\anaconda3\\lib\\site-packages\\sklearn\\metrics\\classification.py:1437: UndefinedMetricWarning: F-score is ill-defined and being set to 0.0 in labels with no predicted samples.\n",
      "  'precision', 'predicted', average, warn_for)\n"
     ]
    },
    {
     "name": "stdout",
     "output_type": "stream",
     "text": [
      "\n",
      "[CV] learning_rate=0.1, max_depth=3, min_samples_leaf=3, min_samples_split=5, n_estimators=50 \n",
      "[CV]  learning_rate=0.1, max_depth=3, min_samples_leaf=3, min_samples_split=5, n_estimators=50, score=(train=1.000, test=0.527), total=   0.2s\n",
      "[CV] learning_rate=0.1, max_depth=3, min_samples_leaf=3, min_samples_split=5, n_estimators=50 \n",
      "[CV]  learning_rate=0.1, max_depth=3, min_samples_leaf=3, min_samples_split=5, n_estimators=50, score=(train=1.000, test=0.404), total=   0.2s\n",
      "[CV] learning_rate=0.1, max_depth=3, min_samples_leaf=3, min_samples_split=5, n_estimators=100 \n",
      "[CV]  learning_rate=0.1, max_depth=3, min_samples_leaf=3, min_samples_split=5, n_estimators=100, score=(train=1.000, test=0.217), total=   0.2s\n",
      "[CV] learning_rate=0.1, max_depth=3, min_samples_leaf=3, min_samples_split=5, n_estimators=100 \n",
      "[CV]  learning_rate=0.1, max_depth=3, min_samples_leaf=3, min_samples_split=5, n_estimators=100, score=(train=1.000, test=0.527), total=   0.2s\n",
      "[CV] learning_rate=0.1, max_depth=3, min_samples_leaf=3, min_samples_split=5, n_estimators=100 \n",
      "[CV]  learning_rate=0.1, max_depth=3, min_samples_leaf=3, min_samples_split=5, n_estimators=100, score=(train=1.000, test=0.284), total=   0.3s\n",
      "[CV] learning_rate=0.1, max_depth=3, min_samples_leaf=3, min_samples_split=5, n_estimators=200 \n",
      "[CV]  learning_rate=0.1, max_depth=3, min_samples_leaf=3, min_samples_split=5, n_estimators=200, score=(train=1.000, test=0.295), total=   0.4s\n",
      "[CV] learning_rate=0.1, max_depth=3, min_samples_leaf=3, min_samples_split=5, n_estimators=200 \n",
      "[CV]  learning_rate=0.1, max_depth=3, min_samples_leaf=3, min_samples_split=5, n_estimators=200, score=(train=1.000, test=0.527), total=   0.4s\n",
      "[CV] learning_rate=0.1, max_depth=3, min_samples_leaf=3, min_samples_split=5, n_estimators=200 \n",
      "[CV]  learning_rate=0.1, max_depth=3, min_samples_leaf=3, min_samples_split=5, n_estimators=200, score=(train=1.000, test=0.284), total=   0.3s\n",
      "[CV] learning_rate=0.1, max_depth=3, min_samples_leaf=5, min_samples_split=2, n_estimators=50 \n",
      "[CV]  learning_rate=0.1, max_depth=3, min_samples_leaf=5, min_samples_split=2, n_estimators=50, score=(train=1.000, test=0.375), total=   0.1s\n",
      "[CV] learning_rate=0.1, max_depth=3, min_samples_leaf=5, min_samples_split=2, n_estimators=50 \n",
      "[CV]  learning_rate=0.1, max_depth=3, min_samples_leaf=5, min_samples_split=2, n_estimators=50, score=(train=1.000, test=0.394), total=   0.1s\n",
      "[CV] learning_rate=0.1, max_depth=3, min_samples_leaf=5, min_samples_split=2, n_estimators=50 \n",
      "[CV]  learning_rate=0.1, max_depth=3, min_samples_leaf=5, min_samples_split=2, n_estimators=50, score=(train=1.000, test=0.369), total=   0.1s\n",
      "[CV] learning_rate=0.1, max_depth=3, min_samples_leaf=5, min_samples_split=2, n_estimators=100 \n",
      "[CV]  learning_rate=0.1, max_depth=3, min_samples_leaf=5, min_samples_split=2, n_estimators=100, score=(train=1.000, test=0.410), total=   0.2s\n",
      "[CV] learning_rate=0.1, max_depth=3, min_samples_leaf=5, min_samples_split=2, n_estimators=100 \n",
      "[CV]  learning_rate=0.1, max_depth=3, min_samples_leaf=5, min_samples_split=2, n_estimators=100, score=(train=1.000, test=0.427), total=   0.2s\n",
      "[CV] learning_rate=0.1, max_depth=3, min_samples_leaf=5, min_samples_split=2, n_estimators=100 \n",
      "[CV]  learning_rate=0.1, max_depth=3, min_samples_leaf=5, min_samples_split=2, n_estimators=100, score=(train=1.000, test=0.333), total=   0.2s\n",
      "[CV] learning_rate=0.1, max_depth=3, min_samples_leaf=5, min_samples_split=2, n_estimators=200 \n",
      "[CV]  learning_rate=0.1, max_depth=3, min_samples_leaf=5, min_samples_split=2, n_estimators=200, score=(train=1.000, test=0.374), total=   0.5s\n",
      "[CV] learning_rate=0.1, max_depth=3, min_samples_leaf=5, min_samples_split=2, n_estimators=200 \n",
      "[CV]  learning_rate=0.1, max_depth=3, min_samples_leaf=5, min_samples_split=2, n_estimators=200, score=(train=1.000, test=0.427), total=   0.4s\n",
      "[CV] learning_rate=0.1, max_depth=3, min_samples_leaf=5, min_samples_split=2, n_estimators=200 \n",
      "[CV]  learning_rate=0.1, max_depth=3, min_samples_leaf=5, min_samples_split=2, n_estimators=200, score=(train=1.000, test=0.369), total=   0.5s\n",
      "[CV] learning_rate=0.1, max_depth=3, min_samples_leaf=5, min_samples_split=5, n_estimators=50 \n",
      "[CV]  learning_rate=0.1, max_depth=3, min_samples_leaf=5, min_samples_split=5, n_estimators=50, score=(train=1.000, test=0.410), total=   0.1s\n",
      "[CV] learning_rate=0.1, max_depth=3, min_samples_leaf=5, min_samples_split=5, n_estimators=50 \n",
      "[CV]  learning_rate=0.1, max_depth=3, min_samples_leaf=5, min_samples_split=5, n_estimators=50, score=(train=1.000, test=0.278), total=   0.1s\n",
      "[CV] learning_rate=0.1, max_depth=3, min_samples_leaf=5, min_samples_split=5, n_estimators=50 \n",
      "[CV]  learning_rate=0.1, max_depth=3, min_samples_leaf=5, min_samples_split=5, n_estimators=50, score=(train=1.000, test=0.369), total=   0.1s\n",
      "[CV] learning_rate=0.1, max_depth=3, min_samples_leaf=5, min_samples_split=5, n_estimators=100 \n",
      "[CV]  learning_rate=0.1, max_depth=3, min_samples_leaf=5, min_samples_split=5, n_estimators=100, score=(train=1.000, test=0.294), total=   0.4s\n",
      "[CV] learning_rate=0.1, max_depth=3, min_samples_leaf=5, min_samples_split=5, n_estimators=100 \n",
      "[CV]  learning_rate=0.1, max_depth=3, min_samples_leaf=5, min_samples_split=5, n_estimators=100, score=(train=1.000, test=0.427), total=   0.2s\n",
      "[CV] learning_rate=0.1, max_depth=3, min_samples_leaf=5, min_samples_split=5, n_estimators=100 \n",
      "[CV]  learning_rate=0.1, max_depth=3, min_samples_leaf=5, min_samples_split=5, n_estimators=100, score=(train=1.000, test=0.334), total=   0.2s\n",
      "[CV] learning_rate=0.1, max_depth=3, min_samples_leaf=5, min_samples_split=5, n_estimators=200 \n",
      "[CV]  learning_rate=0.1, max_depth=3, min_samples_leaf=5, min_samples_split=5, n_estimators=200, score=(train=1.000, test=0.374), total=   0.3s\n",
      "[CV] learning_rate=0.1, max_depth=3, min_samples_leaf=5, min_samples_split=5, n_estimators=200 \n",
      "[CV]  learning_rate=0.1, max_depth=3, min_samples_leaf=5, min_samples_split=5, n_estimators=200, score=(train=1.000, test=0.427), total=   0.5s\n",
      "[CV] learning_rate=0.1, max_depth=3, min_samples_leaf=5, min_samples_split=5, n_estimators=200 \n",
      "[CV]  learning_rate=0.1, max_depth=3, min_samples_leaf=5, min_samples_split=5, n_estimators=200, score=(train=1.000, test=0.369), total=   0.4s\n",
      "[CV] learning_rate=0.1, max_depth=6, min_samples_leaf=1, min_samples_split=2, n_estimators=50 \n",
      "[CV]  learning_rate=0.1, max_depth=6, min_samples_leaf=1, min_samples_split=2, n_estimators=50, score=(train=1.000, test=0.187), total=   0.1s\n",
      "[CV] learning_rate=0.1, max_depth=6, min_samples_leaf=1, min_samples_split=2, n_estimators=50 \n",
      "[CV]  learning_rate=0.1, max_depth=6, min_samples_leaf=1, min_samples_split=2, n_estimators=50, score=(train=1.000, test=0.369), total=   0.2s\n",
      "[CV] learning_rate=0.1, max_depth=6, min_samples_leaf=1, min_samples_split=2, n_estimators=50 \n",
      "[CV]  learning_rate=0.1, max_depth=6, min_samples_leaf=1, min_samples_split=2, n_estimators=50, score=(train=1.000, test=0.312), total=   0.2s\n",
      "[CV] learning_rate=0.1, max_depth=6, min_samples_leaf=1, min_samples_split=2, n_estimators=100 \n",
      "[CV]  learning_rate=0.1, max_depth=6, min_samples_leaf=1, min_samples_split=2, n_estimators=100, score=(train=1.000, test=0.208), total=   0.2s\n",
      "[CV] learning_rate=0.1, max_depth=6, min_samples_leaf=1, min_samples_split=2, n_estimators=100 \n",
      "[CV]  learning_rate=0.1, max_depth=6, min_samples_leaf=1, min_samples_split=2, n_estimators=100, score=(train=1.000, test=0.369), total=   0.2s\n",
      "[CV] learning_rate=0.1, max_depth=6, min_samples_leaf=1, min_samples_split=2, n_estimators=100 \n",
      "[CV]  learning_rate=0.1, max_depth=6, min_samples_leaf=1, min_samples_split=2, n_estimators=100, score=(train=1.000, test=0.344), total=   0.2s\n",
      "[CV] learning_rate=0.1, max_depth=6, min_samples_leaf=1, min_samples_split=2, n_estimators=200 \n",
      "[CV]  learning_rate=0.1, max_depth=6, min_samples_leaf=1, min_samples_split=2, n_estimators=200, score=(train=1.000, test=0.208), total=   0.3s\n",
      "[CV] learning_rate=0.1, max_depth=6, min_samples_leaf=1, min_samples_split=2, n_estimators=200 \n",
      "[CV]  learning_rate=0.1, max_depth=6, min_samples_leaf=1, min_samples_split=2, n_estimators=200, score=(train=1.000, test=0.372), total=   0.4s\n",
      "[CV] learning_rate=0.1, max_depth=6, min_samples_leaf=1, min_samples_split=2, n_estimators=200 \n"
     ]
    },
    {
     "name": "stdout",
     "output_type": "stream",
     "text": [
      "[CV]  learning_rate=0.1, max_depth=6, min_samples_leaf=1, min_samples_split=2, n_estimators=200, score=(train=1.000, test=0.344), total=   0.6s\n",
      "[CV] learning_rate=0.1, max_depth=6, min_samples_leaf=1, min_samples_split=5, n_estimators=50 \n",
      "[CV]  learning_rate=0.1, max_depth=6, min_samples_leaf=1, min_samples_split=5, n_estimators=50, score=(train=1.000, test=0.250), total=   0.2s\n",
      "[CV] learning_rate=0.1, max_depth=6, min_samples_leaf=1, min_samples_split=5, n_estimators=50 \n",
      "[CV]  learning_rate=0.1, max_depth=6, min_samples_leaf=1, min_samples_split=5, n_estimators=50, score=(train=1.000, test=0.427), total=   0.2s\n",
      "[CV] learning_rate=0.1, max_depth=6, min_samples_leaf=1, min_samples_split=5, n_estimators=50 \n",
      "[CV]  learning_rate=0.1, max_depth=6, min_samples_leaf=1, min_samples_split=5, n_estimators=50, score=(train=1.000, test=0.328), total=   0.2s\n",
      "[CV] learning_rate=0.1, max_depth=6, min_samples_leaf=1, min_samples_split=5, n_estimators=100 \n",
      "[CV]  learning_rate=0.1, max_depth=6, min_samples_leaf=1, min_samples_split=5, n_estimators=100, score=(train=1.000, test=0.250), total=   0.3s\n",
      "[CV] learning_rate=0.1, max_depth=6, min_samples_leaf=1, min_samples_split=5, n_estimators=100 \n",
      "[CV]  learning_rate=0.1, max_depth=6, min_samples_leaf=1, min_samples_split=5, n_estimators=100, score=(train=1.000, test=0.430), total=   0.3s\n",
      "[CV] learning_rate=0.1, max_depth=6, min_samples_leaf=1, min_samples_split=5, n_estimators=100 \n",
      "[CV]  learning_rate=0.1, max_depth=6, min_samples_leaf=1, min_samples_split=5, n_estimators=100, score=(train=1.000, test=0.328), total=   0.6s\n",
      "[CV] learning_rate=0.1, max_depth=6, min_samples_leaf=1, min_samples_split=5, n_estimators=200 \n",
      "[CV]  learning_rate=0.1, max_depth=6, min_samples_leaf=1, min_samples_split=5, n_estimators=200, score=(train=1.000, test=0.228), total=   0.7s\n",
      "[CV] learning_rate=0.1, max_depth=6, min_samples_leaf=1, min_samples_split=5, n_estimators=200 \n",
      "[CV]  learning_rate=0.1, max_depth=6, min_samples_leaf=1, min_samples_split=5, n_estimators=200, score=(train=1.000, test=0.251), total=   0.7s\n",
      "[CV] learning_rate=0.1, max_depth=6, min_samples_leaf=1, min_samples_split=5, n_estimators=200 \n",
      "[CV]  learning_rate=0.1, max_depth=6, min_samples_leaf=1, min_samples_split=5, n_estimators=200, score=(train=1.000, test=0.375), total=   0.5s\n",
      "[CV] learning_rate=0.1, max_depth=6, min_samples_leaf=3, min_samples_split=2, n_estimators=50 \n",
      "[CV]  learning_rate=0.1, max_depth=6, min_samples_leaf=3, min_samples_split=2, n_estimators=50, score=(train=1.000, test=0.299), total=   0.5s\n",
      "[CV] learning_rate=0.1, max_depth=6, min_samples_leaf=3, min_samples_split=2, n_estimators=50 \n",
      "[CV]  learning_rate=0.1, max_depth=6, min_samples_leaf=3, min_samples_split=2, n_estimators=50, score=(train=1.000, test=0.432), total=   0.2s\n",
      "[CV] learning_rate=0.1, max_depth=6, min_samples_leaf=3, min_samples_split=2, n_estimators=50 \n",
      "[CV]  learning_rate=0.1, max_depth=6, min_samples_leaf=3, min_samples_split=2, n_estimators=50, score=(train=1.000, test=0.302), total=   0.2s\n",
      "[CV] learning_rate=0.1, max_depth=6, min_samples_leaf=3, min_samples_split=2, n_estimators=100 \n",
      "[CV]  learning_rate=0.1, max_depth=6, min_samples_leaf=3, min_samples_split=2, n_estimators=100, score=(train=1.000, test=0.337), total=   0.5s\n",
      "[CV] learning_rate=0.1, max_depth=6, min_samples_leaf=3, min_samples_split=2, n_estimators=100 \n",
      "[CV]  learning_rate=0.1, max_depth=6, min_samples_leaf=3, min_samples_split=2, n_estimators=100, score=(train=1.000, test=0.567), total=   0.4s\n",
      "[CV] learning_rate=0.1, max_depth=6, min_samples_leaf=3, min_samples_split=2, n_estimators=100 \n",
      "[CV]  learning_rate=0.1, max_depth=6, min_samples_leaf=3, min_samples_split=2, n_estimators=100, score=(train=1.000, test=0.302), total=   0.3s\n",
      "[CV] learning_rate=0.1, max_depth=6, min_samples_leaf=3, min_samples_split=2, n_estimators=200 \n",
      "[CV]  learning_rate=0.1, max_depth=6, min_samples_leaf=3, min_samples_split=2, n_estimators=200, score=(train=1.000, test=0.337), total=   0.5s\n",
      "[CV] learning_rate=0.1, max_depth=6, min_samples_leaf=3, min_samples_split=2, n_estimators=200 \n",
      "[CV]  learning_rate=0.1, max_depth=6, min_samples_leaf=3, min_samples_split=2, n_estimators=200, score=(train=1.000, test=0.349), total=   0.5s\n",
      "[CV] learning_rate=0.1, max_depth=6, min_samples_leaf=3, min_samples_split=2, n_estimators=200 \n",
      "[CV]  learning_rate=0.1, max_depth=6, min_samples_leaf=3, min_samples_split=2, n_estimators=200, score=(train=1.000, test=0.329), total=   0.9s\n",
      "[CV] learning_rate=0.1, max_depth=6, min_samples_leaf=3, min_samples_split=5, n_estimators=50 \n",
      "[CV]  learning_rate=0.1, max_depth=6, min_samples_leaf=3, min_samples_split=5, n_estimators=50, score=(train=1.000, test=0.289), total=   0.2s\n",
      "[CV] learning_rate=0.1, max_depth=6, min_samples_leaf=3, min_samples_split=5, n_estimators=50 \n",
      "[CV]  learning_rate=0.1, max_depth=6, min_samples_leaf=3, min_samples_split=5, n_estimators=50, score=(train=1.000, test=0.491), total=   0.2s\n",
      "[CV] learning_rate=0.1, max_depth=6, min_samples_leaf=3, min_samples_split=5, n_estimators=50 \n",
      "[CV]  learning_rate=0.1, max_depth=6, min_samples_leaf=3, min_samples_split=5, n_estimators=50, score=(train=1.000, test=0.269), total=   0.1s\n",
      "[CV] learning_rate=0.1, max_depth=6, min_samples_leaf=3, min_samples_split=5, n_estimators=100 \n",
      "[CV]  learning_rate=0.1, max_depth=6, min_samples_leaf=3, min_samples_split=5, n_estimators=100, score=(train=1.000, test=0.343), total=   0.3s\n",
      "[CV] learning_rate=0.1, max_depth=6, min_samples_leaf=3, min_samples_split=5, n_estimators=100 \n",
      "[CV]  learning_rate=0.1, max_depth=6, min_samples_leaf=3, min_samples_split=5, n_estimators=100, score=(train=1.000, test=0.419), total=   0.3s\n",
      "[CV] learning_rate=0.1, max_depth=6, min_samples_leaf=3, min_samples_split=5, n_estimators=100 \n",
      "[CV]  learning_rate=0.1, max_depth=6, min_samples_leaf=3, min_samples_split=5, n_estimators=100, score=(train=1.000, test=0.310), total=   0.3s\n",
      "[CV] learning_rate=0.1, max_depth=6, min_samples_leaf=3, min_samples_split=5, n_estimators=200 \n",
      "[CV]  learning_rate=0.1, max_depth=6, min_samples_leaf=3, min_samples_split=5, n_estimators=200, score=(train=1.000, test=0.278), total=   0.4s\n",
      "[CV] learning_rate=0.1, max_depth=6, min_samples_leaf=3, min_samples_split=5, n_estimators=200 \n",
      "[CV]  learning_rate=0.1, max_depth=6, min_samples_leaf=3, min_samples_split=5, n_estimators=200, score=(train=1.000, test=0.527), total=   0.7s\n",
      "[CV] learning_rate=0.1, max_depth=6, min_samples_leaf=3, min_samples_split=5, n_estimators=200 \n",
      "[CV]  learning_rate=0.1, max_depth=6, min_samples_leaf=3, min_samples_split=5, n_estimators=200, score=(train=1.000, test=0.310), total=   0.8s\n",
      "[CV] learning_rate=0.1, max_depth=6, min_samples_leaf=5, min_samples_split=2, n_estimators=50 \n",
      "[CV]  learning_rate=0.1, max_depth=6, min_samples_leaf=5, min_samples_split=2, n_estimators=50, score=(train=1.000, test=0.226), total=   0.2s\n",
      "[CV] learning_rate=0.1, max_depth=6, min_samples_leaf=5, min_samples_split=2, n_estimators=50 \n",
      "[CV]  learning_rate=0.1, max_depth=6, min_samples_leaf=5, min_samples_split=2, n_estimators=50, score=(train=1.000, test=0.349), total=   0.5s\n",
      "[CV] learning_rate=0.1, max_depth=6, min_samples_leaf=5, min_samples_split=2, n_estimators=50 \n",
      "[CV]  learning_rate=0.1, max_depth=6, min_samples_leaf=5, min_samples_split=2, n_estimators=50, score=(train=1.000, test=0.310), total=   0.2s\n",
      "[CV] learning_rate=0.1, max_depth=6, min_samples_leaf=5, min_samples_split=2, n_estimators=100 \n",
      "[CV]  learning_rate=0.1, max_depth=6, min_samples_leaf=5, min_samples_split=2, n_estimators=100, score=(train=1.000, test=0.226), total=   0.4s\n",
      "[CV] learning_rate=0.1, max_depth=6, min_samples_leaf=5, min_samples_split=2, n_estimators=100 \n",
      "[CV]  learning_rate=0.1, max_depth=6, min_samples_leaf=5, min_samples_split=2, n_estimators=100, score=(train=1.000, test=0.453), total=   0.4s\n",
      "[CV] learning_rate=0.1, max_depth=6, min_samples_leaf=5, min_samples_split=2, n_estimators=100 \n",
      "[CV]  learning_rate=0.1, max_depth=6, min_samples_leaf=5, min_samples_split=2, n_estimators=100, score=(train=1.000, test=0.359), total=   0.4s\n",
      "[CV] learning_rate=0.1, max_depth=6, min_samples_leaf=5, min_samples_split=2, n_estimators=200 \n",
      "[CV]  learning_rate=0.1, max_depth=6, min_samples_leaf=5, min_samples_split=2, n_estimators=200, score=(train=1.000, test=0.232), total=   0.7s\n",
      "[CV] learning_rate=0.1, max_depth=6, min_samples_leaf=5, min_samples_split=2, n_estimators=200 \n"
     ]
    },
    {
     "name": "stdout",
     "output_type": "stream",
     "text": [
      "[CV]  learning_rate=0.1, max_depth=6, min_samples_leaf=5, min_samples_split=2, n_estimators=200, score=(train=1.000, test=0.542), total=   0.4s\n",
      "[CV] learning_rate=0.1, max_depth=6, min_samples_leaf=5, min_samples_split=2, n_estimators=200 \n",
      "[CV]  learning_rate=0.1, max_depth=6, min_samples_leaf=5, min_samples_split=2, n_estimators=200, score=(train=1.000, test=0.341), total=   0.5s\n",
      "[CV] learning_rate=0.1, max_depth=6, min_samples_leaf=5, min_samples_split=5, n_estimators=50 \n",
      "[CV]  learning_rate=0.1, max_depth=6, min_samples_leaf=5, min_samples_split=5, n_estimators=50, score=(train=1.000, test=0.232), total=   0.2s\n",
      "[CV] learning_rate=0.1, max_depth=6, min_samples_leaf=5, min_samples_split=5, n_estimators=50 \n",
      "[CV]  learning_rate=0.1, max_depth=6, min_samples_leaf=5, min_samples_split=5, n_estimators=50, score=(train=1.000, test=0.453), total=   0.3s\n",
      "[CV] learning_rate=0.1, max_depth=6, min_samples_leaf=5, min_samples_split=5, n_estimators=50 \n",
      "[CV]  learning_rate=0.1, max_depth=6, min_samples_leaf=5, min_samples_split=5, n_estimators=50, score=(train=1.000, test=0.193), total=   0.2s\n",
      "[CV] learning_rate=0.1, max_depth=6, min_samples_leaf=5, min_samples_split=5, n_estimators=100 \n",
      "[CV]  learning_rate=0.1, max_depth=6, min_samples_leaf=5, min_samples_split=5, n_estimators=100, score=(train=1.000, test=0.264), total=   0.3s\n",
      "[CV] learning_rate=0.1, max_depth=6, min_samples_leaf=5, min_samples_split=5, n_estimators=100 \n",
      "[CV]  learning_rate=0.1, max_depth=6, min_samples_leaf=5, min_samples_split=5, n_estimators=100, score=(train=1.000, test=0.453), total=   0.6s\n",
      "[CV] learning_rate=0.1, max_depth=6, min_samples_leaf=5, min_samples_split=5, n_estimators=100 \n",
      "[CV]  learning_rate=0.1, max_depth=6, min_samples_leaf=5, min_samples_split=5, n_estimators=100, score=(train=1.000, test=0.341), total=   0.3s\n",
      "[CV] learning_rate=0.1, max_depth=6, min_samples_leaf=5, min_samples_split=5, n_estimators=200 \n",
      "[CV]  learning_rate=0.1, max_depth=6, min_samples_leaf=5, min_samples_split=5, n_estimators=200, score=(train=1.000, test=0.227), total=   0.7s\n",
      "[CV] learning_rate=0.1, max_depth=6, min_samples_leaf=5, min_samples_split=5, n_estimators=200 \n",
      "[CV]  learning_rate=0.1, max_depth=6, min_samples_leaf=5, min_samples_split=5, n_estimators=200, score=(train=1.000, test=0.387), total=   1.2s\n",
      "[CV] learning_rate=0.1, max_depth=6, min_samples_leaf=5, min_samples_split=5, n_estimators=200 \n",
      "[CV]  learning_rate=0.1, max_depth=6, min_samples_leaf=5, min_samples_split=5, n_estimators=200, score=(train=1.000, test=0.404), total=   1.7s\n",
      "[CV] learning_rate=0.01, max_depth=1, min_samples_leaf=1, min_samples_split=2, n_estimators=50 \n",
      "[CV]  learning_rate=0.01, max_depth=1, min_samples_leaf=1, min_samples_split=2, n_estimators=50, score=(train=0.467, test=0.212), total=   0.1s\n",
      "[CV] learning_rate=0.01, max_depth=1, min_samples_leaf=1, min_samples_split=2, n_estimators=50 \n"
     ]
    },
    {
     "name": "stderr",
     "output_type": "stream",
     "text": [
      "C:\\Users\\72445\\AppData\\Local\\Continuum\\anaconda3\\lib\\site-packages\\sklearn\\metrics\\classification.py:1437: UndefinedMetricWarning: F-score is ill-defined and being set to 0.0 in labels with no predicted samples.\n",
      "  'precision', 'predicted', average, warn_for)\n",
      "C:\\Users\\72445\\AppData\\Local\\Continuum\\anaconda3\\lib\\site-packages\\sklearn\\metrics\\classification.py:1437: UndefinedMetricWarning: F-score is ill-defined and being set to 0.0 in labels with no predicted samples.\n",
      "  'precision', 'predicted', average, warn_for)\n",
      "C:\\Users\\72445\\AppData\\Local\\Continuum\\anaconda3\\lib\\site-packages\\sklearn\\metrics\\classification.py:1437: UndefinedMetricWarning: F-score is ill-defined and being set to 0.0 in labels with no predicted samples.\n",
      "  'precision', 'predicted', average, warn_for)\n",
      "C:\\Users\\72445\\AppData\\Local\\Continuum\\anaconda3\\lib\\site-packages\\sklearn\\metrics\\classification.py:1437: UndefinedMetricWarning: F-score is ill-defined and being set to 0.0 in labels with no predicted samples.\n",
      "  'precision', 'predicted', average, warn_for)\n"
     ]
    },
    {
     "name": "stdout",
     "output_type": "stream",
     "text": [
      "[CV]  learning_rate=0.01, max_depth=1, min_samples_leaf=1, min_samples_split=2, n_estimators=50, score=(train=0.509, test=0.242), total=   0.1s\n",
      "[CV] learning_rate=0.01, max_depth=1, min_samples_leaf=1, min_samples_split=2, n_estimators=50 \n"
     ]
    },
    {
     "name": "stderr",
     "output_type": "stream",
     "text": [
      "C:\\Users\\72445\\AppData\\Local\\Continuum\\anaconda3\\lib\\site-packages\\sklearn\\metrics\\classification.py:1437: UndefinedMetricWarning: F-score is ill-defined and being set to 0.0 in labels with no predicted samples.\n",
      "  'precision', 'predicted', average, warn_for)\n",
      "C:\\Users\\72445\\AppData\\Local\\Continuum\\anaconda3\\lib\\site-packages\\sklearn\\metrics\\classification.py:1437: UndefinedMetricWarning: F-score is ill-defined and being set to 0.0 in labels with no predicted samples.\n",
      "  'precision', 'predicted', average, warn_for)\n",
      "C:\\Users\\72445\\AppData\\Local\\Continuum\\anaconda3\\lib\\site-packages\\sklearn\\metrics\\classification.py:1437: UndefinedMetricWarning: F-score is ill-defined and being set to 0.0 in labels with no predicted samples.\n",
      "  'precision', 'predicted', average, warn_for)\n"
     ]
    },
    {
     "name": "stdout",
     "output_type": "stream",
     "text": [
      "[CV]  learning_rate=0.01, max_depth=1, min_samples_leaf=1, min_samples_split=2, n_estimators=50, score=(train=0.461, test=0.190), total=   0.2s\n",
      "[CV] learning_rate=0.01, max_depth=1, min_samples_leaf=1, min_samples_split=2, n_estimators=100 \n",
      "[CV]  learning_rate=0.01, max_depth=1, min_samples_leaf=1, min_samples_split=2, n_estimators=100, score=(train=0.601, test=0.262), total=   0.2s\n",
      "[CV] learning_rate=0.01, max_depth=1, min_samples_leaf=1, min_samples_split=2, n_estimators=100 \n"
     ]
    },
    {
     "name": "stderr",
     "output_type": "stream",
     "text": [
      "C:\\Users\\72445\\AppData\\Local\\Continuum\\anaconda3\\lib\\site-packages\\sklearn\\metrics\\classification.py:1437: UndefinedMetricWarning: F-score is ill-defined and being set to 0.0 in labels with no predicted samples.\n",
      "  'precision', 'predicted', average, warn_for)\n",
      "C:\\Users\\72445\\AppData\\Local\\Continuum\\anaconda3\\lib\\site-packages\\sklearn\\metrics\\classification.py:1437: UndefinedMetricWarning: F-score is ill-defined and being set to 0.0 in labels with no predicted samples.\n",
      "  'precision', 'predicted', average, warn_for)\n",
      "C:\\Users\\72445\\AppData\\Local\\Continuum\\anaconda3\\lib\\site-packages\\sklearn\\metrics\\classification.py:1437: UndefinedMetricWarning: F-score is ill-defined and being set to 0.0 in labels with no predicted samples.\n",
      "  'precision', 'predicted', average, warn_for)\n"
     ]
    },
    {
     "name": "stdout",
     "output_type": "stream",
     "text": [
      "[CV]  learning_rate=0.01, max_depth=1, min_samples_leaf=1, min_samples_split=2, n_estimators=100, score=(train=0.542, test=0.261), total=   0.2s\n",
      "[CV] learning_rate=0.01, max_depth=1, min_samples_leaf=1, min_samples_split=2, n_estimators=100 \n",
      "[CV]  learning_rate=0.01, max_depth=1, min_samples_leaf=1, min_samples_split=2, n_estimators=100, score=(train=0.618, test=0.256), total=   0.2s\n",
      "[CV] learning_rate=0.01, max_depth=1, min_samples_leaf=1, min_samples_split=2, n_estimators=200 \n"
     ]
    },
    {
     "name": "stderr",
     "output_type": "stream",
     "text": [
      "C:\\Users\\72445\\AppData\\Local\\Continuum\\anaconda3\\lib\\site-packages\\sklearn\\metrics\\classification.py:1437: UndefinedMetricWarning: F-score is ill-defined and being set to 0.0 in labels with no predicted samples.\n",
      "  'precision', 'predicted', average, warn_for)\n"
     ]
    },
    {
     "name": "stdout",
     "output_type": "stream",
     "text": [
      "[CV]  learning_rate=0.01, max_depth=1, min_samples_leaf=1, min_samples_split=2, n_estimators=200, score=(train=0.652, test=0.262), total=   0.6s\n",
      "[CV] learning_rate=0.01, max_depth=1, min_samples_leaf=1, min_samples_split=2, n_estimators=200 \n"
     ]
    },
    {
     "name": "stderr",
     "output_type": "stream",
     "text": [
      "C:\\Users\\72445\\AppData\\Local\\Continuum\\anaconda3\\lib\\site-packages\\sklearn\\metrics\\classification.py:1437: UndefinedMetricWarning: F-score is ill-defined and being set to 0.0 in labels with no predicted samples.\n",
      "  'precision', 'predicted', average, warn_for)\n"
     ]
    },
    {
     "name": "stdout",
     "output_type": "stream",
     "text": [
      "[CV]  learning_rate=0.01, max_depth=1, min_samples_leaf=1, min_samples_split=2, n_estimators=200, score=(train=0.781, test=0.318), total=   0.4s\n",
      "[CV] learning_rate=0.01, max_depth=1, min_samples_leaf=1, min_samples_split=2, n_estimators=200 \n",
      "[CV]  learning_rate=0.01, max_depth=1, min_samples_leaf=1, min_samples_split=2, n_estimators=200, score=(train=0.816, test=0.205), total=   0.3s\n",
      "[CV] learning_rate=0.01, max_depth=1, min_samples_leaf=1, min_samples_split=5, n_estimators=50 \n",
      "[CV]  learning_rate=0.01, max_depth=1, min_samples_leaf=1, min_samples_split=5, n_estimators=50, score=(train=0.467, test=0.212), total=   0.1s\n",
      "[CV] learning_rate=0.01, max_depth=1, min_samples_leaf=1, min_samples_split=5, n_estimators=50 \n",
      "[CV]  learning_rate=0.01, max_depth=1, min_samples_leaf=1, min_samples_split=5, n_estimators=50, score=(train=0.509, test=0.242), total=   0.1s\n",
      "[CV] learning_rate=0.01, max_depth=1, min_samples_leaf=1, min_samples_split=5, n_estimators=50 "
     ]
    },
    {
     "name": "stderr",
     "output_type": "stream",
     "text": [
      "C:\\Users\\72445\\AppData\\Local\\Continuum\\anaconda3\\lib\\site-packages\\sklearn\\metrics\\classification.py:1437: UndefinedMetricWarning: F-score is ill-defined and being set to 0.0 in labels with no predicted samples.\n",
      "  'precision', 'predicted', average, warn_for)\n",
      "C:\\Users\\72445\\AppData\\Local\\Continuum\\anaconda3\\lib\\site-packages\\sklearn\\metrics\\classification.py:1437: UndefinedMetricWarning: F-score is ill-defined and being set to 0.0 in labels with no predicted samples.\n",
      "  'precision', 'predicted', average, warn_for)\n",
      "C:\\Users\\72445\\AppData\\Local\\Continuum\\anaconda3\\lib\\site-packages\\sklearn\\metrics\\classification.py:1437: UndefinedMetricWarning: F-score is ill-defined and being set to 0.0 in labels with no predicted samples.\n",
      "  'precision', 'predicted', average, warn_for)\n",
      "C:\\Users\\72445\\AppData\\Local\\Continuum\\anaconda3\\lib\\site-packages\\sklearn\\metrics\\classification.py:1437: UndefinedMetricWarning: F-score is ill-defined and being set to 0.0 in labels with no predicted samples.\n",
      "  'precision', 'predicted', average, warn_for)\n",
      "C:\\Users\\72445\\AppData\\Local\\Continuum\\anaconda3\\lib\\site-packages\\sklearn\\metrics\\classification.py:1437: UndefinedMetricWarning: F-score is ill-defined and being set to 0.0 in labels with no predicted samples.\n",
      "  'precision', 'predicted', average, warn_for)\n"
     ]
    },
    {
     "name": "stdout",
     "output_type": "stream",
     "text": [
      "\n",
      "[CV]  learning_rate=0.01, max_depth=1, min_samples_leaf=1, min_samples_split=5, n_estimators=50, score=(train=0.461, test=0.190), total=   0.1s\n",
      "[CV] learning_rate=0.01, max_depth=1, min_samples_leaf=1, min_samples_split=5, n_estimators=100 \n"
     ]
    },
    {
     "name": "stderr",
     "output_type": "stream",
     "text": [
      "C:\\Users\\72445\\AppData\\Local\\Continuum\\anaconda3\\lib\\site-packages\\sklearn\\metrics\\classification.py:1437: UndefinedMetricWarning: F-score is ill-defined and being set to 0.0 in labels with no predicted samples.\n",
      "  'precision', 'predicted', average, warn_for)\n",
      "C:\\Users\\72445\\AppData\\Local\\Continuum\\anaconda3\\lib\\site-packages\\sklearn\\metrics\\classification.py:1437: UndefinedMetricWarning: F-score is ill-defined and being set to 0.0 in labels with no predicted samples.\n",
      "  'precision', 'predicted', average, warn_for)\n"
     ]
    },
    {
     "name": "stdout",
     "output_type": "stream",
     "text": [
      "[CV]  learning_rate=0.01, max_depth=1, min_samples_leaf=1, min_samples_split=5, n_estimators=100, score=(train=0.601, test=0.262), total=   0.2s\n",
      "[CV] learning_rate=0.01, max_depth=1, min_samples_leaf=1, min_samples_split=5, n_estimators=100 \n",
      "[CV]  learning_rate=0.01, max_depth=1, min_samples_leaf=1, min_samples_split=5, n_estimators=100, score=(train=0.542, test=0.261), total=   0.1s\n",
      "[CV] learning_rate=0.01, max_depth=1, min_samples_leaf=1, min_samples_split=5, n_estimators=100 \n"
     ]
    },
    {
     "name": "stderr",
     "output_type": "stream",
     "text": [
      "C:\\Users\\72445\\AppData\\Local\\Continuum\\anaconda3\\lib\\site-packages\\sklearn\\metrics\\classification.py:1437: UndefinedMetricWarning: F-score is ill-defined and being set to 0.0 in labels with no predicted samples.\n",
      "  'precision', 'predicted', average, warn_for)\n",
      "C:\\Users\\72445\\AppData\\Local\\Continuum\\anaconda3\\lib\\site-packages\\sklearn\\metrics\\classification.py:1437: UndefinedMetricWarning: F-score is ill-defined and being set to 0.0 in labels with no predicted samples.\n",
      "  'precision', 'predicted', average, warn_for)\n",
      "C:\\Users\\72445\\AppData\\Local\\Continuum\\anaconda3\\lib\\site-packages\\sklearn\\metrics\\classification.py:1437: UndefinedMetricWarning: F-score is ill-defined and being set to 0.0 in labels with no predicted samples.\n",
      "  'precision', 'predicted', average, warn_for)\n"
     ]
    },
    {
     "name": "stdout",
     "output_type": "stream",
     "text": [
      "[CV]  learning_rate=0.01, max_depth=1, min_samples_leaf=1, min_samples_split=5, n_estimators=100, score=(train=0.618, test=0.256), total=   0.2s\n",
      "[CV] learning_rate=0.01, max_depth=1, min_samples_leaf=1, min_samples_split=5, n_estimators=200 \n"
     ]
    },
    {
     "name": "stderr",
     "output_type": "stream",
     "text": [
      "C:\\Users\\72445\\AppData\\Local\\Continuum\\anaconda3\\lib\\site-packages\\sklearn\\metrics\\classification.py:1437: UndefinedMetricWarning: F-score is ill-defined and being set to 0.0 in labels with no predicted samples.\n",
      "  'precision', 'predicted', average, warn_for)\n"
     ]
    },
    {
     "name": "stdout",
     "output_type": "stream",
     "text": [
      "[CV]  learning_rate=0.01, max_depth=1, min_samples_leaf=1, min_samples_split=5, n_estimators=200, score=(train=0.652, test=0.262), total=   0.3s\n",
      "[CV] learning_rate=0.01, max_depth=1, min_samples_leaf=1, min_samples_split=5, n_estimators=200 \n"
     ]
    },
    {
     "name": "stderr",
     "output_type": "stream",
     "text": [
      "C:\\Users\\72445\\AppData\\Local\\Continuum\\anaconda3\\lib\\site-packages\\sklearn\\metrics\\classification.py:1437: UndefinedMetricWarning: F-score is ill-defined and being set to 0.0 in labels with no predicted samples.\n",
      "  'precision', 'predicted', average, warn_for)\n"
     ]
    },
    {
     "name": "stdout",
     "output_type": "stream",
     "text": [
      "[CV]  learning_rate=0.01, max_depth=1, min_samples_leaf=1, min_samples_split=5, n_estimators=200, score=(train=0.781, test=0.318), total=   0.7s\n",
      "[CV] learning_rate=0.01, max_depth=1, min_samples_leaf=1, min_samples_split=5, n_estimators=200 \n",
      "[CV]  learning_rate=0.01, max_depth=1, min_samples_leaf=1, min_samples_split=5, n_estimators=200, score=(train=0.816, test=0.205), total=   0.8s\n",
      "[CV] learning_rate=0.01, max_depth=1, min_samples_leaf=3, min_samples_split=2, n_estimators=50 \n"
     ]
    },
    {
     "name": "stderr",
     "output_type": "stream",
     "text": [
      "C:\\Users\\72445\\AppData\\Local\\Continuum\\anaconda3\\lib\\site-packages\\sklearn\\metrics\\classification.py:1437: UndefinedMetricWarning: F-score is ill-defined and being set to 0.0 in labels with no predicted samples.\n",
      "  'precision', 'predicted', average, warn_for)\n",
      "C:\\Users\\72445\\AppData\\Local\\Continuum\\anaconda3\\lib\\site-packages\\sklearn\\metrics\\classification.py:1437: UndefinedMetricWarning: F-score is ill-defined and being set to 0.0 in labels with no predicted samples.\n",
      "  'precision', 'predicted', average, warn_for)\n",
      "C:\\Users\\72445\\AppData\\Local\\Continuum\\anaconda3\\lib\\site-packages\\sklearn\\metrics\\classification.py:1437: UndefinedMetricWarning: F-score is ill-defined and being set to 0.0 in labels with no predicted samples.\n",
      "  'precision', 'predicted', average, warn_for)\n",
      "C:\\Users\\72445\\AppData\\Local\\Continuum\\anaconda3\\lib\\site-packages\\sklearn\\metrics\\classification.py:1437: UndefinedMetricWarning: F-score is ill-defined and being set to 0.0 in labels with no predicted samples.\n",
      "  'precision', 'predicted', average, warn_for)\n"
     ]
    },
    {
     "name": "stdout",
     "output_type": "stream",
     "text": [
      "[CV]  learning_rate=0.01, max_depth=1, min_samples_leaf=3, min_samples_split=2, n_estimators=50, score=(train=0.467, test=0.212), total=   0.2s\n",
      "[CV] learning_rate=0.01, max_depth=1, min_samples_leaf=3, min_samples_split=2, n_estimators=50 \n",
      "[CV]  learning_rate=0.01, max_depth=1, min_samples_leaf=3, min_samples_split=2, n_estimators=50, score=(train=0.509, test=0.242), total=   0.1s\n",
      "[CV] learning_rate=0.01, max_depth=1, min_samples_leaf=3, min_samples_split=2, n_estimators=50 \n"
     ]
    },
    {
     "name": "stderr",
     "output_type": "stream",
     "text": [
      "C:\\Users\\72445\\AppData\\Local\\Continuum\\anaconda3\\lib\\site-packages\\sklearn\\metrics\\classification.py:1437: UndefinedMetricWarning: F-score is ill-defined and being set to 0.0 in labels with no predicted samples.\n",
      "  'precision', 'predicted', average, warn_for)\n",
      "C:\\Users\\72445\\AppData\\Local\\Continuum\\anaconda3\\lib\\site-packages\\sklearn\\metrics\\classification.py:1437: UndefinedMetricWarning: F-score is ill-defined and being set to 0.0 in labels with no predicted samples.\n",
      "  'precision', 'predicted', average, warn_for)\n"
     ]
    },
    {
     "name": "stdout",
     "output_type": "stream",
     "text": [
      "[CV]  learning_rate=0.01, max_depth=1, min_samples_leaf=3, min_samples_split=2, n_estimators=50, score=(train=0.461, test=0.190), total=   0.2s\n",
      "[CV] learning_rate=0.01, max_depth=1, min_samples_leaf=3, min_samples_split=2, n_estimators=100 \n"
     ]
    },
    {
     "name": "stderr",
     "output_type": "stream",
     "text": [
      "C:\\Users\\72445\\AppData\\Local\\Continuum\\anaconda3\\lib\\site-packages\\sklearn\\metrics\\classification.py:1437: UndefinedMetricWarning: F-score is ill-defined and being set to 0.0 in labels with no predicted samples.\n",
      "  'precision', 'predicted', average, warn_for)\n",
      "C:\\Users\\72445\\AppData\\Local\\Continuum\\anaconda3\\lib\\site-packages\\sklearn\\metrics\\classification.py:1437: UndefinedMetricWarning: F-score is ill-defined and being set to 0.0 in labels with no predicted samples.\n",
      "  'precision', 'predicted', average, warn_for)\n",
      "C:\\Users\\72445\\AppData\\Local\\Continuum\\anaconda3\\lib\\site-packages\\sklearn\\metrics\\classification.py:1437: UndefinedMetricWarning: F-score is ill-defined and being set to 0.0 in labels with no predicted samples.\n",
      "  'precision', 'predicted', average, warn_for)\n"
     ]
    },
    {
     "name": "stdout",
     "output_type": "stream",
     "text": [
      "[CV]  learning_rate=0.01, max_depth=1, min_samples_leaf=3, min_samples_split=2, n_estimators=100, score=(train=0.500, test=0.212), total=   0.2s\n",
      "[CV] learning_rate=0.01, max_depth=1, min_samples_leaf=3, min_samples_split=2, n_estimators=100 \n"
     ]
    },
    {
     "name": "stderr",
     "output_type": "stream",
     "text": [
      "C:\\Users\\72445\\AppData\\Local\\Continuum\\anaconda3\\lib\\site-packages\\sklearn\\metrics\\classification.py:1437: UndefinedMetricWarning: F-score is ill-defined and being set to 0.0 in labels with no predicted samples.\n",
      "  'precision', 'predicted', average, warn_for)\n"
     ]
    },
    {
     "name": "stdout",
     "output_type": "stream",
     "text": [
      "[CV]  learning_rate=0.01, max_depth=1, min_samples_leaf=3, min_samples_split=2, n_estimators=100, score=(train=0.542, test=0.261), total=   0.2s\n",
      "[CV] learning_rate=0.01, max_depth=1, min_samples_leaf=3, min_samples_split=2, n_estimators=100 \n"
     ]
    },
    {
     "name": "stderr",
     "output_type": "stream",
     "text": [
      "C:\\Users\\72445\\AppData\\Local\\Continuum\\anaconda3\\lib\\site-packages\\sklearn\\metrics\\classification.py:1437: UndefinedMetricWarning: F-score is ill-defined and being set to 0.0 in labels with no predicted samples.\n",
      "  'precision', 'predicted', average, warn_for)\n"
     ]
    },
    {
     "name": "stdout",
     "output_type": "stream",
     "text": [
      "[CV]  learning_rate=0.01, max_depth=1, min_samples_leaf=3, min_samples_split=2, n_estimators=100, score=(train=0.618, test=0.256), total=   0.3s\n",
      "[CV] learning_rate=0.01, max_depth=1, min_samples_leaf=3, min_samples_split=2, n_estimators=200 \n"
     ]
    },
    {
     "name": "stderr",
     "output_type": "stream",
     "text": [
      "C:\\Users\\72445\\AppData\\Local\\Continuum\\anaconda3\\lib\\site-packages\\sklearn\\metrics\\classification.py:1437: UndefinedMetricWarning: F-score is ill-defined and being set to 0.0 in labels with no predicted samples.\n",
      "  'precision', 'predicted', average, warn_for)\n"
     ]
    },
    {
     "name": "stdout",
     "output_type": "stream",
     "text": [
      "[CV]  learning_rate=0.01, max_depth=1, min_samples_leaf=3, min_samples_split=2, n_estimators=200, score=(train=0.651, test=0.212), total=   0.5s\n",
      "[CV] learning_rate=0.01, max_depth=1, min_samples_leaf=3, min_samples_split=2, n_estimators=200 \n"
     ]
    },
    {
     "name": "stderr",
     "output_type": "stream",
     "text": [
      "C:\\Users\\72445\\AppData\\Local\\Continuum\\anaconda3\\lib\\site-packages\\sklearn\\metrics\\classification.py:1437: UndefinedMetricWarning: F-score is ill-defined and being set to 0.0 in labels with no predicted samples.\n",
      "  'precision', 'predicted', average, warn_for)\n"
     ]
    },
    {
     "name": "stdout",
     "output_type": "stream",
     "text": [
      "[CV]  learning_rate=0.01, max_depth=1, min_samples_leaf=3, min_samples_split=2, n_estimators=200, score=(train=0.781, test=0.318), total=   0.8s\n",
      "[CV] learning_rate=0.01, max_depth=1, min_samples_leaf=3, min_samples_split=2, n_estimators=200 \n",
      "[CV]  learning_rate=0.01, max_depth=1, min_samples_leaf=3, min_samples_split=2, n_estimators=200, score=(train=0.816, test=0.205), total=   0.9s\n",
      "[CV] learning_rate=0.01, max_depth=1, min_samples_leaf=3, min_samples_split=5, n_estimators=50 \n",
      "[CV]  learning_rate=0.01, max_depth=1, min_samples_leaf=3, min_samples_split=5, n_estimators=50, score=(train=0.467, test=0.212), total=   0.2s\n",
      "[CV] learning_rate=0.01, max_depth=1, min_samples_leaf=3, min_samples_split=5, n_estimators=50 \n"
     ]
    },
    {
     "name": "stderr",
     "output_type": "stream",
     "text": [
      "C:\\Users\\72445\\AppData\\Local\\Continuum\\anaconda3\\lib\\site-packages\\sklearn\\metrics\\classification.py:1437: UndefinedMetricWarning: F-score is ill-defined and being set to 0.0 in labels with no predicted samples.\n",
      "  'precision', 'predicted', average, warn_for)\n",
      "C:\\Users\\72445\\AppData\\Local\\Continuum\\anaconda3\\lib\\site-packages\\sklearn\\metrics\\classification.py:1437: UndefinedMetricWarning: F-score is ill-defined and being set to 0.0 in labels with no predicted samples.\n",
      "  'precision', 'predicted', average, warn_for)\n",
      "C:\\Users\\72445\\AppData\\Local\\Continuum\\anaconda3\\lib\\site-packages\\sklearn\\metrics\\classification.py:1437: UndefinedMetricWarning: F-score is ill-defined and being set to 0.0 in labels with no predicted samples.\n",
      "  'precision', 'predicted', average, warn_for)\n",
      "C:\\Users\\72445\\AppData\\Local\\Continuum\\anaconda3\\lib\\site-packages\\sklearn\\metrics\\classification.py:1437: UndefinedMetricWarning: F-score is ill-defined and being set to 0.0 in labels with no predicted samples.\n",
      "  'precision', 'predicted', average, warn_for)\n",
      "C:\\Users\\72445\\AppData\\Local\\Continuum\\anaconda3\\lib\\site-packages\\sklearn\\metrics\\classification.py:1437: UndefinedMetricWarning: F-score is ill-defined and being set to 0.0 in labels with no predicted samples.\n",
      "  'precision', 'predicted', average, warn_for)\n",
      "C:\\Users\\72445\\AppData\\Local\\Continuum\\anaconda3\\lib\\site-packages\\sklearn\\metrics\\classification.py:1437: UndefinedMetricWarning: F-score is ill-defined and being set to 0.0 in labels with no predicted samples.\n",
      "  'precision', 'predicted', average, warn_for)\n"
     ]
    },
    {
     "name": "stdout",
     "output_type": "stream",
     "text": [
      "[CV]  learning_rate=0.01, max_depth=1, min_samples_leaf=3, min_samples_split=5, n_estimators=50, score=(train=0.509, test=0.242), total=   0.3s\n",
      "[CV] learning_rate=0.01, max_depth=1, min_samples_leaf=3, min_samples_split=5, n_estimators=50 \n",
      "[CV]  learning_rate=0.01, max_depth=1, min_samples_leaf=3, min_samples_split=5, n_estimators=50, score=(train=0.461, test=0.190), total=   0.1s\n",
      "[CV] learning_rate=0.01, max_depth=1, min_samples_leaf=3, min_samples_split=5, n_estimators=100 \n"
     ]
    },
    {
     "name": "stderr",
     "output_type": "stream",
     "text": [
      "C:\\Users\\72445\\AppData\\Local\\Continuum\\anaconda3\\lib\\site-packages\\sklearn\\metrics\\classification.py:1437: UndefinedMetricWarning: F-score is ill-defined and being set to 0.0 in labels with no predicted samples.\n",
      "  'precision', 'predicted', average, warn_for)\n",
      "C:\\Users\\72445\\AppData\\Local\\Continuum\\anaconda3\\lib\\site-packages\\sklearn\\metrics\\classification.py:1437: UndefinedMetricWarning: F-score is ill-defined and being set to 0.0 in labels with no predicted samples.\n",
      "  'precision', 'predicted', average, warn_for)\n"
     ]
    },
    {
     "name": "stdout",
     "output_type": "stream",
     "text": [
      "[CV]  learning_rate=0.01, max_depth=1, min_samples_leaf=3, min_samples_split=5, n_estimators=100, score=(train=0.500, test=0.212), total=   0.3s\n",
      "[CV] learning_rate=0.01, max_depth=1, min_samples_leaf=3, min_samples_split=5, n_estimators=100 \n"
     ]
    },
    {
     "name": "stderr",
     "output_type": "stream",
     "text": [
      "C:\\Users\\72445\\AppData\\Local\\Continuum\\anaconda3\\lib\\site-packages\\sklearn\\metrics\\classification.py:1437: UndefinedMetricWarning: F-score is ill-defined and being set to 0.0 in labels with no predicted samples.\n",
      "  'precision', 'predicted', average, warn_for)\n",
      "C:\\Users\\72445\\AppData\\Local\\Continuum\\anaconda3\\lib\\site-packages\\sklearn\\metrics\\classification.py:1437: UndefinedMetricWarning: F-score is ill-defined and being set to 0.0 in labels with no predicted samples.\n",
      "  'precision', 'predicted', average, warn_for)\n"
     ]
    },
    {
     "name": "stdout",
     "output_type": "stream",
     "text": [
      "[CV]  learning_rate=0.01, max_depth=1, min_samples_leaf=3, min_samples_split=5, n_estimators=100, score=(train=0.542, test=0.261), total=   0.3s\n",
      "[CV] learning_rate=0.01, max_depth=1, min_samples_leaf=3, min_samples_split=5, n_estimators=100 \n"
     ]
    },
    {
     "name": "stderr",
     "output_type": "stream",
     "text": [
      "C:\\Users\\72445\\AppData\\Local\\Continuum\\anaconda3\\lib\\site-packages\\sklearn\\metrics\\classification.py:1437: UndefinedMetricWarning: F-score is ill-defined and being set to 0.0 in labels with no predicted samples.\n",
      "  'precision', 'predicted', average, warn_for)\n"
     ]
    },
    {
     "name": "stdout",
     "output_type": "stream",
     "text": [
      "[CV]  learning_rate=0.01, max_depth=1, min_samples_leaf=3, min_samples_split=5, n_estimators=100, score=(train=0.618, test=0.256), total=   0.3s\n",
      "[CV] learning_rate=0.01, max_depth=1, min_samples_leaf=3, min_samples_split=5, n_estimators=200 \n"
     ]
    },
    {
     "name": "stderr",
     "output_type": "stream",
     "text": [
      "C:\\Users\\72445\\AppData\\Local\\Continuum\\anaconda3\\lib\\site-packages\\sklearn\\metrics\\classification.py:1437: UndefinedMetricWarning: F-score is ill-defined and being set to 0.0 in labels with no predicted samples.\n",
      "  'precision', 'predicted', average, warn_for)\n"
     ]
    },
    {
     "name": "stdout",
     "output_type": "stream",
     "text": [
      "[CV]  learning_rate=0.01, max_depth=1, min_samples_leaf=3, min_samples_split=5, n_estimators=200, score=(train=0.651, test=0.212), total=   0.4s\n",
      "[CV] learning_rate=0.01, max_depth=1, min_samples_leaf=3, min_samples_split=5, n_estimators=200 \n"
     ]
    },
    {
     "name": "stderr",
     "output_type": "stream",
     "text": [
      "C:\\Users\\72445\\AppData\\Local\\Continuum\\anaconda3\\lib\\site-packages\\sklearn\\metrics\\classification.py:1437: UndefinedMetricWarning: F-score is ill-defined and being set to 0.0 in labels with no predicted samples.\n",
      "  'precision', 'predicted', average, warn_for)\n"
     ]
    },
    {
     "name": "stdout",
     "output_type": "stream",
     "text": [
      "[CV]  learning_rate=0.01, max_depth=1, min_samples_leaf=3, min_samples_split=5, n_estimators=200, score=(train=0.781, test=0.318), total=   1.1s\n",
      "[CV] learning_rate=0.01, max_depth=1, min_samples_leaf=3, min_samples_split=5, n_estimators=200 \n",
      "[CV]  learning_rate=0.01, max_depth=1, min_samples_leaf=3, min_samples_split=5, n_estimators=200, score=(train=0.816, test=0.205), total=   0.4s\n",
      "[CV] learning_rate=0.01, max_depth=1, min_samples_leaf=5, min_samples_split=2, n_estimators=50 \n",
      "[CV]  learning_rate=0.01, max_depth=1, min_samples_leaf=5, min_samples_split=2, n_estimators=50, score=(train=0.467, test=0.212), total=   0.1s\n",
      "[CV] learning_rate=0.01, max_depth=1, min_samples_leaf=5, min_samples_split=2, n_estimators=50 \n",
      "[CV]  learning_rate=0.01, max_depth=1, min_samples_leaf=5, min_samples_split=2, n_estimators=50, score=(train=0.527, test=0.282), total=   0.1s\n",
      "[CV] learning_rate=0.01, max_depth=1, min_samples_leaf=5, min_samples_split=2, n_estimators=50 \n"
     ]
    },
    {
     "name": "stderr",
     "output_type": "stream",
     "text": [
      "C:\\Users\\72445\\AppData\\Local\\Continuum\\anaconda3\\lib\\site-packages\\sklearn\\metrics\\classification.py:1437: UndefinedMetricWarning: F-score is ill-defined and being set to 0.0 in labels with no predicted samples.\n",
      "  'precision', 'predicted', average, warn_for)\n",
      "C:\\Users\\72445\\AppData\\Local\\Continuum\\anaconda3\\lib\\site-packages\\sklearn\\metrics\\classification.py:1437: UndefinedMetricWarning: F-score is ill-defined and being set to 0.0 in labels with no predicted samples.\n",
      "  'precision', 'predicted', average, warn_for)\n",
      "C:\\Users\\72445\\AppData\\Local\\Continuum\\anaconda3\\lib\\site-packages\\sklearn\\metrics\\classification.py:1437: UndefinedMetricWarning: F-score is ill-defined and being set to 0.0 in labels with no predicted samples.\n",
      "  'precision', 'predicted', average, warn_for)\n",
      "C:\\Users\\72445\\AppData\\Local\\Continuum\\anaconda3\\lib\\site-packages\\sklearn\\metrics\\classification.py:1437: UndefinedMetricWarning: F-score is ill-defined and being set to 0.0 in labels with no predicted samples.\n",
      "  'precision', 'predicted', average, warn_for)\n",
      "C:\\Users\\72445\\AppData\\Local\\Continuum\\anaconda3\\lib\\site-packages\\sklearn\\metrics\\classification.py:1437: UndefinedMetricWarning: F-score is ill-defined and being set to 0.0 in labels with no predicted samples.\n",
      "  'precision', 'predicted', average, warn_for)\n",
      "C:\\Users\\72445\\AppData\\Local\\Continuum\\anaconda3\\lib\\site-packages\\sklearn\\metrics\\classification.py:1437: UndefinedMetricWarning: F-score is ill-defined and being set to 0.0 in labels with no predicted samples.\n",
      "  'precision', 'predicted', average, warn_for)\n",
      "C:\\Users\\72445\\AppData\\Local\\Continuum\\anaconda3\\lib\\site-packages\\sklearn\\metrics\\classification.py:1437: UndefinedMetricWarning: F-score is ill-defined and being set to 0.0 in labels with no predicted samples.\n",
      "  'precision', 'predicted', average, warn_for)\n",
      "C:\\Users\\72445\\AppData\\Local\\Continuum\\anaconda3\\lib\\site-packages\\sklearn\\metrics\\classification.py:1437: UndefinedMetricWarning: F-score is ill-defined and being set to 0.0 in labels with no predicted samples.\n",
      "  'precision', 'predicted', average, warn_for)\n"
     ]
    },
    {
     "name": "stdout",
     "output_type": "stream",
     "text": [
      "[CV]  learning_rate=0.01, max_depth=1, min_samples_leaf=5, min_samples_split=2, n_estimators=50, score=(train=0.459, test=0.173), total=   0.1s\n",
      "[CV] learning_rate=0.01, max_depth=1, min_samples_leaf=5, min_samples_split=2, n_estimators=100 \n"
     ]
    },
    {
     "name": "stderr",
     "output_type": "stream",
     "text": [
      "C:\\Users\\72445\\AppData\\Local\\Continuum\\anaconda3\\lib\\site-packages\\sklearn\\metrics\\classification.py:1437: UndefinedMetricWarning: F-score is ill-defined and being set to 0.0 in labels with no predicted samples.\n",
      "  'precision', 'predicted', average, warn_for)\n",
      "C:\\Users\\72445\\AppData\\Local\\Continuum\\anaconda3\\lib\\site-packages\\sklearn\\metrics\\classification.py:1437: UndefinedMetricWarning: F-score is ill-defined and being set to 0.0 in labels with no predicted samples.\n",
      "  'precision', 'predicted', average, warn_for)\n"
     ]
    },
    {
     "name": "stdout",
     "output_type": "stream",
     "text": [
      "[CV]  learning_rate=0.01, max_depth=1, min_samples_leaf=5, min_samples_split=2, n_estimators=100, score=(train=0.500, test=0.212), total=   0.2s\n",
      "[CV] learning_rate=0.01, max_depth=1, min_samples_leaf=5, min_samples_split=2, n_estimators=100 \n",
      "[CV]  learning_rate=0.01, max_depth=1, min_samples_leaf=5, min_samples_split=2, n_estimators=100, score=(train=0.525, test=0.262), total=   0.1s\n",
      "[CV] learning_rate=0.01, max_depth=1, min_samples_leaf=5, min_samples_split=2, n_estimators=100 \n"
     ]
    },
    {
     "name": "stderr",
     "output_type": "stream",
     "text": [
      "C:\\Users\\72445\\AppData\\Local\\Continuum\\anaconda3\\lib\\site-packages\\sklearn\\metrics\\classification.py:1437: UndefinedMetricWarning: F-score is ill-defined and being set to 0.0 in labels with no predicted samples.\n",
      "  'precision', 'predicted', average, warn_for)\n"
     ]
    },
    {
     "name": "stdout",
     "output_type": "stream",
     "text": [
      "[CV]  learning_rate=0.01, max_depth=1, min_samples_leaf=5, min_samples_split=2, n_estimators=100, score=(train=0.586, test=0.256), total=   0.2s\n",
      "[CV] learning_rate=0.01, max_depth=1, min_samples_leaf=5, min_samples_split=2, n_estimators=200 \n"
     ]
    },
    {
     "name": "stderr",
     "output_type": "stream",
     "text": [
      "C:\\Users\\72445\\AppData\\Local\\Continuum\\anaconda3\\lib\\site-packages\\sklearn\\metrics\\classification.py:1437: UndefinedMetricWarning: F-score is ill-defined and being set to 0.0 in labels with no predicted samples.\n",
      "  'precision', 'predicted', average, warn_for)\n"
     ]
    },
    {
     "name": "stdout",
     "output_type": "stream",
     "text": [
      "[CV]  learning_rate=0.01, max_depth=1, min_samples_leaf=5, min_samples_split=2, n_estimators=200, score=(train=0.651, test=0.212), total=   0.4s\n",
      "[CV] learning_rate=0.01, max_depth=1, min_samples_leaf=5, min_samples_split=2, n_estimators=200 \n"
     ]
    },
    {
     "name": "stderr",
     "output_type": "stream",
     "text": [
      "C:\\Users\\72445\\AppData\\Local\\Continuum\\anaconda3\\lib\\site-packages\\sklearn\\metrics\\classification.py:1437: UndefinedMetricWarning: F-score is ill-defined and being set to 0.0 in labels with no predicted samples.\n",
      "  'precision', 'predicted', average, warn_for)\n"
     ]
    },
    {
     "name": "stdout",
     "output_type": "stream",
     "text": [
      "[CV]  learning_rate=0.01, max_depth=1, min_samples_leaf=5, min_samples_split=2, n_estimators=200, score=(train=0.798, test=0.317), total=   1.0s\n",
      "[CV] learning_rate=0.01, max_depth=1, min_samples_leaf=5, min_samples_split=2, n_estimators=200 \n",
      "[CV]  learning_rate=0.01, max_depth=1, min_samples_leaf=5, min_samples_split=2, n_estimators=200, score=(train=0.824, test=0.359), total=   0.6s\n",
      "[CV] learning_rate=0.01, max_depth=1, min_samples_leaf=5, min_samples_split=5, n_estimators=50 \n",
      "[CV]  learning_rate=0.01, max_depth=1, min_samples_leaf=5, min_samples_split=5, n_estimators=50, score=(train=0.467, test=0.212), total=   0.1s\n",
      "[CV] learning_rate=0.01, max_depth=1, min_samples_leaf=5, min_samples_split=5, n_estimators=50 \n"
     ]
    },
    {
     "name": "stderr",
     "output_type": "stream",
     "text": [
      "C:\\Users\\72445\\AppData\\Local\\Continuum\\anaconda3\\lib\\site-packages\\sklearn\\metrics\\classification.py:1437: UndefinedMetricWarning: F-score is ill-defined and being set to 0.0 in labels with no predicted samples.\n",
      "  'precision', 'predicted', average, warn_for)\n",
      "C:\\Users\\72445\\AppData\\Local\\Continuum\\anaconda3\\lib\\site-packages\\sklearn\\metrics\\classification.py:1437: UndefinedMetricWarning: F-score is ill-defined and being set to 0.0 in labels with no predicted samples.\n",
      "  'precision', 'predicted', average, warn_for)\n",
      "C:\\Users\\72445\\AppData\\Local\\Continuum\\anaconda3\\lib\\site-packages\\sklearn\\metrics\\classification.py:1437: UndefinedMetricWarning: F-score is ill-defined and being set to 0.0 in labels with no predicted samples.\n",
      "  'precision', 'predicted', average, warn_for)\n",
      "C:\\Users\\72445\\AppData\\Local\\Continuum\\anaconda3\\lib\\site-packages\\sklearn\\metrics\\classification.py:1437: UndefinedMetricWarning: F-score is ill-defined and being set to 0.0 in labels with no predicted samples.\n",
      "  'precision', 'predicted', average, warn_for)\n"
     ]
    },
    {
     "name": "stdout",
     "output_type": "stream",
     "text": [
      "[CV]  learning_rate=0.01, max_depth=1, min_samples_leaf=5, min_samples_split=5, n_estimators=50, score=(train=0.527, test=0.282), total=   0.1s\n",
      "[CV] learning_rate=0.01, max_depth=1, min_samples_leaf=5, min_samples_split=5, n_estimators=50 \n",
      "[CV]  learning_rate=0.01, max_depth=1, min_samples_leaf=5, min_samples_split=5, n_estimators=50, score=(train=0.459, test=0.173), total=   0.1s\n",
      "[CV] learning_rate=0.01, max_depth=1, min_samples_leaf=5, min_samples_split=5, n_estimators=100 \n"
     ]
    },
    {
     "name": "stderr",
     "output_type": "stream",
     "text": [
      "C:\\Users\\72445\\AppData\\Local\\Continuum\\anaconda3\\lib\\site-packages\\sklearn\\metrics\\classification.py:1437: UndefinedMetricWarning: F-score is ill-defined and being set to 0.0 in labels with no predicted samples.\n",
      "  'precision', 'predicted', average, warn_for)\n",
      "C:\\Users\\72445\\AppData\\Local\\Continuum\\anaconda3\\lib\\site-packages\\sklearn\\metrics\\classification.py:1437: UndefinedMetricWarning: F-score is ill-defined and being set to 0.0 in labels with no predicted samples.\n",
      "  'precision', 'predicted', average, warn_for)\n",
      "C:\\Users\\72445\\AppData\\Local\\Continuum\\anaconda3\\lib\\site-packages\\sklearn\\metrics\\classification.py:1437: UndefinedMetricWarning: F-score is ill-defined and being set to 0.0 in labels with no predicted samples.\n",
      "  'precision', 'predicted', average, warn_for)\n",
      "C:\\Users\\72445\\AppData\\Local\\Continuum\\anaconda3\\lib\\site-packages\\sklearn\\metrics\\classification.py:1437: UndefinedMetricWarning: F-score is ill-defined and being set to 0.0 in labels with no predicted samples.\n",
      "  'precision', 'predicted', average, warn_for)\n"
     ]
    },
    {
     "name": "stdout",
     "output_type": "stream",
     "text": [
      "[CV]  learning_rate=0.01, max_depth=1, min_samples_leaf=5, min_samples_split=5, n_estimators=100, score=(train=0.500, test=0.212), total=   0.3s\n",
      "[CV] learning_rate=0.01, max_depth=1, min_samples_leaf=5, min_samples_split=5, n_estimators=100 \n"
     ]
    },
    {
     "name": "stderr",
     "output_type": "stream",
     "text": [
      "C:\\Users\\72445\\AppData\\Local\\Continuum\\anaconda3\\lib\\site-packages\\sklearn\\metrics\\classification.py:1437: UndefinedMetricWarning: F-score is ill-defined and being set to 0.0 in labels with no predicted samples.\n",
      "  'precision', 'predicted', average, warn_for)\n",
      "C:\\Users\\72445\\AppData\\Local\\Continuum\\anaconda3\\lib\\site-packages\\sklearn\\metrics\\classification.py:1437: UndefinedMetricWarning: F-score is ill-defined and being set to 0.0 in labels with no predicted samples.\n",
      "  'precision', 'predicted', average, warn_for)\n",
      "C:\\Users\\72445\\AppData\\Local\\Continuum\\anaconda3\\lib\\site-packages\\sklearn\\metrics\\classification.py:1437: UndefinedMetricWarning: F-score is ill-defined and being set to 0.0 in labels with no predicted samples.\n",
      "  'precision', 'predicted', average, warn_for)\n"
     ]
    },
    {
     "name": "stdout",
     "output_type": "stream",
     "text": [
      "[CV]  learning_rate=0.01, max_depth=1, min_samples_leaf=5, min_samples_split=5, n_estimators=100, score=(train=0.525, test=0.262), total=   0.3s\n",
      "[CV] learning_rate=0.01, max_depth=1, min_samples_leaf=5, min_samples_split=5, n_estimators=100 \n",
      "[CV]  learning_rate=0.01, max_depth=1, min_samples_leaf=5, min_samples_split=5, n_estimators=100, score=(train=0.586, test=0.256), total=   0.1s\n",
      "[CV] learning_rate=0.01, max_depth=1, min_samples_leaf=5, min_samples_split=5, n_estimators=200 \n"
     ]
    },
    {
     "name": "stderr",
     "output_type": "stream",
     "text": [
      "C:\\Users\\72445\\AppData\\Local\\Continuum\\anaconda3\\lib\\site-packages\\sklearn\\metrics\\classification.py:1437: UndefinedMetricWarning: F-score is ill-defined and being set to 0.0 in labels with no predicted samples.\n",
      "  'precision', 'predicted', average, warn_for)\n"
     ]
    },
    {
     "name": "stdout",
     "output_type": "stream",
     "text": [
      "[CV]  learning_rate=0.01, max_depth=1, min_samples_leaf=5, min_samples_split=5, n_estimators=200, score=(train=0.651, test=0.212), total=   0.3s\n",
      "[CV] learning_rate=0.01, max_depth=1, min_samples_leaf=5, min_samples_split=5, n_estimators=200 \n"
     ]
    },
    {
     "name": "stderr",
     "output_type": "stream",
     "text": [
      "C:\\Users\\72445\\AppData\\Local\\Continuum\\anaconda3\\lib\\site-packages\\sklearn\\metrics\\classification.py:1437: UndefinedMetricWarning: F-score is ill-defined and being set to 0.0 in labels with no predicted samples.\n",
      "  'precision', 'predicted', average, warn_for)\n"
     ]
    },
    {
     "name": "stdout",
     "output_type": "stream",
     "text": [
      "[CV]  learning_rate=0.01, max_depth=1, min_samples_leaf=5, min_samples_split=5, n_estimators=200, score=(train=0.798, test=0.317), total=   0.3s\n",
      "[CV] learning_rate=0.01, max_depth=1, min_samples_leaf=5, min_samples_split=5, n_estimators=200 \n",
      "[CV]  learning_rate=0.01, max_depth=1, min_samples_leaf=5, min_samples_split=5, n_estimators=200, score=(train=0.824, test=0.359), total=   0.3s\n",
      "[CV] learning_rate=0.01, max_depth=3, min_samples_leaf=1, min_samples_split=2, n_estimators=50 \n",
      "[CV]  learning_rate=0.01, max_depth=3, min_samples_leaf=1, min_samples_split=2, n_estimators=50, score=(train=0.916, test=0.250), total=   0.1s\n",
      "[CV] learning_rate=0.01, max_depth=3, min_samples_leaf=1, min_samples_split=2, n_estimators=50 \n"
     ]
    },
    {
     "name": "stderr",
     "output_type": "stream",
     "text": [
      "C:\\Users\\72445\\AppData\\Local\\Continuum\\anaconda3\\lib\\site-packages\\sklearn\\metrics\\classification.py:1437: UndefinedMetricWarning: F-score is ill-defined and being set to 0.0 in labels with no predicted samples.\n",
      "  'precision', 'predicted', average, warn_for)\n",
      "C:\\Users\\72445\\AppData\\Local\\Continuum\\anaconda3\\lib\\site-packages\\sklearn\\metrics\\classification.py:1437: UndefinedMetricWarning: F-score is ill-defined and being set to 0.0 in labels with no predicted samples.\n",
      "  'precision', 'predicted', average, warn_for)\n"
     ]
    },
    {
     "name": "stdout",
     "output_type": "stream",
     "text": [
      "[CV]  learning_rate=0.01, max_depth=3, min_samples_leaf=1, min_samples_split=2, n_estimators=50, score=(train=0.927, test=0.341), total=   0.2s\n",
      "[CV] learning_rate=0.01, max_depth=3, min_samples_leaf=1, min_samples_split=2, n_estimators=50 \n",
      "[CV]  learning_rate=0.01, max_depth=3, min_samples_leaf=1, min_samples_split=2, n_estimators=50, score=(train=0.982, test=0.307), total=   0.1s\n",
      "[CV] learning_rate=0.01, max_depth=3, min_samples_leaf=1, min_samples_split=2, n_estimators=100 \n"
     ]
    },
    {
     "name": "stderr",
     "output_type": "stream",
     "text": [
      "C:\\Users\\72445\\AppData\\Local\\Continuum\\anaconda3\\lib\\site-packages\\sklearn\\metrics\\classification.py:1437: UndefinedMetricWarning: F-score is ill-defined and being set to 0.0 in labels with no predicted samples.\n",
      "  'precision', 'predicted', average, warn_for)\n"
     ]
    },
    {
     "name": "stdout",
     "output_type": "stream",
     "text": [
      "[CV]  learning_rate=0.01, max_depth=3, min_samples_leaf=1, min_samples_split=2, n_estimators=100, score=(train=0.961, test=0.278), total=   0.2s\n",
      "[CV] learning_rate=0.01, max_depth=3, min_samples_leaf=1, min_samples_split=2, n_estimators=100 \n",
      "[CV]  learning_rate=0.01, max_depth=3, min_samples_leaf=1, min_samples_split=2, n_estimators=100, score=(train=1.000, test=0.290), total=   0.2s\n",
      "[CV] learning_rate=0.01, max_depth=3, min_samples_leaf=1, min_samples_split=2, n_estimators=100 \n",
      "[CV]  learning_rate=0.01, max_depth=3, min_samples_leaf=1, min_samples_split=2, n_estimators=100, score=(train=0.982, test=0.490), total=   0.2s\n",
      "[CV] learning_rate=0.01, max_depth=3, min_samples_leaf=1, min_samples_split=2, n_estimators=200 \n",
      "[CV]  learning_rate=0.01, max_depth=3, min_samples_leaf=1, min_samples_split=2, n_estimators=200, score=(train=1.000, test=0.284), total=   0.4s\n",
      "[CV] learning_rate=0.01, max_depth=3, min_samples_leaf=1, min_samples_split=2, n_estimators=200 \n",
      "[CV]  learning_rate=0.01, max_depth=3, min_samples_leaf=1, min_samples_split=2, n_estimators=200, score=(train=1.000, test=0.270), total=   0.4s\n",
      "[CV] learning_rate=0.01, max_depth=3, min_samples_leaf=1, min_samples_split=2, n_estimators=200 \n",
      "[CV]  learning_rate=0.01, max_depth=3, min_samples_leaf=1, min_samples_split=2, n_estimators=200, score=(train=1.000, test=0.479), total=   0.5s\n",
      "[CV] learning_rate=0.01, max_depth=3, min_samples_leaf=1, min_samples_split=5, n_estimators=50 \n",
      "[CV]  learning_rate=0.01, max_depth=3, min_samples_leaf=1, min_samples_split=5, n_estimators=50, score=(train=0.916, test=0.250), total=   0.1s\n",
      "[CV] learning_rate=0.01, max_depth=3, min_samples_leaf=1, min_samples_split=5, n_estimators=50 \n"
     ]
    },
    {
     "name": "stderr",
     "output_type": "stream",
     "text": [
      "C:\\Users\\72445\\AppData\\Local\\Continuum\\anaconda3\\lib\\site-packages\\sklearn\\metrics\\classification.py:1437: UndefinedMetricWarning: F-score is ill-defined and being set to 0.0 in labels with no predicted samples.\n",
      "  'precision', 'predicted', average, warn_for)\n",
      "C:\\Users\\72445\\AppData\\Local\\Continuum\\anaconda3\\lib\\site-packages\\sklearn\\metrics\\classification.py:1437: UndefinedMetricWarning: F-score is ill-defined and being set to 0.0 in labels with no predicted samples.\n",
      "  'precision', 'predicted', average, warn_for)\n"
     ]
    },
    {
     "name": "stdout",
     "output_type": "stream",
     "text": [
      "[CV]  learning_rate=0.01, max_depth=3, min_samples_leaf=1, min_samples_split=5, n_estimators=50, score=(train=0.927, test=0.341), total=   0.1s\n",
      "[CV] learning_rate=0.01, max_depth=3, min_samples_leaf=1, min_samples_split=5, n_estimators=50 \n",
      "[CV]  learning_rate=0.01, max_depth=3, min_samples_leaf=1, min_samples_split=5, n_estimators=50, score=(train=0.948, test=0.337), total=   0.1s\n",
      "[CV] learning_rate=0.01, max_depth=3, min_samples_leaf=1, min_samples_split=5, n_estimators=100 \n"
     ]
    },
    {
     "name": "stderr",
     "output_type": "stream",
     "text": [
      "C:\\Users\\72445\\AppData\\Local\\Continuum\\anaconda3\\lib\\site-packages\\sklearn\\metrics\\classification.py:1437: UndefinedMetricWarning: F-score is ill-defined and being set to 0.0 in labels with no predicted samples.\n",
      "  'precision', 'predicted', average, warn_for)\n"
     ]
    },
    {
     "name": "stdout",
     "output_type": "stream",
     "text": [
      "[CV]  learning_rate=0.01, max_depth=3, min_samples_leaf=1, min_samples_split=5, n_estimators=100, score=(train=0.916, test=0.278), total=   0.2s\n",
      "[CV] learning_rate=0.01, max_depth=3, min_samples_leaf=1, min_samples_split=5, n_estimators=100 \n",
      "[CV]  learning_rate=0.01, max_depth=3, min_samples_leaf=1, min_samples_split=5, n_estimators=100, score=(train=1.000, test=0.290), total=   0.2s\n",
      "[CV] learning_rate=0.01, max_depth=3, min_samples_leaf=1, min_samples_split=5, n_estimators=100 \n",
      "[CV]  learning_rate=0.01, max_depth=3, min_samples_leaf=1, min_samples_split=5, n_estimators=100, score=(train=1.000, test=0.348), total=   0.3s\n",
      "[CV] learning_rate=0.01, max_depth=3, min_samples_leaf=1, min_samples_split=5, n_estimators=200 \n"
     ]
    },
    {
     "name": "stderr",
     "output_type": "stream",
     "text": [
      "C:\\Users\\72445\\AppData\\Local\\Continuum\\anaconda3\\lib\\site-packages\\sklearn\\metrics\\classification.py:1437: UndefinedMetricWarning: F-score is ill-defined and being set to 0.0 in labels with no predicted samples.\n",
      "  'precision', 'predicted', average, warn_for)\n"
     ]
    },
    {
     "name": "stdout",
     "output_type": "stream",
     "text": [
      "[CV]  learning_rate=0.01, max_depth=3, min_samples_leaf=1, min_samples_split=5, n_estimators=200, score=(train=1.000, test=0.278), total=   0.4s\n",
      "[CV] learning_rate=0.01, max_depth=3, min_samples_leaf=1, min_samples_split=5, n_estimators=200 \n",
      "[CV]  learning_rate=0.01, max_depth=3, min_samples_leaf=1, min_samples_split=5, n_estimators=200, score=(train=1.000, test=0.270), total=   0.4s\n",
      "[CV] learning_rate=0.01, max_depth=3, min_samples_leaf=1, min_samples_split=5, n_estimators=200 \n",
      "[CV]  learning_rate=0.01, max_depth=3, min_samples_leaf=1, min_samples_split=5, n_estimators=200, score=(train=1.000, test=0.490), total=   0.4s\n",
      "[CV] learning_rate=0.01, max_depth=3, min_samples_leaf=3, min_samples_split=2, n_estimators=50 \n",
      "[CV]  learning_rate=0.01, max_depth=3, min_samples_leaf=3, min_samples_split=2, n_estimators=50, score=(train=0.845, test=0.212), total=   0.1s\n",
      "[CV] learning_rate=0.01, max_depth=3, min_samples_leaf=3, min_samples_split=2, n_estimators=50 \n"
     ]
    },
    {
     "name": "stderr",
     "output_type": "stream",
     "text": [
      "C:\\Users\\72445\\AppData\\Local\\Continuum\\anaconda3\\lib\\site-packages\\sklearn\\metrics\\classification.py:1437: UndefinedMetricWarning: F-score is ill-defined and being set to 0.0 in labels with no predicted samples.\n",
      "  'precision', 'predicted', average, warn_for)\n",
      "C:\\Users\\72445\\AppData\\Local\\Continuum\\anaconda3\\lib\\site-packages\\sklearn\\metrics\\classification.py:1437: UndefinedMetricWarning: F-score is ill-defined and being set to 0.0 in labels with no predicted samples.\n",
      "  'precision', 'predicted', average, warn_for)\n"
     ]
    },
    {
     "name": "stdout",
     "output_type": "stream",
     "text": [
      "[CV]  learning_rate=0.01, max_depth=3, min_samples_leaf=3, min_samples_split=2, n_estimators=50, score=(train=0.832, test=0.262), total=   0.1s\n",
      "[CV] learning_rate=0.01, max_depth=3, min_samples_leaf=3, min_samples_split=2, n_estimators=50 \n",
      "[CV]  learning_rate=0.01, max_depth=3, min_samples_leaf=3, min_samples_split=2, n_estimators=50, score=(train=0.875, test=0.265), total=   0.1s\n",
      "[CV] learning_rate=0.01, max_depth=3, min_samples_leaf=3, min_samples_split=2, n_estimators=100 \n",
      "[CV]  learning_rate=0.01, max_depth=3, min_samples_leaf=3, min_samples_split=2, n_estimators=100, score=(train=0.916, test=0.323), total=   0.2s\n",
      "[CV] learning_rate=0.01, max_depth=3, min_samples_leaf=3, min_samples_split=2, n_estimators=100 \n",
      "[CV]  learning_rate=0.01, max_depth=3, min_samples_leaf=3, min_samples_split=2, n_estimators=100, score=(train=1.000, test=0.222), total=   0.2s\n",
      "[CV] learning_rate=0.01, max_depth=3, min_samples_leaf=3, min_samples_split=2, n_estimators=100 \n",
      "[CV]  learning_rate=0.01, max_depth=3, min_samples_leaf=3, min_samples_split=2, n_estimators=100, score=(train=0.982, test=0.404), total=   0.2s\n",
      "[CV] learning_rate=0.01, max_depth=3, min_samples_leaf=3, min_samples_split=2, n_estimators=200 \n",
      "[CV]  learning_rate=0.01, max_depth=3, min_samples_leaf=3, min_samples_split=2, n_estimators=200, score=(train=1.000, test=0.296), total=   0.4s\n",
      "[CV] learning_rate=0.01, max_depth=3, min_samples_leaf=3, min_samples_split=2, n_estimators=200 \n",
      "[CV]  learning_rate=0.01, max_depth=3, min_samples_leaf=3, min_samples_split=2, n_estimators=200, score=(train=1.000, test=0.230), total=   0.9s\n",
      "[CV] learning_rate=0.01, max_depth=3, min_samples_leaf=3, min_samples_split=2, n_estimators=200 \n",
      "[CV]  learning_rate=0.01, max_depth=3, min_samples_leaf=3, min_samples_split=2, n_estimators=200, score=(train=1.000, test=0.341), total=   0.7s\n",
      "[CV] learning_rate=0.01, max_depth=3, min_samples_leaf=3, min_samples_split=5, n_estimators=50 \n"
     ]
    },
    {
     "name": "stderr",
     "output_type": "stream",
     "text": [
      "C:\\Users\\72445\\AppData\\Local\\Continuum\\anaconda3\\lib\\site-packages\\sklearn\\metrics\\classification.py:1437: UndefinedMetricWarning: F-score is ill-defined and being set to 0.0 in labels with no predicted samples.\n",
      "  'precision', 'predicted', average, warn_for)\n"
     ]
    },
    {
     "name": "stdout",
     "output_type": "stream",
     "text": [
      "[CV]  learning_rate=0.01, max_depth=3, min_samples_leaf=3, min_samples_split=5, n_estimators=50, score=(train=0.845, test=0.212), total=   0.3s\n",
      "[CV] learning_rate=0.01, max_depth=3, min_samples_leaf=3, min_samples_split=5, n_estimators=50 \n"
     ]
    },
    {
     "name": "stderr",
     "output_type": "stream",
     "text": [
      "C:\\Users\\72445\\AppData\\Local\\Continuum\\anaconda3\\lib\\site-packages\\sklearn\\metrics\\classification.py:1437: UndefinedMetricWarning: F-score is ill-defined and being set to 0.0 in labels with no predicted samples.\n",
      "  'precision', 'predicted', average, warn_for)\n"
     ]
    },
    {
     "name": "stdout",
     "output_type": "stream",
     "text": [
      "[CV]  learning_rate=0.01, max_depth=3, min_samples_leaf=3, min_samples_split=5, n_estimators=50, score=(train=0.832, test=0.262), total=   0.4s\n",
      "[CV] learning_rate=0.01, max_depth=3, min_samples_leaf=3, min_samples_split=5, n_estimators=50 \n",
      "[CV]  learning_rate=0.01, max_depth=3, min_samples_leaf=3, min_samples_split=5, n_estimators=50, score=(train=0.875, test=0.265), total=   0.1s\n",
      "[CV] learning_rate=0.01, max_depth=3, min_samples_leaf=3, min_samples_split=5, n_estimators=100 \n",
      "[CV]  learning_rate=0.01, max_depth=3, min_samples_leaf=3, min_samples_split=5, n_estimators=100, score=(train=0.916, test=0.323), total=   0.7s\n",
      "[CV] learning_rate=0.01, max_depth=3, min_samples_leaf=3, min_samples_split=5, n_estimators=100 \n",
      "[CV]  learning_rate=0.01, max_depth=3, min_samples_leaf=3, min_samples_split=5, n_estimators=100, score=(train=1.000, test=0.222), total=   0.3s\n",
      "[CV] learning_rate=0.01, max_depth=3, min_samples_leaf=3, min_samples_split=5, n_estimators=100 \n",
      "[CV]  learning_rate=0.01, max_depth=3, min_samples_leaf=3, min_samples_split=5, n_estimators=100, score=(train=0.982, test=0.404), total=   0.3s\n",
      "[CV] learning_rate=0.01, max_depth=3, min_samples_leaf=3, min_samples_split=5, n_estimators=200 \n",
      "[CV]  learning_rate=0.01, max_depth=3, min_samples_leaf=3, min_samples_split=5, n_estimators=200, score=(train=1.000, test=0.296), total=   0.7s\n",
      "[CV] learning_rate=0.01, max_depth=3, min_samples_leaf=3, min_samples_split=5, n_estimators=200 \n",
      "[CV]  learning_rate=0.01, max_depth=3, min_samples_leaf=3, min_samples_split=5, n_estimators=200, score=(train=1.000, test=0.230), total=   0.5s\n",
      "[CV] learning_rate=0.01, max_depth=3, min_samples_leaf=3, min_samples_split=5, n_estimators=200 \n",
      "[CV]  learning_rate=0.01, max_depth=3, min_samples_leaf=3, min_samples_split=5, n_estimators=200, score=(train=1.000, test=0.341), total=   0.4s\n",
      "[CV] learning_rate=0.01, max_depth=3, min_samples_leaf=5, min_samples_split=2, n_estimators=50 \n",
      "[CV]  learning_rate=0.01, max_depth=3, min_samples_leaf=5, min_samples_split=2, n_estimators=50, score=(train=0.703, test=0.221), total=   0.1s\n",
      "[CV] learning_rate=0.01, max_depth=3, min_samples_leaf=5, min_samples_split=2, n_estimators=50 \n",
      "[CV]  learning_rate=0.01, max_depth=3, min_samples_leaf=5, min_samples_split=2, n_estimators=50, score=(train=0.893, test=0.215), total=   0.1s"
     ]
    },
    {
     "name": "stderr",
     "output_type": "stream",
     "text": [
      "C:\\Users\\72445\\AppData\\Local\\Continuum\\anaconda3\\lib\\site-packages\\sklearn\\metrics\\classification.py:1437: UndefinedMetricWarning: F-score is ill-defined and being set to 0.0 in labels with no predicted samples.\n",
      "  'precision', 'predicted', average, warn_for)\n",
      "C:\\Users\\72445\\AppData\\Local\\Continuum\\anaconda3\\lib\\site-packages\\sklearn\\metrics\\classification.py:1437: UndefinedMetricWarning: F-score is ill-defined and being set to 0.0 in labels with no predicted samples.\n",
      "  'precision', 'predicted', average, warn_for)\n"
     ]
    },
    {
     "name": "stdout",
     "output_type": "stream",
     "text": [
      "\n",
      "[CV] learning_rate=0.01, max_depth=3, min_samples_leaf=5, min_samples_split=2, n_estimators=50 \n",
      "[CV]  learning_rate=0.01, max_depth=3, min_samples_leaf=5, min_samples_split=2, n_estimators=50, score=(train=0.893, test=0.308), total=   0.1s\n",
      "[CV] learning_rate=0.01, max_depth=3, min_samples_leaf=5, min_samples_split=2, n_estimators=100 \n"
     ]
    },
    {
     "name": "stderr",
     "output_type": "stream",
     "text": [
      "C:\\Users\\72445\\AppData\\Local\\Continuum\\anaconda3\\lib\\site-packages\\sklearn\\metrics\\classification.py:1437: UndefinedMetricWarning: F-score is ill-defined and being set to 0.0 in labels with no predicted samples.\n",
      "  'precision', 'predicted', average, warn_for)\n"
     ]
    },
    {
     "name": "stdout",
     "output_type": "stream",
     "text": [
      "[CV]  learning_rate=0.01, max_depth=3, min_samples_leaf=5, min_samples_split=2, n_estimators=100, score=(train=0.898, test=0.221), total=   0.2s\n",
      "[CV] learning_rate=0.01, max_depth=3, min_samples_leaf=5, min_samples_split=2, n_estimators=100 \n",
      "[CV]  learning_rate=0.01, max_depth=3, min_samples_leaf=5, min_samples_split=2, n_estimators=100, score=(train=0.911, test=0.290), total=   0.2s\n",
      "[CV] learning_rate=0.01, max_depth=3, min_samples_leaf=5, min_samples_split=2, n_estimators=100 \n",
      "[CV]  learning_rate=0.01, max_depth=3, min_samples_leaf=5, min_samples_split=2, n_estimators=100, score=(train=0.948, test=0.404), total=   0.2s\n",
      "[CV] learning_rate=0.01, max_depth=3, min_samples_leaf=5, min_samples_split=2, n_estimators=200 \n",
      "[CV]  learning_rate=0.01, max_depth=3, min_samples_leaf=5, min_samples_split=2, n_estimators=200, score=(train=1.000, test=0.395), total=   0.5s\n",
      "[CV] learning_rate=0.01, max_depth=3, min_samples_leaf=5, min_samples_split=2, n_estimators=200 \n",
      "[CV]  learning_rate=0.01, max_depth=3, min_samples_leaf=5, min_samples_split=2, n_estimators=200, score=(train=1.000, test=0.294), total=   0.6s\n",
      "[CV] learning_rate=0.01, max_depth=3, min_samples_leaf=5, min_samples_split=2, n_estimators=200 \n",
      "[CV]  learning_rate=0.01, max_depth=3, min_samples_leaf=5, min_samples_split=2, n_estimators=200, score=(train=1.000, test=0.404), total=   0.5s\n",
      "[CV] learning_rate=0.01, max_depth=3, min_samples_leaf=5, min_samples_split=5, n_estimators=50 \n",
      "[CV]  learning_rate=0.01, max_depth=3, min_samples_leaf=5, min_samples_split=5, n_estimators=50, score=(train=0.703, test=0.221), total=   0.1s\n",
      "[CV] learning_rate=0.01, max_depth=3, min_samples_leaf=5, min_samples_split=5, n_estimators=50 \n"
     ]
    },
    {
     "name": "stderr",
     "output_type": "stream",
     "text": [
      "C:\\Users\\72445\\AppData\\Local\\Continuum\\anaconda3\\lib\\site-packages\\sklearn\\metrics\\classification.py:1437: UndefinedMetricWarning: F-score is ill-defined and being set to 0.0 in labels with no predicted samples.\n",
      "  'precision', 'predicted', average, warn_for)\n",
      "C:\\Users\\72445\\AppData\\Local\\Continuum\\anaconda3\\lib\\site-packages\\sklearn\\metrics\\classification.py:1437: UndefinedMetricWarning: F-score is ill-defined and being set to 0.0 in labels with no predicted samples.\n",
      "  'precision', 'predicted', average, warn_for)\n"
     ]
    },
    {
     "name": "stdout",
     "output_type": "stream",
     "text": [
      "[CV]  learning_rate=0.01, max_depth=3, min_samples_leaf=5, min_samples_split=5, n_estimators=50, score=(train=0.893, test=0.215), total=   0.1s\n",
      "[CV] learning_rate=0.01, max_depth=3, min_samples_leaf=5, min_samples_split=5, n_estimators=50 \n",
      "[CV]  learning_rate=0.01, max_depth=3, min_samples_leaf=5, min_samples_split=5, n_estimators=50, score=(train=0.893, test=0.308), total=   0.1s\n",
      "[CV] learning_rate=0.01, max_depth=3, min_samples_leaf=5, min_samples_split=5, n_estimators=100 \n"
     ]
    },
    {
     "name": "stderr",
     "output_type": "stream",
     "text": [
      "C:\\Users\\72445\\AppData\\Local\\Continuum\\anaconda3\\lib\\site-packages\\sklearn\\metrics\\classification.py:1437: UndefinedMetricWarning: F-score is ill-defined and being set to 0.0 in labels with no predicted samples.\n",
      "  'precision', 'predicted', average, warn_for)\n"
     ]
    },
    {
     "name": "stdout",
     "output_type": "stream",
     "text": [
      "[CV]  learning_rate=0.01, max_depth=3, min_samples_leaf=5, min_samples_split=5, n_estimators=100, score=(train=0.898, test=0.221), total=   0.2s\n",
      "[CV] learning_rate=0.01, max_depth=3, min_samples_leaf=5, min_samples_split=5, n_estimators=100 \n",
      "[CV]  learning_rate=0.01, max_depth=3, min_samples_leaf=5, min_samples_split=5, n_estimators=100, score=(train=0.911, test=0.290), total=   0.2s\n",
      "[CV] learning_rate=0.01, max_depth=3, min_samples_leaf=5, min_samples_split=5, n_estimators=100 \n",
      "[CV]  learning_rate=0.01, max_depth=3, min_samples_leaf=5, min_samples_split=5, n_estimators=100, score=(train=0.948, test=0.404), total=   0.2s\n",
      "[CV] learning_rate=0.01, max_depth=3, min_samples_leaf=5, min_samples_split=5, n_estimators=200 \n",
      "[CV]  learning_rate=0.01, max_depth=3, min_samples_leaf=5, min_samples_split=5, n_estimators=200, score=(train=1.000, test=0.395), total=   0.4s\n",
      "[CV] learning_rate=0.01, max_depth=3, min_samples_leaf=5, min_samples_split=5, n_estimators=200 \n",
      "[CV]  learning_rate=0.01, max_depth=3, min_samples_leaf=5, min_samples_split=5, n_estimators=200, score=(train=1.000, test=0.294), total=   0.3s\n",
      "[CV] learning_rate=0.01, max_depth=3, min_samples_leaf=5, min_samples_split=5, n_estimators=200 \n",
      "[CV]  learning_rate=0.01, max_depth=3, min_samples_leaf=5, min_samples_split=5, n_estimators=200, score=(train=1.000, test=0.404), total=   0.3s\n",
      "[CV] learning_rate=0.01, max_depth=6, min_samples_leaf=1, min_samples_split=2, n_estimators=50 \n",
      "[CV]  learning_rate=0.01, max_depth=6, min_samples_leaf=1, min_samples_split=2, n_estimators=50, score=(train=1.000, test=0.204), total=   0.2s\n",
      "[CV] learning_rate=0.01, max_depth=6, min_samples_leaf=1, min_samples_split=2, n_estimators=50 \n",
      "[CV]  learning_rate=0.01, max_depth=6, min_samples_leaf=1, min_samples_split=2, n_estimators=50, score=(train=1.000, test=0.268), total=   0.2s\n",
      "[CV] learning_rate=0.01, max_depth=6, min_samples_leaf=1, min_samples_split=2, n_estimators=50 \n",
      "[CV]  learning_rate=0.01, max_depth=6, min_samples_leaf=1, min_samples_split=2, n_estimators=50, score=(train=1.000, test=0.205), total=   0.2s\n",
      "[CV] learning_rate=0.01, max_depth=6, min_samples_leaf=1, min_samples_split=2, n_estimators=100 \n",
      "[CV]  learning_rate=0.01, max_depth=6, min_samples_leaf=1, min_samples_split=2, n_estimators=100, score=(train=1.000, test=0.263), total=   0.3s\n",
      "[CV] learning_rate=0.01, max_depth=6, min_samples_leaf=1, min_samples_split=2, n_estimators=100 \n",
      "[CV]  learning_rate=0.01, max_depth=6, min_samples_leaf=1, min_samples_split=2, n_estimators=100, score=(train=1.000, test=0.408), total=   0.3s\n",
      "[CV] learning_rate=0.01, max_depth=6, min_samples_leaf=1, min_samples_split=2, n_estimators=100 \n",
      "[CV]  learning_rate=0.01, max_depth=6, min_samples_leaf=1, min_samples_split=2, n_estimators=100, score=(train=1.000, test=0.205), total=   0.4s\n",
      "[CV] learning_rate=0.01, max_depth=6, min_samples_leaf=1, min_samples_split=2, n_estimators=200 \n",
      "[CV]  learning_rate=0.01, max_depth=6, min_samples_leaf=1, min_samples_split=2, n_estimators=200, score=(train=1.000, test=0.263), total=   0.5s\n",
      "[CV] learning_rate=0.01, max_depth=6, min_samples_leaf=1, min_samples_split=2, n_estimators=200 \n",
      "[CV]  learning_rate=0.01, max_depth=6, min_samples_leaf=1, min_samples_split=2, n_estimators=200, score=(train=1.000, test=0.369), total=   0.6s\n",
      "[CV] learning_rate=0.01, max_depth=6, min_samples_leaf=1, min_samples_split=2, n_estimators=200 \n",
      "[CV]  learning_rate=0.01, max_depth=6, min_samples_leaf=1, min_samples_split=2, n_estimators=200, score=(train=1.000, test=0.299), total=   0.7s\n",
      "[CV] learning_rate=0.01, max_depth=6, min_samples_leaf=1, min_samples_split=5, n_estimators=50 \n",
      "[CV]  learning_rate=0.01, max_depth=6, min_samples_leaf=1, min_samples_split=5, n_estimators=50, score=(train=0.961, test=0.202), total=   0.2s\n",
      "[CV] learning_rate=0.01, max_depth=6, min_samples_leaf=1, min_samples_split=5, n_estimators=50 \n",
      "[CV]  learning_rate=0.01, max_depth=6, min_samples_leaf=1, min_samples_split=5, n_estimators=50, score=(train=1.000, test=0.467), total=   0.2s\n",
      "[CV] learning_rate=0.01, max_depth=6, min_samples_leaf=1, min_samples_split=5, n_estimators=50 \n",
      "[CV]  learning_rate=0.01, max_depth=6, min_samples_leaf=1, min_samples_split=5, n_estimators=50, score=(train=1.000, test=0.265), total=   0.2s\n",
      "[CV] learning_rate=0.01, max_depth=6, min_samples_leaf=1, min_samples_split=5, n_estimators=100 \n",
      "[CV]  learning_rate=0.01, max_depth=6, min_samples_leaf=1, min_samples_split=5, n_estimators=100, score=(train=1.000, test=0.208), total=   0.3s\n",
      "[CV] learning_rate=0.01, max_depth=6, min_samples_leaf=1, min_samples_split=5, n_estimators=100 \n",
      "[CV]  learning_rate=0.01, max_depth=6, min_samples_leaf=1, min_samples_split=5, n_estimators=100, score=(train=1.000, test=0.492), total=   0.3s\n",
      "[CV] learning_rate=0.01, max_depth=6, min_samples_leaf=1, min_samples_split=5, n_estimators=100 \n",
      "[CV]  learning_rate=0.01, max_depth=6, min_samples_leaf=1, min_samples_split=5, n_estimators=100, score=(train=1.000, test=0.218), total=   0.4s\n",
      "[CV] learning_rate=0.01, max_depth=6, min_samples_leaf=1, min_samples_split=5, n_estimators=200 \n",
      "[CV]  learning_rate=0.01, max_depth=6, min_samples_leaf=1, min_samples_split=5, n_estimators=200, score=(train=1.000, test=0.204), total=   0.7s\n",
      "[CV] learning_rate=0.01, max_depth=6, min_samples_leaf=1, min_samples_split=5, n_estimators=200 \n",
      "[CV]  learning_rate=0.01, max_depth=6, min_samples_leaf=1, min_samples_split=5, n_estimators=200, score=(train=1.000, test=0.430), total=   0.7s\n",
      "[CV] learning_rate=0.01, max_depth=6, min_samples_leaf=1, min_samples_split=5, n_estimators=200 \n",
      "[CV]  learning_rate=0.01, max_depth=6, min_samples_leaf=1, min_samples_split=5, n_estimators=200, score=(train=1.000, test=0.329), total=   2.2s\n",
      "[CV] learning_rate=0.01, max_depth=6, min_samples_leaf=3, min_samples_split=2, n_estimators=50 \n"
     ]
    },
    {
     "name": "stderr",
     "output_type": "stream",
     "text": [
      "C:\\Users\\72445\\AppData\\Local\\Continuum\\anaconda3\\lib\\site-packages\\sklearn\\metrics\\classification.py:1437: UndefinedMetricWarning: F-score is ill-defined and being set to 0.0 in labels with no predicted samples.\n",
      "  'precision', 'predicted', average, warn_for)\n"
     ]
    },
    {
     "name": "stdout",
     "output_type": "stream",
     "text": [
      "[CV]  learning_rate=0.01, max_depth=6, min_samples_leaf=3, min_samples_split=2, n_estimators=50, score=(train=0.863, test=0.213), total=   0.2s\n",
      "[CV] learning_rate=0.01, max_depth=6, min_samples_leaf=3, min_samples_split=2, n_estimators=50 \n"
     ]
    },
    {
     "name": "stderr",
     "output_type": "stream",
     "text": [
      "C:\\Users\\72445\\AppData\\Local\\Continuum\\anaconda3\\lib\\site-packages\\sklearn\\metrics\\classification.py:1437: UndefinedMetricWarning: F-score is ill-defined and being set to 0.0 in labels with no predicted samples.\n",
      "  'precision', 'predicted', average, warn_for)\n"
     ]
    },
    {
     "name": "stdout",
     "output_type": "stream",
     "text": [
      "[CV]  learning_rate=0.01, max_depth=6, min_samples_leaf=3, min_samples_split=2, n_estimators=50, score=(train=0.883, test=0.317), total=   0.2s\n",
      "[CV] learning_rate=0.01, max_depth=6, min_samples_leaf=3, min_samples_split=2, n_estimators=50 \n",
      "[CV]  learning_rate=0.01, max_depth=6, min_samples_leaf=3, min_samples_split=2, n_estimators=50, score=(train=0.927, test=0.263), total=   0.2s\n",
      "[CV] learning_rate=0.01, max_depth=6, min_samples_leaf=3, min_samples_split=2, n_estimators=100 \n",
      "[CV]  learning_rate=0.01, max_depth=6, min_samples_leaf=3, min_samples_split=2, n_estimators=100, score=(train=1.000, test=0.351), total=   0.4s\n",
      "[CV] learning_rate=0.01, max_depth=6, min_samples_leaf=3, min_samples_split=2, n_estimators=100 \n"
     ]
    },
    {
     "name": "stderr",
     "output_type": "stream",
     "text": [
      "C:\\Users\\72445\\AppData\\Local\\Continuum\\anaconda3\\lib\\site-packages\\sklearn\\metrics\\classification.py:1437: UndefinedMetricWarning: F-score is ill-defined and being set to 0.0 in labels with no predicted samples.\n",
      "  'precision', 'predicted', average, warn_for)\n"
     ]
    },
    {
     "name": "stdout",
     "output_type": "stream",
     "text": [
      "[CV]  learning_rate=0.01, max_depth=6, min_samples_leaf=3, min_samples_split=2, n_estimators=100, score=(train=1.000, test=0.262), total=   0.4s\n",
      "[CV] learning_rate=0.01, max_depth=6, min_samples_leaf=3, min_samples_split=2, n_estimators=100 \n",
      "[CV]  learning_rate=0.01, max_depth=6, min_samples_leaf=3, min_samples_split=2, n_estimators=100, score=(train=1.000, test=0.361), total=   0.3s\n",
      "[CV] learning_rate=0.01, max_depth=6, min_samples_leaf=3, min_samples_split=2, n_estimators=200 \n",
      "[CV]  learning_rate=0.01, max_depth=6, min_samples_leaf=3, min_samples_split=2, n_estimators=200, score=(train=1.000, test=0.299), total=   0.6s\n",
      "[CV] learning_rate=0.01, max_depth=6, min_samples_leaf=3, min_samples_split=2, n_estimators=200 \n",
      "[CV]  learning_rate=0.01, max_depth=6, min_samples_leaf=3, min_samples_split=2, n_estimators=200, score=(train=1.000, test=0.230), total=   0.6s\n",
      "[CV] learning_rate=0.01, max_depth=6, min_samples_leaf=3, min_samples_split=2, n_estimators=200 \n",
      "[CV]  learning_rate=0.01, max_depth=6, min_samples_leaf=3, min_samples_split=2, n_estimators=200, score=(train=1.000, test=0.381), total=   0.9s\n",
      "[CV] learning_rate=0.01, max_depth=6, min_samples_leaf=3, min_samples_split=5, n_estimators=50 \n"
     ]
    },
    {
     "name": "stderr",
     "output_type": "stream",
     "text": [
      "C:\\Users\\72445\\AppData\\Local\\Continuum\\anaconda3\\lib\\site-packages\\sklearn\\metrics\\classification.py:1437: UndefinedMetricWarning: F-score is ill-defined and being set to 0.0 in labels with no predicted samples.\n",
      "  'precision', 'predicted', average, warn_for)\n"
     ]
    },
    {
     "name": "stdout",
     "output_type": "stream",
     "text": [
      "[CV]  learning_rate=0.01, max_depth=6, min_samples_leaf=3, min_samples_split=5, n_estimators=50, score=(train=0.863, test=0.213), total=   0.3s\n",
      "[CV] learning_rate=0.01, max_depth=6, min_samples_leaf=3, min_samples_split=5, n_estimators=50 \n"
     ]
    },
    {
     "name": "stderr",
     "output_type": "stream",
     "text": [
      "C:\\Users\\72445\\AppData\\Local\\Continuum\\anaconda3\\lib\\site-packages\\sklearn\\metrics\\classification.py:1437: UndefinedMetricWarning: F-score is ill-defined and being set to 0.0 in labels with no predicted samples.\n",
      "  'precision', 'predicted', average, warn_for)\n"
     ]
    },
    {
     "name": "stdout",
     "output_type": "stream",
     "text": [
      "[CV]  learning_rate=0.01, max_depth=6, min_samples_leaf=3, min_samples_split=5, n_estimators=50, score=(train=0.883, test=0.317), total=   0.2s\n",
      "[CV] learning_rate=0.01, max_depth=6, min_samples_leaf=3, min_samples_split=5, n_estimators=50 \n",
      "[CV]  learning_rate=0.01, max_depth=6, min_samples_leaf=3, min_samples_split=5, n_estimators=50, score=(train=0.927, test=0.263), total=   0.4s\n",
      "[CV] learning_rate=0.01, max_depth=6, min_samples_leaf=3, min_samples_split=5, n_estimators=100 \n",
      "[CV]  learning_rate=0.01, max_depth=6, min_samples_leaf=3, min_samples_split=5, n_estimators=100, score=(train=1.000, test=0.351), total=   0.4s\n",
      "[CV] learning_rate=0.01, max_depth=6, min_samples_leaf=3, min_samples_split=5, n_estimators=100 \n"
     ]
    },
    {
     "name": "stderr",
     "output_type": "stream",
     "text": [
      "C:\\Users\\72445\\AppData\\Local\\Continuum\\anaconda3\\lib\\site-packages\\sklearn\\metrics\\classification.py:1437: UndefinedMetricWarning: F-score is ill-defined and being set to 0.0 in labels with no predicted samples.\n",
      "  'precision', 'predicted', average, warn_for)\n"
     ]
    },
    {
     "name": "stdout",
     "output_type": "stream",
     "text": [
      "[CV]  learning_rate=0.01, max_depth=6, min_samples_leaf=3, min_samples_split=5, n_estimators=100, score=(train=1.000, test=0.262), total=   0.5s\n",
      "[CV] learning_rate=0.01, max_depth=6, min_samples_leaf=3, min_samples_split=5, n_estimators=100 \n",
      "[CV]  learning_rate=0.01, max_depth=6, min_samples_leaf=3, min_samples_split=5, n_estimators=100, score=(train=1.000, test=0.361), total=   0.4s\n",
      "[CV] learning_rate=0.01, max_depth=6, min_samples_leaf=3, min_samples_split=5, n_estimators=200 \n",
      "[CV]  learning_rate=0.01, max_depth=6, min_samples_leaf=3, min_samples_split=5, n_estimators=200, score=(train=1.000, test=0.299), total=   0.6s\n",
      "[CV] learning_rate=0.01, max_depth=6, min_samples_leaf=3, min_samples_split=5, n_estimators=200 \n",
      "[CV]  learning_rate=0.01, max_depth=6, min_samples_leaf=3, min_samples_split=5, n_estimators=200, score=(train=1.000, test=0.294), total=   1.0s\n",
      "[CV] learning_rate=0.01, max_depth=6, min_samples_leaf=3, min_samples_split=5, n_estimators=200 \n",
      "[CV]  learning_rate=0.01, max_depth=6, min_samples_leaf=3, min_samples_split=5, n_estimators=200, score=(train=1.000, test=0.328), total=   0.8s\n",
      "[CV] learning_rate=0.01, max_depth=6, min_samples_leaf=5, min_samples_split=2, n_estimators=50 \n",
      "[CV]  learning_rate=0.01, max_depth=6, min_samples_leaf=5, min_samples_split=2, n_estimators=50, score=(train=0.703, test=0.221), total=   0.2s\n",
      "[CV] learning_rate=0.01, max_depth=6, min_samples_leaf=5, min_samples_split=2, n_estimators=50 \n"
     ]
    },
    {
     "name": "stderr",
     "output_type": "stream",
     "text": [
      "C:\\Users\\72445\\AppData\\Local\\Continuum\\anaconda3\\lib\\site-packages\\sklearn\\metrics\\classification.py:1437: UndefinedMetricWarning: F-score is ill-defined and being set to 0.0 in labels with no predicted samples.\n",
      "  'precision', 'predicted', average, warn_for)\n",
      "C:\\Users\\72445\\AppData\\Local\\Continuum\\anaconda3\\lib\\site-packages\\sklearn\\metrics\\classification.py:1437: UndefinedMetricWarning: F-score is ill-defined and being set to 0.0 in labels with no predicted samples.\n",
      "  'precision', 'predicted', average, warn_for)\n"
     ]
    },
    {
     "name": "stdout",
     "output_type": "stream",
     "text": [
      "[CV]  learning_rate=0.01, max_depth=6, min_samples_leaf=5, min_samples_split=2, n_estimators=50, score=(train=0.893, test=0.215), total=   0.2s\n",
      "[CV] learning_rate=0.01, max_depth=6, min_samples_leaf=5, min_samples_split=2, n_estimators=50 \n",
      "[CV]  learning_rate=0.01, max_depth=6, min_samples_leaf=5, min_samples_split=2, n_estimators=50, score=(train=0.867, test=0.276), total=   0.2s\n",
      "[CV] learning_rate=0.01, max_depth=6, min_samples_leaf=5, min_samples_split=2, n_estimators=100 \n"
     ]
    },
    {
     "name": "stderr",
     "output_type": "stream",
     "text": [
      "C:\\Users\\72445\\AppData\\Local\\Continuum\\anaconda3\\lib\\site-packages\\sklearn\\metrics\\classification.py:1437: UndefinedMetricWarning: F-score is ill-defined and being set to 0.0 in labels with no predicted samples.\n",
      "  'precision', 'predicted', average, warn_for)\n"
     ]
    },
    {
     "name": "stdout",
     "output_type": "stream",
     "text": [
      "[CV]  learning_rate=0.01, max_depth=6, min_samples_leaf=5, min_samples_split=2, n_estimators=100, score=(train=0.916, test=0.221), total=   0.3s\n",
      "[CV] learning_rate=0.01, max_depth=6, min_samples_leaf=5, min_samples_split=2, n_estimators=100 \n",
      "[CV]  learning_rate=0.01, max_depth=6, min_samples_leaf=5, min_samples_split=2, n_estimators=100, score=(train=0.928, test=0.290), total=   0.2s\n",
      "[CV] learning_rate=0.01, max_depth=6, min_samples_leaf=5, min_samples_split=2, n_estimators=100 \n",
      "[CV]  learning_rate=0.01, max_depth=6, min_samples_leaf=5, min_samples_split=2, n_estimators=100, score=(train=0.948, test=0.290), total=   0.3s\n",
      "[CV] learning_rate=0.01, max_depth=6, min_samples_leaf=5, min_samples_split=2, n_estimators=200 \n",
      "[CV]  learning_rate=0.01, max_depth=6, min_samples_leaf=5, min_samples_split=2, n_estimators=200, score=(train=1.000, test=0.256), total=   0.8s\n",
      "[CV] learning_rate=0.01, max_depth=6, min_samples_leaf=5, min_samples_split=2, n_estimators=200 \n",
      "[CV]  learning_rate=0.01, max_depth=6, min_samples_leaf=5, min_samples_split=2, n_estimators=200, score=(train=1.000, test=0.349), total=   1.1s\n",
      "[CV] learning_rate=0.01, max_depth=6, min_samples_leaf=5, min_samples_split=2, n_estimators=200 \n",
      "[CV]  learning_rate=0.01, max_depth=6, min_samples_leaf=5, min_samples_split=2, n_estimators=200, score=(train=1.000, test=0.431), total=   0.7s\n",
      "[CV] learning_rate=0.01, max_depth=6, min_samples_leaf=5, min_samples_split=5, n_estimators=50 \n",
      "[CV]  learning_rate=0.01, max_depth=6, min_samples_leaf=5, min_samples_split=5, n_estimators=50, score=(train=0.703, test=0.221), total=   0.1s\n",
      "[CV] learning_rate=0.01, max_depth=6, min_samples_leaf=5, min_samples_split=5, n_estimators=50 \n"
     ]
    },
    {
     "name": "stderr",
     "output_type": "stream",
     "text": [
      "C:\\Users\\72445\\AppData\\Local\\Continuum\\anaconda3\\lib\\site-packages\\sklearn\\metrics\\classification.py:1437: UndefinedMetricWarning: F-score is ill-defined and being set to 0.0 in labels with no predicted samples.\n",
      "  'precision', 'predicted', average, warn_for)\n",
      "C:\\Users\\72445\\AppData\\Local\\Continuum\\anaconda3\\lib\\site-packages\\sklearn\\metrics\\classification.py:1437: UndefinedMetricWarning: F-score is ill-defined and being set to 0.0 in labels with no predicted samples.\n",
      "  'precision', 'predicted', average, warn_for)\n"
     ]
    },
    {
     "name": "stdout",
     "output_type": "stream",
     "text": [
      "[CV]  learning_rate=0.01, max_depth=6, min_samples_leaf=5, min_samples_split=5, n_estimators=50, score=(train=0.893, test=0.215), total=   0.1s\n",
      "[CV] learning_rate=0.01, max_depth=6, min_samples_leaf=5, min_samples_split=5, n_estimators=50 \n",
      "[CV]  learning_rate=0.01, max_depth=6, min_samples_leaf=5, min_samples_split=5, n_estimators=50, score=(train=0.910, test=0.276), total=   0.1s\n",
      "[CV] learning_rate=0.01, max_depth=6, min_samples_leaf=5, min_samples_split=5, n_estimators=100 \n"
     ]
    },
    {
     "name": "stderr",
     "output_type": "stream",
     "text": [
      "C:\\Users\\72445\\AppData\\Local\\Continuum\\anaconda3\\lib\\site-packages\\sklearn\\metrics\\classification.py:1437: UndefinedMetricWarning: F-score is ill-defined and being set to 0.0 in labels with no predicted samples.\n",
      "  'precision', 'predicted', average, warn_for)\n"
     ]
    },
    {
     "name": "stdout",
     "output_type": "stream",
     "text": [
      "[CV]  learning_rate=0.01, max_depth=6, min_samples_leaf=5, min_samples_split=5, n_estimators=100, score=(train=0.916, test=0.221), total=   0.3s\n",
      "[CV] learning_rate=0.01, max_depth=6, min_samples_leaf=5, min_samples_split=5, n_estimators=100 \n",
      "[CV]  learning_rate=0.01, max_depth=6, min_samples_leaf=5, min_samples_split=5, n_estimators=100, score=(train=0.928, test=0.290), total=   0.4s\n",
      "[CV] learning_rate=0.01, max_depth=6, min_samples_leaf=5, min_samples_split=5, n_estimators=100 \n",
      "[CV]  learning_rate=0.01, max_depth=6, min_samples_leaf=5, min_samples_split=5, n_estimators=100, score=(train=0.948, test=0.290), total=   0.3s\n",
      "[CV] learning_rate=0.01, max_depth=6, min_samples_leaf=5, min_samples_split=5, n_estimators=200 \n",
      "[CV]  learning_rate=0.01, max_depth=6, min_samples_leaf=5, min_samples_split=5, n_estimators=200, score=(train=1.000, test=0.256), total=   0.5s\n",
      "[CV] learning_rate=0.01, max_depth=6, min_samples_leaf=5, min_samples_split=5, n_estimators=200 \n",
      "[CV]  learning_rate=0.01, max_depth=6, min_samples_leaf=5, min_samples_split=5, n_estimators=200, score=(train=1.000, test=0.349), total=   0.6s\n",
      "[CV] learning_rate=0.01, max_depth=6, min_samples_leaf=5, min_samples_split=5, n_estimators=200 \n",
      "[CV]  learning_rate=0.01, max_depth=6, min_samples_leaf=5, min_samples_split=5, n_estimators=200, score=(train=1.000, test=0.431), total=   0.7s\n"
     ]
    },
    {
     "name": "stderr",
     "output_type": "stream",
     "text": [
      "[Parallel(n_jobs=1)]: Done 486 out of 486 | elapsed:  2.4min finished\n",
      "C:\\Users\\72445\\AppData\\Local\\Continuum\\anaconda3\\lib\\site-packages\\sklearn\\model_selection\\_search.py:813: DeprecationWarning: The default of the `iid` parameter will change from True to False in version 0.22 and will be removed in 0.24. This will change numeric results when test-set sizes are unequal.\n",
      "  DeprecationWarning)\n"
     ]
    },
    {
     "data": {
      "text/plain": [
       "GridSearchCV(cv=3, error_score='raise-deprecating',\n",
       "             estimator=GradientBoostingClassifier(criterion='friedman_mse',\n",
       "                                                  init=None, learning_rate=0.1,\n",
       "                                                  loss='deviance', max_depth=3,\n",
       "                                                  max_features=None,\n",
       "                                                  max_leaf_nodes=None,\n",
       "                                                  min_impurity_decrease=0.0,\n",
       "                                                  min_impurity_split=None,\n",
       "                                                  min_samples_leaf=1,\n",
       "                                                  min_samples_split=2,\n",
       "                                                  min_weight_fraction_leaf=0.0,\n",
       "                                                  n_estimators=100,\n",
       "                                                  n_iter_no...\n",
       "                                                  presort='auto',\n",
       "                                                  random_state=None,\n",
       "                                                  subsample=1.0, tol=0.0001,\n",
       "                                                  validation_fraction=0.1,\n",
       "                                                  verbose=0, warm_start=False),\n",
       "             iid='warn', n_jobs=None,\n",
       "             param_grid={'learning_rate': [1, 0.1, 0.01],\n",
       "                         'max_depth': [1, 3, 6], 'min_samples_leaf': [1, 3, 5],\n",
       "                         'min_samples_split': [2, 5],\n",
       "                         'n_estimators': [50, 100, 200]},\n",
       "             pre_dispatch='2*n_jobs', refit=True, return_train_score=True,\n",
       "             scoring='f1_macro', verbose=5)"
      ]
     },
     "execution_count": 11,
     "metadata": {},
     "output_type": "execute_result"
    }
   ],
   "source": [
    "search = GridSearchCV(clf, params, cv=3, return_train_score=True, verbose=5, scoring='f1_macro')\n",
    "\n",
    "\n",
    "search.fit(X,y)"
   ]
  },
  {
   "cell_type": "markdown",
   "metadata": {},
   "source": [
    "### Tuned Results"
   ]
  },
  {
   "cell_type": "code",
   "execution_count": 12,
   "metadata": {},
   "outputs": [
    {
     "name": "stdout",
     "output_type": "stream",
     "text": [
      "Mean Training Score: 0.9411612615080922\n",
      "Mean Testing Score: 1.0\n",
      "\n",
      "Best Parameter Found:\n"
     ]
    },
    {
     "data": {
      "text/plain": [
       "{'learning_rate': 1,\n",
       " 'max_depth': 3,\n",
       " 'min_samples_leaf': 3,\n",
       " 'min_samples_split': 5,\n",
       " 'n_estimators': 50}"
      ]
     },
     "execution_count": 12,
     "metadata": {},
     "output_type": "execute_result"
    }
   ],
   "source": [
    "print(\"Mean Training Score:\", np.mean(search.cv_results_['mean_train_score']))\n",
    "print(\"Mean Testing Score:\", search.score(X, y))\n",
    "print(\"\\nBest Parameter Found:\")\n",
    "search.best_params_"
   ]
  },
  {
   "cell_type": "markdown",
   "metadata": {},
   "source": [
    "### Model with the Best Parameters"
   ]
  },
  {
   "cell_type": "code",
   "execution_count": 13,
   "metadata": {},
   "outputs": [
    {
     "data": {
      "text/plain": [
       "GradientBoostingClassifier(criterion='friedman_mse', init=None, learning_rate=1,\n",
       "                           loss='deviance', max_depth=3, max_features=None,\n",
       "                           max_leaf_nodes=None, min_impurity_decrease=0.0,\n",
       "                           min_impurity_split=None, min_samples_leaf=3,\n",
       "                           min_samples_split=5, min_weight_fraction_leaf=0.0,\n",
       "                           n_estimators=50, n_iter_no_change=None,\n",
       "                           presort='auto', random_state=None, subsample=1.0,\n",
       "                           tol=0.0001, validation_fraction=0.1, verbose=0,\n",
       "                           warm_start=False)"
      ]
     },
     "execution_count": 13,
     "metadata": {},
     "output_type": "execute_result"
    }
   ],
   "source": [
    "search_clf = search.best_estimator_\n",
    "\n",
    "search_clf.fit(X_train, y_train)"
   ]
  },
  {
   "cell_type": "markdown",
   "metadata": {},
   "source": [
    "#### Results from Optimum Parameters"
   ]
  },
  {
   "cell_type": "code",
   "execution_count": 14,
   "metadata": {},
   "outputs": [
    {
     "name": "stdout",
     "output_type": "stream",
     "text": [
      "              precision    recall  f1-score   support\n",
      "\n",
      "        Sell       0.14      0.20      0.17         5\n",
      "         Buy       0.38      0.33      0.35         9\n",
      "        Hold       0.00      0.00      0.00         3\n",
      "\n",
      "    accuracy                           0.24        17\n",
      "   macro avg       0.17      0.18      0.17        17\n",
      "weighted avg       0.24      0.24      0.24        17\n",
      "\n"
     ]
    }
   ],
   "source": [
    "# Classifier predictions\n",
    "s_pred = search_clf.predict(X_test)\n",
    "\n",
    "#Printing out results\n",
    "report = classification_report(y_test, s_pred, target_names=['Sell', 'Buy', 'Hold'])\n",
    "print(report)"
   ]
  },
  {
   "cell_type": "markdown",
   "metadata": {},
   "source": [
    "### Confusion Matrix for Optimum Parameters"
   ]
  },
  {
   "cell_type": "code",
   "execution_count": 15,
   "metadata": {},
   "outputs": [
    {
     "data": {
      "image/png": "[encoded data removed]",
      "text/plain": [
       "<Figure size 864x432 with 2 Axes>"
      ]
     },
     "metadata": {
      "needs_background": "light"
     },
     "output_type": "display_data"
    }
   ],
   "source": [
    "plot_confusion_matrix(y_test, s_pred, title=\"Confusion Matrix\")\n",
    "np.set_printoptions(precision=1)\n",
    "# Plot non-normalized confusion matrix\n",
    "plt.show()"
   ]
  },
  {
   "cell_type": "code",
   "execution_count": null,
   "metadata": {},
   "outputs": [],
   "source": []
  }
 ],
 "metadata": {
  "kernelspec": {
   "display_name": "Python 3",
   "language": "python",
   "name": "python3"
  },
  "language_info": {
   "codemirror_mode": {
    "name": "ipython",
    "version": 3
   },
   "file_extension": ".py",
   "mimetype": "text/x-python",
   "name": "python",
   "nbconvert_exporter": "python",
   "pygments_lexer": "ipython3",
   "version": "3.7.3"
  }
 },
 "nbformat": 4,
 "nbformat_minor": 2
}
