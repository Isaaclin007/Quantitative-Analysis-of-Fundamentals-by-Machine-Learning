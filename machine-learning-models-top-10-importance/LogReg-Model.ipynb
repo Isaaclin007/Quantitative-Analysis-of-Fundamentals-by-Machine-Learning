{
 "cells": [
  {
   "cell_type": "markdown",
   "metadata": {},
   "source": [
    "# Model: Logistic Regression"
   ]
  },
  {
   "cell_type": "markdown",
   "metadata": {},
   "source": [
    "### Importing Libraries"
   ]
  },
  {
   "cell_type": "code",
   "execution_count": 1,
   "metadata": {},
   "outputs": [],
   "source": [
    "import _pickle as pickle\n",
    "import numpy as np\n",
    "import pandas as pd\n",
    "from sklearn.model_selection import train_test_split\n",
    "from sklearn.metrics import precision_score, recall_score, accuracy_score, f1_score, confusion_matrix, classification_report\n",
    "import matplotlib.pyplot as plt"
   ]
  },
  {
   "cell_type": "markdown",
   "metadata": {},
   "source": [
    "### Loading in Data"
   ]
  },
  {
   "cell_type": "code",
   "execution_count": 3,
   "metadata": {},
   "outputs": [],
   "source": [
    "df = pd.read_excel('../top10_features.xlsx')\n",
    "df = df.drop(df.columns[0], axis = 1)"
   ]
  },
  {
   "cell_type": "markdown",
   "metadata": {},
   "source": [
    "### Scaling the Data"
   ]
  },
  {
   "cell_type": "code",
   "execution_count": 4,
   "metadata": {},
   "outputs": [],
   "source": [
    "from sklearn.preprocessing import StandardScaler\n",
    "\n",
    "scaler = StandardScaler()\n",
    "\n",
    "features_df = df.drop([\"Decision\"], 1)\n",
    "\n",
    "scaled_df = pd.DataFrame(scaler.fit_transform(features_df), \n",
    "                               index=features_df.index, \n",
    "                               columns=features_df.columns)\n",
    "\n",
    "df = scaled_df.join(df.Decision)"
   ]
  },
  {
   "cell_type": "markdown",
   "metadata": {},
   "source": [
    "### Splitting the Data"
   ]
  },
  {
   "cell_type": "code",
   "execution_count": 5,
   "metadata": {},
   "outputs": [],
   "source": [
    "X = df.drop([\"Decision\"], 1)\n",
    "y = df.Decision\n",
    "\n",
    "# Train, test, split\n",
    "X_train, X_test, y_train, y_test = train_test_split(X, y)"
   ]
  },
  {
   "cell_type": "markdown",
   "metadata": {},
   "source": [
    "### Helper Functions"
   ]
  },
  {
   "cell_type": "markdown",
   "metadata": {},
   "source": [
    "#### Function for plotting confusion matrix"
   ]
  },
  {
   "cell_type": "code",
   "execution_count": 6,
   "metadata": {},
   "outputs": [],
   "source": [
    "def plot_confusion_matrix(y_true, y_pred, labels=[\"Sell\", \"Buy\", \"Hold\"], \n",
    "                          normalize=False, title=None, cmap=plt.cm.coolwarm):\n",
    "\n",
    "    cm = confusion_matrix(y_true, y_pred)\n",
    "    fig, ax = plt.subplots(figsize=(12,6))\n",
    "    im = ax.imshow(cm, interpolation='nearest', cmap=cmap)\n",
    "    ax.figure.colorbar(im, ax=ax)\n",
    "    # We want to show all ticks...\n",
    "    ax.set(xticks=np.arange(cm.shape[1]),\n",
    "           yticks=np.arange(cm.shape[0]),\n",
    "           # ... and label them with the respective list entries\n",
    "           xticklabels=labels, yticklabels=labels,\n",
    "           title=title,\n",
    "           ylabel='ACTUAL',\n",
    "           xlabel='PREDICTED')\n",
    "    # Rotate the tick labels and set their alignment.\n",
    "    plt.setp(ax.get_xticklabels(), rotation=45, ha=\"right\",\n",
    "             rotation_mode=\"anchor\")\n",
    "    # Loop over data dimensions and create text annotations.\n",
    "    fmt = '.2f' if normalize else 'd'\n",
    "    thresh = cm.max() / 1.5\n",
    "    for i in range(cm.shape[0]):\n",
    "        for j in range(cm.shape[1]):\n",
    "            ax.text(j, i, format(cm[i, j], fmt),\n",
    "                    ha=\"center\", va=\"center\",\n",
    "                    color=\"snow\" if cm[i, j] > thresh else \"orange\",\n",
    "                    size=26)\n",
    "    ax.grid(False)\n",
    "    fig.tight_layout()\n",
    "    return ax"
   ]
  },
  {
   "cell_type": "markdown",
   "metadata": {},
   "source": [
    "## Modeling\n",
    "The preferred evaluation metric used will be __Precision__ for each class.  They will be optimized using the __F1 Score-Macro-Average__ to balance the Precision and Recall.  This is done because we want to not only be correct when predicting but also make a decent amount of predictions for each class.  Classes such as 'Buy' and 'Sell' are more important than 'Hold'."
   ]
  },
  {
   "cell_type": "markdown",
   "metadata": {},
   "source": [
    "### Fitting and Training"
   ]
  },
  {
   "cell_type": "code",
   "execution_count": 7,
   "metadata": {
    "scrolled": false
   },
   "outputs": [
    {
     "name": "stderr",
     "output_type": "stream",
     "text": [
      "C:\\Users\\72445\\AppData\\Local\\Continuum\\anaconda3\\lib\\site-packages\\sklearn\\linear_model\\logistic.py:432: FutureWarning: Default solver will be changed to 'lbfgs' in 0.22. Specify a solver to silence this warning.\n",
      "  FutureWarning)\n",
      "C:\\Users\\72445\\AppData\\Local\\Continuum\\anaconda3\\lib\\site-packages\\sklearn\\linear_model\\logistic.py:469: FutureWarning: Default multi_class will be changed to 'auto' in 0.22. Specify the multi_class option to silence this warning.\n",
      "  \"this warning.\", FutureWarning)\n"
     ]
    },
    {
     "data": {
      "text/plain": [
       "LogisticRegression(C=1.0, class_weight=None, dual=False, fit_intercept=True,\n",
       "                   intercept_scaling=1, l1_ratio=None, max_iter=100,\n",
       "                   multi_class='warn', n_jobs=None, penalty='l2',\n",
       "                   random_state=None, solver='warn', tol=0.0001, verbose=0,\n",
       "                   warm_start=False)"
      ]
     },
     "execution_count": 7,
     "metadata": {},
     "output_type": "execute_result"
    }
   ],
   "source": [
    "# Importing the model\n",
    "from sklearn.linear_model import LogisticRegression\n",
    "\n",
    "# Fitting and training\n",
    "clf = LogisticRegression()\n",
    "clf.fit(X_train, y_train)"
   ]
  },
  {
   "cell_type": "markdown",
   "metadata": {},
   "source": [
    "### Printing out Evaluation Metrics"
   ]
  },
  {
   "cell_type": "code",
   "execution_count": 8,
   "metadata": {},
   "outputs": [
    {
     "name": "stdout",
     "output_type": "stream",
     "text": [
      "              precision    recall  f1-score   support\n",
      "\n",
      "        Sell       0.80      0.44      0.57         9\n",
      "         Buy       0.50      0.86      0.63         7\n",
      "        Hold       0.00      0.00      0.00         1\n",
      "\n",
      "    accuracy                           0.59        17\n",
      "   macro avg       0.43      0.43      0.40        17\n",
      "weighted avg       0.63      0.59      0.56        17\n",
      "\n"
     ]
    },
    {
     "name": "stderr",
     "output_type": "stream",
     "text": [
      "C:\\Users\\72445\\AppData\\Local\\Continuum\\anaconda3\\lib\\site-packages\\sklearn\\metrics\\classification.py:1437: UndefinedMetricWarning: Precision and F-score are ill-defined and being set to 0.0 in labels with no predicted samples.\n",
      "  'precision', 'predicted', average, warn_for)\n"
     ]
    }
   ],
   "source": [
    "# Classifier predictions\n",
    "pred = clf.predict(X_test)\n",
    "\n",
    "#Printing out results\n",
    "report = classification_report(y_test, pred, target_names=['Sell', 'Buy', 'Hold'])\n",
    "print(report)"
   ]
  },
  {
   "cell_type": "markdown",
   "metadata": {},
   "source": [
    "### Confusion Matrix"
   ]
  },
  {
   "cell_type": "code",
   "execution_count": 9,
   "metadata": {},
   "outputs": [
    {
     "data": {
      "image/png": "[encoded data removed]",
      "text/plain": [
       "<Figure size 864x432 with 2 Axes>"
      ]
     },
     "metadata": {
      "needs_background": "light"
     },
     "output_type": "display_data"
    }
   ],
   "source": [
    "plot_confusion_matrix(y_test, pred, title=\"Confusion Matrix\")\n",
    "np.set_printoptions(precision=1)\n",
    "# Plot non-normalized confusion matrix\n",
    "plt.show()"
   ]
  },
  {
   "cell_type": "markdown",
   "metadata": {},
   "source": [
    "## Tuning Model Parameters"
   ]
  },
  {
   "cell_type": "code",
   "execution_count": 10,
   "metadata": {},
   "outputs": [],
   "source": [
    "from sklearn.model_selection import GridSearchCV"
   ]
  },
  {
   "cell_type": "markdown",
   "metadata": {},
   "source": [
    "### Parameters"
   ]
  },
  {
   "cell_type": "code",
   "execution_count": 11,
   "metadata": {},
   "outputs": [],
   "source": [
    "# Parameters to Tune\n",
    "params = {'penalty': ['l1', 'l2'],\n",
    "          'C': [1.5**n for n in range(0, 20, 5)],\n",
    "          'fit_intercept': [True, False],\n",
    "          'intercept_scaling': [1, 10, 50, 100],\n",
    "          'solver': ['liblinear', 'saga']}"
   ]
  },
  {
   "cell_type": "code",
   "execution_count": 12,
   "metadata": {
    "scrolled": true
   },
   "outputs": [
    {
     "name": "stdout",
     "output_type": "stream",
     "text": [
      "Fitting 3 folds for each of 128 candidates, totalling 384 fits\n",
      "[CV] C=1.0, fit_intercept=True, intercept_scaling=1, penalty=l1, solver=liblinear \n",
      "[CV]  C=1.0, fit_intercept=True, intercept_scaling=1, penalty=l1, solver=liblinear, score=(train=0.511, test=0.327), total=   0.0s\n",
      "[CV] C=1.0, fit_intercept=True, intercept_scaling=1, penalty=l1, solver=liblinear \n",
      "[CV]  C=1.0, fit_intercept=True, intercept_scaling=1, penalty=l1, solver=liblinear, score=(train=0.462, test=0.292), total=   0.0s\n",
      "[CV] C=1.0, fit_intercept=True, intercept_scaling=1, penalty=l1, solver=liblinear \n",
      "[CV]  C=1.0, fit_intercept=True, intercept_scaling=1, penalty=l1, solver=liblinear, score=(train=0.450, test=0.253), total=   0.0s\n",
      "[CV] C=1.0, fit_intercept=True, intercept_scaling=1, penalty=l1, solver=saga \n",
      "[CV]  C=1.0, fit_intercept=True, intercept_scaling=1, penalty=l1, solver=saga, score=(train=0.491, test=0.293), total=   0.1s\n",
      "[CV] C=1.0, fit_intercept=True, intercept_scaling=1, penalty=l1, solver=saga \n",
      "[CV]  C=1.0, fit_intercept=True, intercept_scaling=1, penalty=l1, solver=saga, score=(train=0.463, test=0.292), total=   0.0s\n",
      "[CV] C=1.0, fit_intercept=True, intercept_scaling=1, penalty=l1, solver=saga \n"
     ]
    },
    {
     "name": "stderr",
     "output_type": "stream",
     "text": [
      "[Parallel(n_jobs=1)]: Using backend SequentialBackend with 1 concurrent workers.\n",
      "C:\\Users\\72445\\AppData\\Local\\Continuum\\anaconda3\\lib\\site-packages\\sklearn\\linear_model\\logistic.py:469: FutureWarning: Default multi_class will be changed to 'auto' in 0.22. Specify the multi_class option to silence this warning.\n",
      "  \"this warning.\", FutureWarning)\n",
      "[Parallel(n_jobs=1)]: Done   1 out of   1 | elapsed:    0.0s remaining:    0.0s\n",
      "C:\\Users\\72445\\AppData\\Local\\Continuum\\anaconda3\\lib\\site-packages\\sklearn\\linear_model\\logistic.py:469: FutureWarning: Default multi_class will be changed to 'auto' in 0.22. Specify the multi_class option to silence this warning.\n",
      "  \"this warning.\", FutureWarning)\n",
      "C:\\Users\\72445\\AppData\\Local\\Continuum\\anaconda3\\lib\\site-packages\\sklearn\\metrics\\classification.py:1437: UndefinedMetricWarning: F-score is ill-defined and being set to 0.0 in labels with no predicted samples.\n",
      "  'precision', 'predicted', average, warn_for)\n",
      "[Parallel(n_jobs=1)]: Done   2 out of   2 | elapsed:    0.0s remaining:    0.0s\n",
      "C:\\Users\\72445\\AppData\\Local\\Continuum\\anaconda3\\lib\\site-packages\\sklearn\\linear_model\\logistic.py:469: FutureWarning: Default multi_class will be changed to 'auto' in 0.22. Specify the multi_class option to silence this warning.\n",
      "  \"this warning.\", FutureWarning)\n",
      "C:\\Users\\72445\\AppData\\Local\\Continuum\\anaconda3\\lib\\site-packages\\sklearn\\metrics\\classification.py:1437: UndefinedMetricWarning: F-score is ill-defined and being set to 0.0 in labels with no predicted samples.\n",
      "  'precision', 'predicted', average, warn_for)\n",
      "C:\\Users\\72445\\AppData\\Local\\Continuum\\anaconda3\\lib\\site-packages\\sklearn\\metrics\\classification.py:1437: UndefinedMetricWarning: F-score is ill-defined and being set to 0.0 in labels with no predicted samples.\n",
      "  'precision', 'predicted', average, warn_for)\n",
      "[Parallel(n_jobs=1)]: Done   3 out of   3 | elapsed:    0.0s remaining:    0.0s\n",
      "C:\\Users\\72445\\AppData\\Local\\Continuum\\anaconda3\\lib\\site-packages\\sklearn\\linear_model\\logistic.py:469: FutureWarning: Default multi_class will be changed to 'auto' in 0.22. Specify the multi_class option to silence this warning.\n",
      "  \"this warning.\", FutureWarning)\n",
      "C:\\Users\\72445\\AppData\\Local\\Continuum\\anaconda3\\lib\\site-packages\\sklearn\\linear_model\\sag.py:337: ConvergenceWarning: The max_iter was reached which means the coef_ did not converge\n",
      "  \"the coef_ did not converge\", ConvergenceWarning)\n",
      "[Parallel(n_jobs=1)]: Done   4 out of   4 | elapsed:    0.0s remaining:    0.0s\n",
      "C:\\Users\\72445\\AppData\\Local\\Continuum\\anaconda3\\lib\\site-packages\\sklearn\\linear_model\\logistic.py:469: FutureWarning: Default multi_class will be changed to 'auto' in 0.22. Specify the multi_class option to silence this warning.\n",
      "  \"this warning.\", FutureWarning)\n",
      "C:\\Users\\72445\\AppData\\Local\\Continuum\\anaconda3\\lib\\site-packages\\sklearn\\linear_model\\sag.py:337: ConvergenceWarning: The max_iter was reached which means the coef_ did not converge\n",
      "  \"the coef_ did not converge\", ConvergenceWarning)\n",
      "C:\\Users\\72445\\AppData\\Local\\Continuum\\anaconda3\\lib\\site-packages\\sklearn\\metrics\\classification.py:1437: UndefinedMetricWarning: F-score is ill-defined and being set to 0.0 in labels with no predicted samples.\n",
      "  'precision', 'predicted', average, warn_for)\n",
      "C:\\Users\\72445\\AppData\\Local\\Continuum\\anaconda3\\lib\\site-packages\\sklearn\\linear_model\\logistic.py:469: FutureWarning: Default multi_class will be changed to 'auto' in 0.22. Specify the multi_class option to silence this warning.\n",
      "  \"this warning.\", FutureWarning)\n",
      "C:\\Users\\72445\\AppData\\Local\\Continuum\\anaconda3\\lib\\site-packages\\sklearn\\linear_model\\sag.py:337: ConvergenceWarning: The max_iter was reached which means the coef_ did not converge\n",
      "  \"the coef_ did not converge\", ConvergenceWarning)\n",
      "C:\\Users\\72445\\AppData\\Local\\Continuum\\anaconda3\\lib\\site-packages\\sklearn\\metrics\\classification.py:1437: UndefinedMetricWarning: F-score is ill-defined and being set to 0.0 in labels with no predicted samples.\n",
      "  'precision', 'predicted', average, warn_for)\n",
      "C:\\Users\\72445\\AppData\\Local\\Continuum\\anaconda3\\lib\\site-packages\\sklearn\\metrics\\classification.py:1437: UndefinedMetricWarning: F-score is ill-defined and being set to 0.0 in labels with no predicted samples.\n",
      "  'precision', 'predicted', average, warn_for)\n",
      "C:\\Users\\72445\\AppData\\Local\\Continuum\\anaconda3\\lib\\site-packages\\sklearn\\linear_model\\logistic.py:469: FutureWarning: Default multi_class will be changed to 'auto' in 0.22. Specify the multi_class option to silence this warning.\n",
      "  \"this warning.\", FutureWarning)\n",
      "C:\\Users\\72445\\AppData\\Local\\Continuum\\anaconda3\\lib\\site-packages\\sklearn\\linear_model\\logistic.py:469: FutureWarning: Default multi_class will be changed to 'auto' in 0.22. Specify the multi_class option to silence this warning.\n",
      "  \"this warning.\", FutureWarning)\n",
      "C:\\Users\\72445\\AppData\\Local\\Continuum\\anaconda3\\lib\\site-packages\\sklearn\\metrics\\classification.py:1437: UndefinedMetricWarning: F-score is ill-defined and being set to 0.0 in labels with no predicted samples.\n",
      "  'precision', 'predicted', average, warn_for)\n",
      "C:\\Users\\72445\\AppData\\Local\\Continuum\\anaconda3\\lib\\site-packages\\sklearn\\linear_model\\logistic.py:469: FutureWarning: Default multi_class will be changed to 'auto' in 0.22. Specify the multi_class option to silence this warning.\n",
      "  \"this warning.\", FutureWarning)\n",
      "C:\\Users\\72445\\AppData\\Local\\Continuum\\anaconda3\\lib\\site-packages\\sklearn\\linear_model\\logistic.py:469: FutureWarning: Default multi_class will be changed to 'auto' in 0.22. Specify the multi_class option to silence this warning.\n",
      "  \"this warning.\", FutureWarning)\n",
      "C:\\Users\\72445\\AppData\\Local\\Continuum\\anaconda3\\lib\\site-packages\\sklearn\\linear_model\\sag.py:337: ConvergenceWarning: The max_iter was reached which means the coef_ did not converge\n",
      "  \"the coef_ did not converge\", ConvergenceWarning)\n",
      "C:\\Users\\72445\\AppData\\Local\\Continuum\\anaconda3\\lib\\site-packages\\sklearn\\linear_model\\logistic.py:469: FutureWarning: Default multi_class will be changed to 'auto' in 0.22. Specify the multi_class option to silence this warning.\n",
      "  \"this warning.\", FutureWarning)\n",
      "C:\\Users\\72445\\AppData\\Local\\Continuum\\anaconda3\\lib\\site-packages\\sklearn\\linear_model\\sag.py:337: ConvergenceWarning: The max_iter was reached which means the coef_ did not converge\n",
      "  \"the coef_ did not converge\", ConvergenceWarning)\n",
      "C:\\Users\\72445\\AppData\\Local\\Continuum\\anaconda3\\lib\\site-packages\\sklearn\\metrics\\classification.py:1437: UndefinedMetricWarning: F-score is ill-defined and being set to 0.0 in labels with no predicted samples.\n",
      "  'precision', 'predicted', average, warn_for)\n",
      "C:\\Users\\72445\\AppData\\Local\\Continuum\\anaconda3\\lib\\site-packages\\sklearn\\linear_model\\logistic.py:469: FutureWarning: Default multi_class will be changed to 'auto' in 0.22. Specify the multi_class option to silence this warning.\n",
      "  \"this warning.\", FutureWarning)\n",
      "C:\\Users\\72445\\AppData\\Local\\Continuum\\anaconda3\\lib\\site-packages\\sklearn\\linear_model\\sag.py:337: ConvergenceWarning: The max_iter was reached which means the coef_ did not converge\n",
      "  \"the coef_ did not converge\", ConvergenceWarning)\n",
      "C:\\Users\\72445\\AppData\\Local\\Continuum\\anaconda3\\lib\\site-packages\\sklearn\\metrics\\classification.py:1437: UndefinedMetricWarning: F-score is ill-defined and being set to 0.0 in labels with no predicted samples.\n",
      "  'precision', 'predicted', average, warn_for)\n",
      "C:\\Users\\72445\\AppData\\Local\\Continuum\\anaconda3\\lib\\site-packages\\sklearn\\linear_model\\logistic.py:469: FutureWarning: Default multi_class will be changed to 'auto' in 0.22. Specify the multi_class option to silence this warning.\n",
      "  \"this warning.\", FutureWarning)\n",
      "C:\\Users\\72445\\AppData\\Local\\Continuum\\anaconda3\\lib\\site-packages\\sklearn\\linear_model\\logistic.py:469: FutureWarning: Default multi_class will be changed to 'auto' in 0.22. Specify the multi_class option to silence this warning.\n",
      "  \"this warning.\", FutureWarning)\n",
      "C:\\Users\\72445\\AppData\\Local\\Continuum\\anaconda3\\lib\\site-packages\\sklearn\\metrics\\classification.py:1437: UndefinedMetricWarning: F-score is ill-defined and being set to 0.0 in labels with no predicted samples.\n",
      "  'precision', 'predicted', average, warn_for)\n",
      "C:\\Users\\72445\\AppData\\Local\\Continuum\\anaconda3\\lib\\site-packages\\sklearn\\linear_model\\logistic.py:469: FutureWarning: Default multi_class will be changed to 'auto' in 0.22. Specify the multi_class option to silence this warning.\n",
      "  \"this warning.\", FutureWarning)\n",
      "C:\\Users\\72445\\AppData\\Local\\Continuum\\anaconda3\\lib\\site-packages\\sklearn\\metrics\\classification.py:1437: UndefinedMetricWarning: F-score is ill-defined and being set to 0.0 in labels with no predicted samples.\n",
      "  'precision', 'predicted', average, warn_for)\n",
      "C:\\Users\\72445\\AppData\\Local\\Continuum\\anaconda3\\lib\\site-packages\\sklearn\\metrics\\classification.py:1437: UndefinedMetricWarning: F-score is ill-defined and being set to 0.0 in labels with no predicted samples.\n",
      "  'precision', 'predicted', average, warn_for)\n",
      "C:\\Users\\72445\\AppData\\Local\\Continuum\\anaconda3\\lib\\site-packages\\sklearn\\linear_model\\logistic.py:469: FutureWarning: Default multi_class will be changed to 'auto' in 0.22. Specify the multi_class option to silence this warning.\n",
      "  \"this warning.\", FutureWarning)\n",
      "C:\\Users\\72445\\AppData\\Local\\Continuum\\anaconda3\\lib\\site-packages\\sklearn\\linear_model\\sag.py:337: ConvergenceWarning: The max_iter was reached which means the coef_ did not converge\n",
      "  \"the coef_ did not converge\", ConvergenceWarning)\n",
      "C:\\Users\\72445\\AppData\\Local\\Continuum\\anaconda3\\lib\\site-packages\\sklearn\\linear_model\\logistic.py:469: FutureWarning: Default multi_class will be changed to 'auto' in 0.22. Specify the multi_class option to silence this warning.\n",
      "  \"this warning.\", FutureWarning)\n",
      "C:\\Users\\72445\\AppData\\Local\\Continuum\\anaconda3\\lib\\site-packages\\sklearn\\linear_model\\sag.py:337: ConvergenceWarning: The max_iter was reached which means the coef_ did not converge\n",
      "  \"the coef_ did not converge\", ConvergenceWarning)\n",
      "C:\\Users\\72445\\AppData\\Local\\Continuum\\anaconda3\\lib\\site-packages\\sklearn\\metrics\\classification.py:1437: UndefinedMetricWarning: F-score is ill-defined and being set to 0.0 in labels with no predicted samples.\n",
      "  'precision', 'predicted', average, warn_for)\n"
     ]
    },
    {
     "name": "stdout",
     "output_type": "stream",
     "text": [
      "[CV]  C=1.0, fit_intercept=True, intercept_scaling=1, penalty=l1, solver=saga, score=(train=0.432, test=0.253), total=   0.0s\n",
      "[CV] C=1.0, fit_intercept=True, intercept_scaling=1, penalty=l2, solver=liblinear \n",
      "[CV]  C=1.0, fit_intercept=True, intercept_scaling=1, penalty=l2, solver=liblinear, score=(train=0.510, test=0.293), total=   0.0s\n",
      "[CV] C=1.0, fit_intercept=True, intercept_scaling=1, penalty=l2, solver=liblinear \n",
      "[CV]  C=1.0, fit_intercept=True, intercept_scaling=1, penalty=l2, solver=liblinear, score=(train=0.462, test=0.292), total=   0.0s\n",
      "[CV] C=1.0, fit_intercept=True, intercept_scaling=1, penalty=l2, solver=liblinear \n",
      "[CV]  C=1.0, fit_intercept=True, intercept_scaling=1, penalty=l2, solver=liblinear, score=(train=0.523, test=0.263), total=   0.0s\n",
      "[CV] C=1.0, fit_intercept=True, intercept_scaling=1, penalty=l2, solver=saga \n",
      "[CV]  C=1.0, fit_intercept=True, intercept_scaling=1, penalty=l2, solver=saga, score=(train=0.510, test=0.293), total=   0.0s\n",
      "[CV] C=1.0, fit_intercept=True, intercept_scaling=1, penalty=l2, solver=saga \n",
      "[CV]  C=1.0, fit_intercept=True, intercept_scaling=1, penalty=l2, solver=saga, score=(train=0.462, test=0.292), total=   0.0s\n",
      "[CV] C=1.0, fit_intercept=True, intercept_scaling=1, penalty=l2, solver=saga \n",
      "[CV]  C=1.0, fit_intercept=True, intercept_scaling=1, penalty=l2, solver=saga, score=(train=0.523, test=0.299), total=   0.0s\n",
      "[CV] C=1.0, fit_intercept=True, intercept_scaling=10, penalty=l1, solver=liblinear \n",
      "[CV]  C=1.0, fit_intercept=True, intercept_scaling=10, penalty=l1, solver=liblinear, score=(train=0.511, test=0.327), total=   0.0s\n",
      "[CV] C=1.0, fit_intercept=True, intercept_scaling=10, penalty=l1, solver=liblinear \n",
      "[CV]  C=1.0, fit_intercept=True, intercept_scaling=10, penalty=l1, solver=liblinear, score=(train=0.478, test=0.292), total=   0.0s\n",
      "[CV] C=1.0, fit_intercept=True, intercept_scaling=10, penalty=l1, solver=liblinear \n",
      "[CV]  C=1.0, fit_intercept=True, intercept_scaling=10, penalty=l1, solver=liblinear, score=(train=0.450, test=0.253), total=   0.0s\n",
      "[CV] C=1.0, fit_intercept=True, intercept_scaling=10, penalty=l1, solver=saga \n",
      "[CV]  C=1.0, fit_intercept=True, intercept_scaling=10, penalty=l1, solver=saga, score=(train=0.491, test=0.293), total=   0.0s\n",
      "[CV] C=1.0, fit_intercept=True, intercept_scaling=10, penalty=l1, solver=saga \n"
     ]
    },
    {
     "name": "stderr",
     "output_type": "stream",
     "text": [
      "C:\\Users\\72445\\AppData\\Local\\Continuum\\anaconda3\\lib\\site-packages\\sklearn\\linear_model\\logistic.py:469: FutureWarning: Default multi_class will be changed to 'auto' in 0.22. Specify the multi_class option to silence this warning.\n",
      "  \"this warning.\", FutureWarning)\n",
      "C:\\Users\\72445\\AppData\\Local\\Continuum\\anaconda3\\lib\\site-packages\\sklearn\\linear_model\\sag.py:337: ConvergenceWarning: The max_iter was reached which means the coef_ did not converge\n",
      "  \"the coef_ did not converge\", ConvergenceWarning)\n",
      "C:\\Users\\72445\\AppData\\Local\\Continuum\\anaconda3\\lib\\site-packages\\sklearn\\metrics\\classification.py:1437: UndefinedMetricWarning: F-score is ill-defined and being set to 0.0 in labels with no predicted samples.\n",
      "  'precision', 'predicted', average, warn_for)\n",
      "C:\\Users\\72445\\AppData\\Local\\Continuum\\anaconda3\\lib\\site-packages\\sklearn\\metrics\\classification.py:1437: UndefinedMetricWarning: F-score is ill-defined and being set to 0.0 in labels with no predicted samples.\n",
      "  'precision', 'predicted', average, warn_for)\n",
      "C:\\Users\\72445\\AppData\\Local\\Continuum\\anaconda3\\lib\\site-packages\\sklearn\\linear_model\\logistic.py:469: FutureWarning: Default multi_class will be changed to 'auto' in 0.22. Specify the multi_class option to silence this warning.\n",
      "  \"this warning.\", FutureWarning)\n",
      "C:\\Users\\72445\\AppData\\Local\\Continuum\\anaconda3\\lib\\site-packages\\sklearn\\linear_model\\logistic.py:469: FutureWarning: Default multi_class will be changed to 'auto' in 0.22. Specify the multi_class option to silence this warning.\n",
      "  \"this warning.\", FutureWarning)\n",
      "C:\\Users\\72445\\AppData\\Local\\Continuum\\anaconda3\\lib\\site-packages\\sklearn\\metrics\\classification.py:1437: UndefinedMetricWarning: F-score is ill-defined and being set to 0.0 in labels with no predicted samples.\n",
      "  'precision', 'predicted', average, warn_for)\n",
      "C:\\Users\\72445\\AppData\\Local\\Continuum\\anaconda3\\lib\\site-packages\\sklearn\\linear_model\\logistic.py:469: FutureWarning: Default multi_class will be changed to 'auto' in 0.22. Specify the multi_class option to silence this warning.\n",
      "  \"this warning.\", FutureWarning)\n",
      "C:\\Users\\72445\\AppData\\Local\\Continuum\\anaconda3\\lib\\site-packages\\sklearn\\metrics\\classification.py:1437: UndefinedMetricWarning: F-score is ill-defined and being set to 0.0 in labels with no predicted samples.\n",
      "  'precision', 'predicted', average, warn_for)\n",
      "C:\\Users\\72445\\AppData\\Local\\Continuum\\anaconda3\\lib\\site-packages\\sklearn\\linear_model\\logistic.py:469: FutureWarning: Default multi_class will be changed to 'auto' in 0.22. Specify the multi_class option to silence this warning.\n",
      "  \"this warning.\", FutureWarning)\n",
      "C:\\Users\\72445\\AppData\\Local\\Continuum\\anaconda3\\lib\\site-packages\\sklearn\\linear_model\\sag.py:337: ConvergenceWarning: The max_iter was reached which means the coef_ did not converge\n",
      "  \"the coef_ did not converge\", ConvergenceWarning)\n"
     ]
    },
    {
     "name": "stdout",
     "output_type": "stream",
     "text": [
      "[CV]  C=1.0, fit_intercept=True, intercept_scaling=10, penalty=l1, solver=saga, score=(train=0.463, test=0.292), total=   0.0s\n",
      "[CV] C=1.0, fit_intercept=True, intercept_scaling=10, penalty=l1, solver=saga \n",
      "[CV]  C=1.0, fit_intercept=True, intercept_scaling=10, penalty=l1, solver=saga, score=(train=0.432, test=0.253), total=   0.1s\n",
      "[CV] C=1.0, fit_intercept=True, intercept_scaling=10, penalty=l2, solver=liblinear \n",
      "[CV]  C=1.0, fit_intercept=True, intercept_scaling=10, penalty=l2, solver=liblinear, score=(train=0.510, test=0.293), total=   0.0s\n",
      "[CV] C=1.0, fit_intercept=True, intercept_scaling=10, penalty=l2, solver=liblinear \n",
      "[CV]  C=1.0, fit_intercept=True, intercept_scaling=10, penalty=l2, solver=liblinear, score=(train=0.462, test=0.292), total=   0.0s\n",
      "[CV] C=1.0, fit_intercept=True, intercept_scaling=10, penalty=l2, solver=liblinear \n",
      "[CV]  C=1.0, fit_intercept=True, intercept_scaling=10, penalty=l2, solver=liblinear, score=(train=0.523, test=0.299), total=   0.0s\n",
      "[CV] C=1.0, fit_intercept=True, intercept_scaling=10, penalty=l2, solver=saga \n",
      "[CV]  C=1.0, fit_intercept=True, intercept_scaling=10, penalty=l2, solver=saga, score=(train=0.510, test=0.293), total=   0.0s\n",
      "[CV] C=1.0, fit_intercept=True, intercept_scaling=10, penalty=l2, solver=saga "
     ]
    },
    {
     "name": "stderr",
     "output_type": "stream",
     "text": [
      "C:\\Users\\72445\\AppData\\Local\\Continuum\\anaconda3\\lib\\site-packages\\sklearn\\linear_model\\logistic.py:469: FutureWarning: Default multi_class will be changed to 'auto' in 0.22. Specify the multi_class option to silence this warning.\n",
      "  \"this warning.\", FutureWarning)\n",
      "C:\\Users\\72445\\AppData\\Local\\Continuum\\anaconda3\\lib\\site-packages\\sklearn\\linear_model\\sag.py:337: ConvergenceWarning: The max_iter was reached which means the coef_ did not converge\n",
      "  \"the coef_ did not converge\", ConvergenceWarning)\n",
      "C:\\Users\\72445\\AppData\\Local\\Continuum\\anaconda3\\lib\\site-packages\\sklearn\\metrics\\classification.py:1437: UndefinedMetricWarning: F-score is ill-defined and being set to 0.0 in labels with no predicted samples.\n",
      "  'precision', 'predicted', average, warn_for)\n",
      "C:\\Users\\72445\\AppData\\Local\\Continuum\\anaconda3\\lib\\site-packages\\sklearn\\linear_model\\logistic.py:469: FutureWarning: Default multi_class will be changed to 'auto' in 0.22. Specify the multi_class option to silence this warning.\n",
      "  \"this warning.\", FutureWarning)\n",
      "C:\\Users\\72445\\AppData\\Local\\Continuum\\anaconda3\\lib\\site-packages\\sklearn\\linear_model\\sag.py:337: ConvergenceWarning: The max_iter was reached which means the coef_ did not converge\n",
      "  \"the coef_ did not converge\", ConvergenceWarning)\n",
      "C:\\Users\\72445\\AppData\\Local\\Continuum\\anaconda3\\lib\\site-packages\\sklearn\\metrics\\classification.py:1437: UndefinedMetricWarning: F-score is ill-defined and being set to 0.0 in labels with no predicted samples.\n",
      "  'precision', 'predicted', average, warn_for)\n",
      "C:\\Users\\72445\\AppData\\Local\\Continuum\\anaconda3\\lib\\site-packages\\sklearn\\linear_model\\logistic.py:469: FutureWarning: Default multi_class will be changed to 'auto' in 0.22. Specify the multi_class option to silence this warning.\n",
      "  \"this warning.\", FutureWarning)\n",
      "C:\\Users\\72445\\AppData\\Local\\Continuum\\anaconda3\\lib\\site-packages\\sklearn\\linear_model\\logistic.py:469: FutureWarning: Default multi_class will be changed to 'auto' in 0.22. Specify the multi_class option to silence this warning.\n",
      "  \"this warning.\", FutureWarning)\n",
      "C:\\Users\\72445\\AppData\\Local\\Continuum\\anaconda3\\lib\\site-packages\\sklearn\\metrics\\classification.py:1437: UndefinedMetricWarning: F-score is ill-defined and being set to 0.0 in labels with no predicted samples.\n",
      "  'precision', 'predicted', average, warn_for)\n",
      "C:\\Users\\72445\\AppData\\Local\\Continuum\\anaconda3\\lib\\site-packages\\sklearn\\linear_model\\logistic.py:469: FutureWarning: Default multi_class will be changed to 'auto' in 0.22. Specify the multi_class option to silence this warning.\n",
      "  \"this warning.\", FutureWarning)\n",
      "C:\\Users\\72445\\AppData\\Local\\Continuum\\anaconda3\\lib\\site-packages\\sklearn\\metrics\\classification.py:1437: UndefinedMetricWarning: F-score is ill-defined and being set to 0.0 in labels with no predicted samples.\n",
      "  'precision', 'predicted', average, warn_for)\n",
      "C:\\Users\\72445\\AppData\\Local\\Continuum\\anaconda3\\lib\\site-packages\\sklearn\\metrics\\classification.py:1437: UndefinedMetricWarning: F-score is ill-defined and being set to 0.0 in labels with no predicted samples.\n",
      "  'precision', 'predicted', average, warn_for)\n",
      "C:\\Users\\72445\\AppData\\Local\\Continuum\\anaconda3\\lib\\site-packages\\sklearn\\linear_model\\logistic.py:469: FutureWarning: Default multi_class will be changed to 'auto' in 0.22. Specify the multi_class option to silence this warning.\n",
      "  \"this warning.\", FutureWarning)\n",
      "C:\\Users\\72445\\AppData\\Local\\Continuum\\anaconda3\\lib\\site-packages\\sklearn\\linear_model\\sag.py:337: ConvergenceWarning: The max_iter was reached which means the coef_ did not converge\n",
      "  \"the coef_ did not converge\", ConvergenceWarning)\n",
      "C:\\Users\\72445\\AppData\\Local\\Continuum\\anaconda3\\lib\\site-packages\\sklearn\\linear_model\\logistic.py:469: FutureWarning: Default multi_class will be changed to 'auto' in 0.22. Specify the multi_class option to silence this warning.\n",
      "  \"this warning.\", FutureWarning)\n",
      "C:\\Users\\72445\\AppData\\Local\\Continuum\\anaconda3\\lib\\site-packages\\sklearn\\linear_model\\sag.py:337: ConvergenceWarning: The max_iter was reached which means the coef_ did not converge\n",
      "  \"the coef_ did not converge\", ConvergenceWarning)\n",
      "C:\\Users\\72445\\AppData\\Local\\Continuum\\anaconda3\\lib\\site-packages\\sklearn\\metrics\\classification.py:1437: UndefinedMetricWarning: F-score is ill-defined and being set to 0.0 in labels with no predicted samples.\n",
      "  'precision', 'predicted', average, warn_for)\n",
      "C:\\Users\\72445\\AppData\\Local\\Continuum\\anaconda3\\lib\\site-packages\\sklearn\\linear_model\\logistic.py:469: FutureWarning: Default multi_class will be changed to 'auto' in 0.22. Specify the multi_class option to silence this warning.\n",
      "  \"this warning.\", FutureWarning)\n",
      "C:\\Users\\72445\\AppData\\Local\\Continuum\\anaconda3\\lib\\site-packages\\sklearn\\linear_model\\sag.py:337: ConvergenceWarning: The max_iter was reached which means the coef_ did not converge\n",
      "  \"the coef_ did not converge\", ConvergenceWarning)\n",
      "C:\\Users\\72445\\AppData\\Local\\Continuum\\anaconda3\\lib\\site-packages\\sklearn\\metrics\\classification.py:1437: UndefinedMetricWarning: F-score is ill-defined and being set to 0.0 in labels with no predicted samples.\n",
      "  'precision', 'predicted', average, warn_for)\n",
      "C:\\Users\\72445\\AppData\\Local\\Continuum\\anaconda3\\lib\\site-packages\\sklearn\\metrics\\classification.py:1437: UndefinedMetricWarning: F-score is ill-defined and being set to 0.0 in labels with no predicted samples.\n",
      "  'precision', 'predicted', average, warn_for)\n",
      "C:\\Users\\72445\\AppData\\Local\\Continuum\\anaconda3\\lib\\site-packages\\sklearn\\linear_model\\logistic.py:469: FutureWarning: Default multi_class will be changed to 'auto' in 0.22. Specify the multi_class option to silence this warning.\n",
      "  \"this warning.\", FutureWarning)\n",
      "C:\\Users\\72445\\AppData\\Local\\Continuum\\anaconda3\\lib\\site-packages\\sklearn\\linear_model\\logistic.py:469: FutureWarning: Default multi_class will be changed to 'auto' in 0.22. Specify the multi_class option to silence this warning.\n",
      "  \"this warning.\", FutureWarning)\n",
      "C:\\Users\\72445\\AppData\\Local\\Continuum\\anaconda3\\lib\\site-packages\\sklearn\\metrics\\classification.py:1437: UndefinedMetricWarning: F-score is ill-defined and being set to 0.0 in labels with no predicted samples.\n",
      "  'precision', 'predicted', average, warn_for)\n"
     ]
    },
    {
     "name": "stdout",
     "output_type": "stream",
     "text": [
      "\n",
      "[CV]  C=1.0, fit_intercept=True, intercept_scaling=10, penalty=l2, solver=saga, score=(train=0.462, test=0.292), total=   0.0s\n",
      "[CV] C=1.0, fit_intercept=True, intercept_scaling=10, penalty=l2, solver=saga \n",
      "[CV]  C=1.0, fit_intercept=True, intercept_scaling=10, penalty=l2, solver=saga, score=(train=0.523, test=0.299), total=   0.0s\n",
      "[CV] C=1.0, fit_intercept=True, intercept_scaling=50, penalty=l1, solver=liblinear \n",
      "[CV]  C=1.0, fit_intercept=True, intercept_scaling=50, penalty=l1, solver=liblinear, score=(train=0.511, test=0.327), total=   0.0s\n",
      "[CV] C=1.0, fit_intercept=True, intercept_scaling=50, penalty=l1, solver=liblinear \n",
      "[CV]  C=1.0, fit_intercept=True, intercept_scaling=50, penalty=l1, solver=liblinear, score=(train=0.478, test=0.292), total=   0.0s\n",
      "[CV] C=1.0, fit_intercept=True, intercept_scaling=50, penalty=l1, solver=liblinear \n",
      "[CV]  C=1.0, fit_intercept=True, intercept_scaling=50, penalty=l1, solver=liblinear, score=(train=0.450, test=0.253), total=   0.0s\n",
      "[CV] C=1.0, fit_intercept=True, intercept_scaling=50, penalty=l1, solver=saga \n",
      "[CV]  C=1.0, fit_intercept=True, intercept_scaling=50, penalty=l1, solver=saga, score=(train=0.491, test=0.293), total=   0.0s\n",
      "[CV] C=1.0, fit_intercept=True, intercept_scaling=50, penalty=l1, solver=saga \n",
      "[CV]  C=1.0, fit_intercept=True, intercept_scaling=50, penalty=l1, solver=saga, score=(train=0.463, test=0.292), total=   0.0s\n",
      "[CV] C=1.0, fit_intercept=True, intercept_scaling=50, penalty=l1, solver=saga \n",
      "[CV]  C=1.0, fit_intercept=True, intercept_scaling=50, penalty=l1, solver=saga, score=(train=0.432, test=0.253), total=   0.0s\n",
      "[CV] C=1.0, fit_intercept=True, intercept_scaling=50, penalty=l2, solver=liblinear \n",
      "[CV]  C=1.0, fit_intercept=True, intercept_scaling=50, penalty=l2, solver=liblinear, score=(train=0.510, test=0.293), total=   0.0s\n",
      "[CV] C=1.0, fit_intercept=True, intercept_scaling=50, penalty=l2, solver=liblinear \n",
      "[CV]  C=1.0, fit_intercept=True, intercept_scaling=50, penalty=l2, solver=liblinear, score=(train=0.462, test=0.292), total=   0.0s\n",
      "[CV] C=1.0, fit_intercept=True, intercept_scaling=50, penalty=l2, solver=liblinear \n",
      "[CV]  C=1.0, fit_intercept=True, intercept_scaling=50, penalty=l2, solver=liblinear, score=(train=0.523, test=0.299), total=   0.0s\n",
      "[CV] C=1.0, fit_intercept=True, intercept_scaling=50, penalty=l2, solver=saga \n",
      "[CV]  C=1.0, fit_intercept=True, intercept_scaling=50, penalty=l2, solver=saga, score=(train=0.510, test=0.293), total=   0.0s"
     ]
    },
    {
     "name": "stderr",
     "output_type": "stream",
     "text": [
      "C:\\Users\\72445\\AppData\\Local\\Continuum\\anaconda3\\lib\\site-packages\\sklearn\\linear_model\\logistic.py:469: FutureWarning: Default multi_class will be changed to 'auto' in 0.22. Specify the multi_class option to silence this warning.\n",
      "  \"this warning.\", FutureWarning)\n",
      "C:\\Users\\72445\\AppData\\Local\\Continuum\\anaconda3\\lib\\site-packages\\sklearn\\metrics\\classification.py:1437: UndefinedMetricWarning: F-score is ill-defined and being set to 0.0 in labels with no predicted samples.\n",
      "  'precision', 'predicted', average, warn_for)\n",
      "C:\\Users\\72445\\AppData\\Local\\Continuum\\anaconda3\\lib\\site-packages\\sklearn\\linear_model\\logistic.py:469: FutureWarning: Default multi_class will be changed to 'auto' in 0.22. Specify the multi_class option to silence this warning.\n",
      "  \"this warning.\", FutureWarning)\n",
      "C:\\Users\\72445\\AppData\\Local\\Continuum\\anaconda3\\lib\\site-packages\\sklearn\\linear_model\\sag.py:337: ConvergenceWarning: The max_iter was reached which means the coef_ did not converge\n",
      "  \"the coef_ did not converge\", ConvergenceWarning)\n",
      "C:\\Users\\72445\\AppData\\Local\\Continuum\\anaconda3\\lib\\site-packages\\sklearn\\linear_model\\logistic.py:469: FutureWarning: Default multi_class will be changed to 'auto' in 0.22. Specify the multi_class option to silence this warning.\n",
      "  \"this warning.\", FutureWarning)\n",
      "C:\\Users\\72445\\AppData\\Local\\Continuum\\anaconda3\\lib\\site-packages\\sklearn\\linear_model\\sag.py:337: ConvergenceWarning: The max_iter was reached which means the coef_ did not converge\n",
      "  \"the coef_ did not converge\", ConvergenceWarning)\n",
      "C:\\Users\\72445\\AppData\\Local\\Continuum\\anaconda3\\lib\\site-packages\\sklearn\\metrics\\classification.py:1437: UndefinedMetricWarning: F-score is ill-defined and being set to 0.0 in labels with no predicted samples.\n",
      "  'precision', 'predicted', average, warn_for)\n",
      "C:\\Users\\72445\\AppData\\Local\\Continuum\\anaconda3\\lib\\site-packages\\sklearn\\linear_model\\logistic.py:469: FutureWarning: Default multi_class will be changed to 'auto' in 0.22. Specify the multi_class option to silence this warning.\n",
      "  \"this warning.\", FutureWarning)\n",
      "C:\\Users\\72445\\AppData\\Local\\Continuum\\anaconda3\\lib\\site-packages\\sklearn\\linear_model\\sag.py:337: ConvergenceWarning: The max_iter was reached which means the coef_ did not converge\n",
      "  \"the coef_ did not converge\", ConvergenceWarning)\n",
      "C:\\Users\\72445\\AppData\\Local\\Continuum\\anaconda3\\lib\\site-packages\\sklearn\\metrics\\classification.py:1437: UndefinedMetricWarning: F-score is ill-defined and being set to 0.0 in labels with no predicted samples.\n",
      "  'precision', 'predicted', average, warn_for)\n",
      "C:\\Users\\72445\\AppData\\Local\\Continuum\\anaconda3\\lib\\site-packages\\sklearn\\linear_model\\logistic.py:469: FutureWarning: Default multi_class will be changed to 'auto' in 0.22. Specify the multi_class option to silence this warning.\n",
      "  \"this warning.\", FutureWarning)\n",
      "C:\\Users\\72445\\AppData\\Local\\Continuum\\anaconda3\\lib\\site-packages\\sklearn\\linear_model\\logistic.py:469: FutureWarning: Default multi_class will be changed to 'auto' in 0.22. Specify the multi_class option to silence this warning.\n",
      "  \"this warning.\", FutureWarning)\n",
      "C:\\Users\\72445\\AppData\\Local\\Continuum\\anaconda3\\lib\\site-packages\\sklearn\\metrics\\classification.py:1437: UndefinedMetricWarning: F-score is ill-defined and being set to 0.0 in labels with no predicted samples.\n",
      "  'precision', 'predicted', average, warn_for)\n",
      "C:\\Users\\72445\\AppData\\Local\\Continuum\\anaconda3\\lib\\site-packages\\sklearn\\linear_model\\logistic.py:469: FutureWarning: Default multi_class will be changed to 'auto' in 0.22. Specify the multi_class option to silence this warning.\n",
      "  \"this warning.\", FutureWarning)\n",
      "C:\\Users\\72445\\AppData\\Local\\Continuum\\anaconda3\\lib\\site-packages\\sklearn\\metrics\\classification.py:1437: UndefinedMetricWarning: F-score is ill-defined and being set to 0.0 in labels with no predicted samples.\n",
      "  'precision', 'predicted', average, warn_for)\n",
      "C:\\Users\\72445\\AppData\\Local\\Continuum\\anaconda3\\lib\\site-packages\\sklearn\\metrics\\classification.py:1437: UndefinedMetricWarning: F-score is ill-defined and being set to 0.0 in labels with no predicted samples.\n",
      "  'precision', 'predicted', average, warn_for)\n",
      "C:\\Users\\72445\\AppData\\Local\\Continuum\\anaconda3\\lib\\site-packages\\sklearn\\linear_model\\logistic.py:469: FutureWarning: Default multi_class will be changed to 'auto' in 0.22. Specify the multi_class option to silence this warning.\n",
      "  \"this warning.\", FutureWarning)\n",
      "C:\\Users\\72445\\AppData\\Local\\Continuum\\anaconda3\\lib\\site-packages\\sklearn\\linear_model\\sag.py:337: ConvergenceWarning: The max_iter was reached which means the coef_ did not converge\n",
      "  \"the coef_ did not converge\", ConvergenceWarning)\n",
      "C:\\Users\\72445\\AppData\\Local\\Continuum\\anaconda3\\lib\\site-packages\\sklearn\\linear_model\\logistic.py:469: FutureWarning: Default multi_class will be changed to 'auto' in 0.22. Specify the multi_class option to silence this warning.\n",
      "  \"this warning.\", FutureWarning)\n",
      "C:\\Users\\72445\\AppData\\Local\\Continuum\\anaconda3\\lib\\site-packages\\sklearn\\linear_model\\sag.py:337: ConvergenceWarning: The max_iter was reached which means the coef_ did not converge\n",
      "  \"the coef_ did not converge\", ConvergenceWarning)\n",
      "C:\\Users\\72445\\AppData\\Local\\Continuum\\anaconda3\\lib\\site-packages\\sklearn\\metrics\\classification.py:1437: UndefinedMetricWarning: F-score is ill-defined and being set to 0.0 in labels with no predicted samples.\n",
      "  'precision', 'predicted', average, warn_for)\n",
      "C:\\Users\\72445\\AppData\\Local\\Continuum\\anaconda3\\lib\\site-packages\\sklearn\\linear_model\\logistic.py:469: FutureWarning: Default multi_class will be changed to 'auto' in 0.22. Specify the multi_class option to silence this warning.\n",
      "  \"this warning.\", FutureWarning)\n",
      "C:\\Users\\72445\\AppData\\Local\\Continuum\\anaconda3\\lib\\site-packages\\sklearn\\linear_model\\sag.py:337: ConvergenceWarning: The max_iter was reached which means the coef_ did not converge\n",
      "  \"the coef_ did not converge\", ConvergenceWarning)\n",
      "C:\\Users\\72445\\AppData\\Local\\Continuum\\anaconda3\\lib\\site-packages\\sklearn\\metrics\\classification.py:1437: UndefinedMetricWarning: F-score is ill-defined and being set to 0.0 in labels with no predicted samples.\n",
      "  'precision', 'predicted', average, warn_for)\n",
      "C:\\Users\\72445\\AppData\\Local\\Continuum\\anaconda3\\lib\\site-packages\\sklearn\\metrics\\classification.py:1437: UndefinedMetricWarning: F-score is ill-defined and being set to 0.0 in labels with no predicted samples.\n",
      "  'precision', 'predicted', average, warn_for)\n",
      "C:\\Users\\72445\\AppData\\Local\\Continuum\\anaconda3\\lib\\site-packages\\sklearn\\linear_model\\logistic.py:469: FutureWarning: Default multi_class will be changed to 'auto' in 0.22. Specify the multi_class option to silence this warning.\n",
      "  \"this warning.\", FutureWarning)\n"
     ]
    },
    {
     "name": "stdout",
     "output_type": "stream",
     "text": [
      "\n",
      "[CV] C=1.0, fit_intercept=True, intercept_scaling=50, penalty=l2, solver=saga \n",
      "[CV]  C=1.0, fit_intercept=True, intercept_scaling=50, penalty=l2, solver=saga, score=(train=0.462, test=0.292), total=   0.0s\n",
      "[CV] C=1.0, fit_intercept=True, intercept_scaling=50, penalty=l2, solver=saga \n",
      "[CV]  C=1.0, fit_intercept=True, intercept_scaling=50, penalty=l2, solver=saga, score=(train=0.523, test=0.299), total=   0.0s\n",
      "[CV] C=1.0, fit_intercept=True, intercept_scaling=100, penalty=l1, solver=liblinear \n",
      "[CV]  C=1.0, fit_intercept=True, intercept_scaling=100, penalty=l1, solver=liblinear, score=(train=0.511, test=0.327), total=   0.0s\n",
      "[CV] C=1.0, fit_intercept=True, intercept_scaling=100, penalty=l1, solver=liblinear \n",
      "[CV]  C=1.0, fit_intercept=True, intercept_scaling=100, penalty=l1, solver=liblinear, score=(train=0.478, test=0.292), total=   0.0s\n",
      "[CV] C=1.0, fit_intercept=True, intercept_scaling=100, penalty=l1, solver=liblinear \n",
      "[CV]  C=1.0, fit_intercept=True, intercept_scaling=100, penalty=l1, solver=liblinear, score=(train=0.450, test=0.253), total=   0.0s\n",
      "[CV] C=1.0, fit_intercept=True, intercept_scaling=100, penalty=l1, solver=saga \n",
      "[CV]  C=1.0, fit_intercept=True, intercept_scaling=100, penalty=l1, solver=saga, score=(train=0.491, test=0.293), total=   0.0s\n",
      "[CV] C=1.0, fit_intercept=True, intercept_scaling=100, penalty=l1, solver=saga \n",
      "[CV]  C=1.0, fit_intercept=True, intercept_scaling=100, penalty=l1, solver=saga, score=(train=0.463, test=0.292), total=   0.0s\n",
      "[CV] C=1.0, fit_intercept=True, intercept_scaling=100, penalty=l1, solver=saga \n",
      "[CV]  C=1.0, fit_intercept=True, intercept_scaling=100, penalty=l1, solver=saga, score=(train=0.432, test=0.308), total=   0.0s\n",
      "[CV] C=1.0, fit_intercept=True, intercept_scaling=100, penalty=l2, solver=liblinear \n",
      "[CV]  C=1.0, fit_intercept=True, intercept_scaling=100, penalty=l2, solver=liblinear, score=(train=0.510, test=0.293), total=   0.0s\n",
      "[CV] C=1.0, fit_intercept=True, intercept_scaling=100, penalty=l2, solver=liblinear \n",
      "[CV]  C=1.0, fit_intercept=True, intercept_scaling=100, penalty=l2, solver=liblinear, score=(train=0.462, test=0.292), total=   0.0s\n",
      "[CV] C=1.0, fit_intercept=True, intercept_scaling=100, penalty=l2, solver=liblinear \n"
     ]
    },
    {
     "name": "stderr",
     "output_type": "stream",
     "text": [
      "C:\\Users\\72445\\AppData\\Local\\Continuum\\anaconda3\\lib\\site-packages\\sklearn\\linear_model\\logistic.py:469: FutureWarning: Default multi_class will be changed to 'auto' in 0.22. Specify the multi_class option to silence this warning.\n",
      "  \"this warning.\", FutureWarning)\n",
      "C:\\Users\\72445\\AppData\\Local\\Continuum\\anaconda3\\lib\\site-packages\\sklearn\\metrics\\classification.py:1437: UndefinedMetricWarning: F-score is ill-defined and being set to 0.0 in labels with no predicted samples.\n",
      "  'precision', 'predicted', average, warn_for)\n",
      "C:\\Users\\72445\\AppData\\Local\\Continuum\\anaconda3\\lib\\site-packages\\sklearn\\linear_model\\logistic.py:469: FutureWarning: Default multi_class will be changed to 'auto' in 0.22. Specify the multi_class option to silence this warning.\n",
      "  \"this warning.\", FutureWarning)\n",
      "C:\\Users\\72445\\AppData\\Local\\Continuum\\anaconda3\\lib\\site-packages\\sklearn\\metrics\\classification.py:1437: UndefinedMetricWarning: F-score is ill-defined and being set to 0.0 in labels with no predicted samples.\n",
      "  'precision', 'predicted', average, warn_for)\n",
      "C:\\Users\\72445\\AppData\\Local\\Continuum\\anaconda3\\lib\\site-packages\\sklearn\\linear_model\\logistic.py:469: FutureWarning: Default multi_class will be changed to 'auto' in 0.22. Specify the multi_class option to silence this warning.\n",
      "  \"this warning.\", FutureWarning)\n",
      "C:\\Users\\72445\\AppData\\Local\\Continuum\\anaconda3\\lib\\site-packages\\sklearn\\linear_model\\sag.py:337: ConvergenceWarning: The max_iter was reached which means the coef_ did not converge\n",
      "  \"the coef_ did not converge\", ConvergenceWarning)\n",
      "C:\\Users\\72445\\AppData\\Local\\Continuum\\anaconda3\\lib\\site-packages\\sklearn\\linear_model\\logistic.py:469: FutureWarning: Default multi_class will be changed to 'auto' in 0.22. Specify the multi_class option to silence this warning.\n",
      "  \"this warning.\", FutureWarning)\n",
      "C:\\Users\\72445\\AppData\\Local\\Continuum\\anaconda3\\lib\\site-packages\\sklearn\\linear_model\\sag.py:337: ConvergenceWarning: The max_iter was reached which means the coef_ did not converge\n",
      "  \"the coef_ did not converge\", ConvergenceWarning)\n",
      "C:\\Users\\72445\\AppData\\Local\\Continuum\\anaconda3\\lib\\site-packages\\sklearn\\metrics\\classification.py:1437: UndefinedMetricWarning: F-score is ill-defined and being set to 0.0 in labels with no predicted samples.\n",
      "  'precision', 'predicted', average, warn_for)\n",
      "C:\\Users\\72445\\AppData\\Local\\Continuum\\anaconda3\\lib\\site-packages\\sklearn\\linear_model\\logistic.py:469: FutureWarning: Default multi_class will be changed to 'auto' in 0.22. Specify the multi_class option to silence this warning.\n",
      "  \"this warning.\", FutureWarning)\n",
      "C:\\Users\\72445\\AppData\\Local\\Continuum\\anaconda3\\lib\\site-packages\\sklearn\\linear_model\\sag.py:337: ConvergenceWarning: The max_iter was reached which means the coef_ did not converge\n",
      "  \"the coef_ did not converge\", ConvergenceWarning)\n",
      "C:\\Users\\72445\\AppData\\Local\\Continuum\\anaconda3\\lib\\site-packages\\sklearn\\metrics\\classification.py:1437: UndefinedMetricWarning: F-score is ill-defined and being set to 0.0 in labels with no predicted samples.\n",
      "  'precision', 'predicted', average, warn_for)\n",
      "C:\\Users\\72445\\AppData\\Local\\Continuum\\anaconda3\\lib\\site-packages\\sklearn\\linear_model\\logistic.py:469: FutureWarning: Default multi_class will be changed to 'auto' in 0.22. Specify the multi_class option to silence this warning.\n",
      "  \"this warning.\", FutureWarning)\n",
      "C:\\Users\\72445\\AppData\\Local\\Continuum\\anaconda3\\lib\\site-packages\\sklearn\\linear_model\\logistic.py:469: FutureWarning: Default multi_class will be changed to 'auto' in 0.22. Specify the multi_class option to silence this warning.\n",
      "  \"this warning.\", FutureWarning)\n",
      "C:\\Users\\72445\\AppData\\Local\\Continuum\\anaconda3\\lib\\site-packages\\sklearn\\linear_model\\logistic.py:469: FutureWarning: Default multi_class will be changed to 'auto' in 0.22. Specify the multi_class option to silence this warning.\n",
      "  \"this warning.\", FutureWarning)\n",
      "C:\\Users\\72445\\AppData\\Local\\Continuum\\anaconda3\\lib\\site-packages\\sklearn\\linear_model\\logistic.py:469: FutureWarning: Default multi_class will be changed to 'auto' in 0.22. Specify the multi_class option to silence this warning.\n",
      "  \"this warning.\", FutureWarning)\n",
      "C:\\Users\\72445\\AppData\\Local\\Continuum\\anaconda3\\lib\\site-packages\\sklearn\\linear_model\\sag.py:337: ConvergenceWarning: The max_iter was reached which means the coef_ did not converge\n",
      "  \"the coef_ did not converge\", ConvergenceWarning)\n",
      "C:\\Users\\72445\\AppData\\Local\\Continuum\\anaconda3\\lib\\site-packages\\sklearn\\linear_model\\logistic.py:469: FutureWarning: Default multi_class will be changed to 'auto' in 0.22. Specify the multi_class option to silence this warning.\n",
      "  \"this warning.\", FutureWarning)\n",
      "C:\\Users\\72445\\AppData\\Local\\Continuum\\anaconda3\\lib\\site-packages\\sklearn\\linear_model\\sag.py:337: ConvergenceWarning: The max_iter was reached which means the coef_ did not converge\n",
      "  \"the coef_ did not converge\", ConvergenceWarning)\n"
     ]
    },
    {
     "name": "stdout",
     "output_type": "stream",
     "text": [
      "[CV]  C=1.0, fit_intercept=True, intercept_scaling=100, penalty=l2, solver=liblinear, score=(train=0.523, test=0.299), total=   0.0s\n",
      "[CV] C=1.0, fit_intercept=True, intercept_scaling=100, penalty=l2, solver=saga \n",
      "[CV]  C=1.0, fit_intercept=True, intercept_scaling=100, penalty=l2, solver=saga, score=(train=0.510, test=0.293), total=   0.0s\n",
      "[CV] C=1.0, fit_intercept=True, intercept_scaling=100, penalty=l2, solver=saga \n",
      "[CV]  C=1.0, fit_intercept=True, intercept_scaling=100, penalty=l2, solver=saga, score=(train=0.462, test=0.292), total=   0.0s\n",
      "[CV] C=1.0, fit_intercept=True, intercept_scaling=100, penalty=l2, solver=saga \n",
      "[CV]  C=1.0, fit_intercept=True, intercept_scaling=100, penalty=l2, solver=saga, score=(train=0.523, test=0.299), total=   0.0s\n",
      "[CV] C=1.0, fit_intercept=False, intercept_scaling=1, penalty=l1, solver=liblinear \n",
      "[CV]  C=1.0, fit_intercept=False, intercept_scaling=1, penalty=l1, solver=liblinear, score=(train=0.484, test=0.411), total=   0.0s\n",
      "[CV] C=1.0, fit_intercept=False, intercept_scaling=1, penalty=l1, solver=liblinear \n",
      "[CV]  C=1.0, fit_intercept=False, intercept_scaling=1, penalty=l1, solver=liblinear, score=(train=0.493, test=0.308), total=   0.0s\n",
      "[CV] C=1.0, fit_intercept=False, intercept_scaling=1, penalty=l1, solver=liblinear \n",
      "[CV]  C=1.0, fit_intercept=False, intercept_scaling=1, penalty=l1, solver=liblinear, score=(train=0.583, test=0.258), total=   0.0s\n",
      "[CV] C=1.0, fit_intercept=False, intercept_scaling=1, penalty=l1, solver=saga \n",
      "[CV]  C=1.0, fit_intercept=False, intercept_scaling=1, penalty=l1, solver=saga, score=(train=0.477, test=0.263), total=   0.0s\n",
      "[CV] C=1.0, fit_intercept=False, intercept_scaling=1, penalty=l1, solver=saga \n",
      "[CV]  C=1.0, fit_intercept=False, intercept_scaling=1, penalty=l1, solver=saga, score=(train=0.545, test=0.376), total=   0.0s\n",
      "[CV] C=1.0, fit_intercept=False, intercept_scaling=1, penalty=l1, solver=saga \n",
      "[CV]  C=1.0, fit_intercept=False, intercept_scaling=1, penalty=l1, solver=saga, score=(train=0.560, test=0.258), total=   0.0s\n",
      "[CV] C=1.0, fit_intercept=False, intercept_scaling=1, penalty=l2, solver=liblinear \n",
      "[CV]  C=1.0, fit_intercept=False, intercept_scaling=1, penalty=l2, solver=liblinear, score=(train=0.472, test=0.228), total=   0.0s\n",
      "[CV] C=1.0, fit_intercept=False, intercept_scaling=1, penalty=l2, solver=liblinear \n",
      "[CV]  C=1.0, fit_intercept=False, intercept_scaling=1, penalty=l2, solver=liblinear, score=(train=0.525, test=0.412), total=   0.0s\n",
      "[CV] C=1.0, fit_intercept=False, intercept_scaling=1, penalty=l2, solver=liblinear \n",
      "[CV]  C=1.0, fit_intercept=False, intercept_scaling=1, penalty=l2, solver=liblinear, score=(train=0.514, test=0.233), total=   0.0s\n",
      "[CV] C=1.0, fit_intercept=False, intercept_scaling=1, penalty=l2, solver=saga \n",
      "[CV]  C=1.0, fit_intercept=False, intercept_scaling=1, penalty=l2, solver=saga, score=(train=0.472, test=0.228), total=   0.0s\n",
      "[CV] C=1.0, fit_intercept=False, intercept_scaling=1, penalty=l2, solver=saga \n",
      "[CV]  C=1.0, fit_intercept=False, intercept_scaling=1, penalty=l2, solver=saga, score=(train=0.546, test=0.412), total=   0.0s\n",
      "[CV] C=1.0, fit_intercept=False, intercept_scaling=1, penalty=l2, solver=saga \n",
      "[CV]  C=1.0, fit_intercept=False, intercept_scaling=1, penalty=l2, solver=saga, score=(train=0.514, test=0.233), total=   0.0s\n",
      "[CV] C=1.0, fit_intercept=False, intercept_scaling=10, penalty=l1, solver=liblinear \n",
      "[CV]  C=1.0, fit_intercept=False, intercept_scaling=10, penalty=l1, solver=liblinear, score=(train=0.484, test=0.411), total=   0.0s\n",
      "[CV] C=1.0, fit_intercept=False, intercept_scaling=10, penalty=l1, solver=liblinear \n",
      "[CV]  C=1.0, fit_intercept=False, intercept_scaling=10, penalty=l1, solver=liblinear, score=(train=0.493, test=0.308), total=   0.0s\n",
      "[CV] C=1.0, fit_intercept=False, intercept_scaling=10, penalty=l1, solver=liblinear \n",
      "[CV]  C=1.0, fit_intercept=False, intercept_scaling=10, penalty=l1, solver=liblinear, score=(train=0.583, test=0.258), total=   0.0s\n",
      "[CV] C=1.0, fit_intercept=False, intercept_scaling=10, penalty=l1, solver=saga \n",
      "[CV]  C=1.0, fit_intercept=False, intercept_scaling=10, penalty=l1, solver=saga, score=(train=0.477, test=0.263), total=   0.0s\n",
      "[CV] C=1.0, fit_intercept=False, intercept_scaling=10, penalty=l1, solver=saga \n",
      "[CV]  C=1.0, fit_intercept=False, intercept_scaling=10, penalty=l1, solver=saga, score=(train=0.545, test=0.376), total=   0.0s"
     ]
    },
    {
     "name": "stderr",
     "output_type": "stream",
     "text": [
      "C:\\Users\\72445\\AppData\\Local\\Continuum\\anaconda3\\lib\\site-packages\\sklearn\\linear_model\\logistic.py:469: FutureWarning: Default multi_class will be changed to 'auto' in 0.22. Specify the multi_class option to silence this warning.\n",
      "  \"this warning.\", FutureWarning)\n",
      "C:\\Users\\72445\\AppData\\Local\\Continuum\\anaconda3\\lib\\site-packages\\sklearn\\linear_model\\sag.py:337: ConvergenceWarning: The max_iter was reached which means the coef_ did not converge\n",
      "  \"the coef_ did not converge\", ConvergenceWarning)\n",
      "C:\\Users\\72445\\AppData\\Local\\Continuum\\anaconda3\\lib\\site-packages\\sklearn\\linear_model\\logistic.py:469: FutureWarning: Default multi_class will be changed to 'auto' in 0.22. Specify the multi_class option to silence this warning.\n",
      "  \"this warning.\", FutureWarning)\n",
      "C:\\Users\\72445\\AppData\\Local\\Continuum\\anaconda3\\lib\\site-packages\\sklearn\\linear_model\\logistic.py:469: FutureWarning: Default multi_class will be changed to 'auto' in 0.22. Specify the multi_class option to silence this warning.\n",
      "  \"this warning.\", FutureWarning)\n",
      "C:\\Users\\72445\\AppData\\Local\\Continuum\\anaconda3\\lib\\site-packages\\sklearn\\linear_model\\logistic.py:469: FutureWarning: Default multi_class will be changed to 'auto' in 0.22. Specify the multi_class option to silence this warning.\n",
      "  \"this warning.\", FutureWarning)\n",
      "C:\\Users\\72445\\AppData\\Local\\Continuum\\anaconda3\\lib\\site-packages\\sklearn\\linear_model\\logistic.py:469: FutureWarning: Default multi_class will be changed to 'auto' in 0.22. Specify the multi_class option to silence this warning.\n",
      "  \"this warning.\", FutureWarning)\n",
      "C:\\Users\\72445\\AppData\\Local\\Continuum\\anaconda3\\lib\\site-packages\\sklearn\\linear_model\\sag.py:337: ConvergenceWarning: The max_iter was reached which means the coef_ did not converge\n",
      "  \"the coef_ did not converge\", ConvergenceWarning)\n",
      "C:\\Users\\72445\\AppData\\Local\\Continuum\\anaconda3\\lib\\site-packages\\sklearn\\linear_model\\logistic.py:469: FutureWarning: Default multi_class will be changed to 'auto' in 0.22. Specify the multi_class option to silence this warning.\n",
      "  \"this warning.\", FutureWarning)\n",
      "C:\\Users\\72445\\AppData\\Local\\Continuum\\anaconda3\\lib\\site-packages\\sklearn\\linear_model\\sag.py:337: ConvergenceWarning: The max_iter was reached which means the coef_ did not converge\n",
      "  \"the coef_ did not converge\", ConvergenceWarning)\n",
      "C:\\Users\\72445\\AppData\\Local\\Continuum\\anaconda3\\lib\\site-packages\\sklearn\\linear_model\\logistic.py:469: FutureWarning: Default multi_class will be changed to 'auto' in 0.22. Specify the multi_class option to silence this warning.\n",
      "  \"this warning.\", FutureWarning)\n",
      "C:\\Users\\72445\\AppData\\Local\\Continuum\\anaconda3\\lib\\site-packages\\sklearn\\linear_model\\sag.py:337: ConvergenceWarning: The max_iter was reached which means the coef_ did not converge\n",
      "  \"the coef_ did not converge\", ConvergenceWarning)\n",
      "C:\\Users\\72445\\AppData\\Local\\Continuum\\anaconda3\\lib\\site-packages\\sklearn\\linear_model\\logistic.py:469: FutureWarning: Default multi_class will be changed to 'auto' in 0.22. Specify the multi_class option to silence this warning.\n",
      "  \"this warning.\", FutureWarning)\n",
      "C:\\Users\\72445\\AppData\\Local\\Continuum\\anaconda3\\lib\\site-packages\\sklearn\\linear_model\\logistic.py:469: FutureWarning: Default multi_class will be changed to 'auto' in 0.22. Specify the multi_class option to silence this warning.\n",
      "  \"this warning.\", FutureWarning)\n",
      "C:\\Users\\72445\\AppData\\Local\\Continuum\\anaconda3\\lib\\site-packages\\sklearn\\linear_model\\logistic.py:469: FutureWarning: Default multi_class will be changed to 'auto' in 0.22. Specify the multi_class option to silence this warning.\n",
      "  \"this warning.\", FutureWarning)\n",
      "C:\\Users\\72445\\AppData\\Local\\Continuum\\anaconda3\\lib\\site-packages\\sklearn\\linear_model\\logistic.py:469: FutureWarning: Default multi_class will be changed to 'auto' in 0.22. Specify the multi_class option to silence this warning.\n",
      "  \"this warning.\", FutureWarning)\n",
      "C:\\Users\\72445\\AppData\\Local\\Continuum\\anaconda3\\lib\\site-packages\\sklearn\\linear_model\\sag.py:337: ConvergenceWarning: The max_iter was reached which means the coef_ did not converge\n",
      "  \"the coef_ did not converge\", ConvergenceWarning)\n",
      "C:\\Users\\72445\\AppData\\Local\\Continuum\\anaconda3\\lib\\site-packages\\sklearn\\linear_model\\logistic.py:469: FutureWarning: Default multi_class will be changed to 'auto' in 0.22. Specify the multi_class option to silence this warning.\n",
      "  \"this warning.\", FutureWarning)\n",
      "C:\\Users\\72445\\AppData\\Local\\Continuum\\anaconda3\\lib\\site-packages\\sklearn\\linear_model\\sag.py:337: ConvergenceWarning: The max_iter was reached which means the coef_ did not converge\n",
      "  \"the coef_ did not converge\", ConvergenceWarning)\n"
     ]
    },
    {
     "name": "stdout",
     "output_type": "stream",
     "text": [
      "\n",
      "[CV] C=1.0, fit_intercept=False, intercept_scaling=10, penalty=l1, solver=saga \n",
      "[CV]  C=1.0, fit_intercept=False, intercept_scaling=10, penalty=l1, solver=saga, score=(train=0.560, test=0.258), total=   0.0s\n",
      "[CV] C=1.0, fit_intercept=False, intercept_scaling=10, penalty=l2, solver=liblinear \n",
      "[CV]  C=1.0, fit_intercept=False, intercept_scaling=10, penalty=l2, solver=liblinear, score=(train=0.472, test=0.228), total=   0.0s\n",
      "[CV] C=1.0, fit_intercept=False, intercept_scaling=10, penalty=l2, solver=liblinear \n",
      "[CV]  C=1.0, fit_intercept=False, intercept_scaling=10, penalty=l2, solver=liblinear, score=(train=0.525, test=0.412), total=   0.0s\n",
      "[CV] C=1.0, fit_intercept=False, intercept_scaling=10, penalty=l2, solver=liblinear \n",
      "[CV]  C=1.0, fit_intercept=False, intercept_scaling=10, penalty=l2, solver=liblinear, score=(train=0.514, test=0.233), total=   0.0s\n",
      "[CV] C=1.0, fit_intercept=False, intercept_scaling=10, penalty=l2, solver=saga \n",
      "[CV]  C=1.0, fit_intercept=False, intercept_scaling=10, penalty=l2, solver=saga, score=(train=0.472, test=0.228), total=   0.0s\n",
      "[CV] C=1.0, fit_intercept=False, intercept_scaling=10, penalty=l2, solver=saga \n",
      "[CV]  C=1.0, fit_intercept=False, intercept_scaling=10, penalty=l2, solver=saga, score=(train=0.546, test=0.412), total=   0.0s\n",
      "[CV] C=1.0, fit_intercept=False, intercept_scaling=10, penalty=l2, solver=saga \n",
      "[CV]  C=1.0, fit_intercept=False, intercept_scaling=10, penalty=l2, solver=saga, score=(train=0.514, test=0.233), total=   0.0s\n",
      "[CV] C=1.0, fit_intercept=False, intercept_scaling=50, penalty=l1, solver=liblinear \n",
      "[CV]  C=1.0, fit_intercept=False, intercept_scaling=50, penalty=l1, solver=liblinear, score=(train=0.484, test=0.411), total=   0.0s\n",
      "[CV] C=1.0, fit_intercept=False, intercept_scaling=50, penalty=l1, solver=liblinear \n",
      "[CV]  C=1.0, fit_intercept=False, intercept_scaling=50, penalty=l1, solver=liblinear, score=(train=0.493, test=0.308), total=   0.0s\n",
      "[CV] C=1.0, fit_intercept=False, intercept_scaling=50, penalty=l1, solver=liblinear \n",
      "[CV]  C=1.0, fit_intercept=False, intercept_scaling=50, penalty=l1, solver=liblinear, score=(train=0.583, test=0.258), total=   0.0s\n",
      "[CV] C=1.0, fit_intercept=False, intercept_scaling=50, penalty=l1, solver=saga \n",
      "[CV]  C=1.0, fit_intercept=False, intercept_scaling=50, penalty=l1, solver=saga, score=(train=0.477, test=0.263), total=   0.0s\n",
      "[CV] C=1.0, fit_intercept=False, intercept_scaling=50, penalty=l1, solver=saga \n"
     ]
    },
    {
     "name": "stderr",
     "output_type": "stream",
     "text": [
      "C:\\Users\\72445\\AppData\\Local\\Continuum\\anaconda3\\lib\\site-packages\\sklearn\\linear_model\\logistic.py:469: FutureWarning: Default multi_class will be changed to 'auto' in 0.22. Specify the multi_class option to silence this warning.\n",
      "  \"this warning.\", FutureWarning)\n",
      "C:\\Users\\72445\\AppData\\Local\\Continuum\\anaconda3\\lib\\site-packages\\sklearn\\linear_model\\sag.py:337: ConvergenceWarning: The max_iter was reached which means the coef_ did not converge\n",
      "  \"the coef_ did not converge\", ConvergenceWarning)\n",
      "C:\\Users\\72445\\AppData\\Local\\Continuum\\anaconda3\\lib\\site-packages\\sklearn\\linear_model\\logistic.py:469: FutureWarning: Default multi_class will be changed to 'auto' in 0.22. Specify the multi_class option to silence this warning.\n",
      "  \"this warning.\", FutureWarning)\n",
      "C:\\Users\\72445\\AppData\\Local\\Continuum\\anaconda3\\lib\\site-packages\\sklearn\\linear_model\\logistic.py:469: FutureWarning: Default multi_class will be changed to 'auto' in 0.22. Specify the multi_class option to silence this warning.\n",
      "  \"this warning.\", FutureWarning)\n",
      "C:\\Users\\72445\\AppData\\Local\\Continuum\\anaconda3\\lib\\site-packages\\sklearn\\linear_model\\logistic.py:469: FutureWarning: Default multi_class will be changed to 'auto' in 0.22. Specify the multi_class option to silence this warning.\n",
      "  \"this warning.\", FutureWarning)\n",
      "C:\\Users\\72445\\AppData\\Local\\Continuum\\anaconda3\\lib\\site-packages\\sklearn\\linear_model\\logistic.py:469: FutureWarning: Default multi_class will be changed to 'auto' in 0.22. Specify the multi_class option to silence this warning.\n",
      "  \"this warning.\", FutureWarning)\n",
      "C:\\Users\\72445\\AppData\\Local\\Continuum\\anaconda3\\lib\\site-packages\\sklearn\\linear_model\\sag.py:337: ConvergenceWarning: The max_iter was reached which means the coef_ did not converge\n",
      "  \"the coef_ did not converge\", ConvergenceWarning)\n",
      "C:\\Users\\72445\\AppData\\Local\\Continuum\\anaconda3\\lib\\site-packages\\sklearn\\linear_model\\logistic.py:469: FutureWarning: Default multi_class will be changed to 'auto' in 0.22. Specify the multi_class option to silence this warning.\n",
      "  \"this warning.\", FutureWarning)\n",
      "C:\\Users\\72445\\AppData\\Local\\Continuum\\anaconda3\\lib\\site-packages\\sklearn\\linear_model\\sag.py:337: ConvergenceWarning: The max_iter was reached which means the coef_ did not converge\n",
      "  \"the coef_ did not converge\", ConvergenceWarning)\n",
      "C:\\Users\\72445\\AppData\\Local\\Continuum\\anaconda3\\lib\\site-packages\\sklearn\\linear_model\\logistic.py:469: FutureWarning: Default multi_class will be changed to 'auto' in 0.22. Specify the multi_class option to silence this warning.\n",
      "  \"this warning.\", FutureWarning)\n",
      "C:\\Users\\72445\\AppData\\Local\\Continuum\\anaconda3\\lib\\site-packages\\sklearn\\linear_model\\sag.py:337: ConvergenceWarning: The max_iter was reached which means the coef_ did not converge\n",
      "  \"the coef_ did not converge\", ConvergenceWarning)\n",
      "C:\\Users\\72445\\AppData\\Local\\Continuum\\anaconda3\\lib\\site-packages\\sklearn\\linear_model\\logistic.py:469: FutureWarning: Default multi_class will be changed to 'auto' in 0.22. Specify the multi_class option to silence this warning.\n",
      "  \"this warning.\", FutureWarning)\n",
      "C:\\Users\\72445\\AppData\\Local\\Continuum\\anaconda3\\lib\\site-packages\\sklearn\\linear_model\\logistic.py:469: FutureWarning: Default multi_class will be changed to 'auto' in 0.22. Specify the multi_class option to silence this warning.\n",
      "  \"this warning.\", FutureWarning)\n",
      "C:\\Users\\72445\\AppData\\Local\\Continuum\\anaconda3\\lib\\site-packages\\sklearn\\linear_model\\logistic.py:469: FutureWarning: Default multi_class will be changed to 'auto' in 0.22. Specify the multi_class option to silence this warning.\n",
      "  \"this warning.\", FutureWarning)\n",
      "C:\\Users\\72445\\AppData\\Local\\Continuum\\anaconda3\\lib\\site-packages\\sklearn\\linear_model\\logistic.py:469: FutureWarning: Default multi_class will be changed to 'auto' in 0.22. Specify the multi_class option to silence this warning.\n",
      "  \"this warning.\", FutureWarning)\n",
      "C:\\Users\\72445\\AppData\\Local\\Continuum\\anaconda3\\lib\\site-packages\\sklearn\\linear_model\\sag.py:337: ConvergenceWarning: The max_iter was reached which means the coef_ did not converge\n",
      "  \"the coef_ did not converge\", ConvergenceWarning)\n",
      "C:\\Users\\72445\\AppData\\Local\\Continuum\\anaconda3\\lib\\site-packages\\sklearn\\linear_model\\logistic.py:469: FutureWarning: Default multi_class will be changed to 'auto' in 0.22. Specify the multi_class option to silence this warning.\n",
      "  \"this warning.\", FutureWarning)\n",
      "C:\\Users\\72445\\AppData\\Local\\Continuum\\anaconda3\\lib\\site-packages\\sklearn\\linear_model\\sag.py:337: ConvergenceWarning: The max_iter was reached which means the coef_ did not converge\n",
      "  \"the coef_ did not converge\", ConvergenceWarning)\n",
      "C:\\Users\\72445\\AppData\\Local\\Continuum\\anaconda3\\lib\\site-packages\\sklearn\\linear_model\\logistic.py:469: FutureWarning: Default multi_class will be changed to 'auto' in 0.22. Specify the multi_class option to silence this warning.\n",
      "  \"this warning.\", FutureWarning)\n",
      "C:\\Users\\72445\\AppData\\Local\\Continuum\\anaconda3\\lib\\site-packages\\sklearn\\linear_model\\sag.py:337: ConvergenceWarning: The max_iter was reached which means the coef_ did not converge\n",
      "  \"the coef_ did not converge\", ConvergenceWarning)\n",
      "C:\\Users\\72445\\AppData\\Local\\Continuum\\anaconda3\\lib\\site-packages\\sklearn\\linear_model\\logistic.py:469: FutureWarning: Default multi_class will be changed to 'auto' in 0.22. Specify the multi_class option to silence this warning.\n",
      "  \"this warning.\", FutureWarning)\n",
      "C:\\Users\\72445\\AppData\\Local\\Continuum\\anaconda3\\lib\\site-packages\\sklearn\\linear_model\\logistic.py:469: FutureWarning: Default multi_class will be changed to 'auto' in 0.22. Specify the multi_class option to silence this warning.\n",
      "  \"this warning.\", FutureWarning)\n",
      "C:\\Users\\72445\\AppData\\Local\\Continuum\\anaconda3\\lib\\site-packages\\sklearn\\linear_model\\logistic.py:469: FutureWarning: Default multi_class will be changed to 'auto' in 0.22. Specify the multi_class option to silence this warning.\n",
      "  \"this warning.\", FutureWarning)\n",
      "C:\\Users\\72445\\AppData\\Local\\Continuum\\anaconda3\\lib\\site-packages\\sklearn\\linear_model\\logistic.py:469: FutureWarning: Default multi_class will be changed to 'auto' in 0.22. Specify the multi_class option to silence this warning.\n",
      "  \"this warning.\", FutureWarning)\n",
      "C:\\Users\\72445\\AppData\\Local\\Continuum\\anaconda3\\lib\\site-packages\\sklearn\\linear_model\\sag.py:337: ConvergenceWarning: The max_iter was reached which means the coef_ did not converge\n",
      "  \"the coef_ did not converge\", ConvergenceWarning)\n",
      "C:\\Users\\72445\\AppData\\Local\\Continuum\\anaconda3\\lib\\site-packages\\sklearn\\linear_model\\logistic.py:469: FutureWarning: Default multi_class will be changed to 'auto' in 0.22. Specify the multi_class option to silence this warning.\n",
      "  \"this warning.\", FutureWarning)\n",
      "C:\\Users\\72445\\AppData\\Local\\Continuum\\anaconda3\\lib\\site-packages\\sklearn\\linear_model\\sag.py:337: ConvergenceWarning: The max_iter was reached which means the coef_ did not converge\n",
      "  \"the coef_ did not converge\", ConvergenceWarning)\n",
      "C:\\Users\\72445\\AppData\\Local\\Continuum\\anaconda3\\lib\\site-packages\\sklearn\\linear_model\\logistic.py:469: FutureWarning: Default multi_class will be changed to 'auto' in 0.22. Specify the multi_class option to silence this warning.\n",
      "  \"this warning.\", FutureWarning)\n",
      "C:\\Users\\72445\\AppData\\Local\\Continuum\\anaconda3\\lib\\site-packages\\sklearn\\linear_model\\sag.py:337: ConvergenceWarning: The max_iter was reached which means the coef_ did not converge\n",
      "  \"the coef_ did not converge\", ConvergenceWarning)\n"
     ]
    },
    {
     "name": "stdout",
     "output_type": "stream",
     "text": [
      "[CV]  C=1.0, fit_intercept=False, intercept_scaling=50, penalty=l1, solver=saga, score=(train=0.545, test=0.376), total=   0.0s\n",
      "[CV] C=1.0, fit_intercept=False, intercept_scaling=50, penalty=l1, solver=saga \n",
      "[CV]  C=1.0, fit_intercept=False, intercept_scaling=50, penalty=l1, solver=saga, score=(train=0.560, test=0.258), total=   0.0s\n",
      "[CV] C=1.0, fit_intercept=False, intercept_scaling=50, penalty=l2, solver=liblinear \n",
      "[CV]  C=1.0, fit_intercept=False, intercept_scaling=50, penalty=l2, solver=liblinear, score=(train=0.472, test=0.228), total=   0.0s\n",
      "[CV] C=1.0, fit_intercept=False, intercept_scaling=50, penalty=l2, solver=liblinear \n",
      "[CV]  C=1.0, fit_intercept=False, intercept_scaling=50, penalty=l2, solver=liblinear, score=(train=0.525, test=0.412), total=   0.0s\n",
      "[CV] C=1.0, fit_intercept=False, intercept_scaling=50, penalty=l2, solver=liblinear \n",
      "[CV]  C=1.0, fit_intercept=False, intercept_scaling=50, penalty=l2, solver=liblinear, score=(train=0.514, test=0.233), total=   0.0s\n",
      "[CV] C=1.0, fit_intercept=False, intercept_scaling=50, penalty=l2, solver=saga \n",
      "[CV]  C=1.0, fit_intercept=False, intercept_scaling=50, penalty=l2, solver=saga, score=(train=0.472, test=0.228), total=   0.0s\n",
      "[CV] C=1.0, fit_intercept=False, intercept_scaling=50, penalty=l2, solver=saga \n",
      "[CV]  C=1.0, fit_intercept=False, intercept_scaling=50, penalty=l2, solver=saga, score=(train=0.546, test=0.412), total=   0.0s\n",
      "[CV] C=1.0, fit_intercept=False, intercept_scaling=50, penalty=l2, solver=saga \n",
      "[CV]  C=1.0, fit_intercept=False, intercept_scaling=50, penalty=l2, solver=saga, score=(train=0.514, test=0.233), total=   0.0s\n",
      "[CV] C=1.0, fit_intercept=False, intercept_scaling=100, penalty=l1, solver=liblinear \n"
     ]
    },
    {
     "name": "stderr",
     "output_type": "stream",
     "text": [
      "C:\\Users\\72445\\AppData\\Local\\Continuum\\anaconda3\\lib\\site-packages\\sklearn\\linear_model\\logistic.py:469: FutureWarning: Default multi_class will be changed to 'auto' in 0.22. Specify the multi_class option to silence this warning.\n",
      "  \"this warning.\", FutureWarning)\n",
      "C:\\Users\\72445\\AppData\\Local\\Continuum\\anaconda3\\lib\\site-packages\\sklearn\\linear_model\\logistic.py:469: FutureWarning: Default multi_class will be changed to 'auto' in 0.22. Specify the multi_class option to silence this warning.\n",
      "  \"this warning.\", FutureWarning)\n",
      "C:\\Users\\72445\\AppData\\Local\\Continuum\\anaconda3\\lib\\site-packages\\sklearn\\linear_model\\logistic.py:469: FutureWarning: Default multi_class will be changed to 'auto' in 0.22. Specify the multi_class option to silence this warning.\n",
      "  \"this warning.\", FutureWarning)\n",
      "C:\\Users\\72445\\AppData\\Local\\Continuum\\anaconda3\\lib\\site-packages\\sklearn\\linear_model\\logistic.py:469: FutureWarning: Default multi_class will be changed to 'auto' in 0.22. Specify the multi_class option to silence this warning.\n",
      "  \"this warning.\", FutureWarning)\n",
      "C:\\Users\\72445\\AppData\\Local\\Continuum\\anaconda3\\lib\\site-packages\\sklearn\\linear_model\\sag.py:337: ConvergenceWarning: The max_iter was reached which means the coef_ did not converge\n",
      "  \"the coef_ did not converge\", ConvergenceWarning)\n",
      "C:\\Users\\72445\\AppData\\Local\\Continuum\\anaconda3\\lib\\site-packages\\sklearn\\linear_model\\logistic.py:469: FutureWarning: Default multi_class will be changed to 'auto' in 0.22. Specify the multi_class option to silence this warning.\n",
      "  \"this warning.\", FutureWarning)\n",
      "C:\\Users\\72445\\AppData\\Local\\Continuum\\anaconda3\\lib\\site-packages\\sklearn\\linear_model\\sag.py:337: ConvergenceWarning: The max_iter was reached which means the coef_ did not converge\n",
      "  \"the coef_ did not converge\", ConvergenceWarning)\n",
      "C:\\Users\\72445\\AppData\\Local\\Continuum\\anaconda3\\lib\\site-packages\\sklearn\\linear_model\\logistic.py:469: FutureWarning: Default multi_class will be changed to 'auto' in 0.22. Specify the multi_class option to silence this warning.\n",
      "  \"this warning.\", FutureWarning)\n",
      "C:\\Users\\72445\\AppData\\Local\\Continuum\\anaconda3\\lib\\site-packages\\sklearn\\linear_model\\sag.py:337: ConvergenceWarning: The max_iter was reached which means the coef_ did not converge\n",
      "  \"the coef_ did not converge\", ConvergenceWarning)\n",
      "C:\\Users\\72445\\AppData\\Local\\Continuum\\anaconda3\\lib\\site-packages\\sklearn\\linear_model\\logistic.py:469: FutureWarning: Default multi_class will be changed to 'auto' in 0.22. Specify the multi_class option to silence this warning.\n",
      "  \"this warning.\", FutureWarning)\n",
      "C:\\Users\\72445\\AppData\\Local\\Continuum\\anaconda3\\lib\\site-packages\\sklearn\\linear_model\\logistic.py:469: FutureWarning: Default multi_class will be changed to 'auto' in 0.22. Specify the multi_class option to silence this warning.\n",
      "  \"this warning.\", FutureWarning)\n",
      "C:\\Users\\72445\\AppData\\Local\\Continuum\\anaconda3\\lib\\site-packages\\sklearn\\linear_model\\logistic.py:469: FutureWarning: Default multi_class will be changed to 'auto' in 0.22. Specify the multi_class option to silence this warning.\n",
      "  \"this warning.\", FutureWarning)\n",
      "C:\\Users\\72445\\AppData\\Local\\Continuum\\anaconda3\\lib\\site-packages\\sklearn\\linear_model\\logistic.py:469: FutureWarning: Default multi_class will be changed to 'auto' in 0.22. Specify the multi_class option to silence this warning.\n",
      "  \"this warning.\", FutureWarning)\n"
     ]
    },
    {
     "name": "stdout",
     "output_type": "stream",
     "text": [
      "[CV]  C=1.0, fit_intercept=False, intercept_scaling=100, penalty=l1, solver=liblinear, score=(train=0.484, test=0.411), total=   0.0s\n",
      "[CV] C=1.0, fit_intercept=False, intercept_scaling=100, penalty=l1, solver=liblinear \n",
      "[CV]  C=1.0, fit_intercept=False, intercept_scaling=100, penalty=l1, solver=liblinear, score=(train=0.493, test=0.308), total=   0.0s\n",
      "[CV] C=1.0, fit_intercept=False, intercept_scaling=100, penalty=l1, solver=liblinear \n",
      "[CV]  C=1.0, fit_intercept=False, intercept_scaling=100, penalty=l1, solver=liblinear, score=(train=0.583, test=0.258), total=   0.0s\n",
      "[CV] C=1.0, fit_intercept=False, intercept_scaling=100, penalty=l1, solver=saga \n",
      "[CV]  C=1.0, fit_intercept=False, intercept_scaling=100, penalty=l1, solver=saga, score=(train=0.477, test=0.263), total=   0.0s\n",
      "[CV] C=1.0, fit_intercept=False, intercept_scaling=100, penalty=l1, solver=saga \n",
      "[CV]  C=1.0, fit_intercept=False, intercept_scaling=100, penalty=l1, solver=saga, score=(train=0.545, test=0.376), total=   0.0s\n",
      "[CV] C=1.0, fit_intercept=False, intercept_scaling=100, penalty=l1, solver=saga \n",
      "[CV]  C=1.0, fit_intercept=False, intercept_scaling=100, penalty=l1, solver=saga, score=(train=0.560, test=0.258), total=   0.0s\n",
      "[CV] C=1.0, fit_intercept=False, intercept_scaling=100, penalty=l2, solver=liblinear \n",
      "[CV]  C=1.0, fit_intercept=False, intercept_scaling=100, penalty=l2, solver=liblinear, score=(train=0.472, test=0.228), total=   0.0s\n",
      "[CV] C=1.0, fit_intercept=False, intercept_scaling=100, penalty=l2, solver=liblinear \n",
      "[CV]  C=1.0, fit_intercept=False, intercept_scaling=100, penalty=l2, solver=liblinear, score=(train=0.525, test=0.412), total=   0.0s\n",
      "[CV] C=1.0, fit_intercept=False, intercept_scaling=100, penalty=l2, solver=liblinear \n",
      "[CV]  C=1.0, fit_intercept=False, intercept_scaling=100, penalty=l2, solver=liblinear, score=(train=0.514, test=0.233), total=   0.0s\n",
      "[CV] C=1.0, fit_intercept=False, intercept_scaling=100, penalty=l2, solver=saga \n",
      "[CV]  C=1.0, fit_intercept=False, intercept_scaling=100, penalty=l2, solver=saga, score=(train=0.472, test=0.228), total=   0.0s\n",
      "[CV] C=1.0, fit_intercept=False, intercept_scaling=100, penalty=l2, solver=saga \n"
     ]
    },
    {
     "name": "stderr",
     "output_type": "stream",
     "text": [
      "C:\\Users\\72445\\AppData\\Local\\Continuum\\anaconda3\\lib\\site-packages\\sklearn\\linear_model\\sag.py:337: ConvergenceWarning: The max_iter was reached which means the coef_ did not converge\n",
      "  \"the coef_ did not converge\", ConvergenceWarning)\n",
      "C:\\Users\\72445\\AppData\\Local\\Continuum\\anaconda3\\lib\\site-packages\\sklearn\\linear_model\\logistic.py:469: FutureWarning: Default multi_class will be changed to 'auto' in 0.22. Specify the multi_class option to silence this warning.\n",
      "  \"this warning.\", FutureWarning)\n",
      "C:\\Users\\72445\\AppData\\Local\\Continuum\\anaconda3\\lib\\site-packages\\sklearn\\linear_model\\sag.py:337: ConvergenceWarning: The max_iter was reached which means the coef_ did not converge\n",
      "  \"the coef_ did not converge\", ConvergenceWarning)\n",
      "C:\\Users\\72445\\AppData\\Local\\Continuum\\anaconda3\\lib\\site-packages\\sklearn\\linear_model\\logistic.py:469: FutureWarning: Default multi_class will be changed to 'auto' in 0.22. Specify the multi_class option to silence this warning.\n",
      "  \"this warning.\", FutureWarning)\n",
      "C:\\Users\\72445\\AppData\\Local\\Continuum\\anaconda3\\lib\\site-packages\\sklearn\\linear_model\\sag.py:337: ConvergenceWarning: The max_iter was reached which means the coef_ did not converge\n",
      "  \"the coef_ did not converge\", ConvergenceWarning)\n",
      "C:\\Users\\72445\\AppData\\Local\\Continuum\\anaconda3\\lib\\site-packages\\sklearn\\linear_model\\logistic.py:469: FutureWarning: Default multi_class will be changed to 'auto' in 0.22. Specify the multi_class option to silence this warning.\n",
      "  \"this warning.\", FutureWarning)\n",
      "C:\\Users\\72445\\AppData\\Local\\Continuum\\anaconda3\\lib\\site-packages\\sklearn\\linear_model\\logistic.py:469: FutureWarning: Default multi_class will be changed to 'auto' in 0.22. Specify the multi_class option to silence this warning.\n",
      "  \"this warning.\", FutureWarning)\n",
      "C:\\Users\\72445\\AppData\\Local\\Continuum\\anaconda3\\lib\\site-packages\\sklearn\\metrics\\classification.py:1437: UndefinedMetricWarning: F-score is ill-defined and being set to 0.0 in labels with no predicted samples.\n",
      "  'precision', 'predicted', average, warn_for)\n",
      "C:\\Users\\72445\\AppData\\Local\\Continuum\\anaconda3\\lib\\site-packages\\sklearn\\metrics\\classification.py:1437: UndefinedMetricWarning: F-score is ill-defined and being set to 0.0 in labels with no predicted samples.\n",
      "  'precision', 'predicted', average, warn_for)\n",
      "C:\\Users\\72445\\AppData\\Local\\Continuum\\anaconda3\\lib\\site-packages\\sklearn\\linear_model\\logistic.py:469: FutureWarning: Default multi_class will be changed to 'auto' in 0.22. Specify the multi_class option to silence this warning.\n",
      "  \"this warning.\", FutureWarning)\n",
      "C:\\Users\\72445\\AppData\\Local\\Continuum\\anaconda3\\lib\\site-packages\\sklearn\\linear_model\\logistic.py:469: FutureWarning: Default multi_class will be changed to 'auto' in 0.22. Specify the multi_class option to silence this warning.\n",
      "  \"this warning.\", FutureWarning)\n",
      "C:\\Users\\72445\\AppData\\Local\\Continuum\\anaconda3\\lib\\site-packages\\sklearn\\linear_model\\sag.py:337: ConvergenceWarning: The max_iter was reached which means the coef_ did not converge\n",
      "  \"the coef_ did not converge\", ConvergenceWarning)\n",
      "C:\\Users\\72445\\AppData\\Local\\Continuum\\anaconda3\\lib\\site-packages\\sklearn\\linear_model\\logistic.py:469: FutureWarning: Default multi_class will be changed to 'auto' in 0.22. Specify the multi_class option to silence this warning.\n",
      "  \"this warning.\", FutureWarning)\n",
      "C:\\Users\\72445\\AppData\\Local\\Continuum\\anaconda3\\lib\\site-packages\\sklearn\\linear_model\\sag.py:337: ConvergenceWarning: The max_iter was reached which means the coef_ did not converge\n",
      "  \"the coef_ did not converge\", ConvergenceWarning)\n",
      "C:\\Users\\72445\\AppData\\Local\\Continuum\\anaconda3\\lib\\site-packages\\sklearn\\metrics\\classification.py:1437: UndefinedMetricWarning: F-score is ill-defined and being set to 0.0 in labels with no predicted samples.\n",
      "  'precision', 'predicted', average, warn_for)\n",
      "C:\\Users\\72445\\AppData\\Local\\Continuum\\anaconda3\\lib\\site-packages\\sklearn\\linear_model\\logistic.py:469: FutureWarning: Default multi_class will be changed to 'auto' in 0.22. Specify the multi_class option to silence this warning.\n",
      "  \"this warning.\", FutureWarning)\n",
      "C:\\Users\\72445\\AppData\\Local\\Continuum\\anaconda3\\lib\\site-packages\\sklearn\\linear_model\\sag.py:337: ConvergenceWarning: The max_iter was reached which means the coef_ did not converge\n",
      "  \"the coef_ did not converge\", ConvergenceWarning)\n",
      "C:\\Users\\72445\\AppData\\Local\\Continuum\\anaconda3\\lib\\site-packages\\sklearn\\linear_model\\logistic.py:469: FutureWarning: Default multi_class will be changed to 'auto' in 0.22. Specify the multi_class option to silence this warning.\n",
      "  \"this warning.\", FutureWarning)\n",
      "C:\\Users\\72445\\AppData\\Local\\Continuum\\anaconda3\\lib\\site-packages\\sklearn\\linear_model\\logistic.py:469: FutureWarning: Default multi_class will be changed to 'auto' in 0.22. Specify the multi_class option to silence this warning.\n",
      "  \"this warning.\", FutureWarning)\n"
     ]
    },
    {
     "name": "stdout",
     "output_type": "stream",
     "text": [
      "[CV]  C=1.0, fit_intercept=False, intercept_scaling=100, penalty=l2, solver=saga, score=(train=0.546, test=0.412), total=   0.0s\n",
      "[CV] C=1.0, fit_intercept=False, intercept_scaling=100, penalty=l2, solver=saga \n",
      "[CV]  C=1.0, fit_intercept=False, intercept_scaling=100, penalty=l2, solver=saga, score=(train=0.514, test=0.233), total=   0.0s\n",
      "[CV] C=7.59375, fit_intercept=True, intercept_scaling=1, penalty=l1, solver=liblinear \n",
      "[CV]  C=7.59375, fit_intercept=True, intercept_scaling=1, penalty=l1, solver=liblinear, score=(train=0.525, test=0.334), total=   0.0s\n",
      "[CV] C=7.59375, fit_intercept=True, intercept_scaling=1, penalty=l1, solver=liblinear \n",
      "[CV]  C=7.59375, fit_intercept=True, intercept_scaling=1, penalty=l1, solver=liblinear, score=(train=0.494, test=0.284), total=   0.0s\n",
      "[CV] C=7.59375, fit_intercept=True, intercept_scaling=1, penalty=l1, solver=liblinear \n",
      "[CV]  C=7.59375, fit_intercept=True, intercept_scaling=1, penalty=l1, solver=liblinear, score=(train=0.555, test=0.225), total=   0.0s\n",
      "[CV] C=7.59375, fit_intercept=True, intercept_scaling=1, penalty=l1, solver=saga \n",
      "[CV]  C=7.59375, fit_intercept=True, intercept_scaling=1, penalty=l1, solver=saga, score=(train=0.510, test=0.327), total=   0.0s\n",
      "[CV] C=7.59375, fit_intercept=True, intercept_scaling=1, penalty=l1, solver=saga \n",
      "[CV]  C=7.59375, fit_intercept=True, intercept_scaling=1, penalty=l1, solver=saga, score=(train=0.462, test=0.292), total=   0.0s\n",
      "[CV] C=7.59375, fit_intercept=True, intercept_scaling=1, penalty=l1, solver=saga \n",
      "[CV]  C=7.59375, fit_intercept=True, intercept_scaling=1, penalty=l1, solver=saga, score=(train=0.522, test=0.222), total=   0.0s\n",
      "[CV] C=7.59375, fit_intercept=True, intercept_scaling=1, penalty=l2, solver=liblinear \n",
      "[CV]  C=7.59375, fit_intercept=True, intercept_scaling=1, penalty=l2, solver=liblinear, score=(train=0.502, test=0.334), total=   0.0s\n",
      "[CV] C=7.59375, fit_intercept=True, intercept_scaling=1, penalty=l2, solver=liblinear \n",
      "[CV]  C=7.59375, fit_intercept=True, intercept_scaling=1, penalty=l2, solver=liblinear, score=(train=0.467, test=0.292), total=   0.0s\n",
      "[CV] C=7.59375, fit_intercept=True, intercept_scaling=1, penalty=l2, solver=liblinear \n",
      "[CV]  C=7.59375, fit_intercept=True, intercept_scaling=1, penalty=l2, solver=liblinear, score=(train=0.555, test=0.225), total=   0.0s\n",
      "[CV] C=7.59375, fit_intercept=True, intercept_scaling=1, penalty=l2, solver=saga \n"
     ]
    },
    {
     "name": "stderr",
     "output_type": "stream",
     "text": [
      "C:\\Users\\72445\\AppData\\Local\\Continuum\\anaconda3\\lib\\site-packages\\sklearn\\linear_model\\logistic.py:469: FutureWarning: Default multi_class will be changed to 'auto' in 0.22. Specify the multi_class option to silence this warning.\n",
      "  \"this warning.\", FutureWarning)\n",
      "C:\\Users\\72445\\AppData\\Local\\Continuum\\anaconda3\\lib\\site-packages\\sklearn\\linear_model\\logistic.py:469: FutureWarning: Default multi_class will be changed to 'auto' in 0.22. Specify the multi_class option to silence this warning.\n",
      "  \"this warning.\", FutureWarning)\n",
      "C:\\Users\\72445\\AppData\\Local\\Continuum\\anaconda3\\lib\\site-packages\\sklearn\\linear_model\\sag.py:337: ConvergenceWarning: The max_iter was reached which means the coef_ did not converge\n",
      "  \"the coef_ did not converge\", ConvergenceWarning)\n",
      "C:\\Users\\72445\\AppData\\Local\\Continuum\\anaconda3\\lib\\site-packages\\sklearn\\linear_model\\logistic.py:469: FutureWarning: Default multi_class will be changed to 'auto' in 0.22. Specify the multi_class option to silence this warning.\n",
      "  \"this warning.\", FutureWarning)\n",
      "C:\\Users\\72445\\AppData\\Local\\Continuum\\anaconda3\\lib\\site-packages\\sklearn\\linear_model\\sag.py:337: ConvergenceWarning: The max_iter was reached which means the coef_ did not converge\n",
      "  \"the coef_ did not converge\", ConvergenceWarning)\n",
      "C:\\Users\\72445\\AppData\\Local\\Continuum\\anaconda3\\lib\\site-packages\\sklearn\\linear_model\\logistic.py:469: FutureWarning: Default multi_class will be changed to 'auto' in 0.22. Specify the multi_class option to silence this warning.\n",
      "  \"this warning.\", FutureWarning)\n",
      "C:\\Users\\72445\\AppData\\Local\\Continuum\\anaconda3\\lib\\site-packages\\sklearn\\linear_model\\sag.py:337: ConvergenceWarning: The max_iter was reached which means the coef_ did not converge\n",
      "  \"the coef_ did not converge\", ConvergenceWarning)\n",
      "C:\\Users\\72445\\AppData\\Local\\Continuum\\anaconda3\\lib\\site-packages\\sklearn\\linear_model\\logistic.py:469: FutureWarning: Default multi_class will be changed to 'auto' in 0.22. Specify the multi_class option to silence this warning.\n",
      "  \"this warning.\", FutureWarning)\n",
      "C:\\Users\\72445\\AppData\\Local\\Continuum\\anaconda3\\lib\\site-packages\\sklearn\\linear_model\\logistic.py:469: FutureWarning: Default multi_class will be changed to 'auto' in 0.22. Specify the multi_class option to silence this warning.\n",
      "  \"this warning.\", FutureWarning)\n",
      "C:\\Users\\72445\\AppData\\Local\\Continuum\\anaconda3\\lib\\site-packages\\sklearn\\metrics\\classification.py:1437: UndefinedMetricWarning: F-score is ill-defined and being set to 0.0 in labels with no predicted samples.\n",
      "  'precision', 'predicted', average, warn_for)\n",
      "C:\\Users\\72445\\AppData\\Local\\Continuum\\anaconda3\\lib\\site-packages\\sklearn\\linear_model\\logistic.py:469: FutureWarning: Default multi_class will be changed to 'auto' in 0.22. Specify the multi_class option to silence this warning.\n",
      "  \"this warning.\", FutureWarning)\n",
      "C:\\Users\\72445\\AppData\\Local\\Continuum\\anaconda3\\lib\\site-packages\\sklearn\\linear_model\\logistic.py:469: FutureWarning: Default multi_class will be changed to 'auto' in 0.22. Specify the multi_class option to silence this warning.\n",
      "  \"this warning.\", FutureWarning)\n",
      "C:\\Users\\72445\\AppData\\Local\\Continuum\\anaconda3\\lib\\site-packages\\sklearn\\linear_model\\sag.py:337: ConvergenceWarning: The max_iter was reached which means the coef_ did not converge\n",
      "  \"the coef_ did not converge\", ConvergenceWarning)\n",
      "C:\\Users\\72445\\AppData\\Local\\Continuum\\anaconda3\\lib\\site-packages\\sklearn\\linear_model\\logistic.py:469: FutureWarning: Default multi_class will be changed to 'auto' in 0.22. Specify the multi_class option to silence this warning.\n",
      "  \"this warning.\", FutureWarning)\n",
      "C:\\Users\\72445\\AppData\\Local\\Continuum\\anaconda3\\lib\\site-packages\\sklearn\\linear_model\\sag.py:337: ConvergenceWarning: The max_iter was reached which means the coef_ did not converge\n",
      "  \"the coef_ did not converge\", ConvergenceWarning)\n",
      "C:\\Users\\72445\\AppData\\Local\\Continuum\\anaconda3\\lib\\site-packages\\sklearn\\metrics\\classification.py:1437: UndefinedMetricWarning: F-score is ill-defined and being set to 0.0 in labels with no predicted samples.\n",
      "  'precision', 'predicted', average, warn_for)\n",
      "C:\\Users\\72445\\AppData\\Local\\Continuum\\anaconda3\\lib\\site-packages\\sklearn\\linear_model\\logistic.py:469: FutureWarning: Default multi_class will be changed to 'auto' in 0.22. Specify the multi_class option to silence this warning.\n",
      "  \"this warning.\", FutureWarning)\n",
      "C:\\Users\\72445\\AppData\\Local\\Continuum\\anaconda3\\lib\\site-packages\\sklearn\\linear_model\\sag.py:337: ConvergenceWarning: The max_iter was reached which means the coef_ did not converge\n",
      "  \"the coef_ did not converge\", ConvergenceWarning)\n",
      "C:\\Users\\72445\\AppData\\Local\\Continuum\\anaconda3\\lib\\site-packages\\sklearn\\linear_model\\logistic.py:469: FutureWarning: Default multi_class will be changed to 'auto' in 0.22. Specify the multi_class option to silence this warning.\n",
      "  \"this warning.\", FutureWarning)\n",
      "C:\\Users\\72445\\AppData\\Local\\Continuum\\anaconda3\\lib\\site-packages\\sklearn\\linear_model\\logistic.py:469: FutureWarning: Default multi_class will be changed to 'auto' in 0.22. Specify the multi_class option to silence this warning.\n",
      "  \"this warning.\", FutureWarning)\n"
     ]
    },
    {
     "name": "stdout",
     "output_type": "stream",
     "text": [
      "[CV]  C=7.59375, fit_intercept=True, intercept_scaling=1, penalty=l2, solver=saga, score=(train=0.510, test=0.327), total=   0.0s\n",
      "[CV] C=7.59375, fit_intercept=True, intercept_scaling=1, penalty=l2, solver=saga \n",
      "[CV]  C=7.59375, fit_intercept=True, intercept_scaling=1, penalty=l2, solver=saga, score=(train=0.467, test=0.292), total=   0.0s\n",
      "[CV] C=7.59375, fit_intercept=True, intercept_scaling=1, penalty=l2, solver=saga \n",
      "[CV]  C=7.59375, fit_intercept=True, intercept_scaling=1, penalty=l2, solver=saga, score=(train=0.522, test=0.222), total=   0.0s\n",
      "[CV] C=7.59375, fit_intercept=True, intercept_scaling=10, penalty=l1, solver=liblinear \n",
      "[CV]  C=7.59375, fit_intercept=True, intercept_scaling=10, penalty=l1, solver=liblinear, score=(train=0.525, test=0.307), total=   0.0s\n",
      "[CV] C=7.59375, fit_intercept=True, intercept_scaling=10, penalty=l1, solver=liblinear \n",
      "[CV]  C=7.59375, fit_intercept=True, intercept_scaling=10, penalty=l1, solver=liblinear, score=(train=0.494, test=0.292), total=   0.0s\n",
      "[CV] C=7.59375, fit_intercept=True, intercept_scaling=10, penalty=l1, solver=liblinear \n",
      "[CV]  C=7.59375, fit_intercept=True, intercept_scaling=10, penalty=l1, solver=liblinear, score=(train=0.555, test=0.225), total=   0.0s\n",
      "[CV] C=7.59375, fit_intercept=True, intercept_scaling=10, penalty=l1, solver=saga \n",
      "[CV]  C=7.59375, fit_intercept=True, intercept_scaling=10, penalty=l1, solver=saga, score=(train=0.510, test=0.327), total=   0.0s\n",
      "[CV] C=7.59375, fit_intercept=True, intercept_scaling=10, penalty=l1, solver=saga \n",
      "[CV]  C=7.59375, fit_intercept=True, intercept_scaling=10, penalty=l1, solver=saga, score=(train=0.462, test=0.292), total=   0.0s\n",
      "[CV] C=7.59375, fit_intercept=True, intercept_scaling=10, penalty=l1, solver=saga \n",
      "[CV]  C=7.59375, fit_intercept=True, intercept_scaling=10, penalty=l1, solver=saga, score=(train=0.522, test=0.222), total=   0.0s\n",
      "[CV] C=7.59375, fit_intercept=True, intercept_scaling=10, penalty=l2, solver=liblinear \n",
      "[CV]  C=7.59375, fit_intercept=True, intercept_scaling=10, penalty=l2, solver=liblinear, score=(train=0.502, test=0.334), total=   0.0s\n",
      "[CV] C=7.59375, fit_intercept=True, intercept_scaling=10, penalty=l2, solver=liblinear \n",
      "[CV]  C=7.59375, fit_intercept=True, intercept_scaling=10, penalty=l2, solver=liblinear, score=(train=0.467, test=0.284), total=   0.0s\n",
      "[CV] C=7.59375, fit_intercept=True, intercept_scaling=10, penalty=l2, solver=liblinear \n",
      "[CV]  C=7.59375, fit_intercept=True, intercept_scaling=10, penalty=l2, solver=liblinear, score=(train=0.555, test=0.225), total=   0.0s\n",
      "[CV] C=7.59375, fit_intercept=True, intercept_scaling=10, penalty=l2, solver=saga \n",
      "[CV]  C=7.59375, fit_intercept=True, intercept_scaling=10, penalty=l2, solver=saga, score=(train=0.510, test=0.293), total=   0.0s"
     ]
    },
    {
     "name": "stderr",
     "output_type": "stream",
     "text": [
      "C:\\Users\\72445\\AppData\\Local\\Continuum\\anaconda3\\lib\\site-packages\\sklearn\\metrics\\classification.py:1437: UndefinedMetricWarning: F-score is ill-defined and being set to 0.0 in labels with no predicted samples.\n",
      "  'precision', 'predicted', average, warn_for)\n",
      "C:\\Users\\72445\\AppData\\Local\\Continuum\\anaconda3\\lib\\site-packages\\sklearn\\linear_model\\logistic.py:469: FutureWarning: Default multi_class will be changed to 'auto' in 0.22. Specify the multi_class option to silence this warning.\n",
      "  \"this warning.\", FutureWarning)\n",
      "C:\\Users\\72445\\AppData\\Local\\Continuum\\anaconda3\\lib\\site-packages\\sklearn\\linear_model\\logistic.py:469: FutureWarning: Default multi_class will be changed to 'auto' in 0.22. Specify the multi_class option to silence this warning.\n",
      "  \"this warning.\", FutureWarning)\n",
      "C:\\Users\\72445\\AppData\\Local\\Continuum\\anaconda3\\lib\\site-packages\\sklearn\\linear_model\\sag.py:337: ConvergenceWarning: The max_iter was reached which means the coef_ did not converge\n",
      "  \"the coef_ did not converge\", ConvergenceWarning)\n",
      "C:\\Users\\72445\\AppData\\Local\\Continuum\\anaconda3\\lib\\site-packages\\sklearn\\linear_model\\logistic.py:469: FutureWarning: Default multi_class will be changed to 'auto' in 0.22. Specify the multi_class option to silence this warning.\n",
      "  \"this warning.\", FutureWarning)\n",
      "C:\\Users\\72445\\AppData\\Local\\Continuum\\anaconda3\\lib\\site-packages\\sklearn\\linear_model\\sag.py:337: ConvergenceWarning: The max_iter was reached which means the coef_ did not converge\n",
      "  \"the coef_ did not converge\", ConvergenceWarning)\n",
      "C:\\Users\\72445\\AppData\\Local\\Continuum\\anaconda3\\lib\\site-packages\\sklearn\\linear_model\\logistic.py:469: FutureWarning: Default multi_class will be changed to 'auto' in 0.22. Specify the multi_class option to silence this warning.\n",
      "  \"this warning.\", FutureWarning)\n",
      "C:\\Users\\72445\\AppData\\Local\\Continuum\\anaconda3\\lib\\site-packages\\sklearn\\linear_model\\sag.py:337: ConvergenceWarning: The max_iter was reached which means the coef_ did not converge\n",
      "  \"the coef_ did not converge\", ConvergenceWarning)\n"
     ]
    },
    {
     "name": "stdout",
     "output_type": "stream",
     "text": [
      "\n",
      "[CV] C=7.59375, fit_intercept=True, intercept_scaling=10, penalty=l2, solver=saga \n",
      "[CV]  C=7.59375, fit_intercept=True, intercept_scaling=10, penalty=l2, solver=saga, score=(train=0.467, test=0.292), total=   0.0s\n",
      "[CV] C=7.59375, fit_intercept=True, intercept_scaling=10, penalty=l2, solver=saga \n",
      "[CV]  C=7.59375, fit_intercept=True, intercept_scaling=10, penalty=l2, solver=saga, score=(train=0.522, test=0.222), total=   0.1s\n",
      "[CV] C=7.59375, fit_intercept=True, intercept_scaling=50, penalty=l1, solver=liblinear \n"
     ]
    },
    {
     "name": "stderr",
     "output_type": "stream",
     "text": [
      "C:\\Users\\72445\\AppData\\Local\\Continuum\\anaconda3\\lib\\site-packages\\sklearn\\linear_model\\logistic.py:469: FutureWarning: Default multi_class will be changed to 'auto' in 0.22. Specify the multi_class option to silence this warning.\n",
      "  \"this warning.\", FutureWarning)\n",
      "C:\\Users\\72445\\AppData\\Local\\Continuum\\anaconda3\\lib\\site-packages\\sklearn\\linear_model\\logistic.py:469: FutureWarning: Default multi_class will be changed to 'auto' in 0.22. Specify the multi_class option to silence this warning.\n",
      "  \"this warning.\", FutureWarning)\n",
      "C:\\Users\\72445\\AppData\\Local\\Continuum\\anaconda3\\lib\\site-packages\\sklearn\\metrics\\classification.py:1437: UndefinedMetricWarning: F-score is ill-defined and being set to 0.0 in labels with no predicted samples.\n",
      "  'precision', 'predicted', average, warn_for)\n",
      "C:\\Users\\72445\\AppData\\Local\\Continuum\\anaconda3\\lib\\site-packages\\sklearn\\linear_model\\logistic.py:469: FutureWarning: Default multi_class will be changed to 'auto' in 0.22. Specify the multi_class option to silence this warning.\n",
      "  \"this warning.\", FutureWarning)\n",
      "C:\\Users\\72445\\AppData\\Local\\Continuum\\anaconda3\\lib\\site-packages\\sklearn\\linear_model\\logistic.py:469: FutureWarning: Default multi_class will be changed to 'auto' in 0.22. Specify the multi_class option to silence this warning.\n",
      "  \"this warning.\", FutureWarning)\n",
      "C:\\Users\\72445\\AppData\\Local\\Continuum\\anaconda3\\lib\\site-packages\\sklearn\\linear_model\\sag.py:337: ConvergenceWarning: The max_iter was reached which means the coef_ did not converge\n",
      "  \"the coef_ did not converge\", ConvergenceWarning)\n",
      "C:\\Users\\72445\\AppData\\Local\\Continuum\\anaconda3\\lib\\site-packages\\sklearn\\linear_model\\logistic.py:469: FutureWarning: Default multi_class will be changed to 'auto' in 0.22. Specify the multi_class option to silence this warning.\n",
      "  \"this warning.\", FutureWarning)\n",
      "C:\\Users\\72445\\AppData\\Local\\Continuum\\anaconda3\\lib\\site-packages\\sklearn\\linear_model\\sag.py:337: ConvergenceWarning: The max_iter was reached which means the coef_ did not converge\n",
      "  \"the coef_ did not converge\", ConvergenceWarning)\n",
      "C:\\Users\\72445\\AppData\\Local\\Continuum\\anaconda3\\lib\\site-packages\\sklearn\\metrics\\classification.py:1437: UndefinedMetricWarning: F-score is ill-defined and being set to 0.0 in labels with no predicted samples.\n",
      "  'precision', 'predicted', average, warn_for)\n",
      "C:\\Users\\72445\\AppData\\Local\\Continuum\\anaconda3\\lib\\site-packages\\sklearn\\linear_model\\logistic.py:469: FutureWarning: Default multi_class will be changed to 'auto' in 0.22. Specify the multi_class option to silence this warning.\n",
      "  \"this warning.\", FutureWarning)\n"
     ]
    },
    {
     "name": "stdout",
     "output_type": "stream",
     "text": [
      "[CV]  C=7.59375, fit_intercept=True, intercept_scaling=50, penalty=l1, solver=liblinear, score=(train=0.525, test=0.307), total=   0.1s\n",
      "[CV] C=7.59375, fit_intercept=True, intercept_scaling=50, penalty=l1, solver=liblinear \n",
      "[CV]  C=7.59375, fit_intercept=True, intercept_scaling=50, penalty=l1, solver=liblinear, score=(train=0.494, test=0.292), total=   0.0s\n",
      "[CV] C=7.59375, fit_intercept=True, intercept_scaling=50, penalty=l1, solver=liblinear \n",
      "[CV]  C=7.59375, fit_intercept=True, intercept_scaling=50, penalty=l1, solver=liblinear, score=(train=0.555, test=0.225), total=   0.0s\n",
      "[CV] C=7.59375, fit_intercept=True, intercept_scaling=50, penalty=l1, solver=saga \n",
      "[CV]  C=7.59375, fit_intercept=True, intercept_scaling=50, penalty=l1, solver=saga, score=(train=0.510, test=0.327), total=   0.0s\n",
      "[CV] C=7.59375, fit_intercept=True, intercept_scaling=50, penalty=l1, solver=saga \n",
      "[CV]  C=7.59375, fit_intercept=True, intercept_scaling=50, penalty=l1, solver=saga, score=(train=0.462, test=0.292), total=   0.0s\n",
      "[CV] C=7.59375, fit_intercept=True, intercept_scaling=50, penalty=l1, solver=saga \n",
      "[CV]  C=7.59375, fit_intercept=True, intercept_scaling=50, penalty=l1, solver=saga, score=(train=0.522, test=0.222), total=   0.0s"
     ]
    },
    {
     "name": "stderr",
     "output_type": "stream",
     "text": [
      "C:\\Users\\72445\\AppData\\Local\\Continuum\\anaconda3\\lib\\site-packages\\sklearn\\linear_model\\sag.py:337: ConvergenceWarning: The max_iter was reached which means the coef_ did not converge\n",
      "  \"the coef_ did not converge\", ConvergenceWarning)\n",
      "C:\\Users\\72445\\AppData\\Local\\Continuum\\anaconda3\\lib\\site-packages\\sklearn\\linear_model\\logistic.py:469: FutureWarning: Default multi_class will be changed to 'auto' in 0.22. Specify the multi_class option to silence this warning.\n",
      "  \"this warning.\", FutureWarning)\n",
      "C:\\Users\\72445\\AppData\\Local\\Continuum\\anaconda3\\lib\\site-packages\\sklearn\\linear_model\\logistic.py:469: FutureWarning: Default multi_class will be changed to 'auto' in 0.22. Specify the multi_class option to silence this warning.\n",
      "  \"this warning.\", FutureWarning)\n",
      "C:\\Users\\72445\\AppData\\Local\\Continuum\\anaconda3\\lib\\site-packages\\sklearn\\metrics\\classification.py:1437: UndefinedMetricWarning: F-score is ill-defined and being set to 0.0 in labels with no predicted samples.\n",
      "  'precision', 'predicted', average, warn_for)\n",
      "C:\\Users\\72445\\AppData\\Local\\Continuum\\anaconda3\\lib\\site-packages\\sklearn\\linear_model\\logistic.py:469: FutureWarning: Default multi_class will be changed to 'auto' in 0.22. Specify the multi_class option to silence this warning.\n",
      "  \"this warning.\", FutureWarning)\n",
      "C:\\Users\\72445\\AppData\\Local\\Continuum\\anaconda3\\lib\\site-packages\\sklearn\\linear_model\\logistic.py:469: FutureWarning: Default multi_class will be changed to 'auto' in 0.22. Specify the multi_class option to silence this warning.\n",
      "  \"this warning.\", FutureWarning)\n",
      "C:\\Users\\72445\\AppData\\Local\\Continuum\\anaconda3\\lib\\site-packages\\sklearn\\linear_model\\sag.py:337: ConvergenceWarning: The max_iter was reached which means the coef_ did not converge\n",
      "  \"the coef_ did not converge\", ConvergenceWarning)\n",
      "C:\\Users\\72445\\AppData\\Local\\Continuum\\anaconda3\\lib\\site-packages\\sklearn\\linear_model\\logistic.py:469: FutureWarning: Default multi_class will be changed to 'auto' in 0.22. Specify the multi_class option to silence this warning.\n",
      "  \"this warning.\", FutureWarning)\n",
      "C:\\Users\\72445\\AppData\\Local\\Continuum\\anaconda3\\lib\\site-packages\\sklearn\\linear_model\\sag.py:337: ConvergenceWarning: The max_iter was reached which means the coef_ did not converge\n",
      "  \"the coef_ did not converge\", ConvergenceWarning)\n"
     ]
    },
    {
     "name": "stdout",
     "output_type": "stream",
     "text": [
      "\n",
      "[CV] C=7.59375, fit_intercept=True, intercept_scaling=50, penalty=l2, solver=liblinear \n",
      "[CV]  C=7.59375, fit_intercept=True, intercept_scaling=50, penalty=l2, solver=liblinear, score=(train=0.502, test=0.334), total=   0.0s\n",
      "[CV] C=7.59375, fit_intercept=True, intercept_scaling=50, penalty=l2, solver=liblinear \n",
      "[CV]  C=7.59375, fit_intercept=True, intercept_scaling=50, penalty=l2, solver=liblinear, score=(train=0.467, test=0.284), total=   0.0s\n",
      "[CV] C=7.59375, fit_intercept=True, intercept_scaling=50, penalty=l2, solver=liblinear \n",
      "[CV]  C=7.59375, fit_intercept=True, intercept_scaling=50, penalty=l2, solver=liblinear, score=(train=0.555, test=0.225), total=   0.0s\n",
      "[CV] C=7.59375, fit_intercept=True, intercept_scaling=50, penalty=l2, solver=saga \n",
      "[CV]  C=7.59375, fit_intercept=True, intercept_scaling=50, penalty=l2, solver=saga, score=(train=0.510, test=0.327), total=   0.0s\n",
      "[CV] C=7.59375, fit_intercept=True, intercept_scaling=50, penalty=l2, solver=saga \n",
      "[CV]  C=7.59375, fit_intercept=True, intercept_scaling=50, penalty=l2, solver=saga, score=(train=0.467, test=0.292), total=   0.0s\n",
      "[CV] C=7.59375, fit_intercept=True, intercept_scaling=50, penalty=l2, solver=saga \n"
     ]
    },
    {
     "name": "stderr",
     "output_type": "stream",
     "text": [
      "C:\\Users\\72445\\AppData\\Local\\Continuum\\anaconda3\\lib\\site-packages\\sklearn\\linear_model\\logistic.py:469: FutureWarning: Default multi_class will be changed to 'auto' in 0.22. Specify the multi_class option to silence this warning.\n",
      "  \"this warning.\", FutureWarning)\n",
      "C:\\Users\\72445\\AppData\\Local\\Continuum\\anaconda3\\lib\\site-packages\\sklearn\\linear_model\\sag.py:337: ConvergenceWarning: The max_iter was reached which means the coef_ did not converge\n",
      "  \"the coef_ did not converge\", ConvergenceWarning)\n",
      "C:\\Users\\72445\\AppData\\Local\\Continuum\\anaconda3\\lib\\site-packages\\sklearn\\linear_model\\logistic.py:469: FutureWarning: Default multi_class will be changed to 'auto' in 0.22. Specify the multi_class option to silence this warning.\n",
      "  \"this warning.\", FutureWarning)\n",
      "C:\\Users\\72445\\AppData\\Local\\Continuum\\anaconda3\\lib\\site-packages\\sklearn\\linear_model\\logistic.py:469: FutureWarning: Default multi_class will be changed to 'auto' in 0.22. Specify the multi_class option to silence this warning.\n",
      "  \"this warning.\", FutureWarning)\n",
      "C:\\Users\\72445\\AppData\\Local\\Continuum\\anaconda3\\lib\\site-packages\\sklearn\\metrics\\classification.py:1437: UndefinedMetricWarning: F-score is ill-defined and being set to 0.0 in labels with no predicted samples.\n",
      "  'precision', 'predicted', average, warn_for)\n",
      "C:\\Users\\72445\\AppData\\Local\\Continuum\\anaconda3\\lib\\site-packages\\sklearn\\linear_model\\logistic.py:469: FutureWarning: Default multi_class will be changed to 'auto' in 0.22. Specify the multi_class option to silence this warning.\n",
      "  \"this warning.\", FutureWarning)\n",
      "C:\\Users\\72445\\AppData\\Local\\Continuum\\anaconda3\\lib\\site-packages\\sklearn\\linear_model\\logistic.py:469: FutureWarning: Default multi_class will be changed to 'auto' in 0.22. Specify the multi_class option to silence this warning.\n",
      "  \"this warning.\", FutureWarning)\n",
      "C:\\Users\\72445\\AppData\\Local\\Continuum\\anaconda3\\lib\\site-packages\\sklearn\\linear_model\\sag.py:337: ConvergenceWarning: The max_iter was reached which means the coef_ did not converge\n",
      "  \"the coef_ did not converge\", ConvergenceWarning)\n"
     ]
    },
    {
     "name": "stdout",
     "output_type": "stream",
     "text": [
      "[CV]  C=7.59375, fit_intercept=True, intercept_scaling=50, penalty=l2, solver=saga, score=(train=0.522, test=0.222), total=   0.1s\n",
      "[CV] C=7.59375, fit_intercept=True, intercept_scaling=100, penalty=l1, solver=liblinear \n",
      "[CV]  C=7.59375, fit_intercept=True, intercept_scaling=100, penalty=l1, solver=liblinear, score=(train=0.525, test=0.307), total=   0.0s\n",
      "[CV] C=7.59375, fit_intercept=True, intercept_scaling=100, penalty=l1, solver=liblinear \n",
      "[CV]  C=7.59375, fit_intercept=True, intercept_scaling=100, penalty=l1, solver=liblinear, score=(train=0.494, test=0.292), total=   0.0s\n",
      "[CV] C=7.59375, fit_intercept=True, intercept_scaling=100, penalty=l1, solver=liblinear \n",
      "[CV]  C=7.59375, fit_intercept=True, intercept_scaling=100, penalty=l1, solver=liblinear, score=(train=0.555, test=0.225), total=   0.0s\n",
      "[CV] C=7.59375, fit_intercept=True, intercept_scaling=100, penalty=l1, solver=saga \n",
      "[CV]  C=7.59375, fit_intercept=True, intercept_scaling=100, penalty=l1, solver=saga, score=(train=0.510, test=0.327), total=   0.0s\n",
      "[CV] C=7.59375, fit_intercept=True, intercept_scaling=100, penalty=l1, solver=saga \n"
     ]
    },
    {
     "name": "stderr",
     "output_type": "stream",
     "text": [
      "C:\\Users\\72445\\AppData\\Local\\Continuum\\anaconda3\\lib\\site-packages\\sklearn\\linear_model\\logistic.py:469: FutureWarning: Default multi_class will be changed to 'auto' in 0.22. Specify the multi_class option to silence this warning.\n",
      "  \"this warning.\", FutureWarning)\n",
      "C:\\Users\\72445\\AppData\\Local\\Continuum\\anaconda3\\lib\\site-packages\\sklearn\\linear_model\\sag.py:337: ConvergenceWarning: The max_iter was reached which means the coef_ did not converge\n",
      "  \"the coef_ did not converge\", ConvergenceWarning)\n",
      "C:\\Users\\72445\\AppData\\Local\\Continuum\\anaconda3\\lib\\site-packages\\sklearn\\metrics\\classification.py:1437: UndefinedMetricWarning: F-score is ill-defined and being set to 0.0 in labels with no predicted samples.\n",
      "  'precision', 'predicted', average, warn_for)\n",
      "C:\\Users\\72445\\AppData\\Local\\Continuum\\anaconda3\\lib\\site-packages\\sklearn\\linear_model\\logistic.py:469: FutureWarning: Default multi_class will be changed to 'auto' in 0.22. Specify the multi_class option to silence this warning.\n",
      "  \"this warning.\", FutureWarning)\n",
      "C:\\Users\\72445\\AppData\\Local\\Continuum\\anaconda3\\lib\\site-packages\\sklearn\\linear_model\\sag.py:337: ConvergenceWarning: The max_iter was reached which means the coef_ did not converge\n",
      "  \"the coef_ did not converge\", ConvergenceWarning)\n",
      "C:\\Users\\72445\\AppData\\Local\\Continuum\\anaconda3\\lib\\site-packages\\sklearn\\linear_model\\logistic.py:469: FutureWarning: Default multi_class will be changed to 'auto' in 0.22. Specify the multi_class option to silence this warning.\n",
      "  \"this warning.\", FutureWarning)\n",
      "C:\\Users\\72445\\AppData\\Local\\Continuum\\anaconda3\\lib\\site-packages\\sklearn\\linear_model\\logistic.py:469: FutureWarning: Default multi_class will be changed to 'auto' in 0.22. Specify the multi_class option to silence this warning.\n",
      "  \"this warning.\", FutureWarning)\n",
      "C:\\Users\\72445\\AppData\\Local\\Continuum\\anaconda3\\lib\\site-packages\\sklearn\\metrics\\classification.py:1437: UndefinedMetricWarning: F-score is ill-defined and being set to 0.0 in labels with no predicted samples.\n",
      "  'precision', 'predicted', average, warn_for)\n",
      "C:\\Users\\72445\\AppData\\Local\\Continuum\\anaconda3\\lib\\site-packages\\sklearn\\linear_model\\logistic.py:469: FutureWarning: Default multi_class will be changed to 'auto' in 0.22. Specify the multi_class option to silence this warning.\n",
      "  \"this warning.\", FutureWarning)\n",
      "C:\\Users\\72445\\AppData\\Local\\Continuum\\anaconda3\\lib\\site-packages\\sklearn\\linear_model\\logistic.py:469: FutureWarning: Default multi_class will be changed to 'auto' in 0.22. Specify the multi_class option to silence this warning.\n",
      "  \"this warning.\", FutureWarning)\n",
      "C:\\Users\\72445\\AppData\\Local\\Continuum\\anaconda3\\lib\\site-packages\\sklearn\\linear_model\\sag.py:337: ConvergenceWarning: The max_iter was reached which means the coef_ did not converge\n",
      "  \"the coef_ did not converge\", ConvergenceWarning)\n"
     ]
    },
    {
     "name": "stdout",
     "output_type": "stream",
     "text": [
      "[CV]  C=7.59375, fit_intercept=True, intercept_scaling=100, penalty=l1, solver=saga, score=(train=0.462, test=0.292), total=   0.0s\n",
      "[CV] C=7.59375, fit_intercept=True, intercept_scaling=100, penalty=l1, solver=saga \n",
      "[CV]  C=7.59375, fit_intercept=True, intercept_scaling=100, penalty=l1, solver=saga, score=(train=0.522, test=0.222), total=   0.0s\n",
      "[CV] C=7.59375, fit_intercept=True, intercept_scaling=100, penalty=l2, solver=liblinear \n",
      "[CV]  C=7.59375, fit_intercept=True, intercept_scaling=100, penalty=l2, solver=liblinear, score=(train=0.502, test=0.334), total=   0.0s\n",
      "[CV] C=7.59375, fit_intercept=True, intercept_scaling=100, penalty=l2, solver=liblinear \n",
      "[CV]  C=7.59375, fit_intercept=True, intercept_scaling=100, penalty=l2, solver=liblinear, score=(train=0.467, test=0.284), total=   0.0s\n",
      "[CV] C=7.59375, fit_intercept=True, intercept_scaling=100, penalty=l2, solver=liblinear \n",
      "[CV]  C=7.59375, fit_intercept=True, intercept_scaling=100, penalty=l2, solver=liblinear, score=(train=0.555, test=0.225), total=   0.0s\n",
      "[CV] C=7.59375, fit_intercept=True, intercept_scaling=100, penalty=l2, solver=saga \n",
      "[CV]  C=7.59375, fit_intercept=True, intercept_scaling=100, penalty=l2, solver=saga, score=(train=0.510, test=0.327), total=   0.0s\n",
      "[CV] C=7.59375, fit_intercept=True, intercept_scaling=100, penalty=l2, solver=saga \n",
      "[CV]  C=7.59375, fit_intercept=True, intercept_scaling=100, penalty=l2, solver=saga, score=(train=0.467, test=0.292), total=   0.0s"
     ]
    },
    {
     "name": "stderr",
     "output_type": "stream",
     "text": [
      "C:\\Users\\72445\\AppData\\Local\\Continuum\\anaconda3\\lib\\site-packages\\sklearn\\linear_model\\logistic.py:469: FutureWarning: Default multi_class will be changed to 'auto' in 0.22. Specify the multi_class option to silence this warning.\n",
      "  \"this warning.\", FutureWarning)\n",
      "C:\\Users\\72445\\AppData\\Local\\Continuum\\anaconda3\\lib\\site-packages\\sklearn\\linear_model\\sag.py:337: ConvergenceWarning: The max_iter was reached which means the coef_ did not converge\n",
      "  \"the coef_ did not converge\", ConvergenceWarning)\n",
      "C:\\Users\\72445\\AppData\\Local\\Continuum\\anaconda3\\lib\\site-packages\\sklearn\\linear_model\\logistic.py:469: FutureWarning: Default multi_class will be changed to 'auto' in 0.22. Specify the multi_class option to silence this warning.\n",
      "  \"this warning.\", FutureWarning)\n",
      "C:\\Users\\72445\\AppData\\Local\\Continuum\\anaconda3\\lib\\site-packages\\sklearn\\linear_model\\sag.py:337: ConvergenceWarning: The max_iter was reached which means the coef_ did not converge\n",
      "  \"the coef_ did not converge\", ConvergenceWarning)\n",
      "C:\\Users\\72445\\AppData\\Local\\Continuum\\anaconda3\\lib\\site-packages\\sklearn\\linear_model\\logistic.py:469: FutureWarning: Default multi_class will be changed to 'auto' in 0.22. Specify the multi_class option to silence this warning.\n",
      "  \"this warning.\", FutureWarning)\n",
      "C:\\Users\\72445\\AppData\\Local\\Continuum\\anaconda3\\lib\\site-packages\\sklearn\\linear_model\\logistic.py:469: FutureWarning: Default multi_class will be changed to 'auto' in 0.22. Specify the multi_class option to silence this warning.\n",
      "  \"this warning.\", FutureWarning)\n"
     ]
    },
    {
     "name": "stdout",
     "output_type": "stream",
     "text": [
      "\n",
      "[CV] C=7.59375, fit_intercept=True, intercept_scaling=100, penalty=l2, solver=saga \n",
      "[CV]  C=7.59375, fit_intercept=True, intercept_scaling=100, penalty=l2, solver=saga, score=(train=0.522, test=0.222), total=   0.0s\n",
      "[CV] C=7.59375, fit_intercept=False, intercept_scaling=1, penalty=l1, solver=liblinear \n",
      "[CV]  C=7.59375, fit_intercept=False, intercept_scaling=1, penalty=l1, solver=liblinear, score=(train=0.493, test=0.390), total=   0.0s\n",
      "[CV] C=7.59375, fit_intercept=False, intercept_scaling=1, penalty=l1, solver=liblinear \n"
     ]
    },
    {
     "name": "stderr",
     "output_type": "stream",
     "text": [
      "C:\\Users\\72445\\AppData\\Local\\Continuum\\anaconda3\\lib\\site-packages\\sklearn\\linear_model\\logistic.py:469: FutureWarning: Default multi_class will be changed to 'auto' in 0.22. Specify the multi_class option to silence this warning.\n",
      "  \"this warning.\", FutureWarning)\n",
      "C:\\Users\\72445\\AppData\\Local\\Continuum\\anaconda3\\lib\\site-packages\\sklearn\\linear_model\\logistic.py:469: FutureWarning: Default multi_class will be changed to 'auto' in 0.22. Specify the multi_class option to silence this warning.\n",
      "  \"this warning.\", FutureWarning)\n",
      "C:\\Users\\72445\\AppData\\Local\\Continuum\\anaconda3\\lib\\site-packages\\sklearn\\linear_model\\sag.py:337: ConvergenceWarning: The max_iter was reached which means the coef_ did not converge\n",
      "  \"the coef_ did not converge\", ConvergenceWarning)\n",
      "C:\\Users\\72445\\AppData\\Local\\Continuum\\anaconda3\\lib\\site-packages\\sklearn\\linear_model\\logistic.py:469: FutureWarning: Default multi_class will be changed to 'auto' in 0.22. Specify the multi_class option to silence this warning.\n",
      "  \"this warning.\", FutureWarning)\n",
      "C:\\Users\\72445\\AppData\\Local\\Continuum\\anaconda3\\lib\\site-packages\\sklearn\\linear_model\\sag.py:337: ConvergenceWarning: The max_iter was reached which means the coef_ did not converge\n",
      "  \"the coef_ did not converge\", ConvergenceWarning)\n",
      "C:\\Users\\72445\\AppData\\Local\\Continuum\\anaconda3\\lib\\site-packages\\sklearn\\linear_model\\logistic.py:469: FutureWarning: Default multi_class will be changed to 'auto' in 0.22. Specify the multi_class option to silence this warning.\n",
      "  \"this warning.\", FutureWarning)\n",
      "C:\\Users\\72445\\AppData\\Local\\Continuum\\anaconda3\\lib\\site-packages\\sklearn\\linear_model\\sag.py:337: ConvergenceWarning: The max_iter was reached which means the coef_ did not converge\n",
      "  \"the coef_ did not converge\", ConvergenceWarning)\n"
     ]
    },
    {
     "name": "stdout",
     "output_type": "stream",
     "text": [
      "[CV]  C=7.59375, fit_intercept=False, intercept_scaling=1, penalty=l1, solver=liblinear, score=(train=0.472, test=0.308), total=   0.1s\n",
      "[CV] C=7.59375, fit_intercept=False, intercept_scaling=1, penalty=l1, solver=liblinear \n",
      "[CV]  C=7.59375, fit_intercept=False, intercept_scaling=1, penalty=l1, solver=liblinear, score=(train=0.559, test=0.233), total=   0.1s\n",
      "[CV] C=7.59375, fit_intercept=False, intercept_scaling=1, penalty=l1, solver=saga \n",
      "[CV]  C=7.59375, fit_intercept=False, intercept_scaling=1, penalty=l1, solver=saga, score=(train=0.471, test=0.228), total=   0.0s\n",
      "[CV] C=7.59375, fit_intercept=False, intercept_scaling=1, penalty=l1, solver=saga \n",
      "[CV]  C=7.59375, fit_intercept=False, intercept_scaling=1, penalty=l1, solver=saga, score=(train=0.525, test=0.377), total=   0.0s\n",
      "[CV] C=7.59375, fit_intercept=False, intercept_scaling=1, penalty=l1, solver=saga \n",
      "[CV]  C=7.59375, fit_intercept=False, intercept_scaling=1, penalty=l1, solver=saga, score=(train=0.579, test=0.233), total=   0.0s\n",
      "[CV] C=7.59375, fit_intercept=False, intercept_scaling=1, penalty=l2, solver=liblinear \n",
      "[CV]  C=7.59375, fit_intercept=False, intercept_scaling=1, penalty=l2, solver=liblinear, score=(train=0.471, test=0.256), total=   0.0s\n",
      "[CV] C=7.59375, fit_intercept=False, intercept_scaling=1, penalty=l2, solver=liblinear \n",
      "[CV]  C=7.59375, fit_intercept=False, intercept_scaling=1, penalty=l2, solver=liblinear, score=(train=0.492, test=0.413), total=   0.0s\n",
      "[CV] C=7.59375, fit_intercept=False, intercept_scaling=1, penalty=l2, solver=liblinear \n",
      "[CV]  C=7.59375, fit_intercept=False, intercept_scaling=1, penalty=l2, solver=liblinear, score=(train=0.557, test=0.233), total=   0.0s\n",
      "[CV] C=7.59375, fit_intercept=False, intercept_scaling=1, penalty=l2, solver=saga \n",
      "[CV]  C=7.59375, fit_intercept=False, intercept_scaling=1, penalty=l2, solver=saga, score=(train=0.471, test=0.228), total=   0.0s"
     ]
    },
    {
     "name": "stderr",
     "output_type": "stream",
     "text": [
      "C:\\Users\\72445\\AppData\\Local\\Continuum\\anaconda3\\lib\\site-packages\\sklearn\\linear_model\\logistic.py:469: FutureWarning: Default multi_class will be changed to 'auto' in 0.22. Specify the multi_class option to silence this warning.\n",
      "  \"this warning.\", FutureWarning)\n",
      "C:\\Users\\72445\\AppData\\Local\\Continuum\\anaconda3\\lib\\site-packages\\sklearn\\linear_model\\logistic.py:469: FutureWarning: Default multi_class will be changed to 'auto' in 0.22. Specify the multi_class option to silence this warning.\n",
      "  \"this warning.\", FutureWarning)\n",
      "C:\\Users\\72445\\AppData\\Local\\Continuum\\anaconda3\\lib\\site-packages\\sklearn\\linear_model\\logistic.py:469: FutureWarning: Default multi_class will be changed to 'auto' in 0.22. Specify the multi_class option to silence this warning.\n",
      "  \"this warning.\", FutureWarning)\n",
      "C:\\Users\\72445\\AppData\\Local\\Continuum\\anaconda3\\lib\\site-packages\\sklearn\\linear_model\\logistic.py:469: FutureWarning: Default multi_class will be changed to 'auto' in 0.22. Specify the multi_class option to silence this warning.\n",
      "  \"this warning.\", FutureWarning)\n",
      "C:\\Users\\72445\\AppData\\Local\\Continuum\\anaconda3\\lib\\site-packages\\sklearn\\linear_model\\sag.py:337: ConvergenceWarning: The max_iter was reached which means the coef_ did not converge\n",
      "  \"the coef_ did not converge\", ConvergenceWarning)\n",
      "C:\\Users\\72445\\AppData\\Local\\Continuum\\anaconda3\\lib\\site-packages\\sklearn\\linear_model\\logistic.py:469: FutureWarning: Default multi_class will be changed to 'auto' in 0.22. Specify the multi_class option to silence this warning.\n",
      "  \"this warning.\", FutureWarning)\n",
      "C:\\Users\\72445\\AppData\\Local\\Continuum\\anaconda3\\lib\\site-packages\\sklearn\\linear_model\\sag.py:337: ConvergenceWarning: The max_iter was reached which means the coef_ did not converge\n",
      "  \"the coef_ did not converge\", ConvergenceWarning)\n",
      "C:\\Users\\72445\\AppData\\Local\\Continuum\\anaconda3\\lib\\site-packages\\sklearn\\linear_model\\logistic.py:469: FutureWarning: Default multi_class will be changed to 'auto' in 0.22. Specify the multi_class option to silence this warning.\n",
      "  \"this warning.\", FutureWarning)\n",
      "C:\\Users\\72445\\AppData\\Local\\Continuum\\anaconda3\\lib\\site-packages\\sklearn\\linear_model\\sag.py:337: ConvergenceWarning: The max_iter was reached which means the coef_ did not converge\n",
      "  \"the coef_ did not converge\", ConvergenceWarning)\n",
      "C:\\Users\\72445\\AppData\\Local\\Continuum\\anaconda3\\lib\\site-packages\\sklearn\\linear_model\\logistic.py:469: FutureWarning: Default multi_class will be changed to 'auto' in 0.22. Specify the multi_class option to silence this warning.\n",
      "  \"this warning.\", FutureWarning)\n"
     ]
    },
    {
     "name": "stdout",
     "output_type": "stream",
     "text": [
      "\n",
      "[CV] C=7.59375, fit_intercept=False, intercept_scaling=1, penalty=l2, solver=saga \n",
      "[CV]  C=7.59375, fit_intercept=False, intercept_scaling=1, penalty=l2, solver=saga, score=(train=0.524, test=0.377), total=   0.0s\n",
      "[CV] C=7.59375, fit_intercept=False, intercept_scaling=1, penalty=l2, solver=saga \n",
      "[CV]  C=7.59375, fit_intercept=False, intercept_scaling=1, penalty=l2, solver=saga, score=(train=0.579, test=0.233), total=   0.0s\n",
      "[CV] C=7.59375, fit_intercept=False, intercept_scaling=10, penalty=l1, solver=liblinear \n",
      "[CV]  C=7.59375, fit_intercept=False, intercept_scaling=10, penalty=l1, solver=liblinear, score=(train=0.493, test=0.390), total=   0.1s\n",
      "[CV] C=7.59375, fit_intercept=False, intercept_scaling=10, penalty=l1, solver=liblinear \n",
      "[CV]  C=7.59375, fit_intercept=False, intercept_scaling=10, penalty=l1, solver=liblinear, score=(train=0.472, test=0.308), total=   0.0s"
     ]
    },
    {
     "name": "stderr",
     "output_type": "stream",
     "text": [
      "C:\\Users\\72445\\AppData\\Local\\Continuum\\anaconda3\\lib\\site-packages\\sklearn\\linear_model\\logistic.py:469: FutureWarning: Default multi_class will be changed to 'auto' in 0.22. Specify the multi_class option to silence this warning.\n",
      "  \"this warning.\", FutureWarning)\n",
      "C:\\Users\\72445\\AppData\\Local\\Continuum\\anaconda3\\lib\\site-packages\\sklearn\\linear_model\\logistic.py:469: FutureWarning: Default multi_class will be changed to 'auto' in 0.22. Specify the multi_class option to silence this warning.\n",
      "  \"this warning.\", FutureWarning)\n",
      "C:\\Users\\72445\\AppData\\Local\\Continuum\\anaconda3\\lib\\site-packages\\sklearn\\linear_model\\logistic.py:469: FutureWarning: Default multi_class will be changed to 'auto' in 0.22. Specify the multi_class option to silence this warning.\n",
      "  \"this warning.\", FutureWarning)\n",
      "C:\\Users\\72445\\AppData\\Local\\Continuum\\anaconda3\\lib\\site-packages\\sklearn\\linear_model\\sag.py:337: ConvergenceWarning: The max_iter was reached which means the coef_ did not converge\n",
      "  \"the coef_ did not converge\", ConvergenceWarning)\n",
      "C:\\Users\\72445\\AppData\\Local\\Continuum\\anaconda3\\lib\\site-packages\\sklearn\\linear_model\\logistic.py:469: FutureWarning: Default multi_class will be changed to 'auto' in 0.22. Specify the multi_class option to silence this warning.\n",
      "  \"this warning.\", FutureWarning)\n",
      "C:\\Users\\72445\\AppData\\Local\\Continuum\\anaconda3\\lib\\site-packages\\sklearn\\linear_model\\sag.py:337: ConvergenceWarning: The max_iter was reached which means the coef_ did not converge\n",
      "  \"the coef_ did not converge\", ConvergenceWarning)\n",
      "C:\\Users\\72445\\AppData\\Local\\Continuum\\anaconda3\\lib\\site-packages\\sklearn\\linear_model\\logistic.py:469: FutureWarning: Default multi_class will be changed to 'auto' in 0.22. Specify the multi_class option to silence this warning.\n",
      "  \"this warning.\", FutureWarning)\n",
      "C:\\Users\\72445\\AppData\\Local\\Continuum\\anaconda3\\lib\\site-packages\\sklearn\\linear_model\\sag.py:337: ConvergenceWarning: The max_iter was reached which means the coef_ did not converge\n",
      "  \"the coef_ did not converge\", ConvergenceWarning)\n"
     ]
    },
    {
     "name": "stdout",
     "output_type": "stream",
     "text": [
      "\n",
      "[CV] C=7.59375, fit_intercept=False, intercept_scaling=10, penalty=l1, solver=liblinear \n",
      "[CV]  C=7.59375, fit_intercept=False, intercept_scaling=10, penalty=l1, solver=liblinear, score=(train=0.559, test=0.233), total=   0.0s\n",
      "[CV] C=7.59375, fit_intercept=False, intercept_scaling=10, penalty=l1, solver=saga \n",
      "[CV]  C=7.59375, fit_intercept=False, intercept_scaling=10, penalty=l1, solver=saga, score=(train=0.471, test=0.228), total=   0.0s\n",
      "[CV] C=7.59375, fit_intercept=False, intercept_scaling=10, penalty=l1, solver=saga \n",
      "[CV]  C=7.59375, fit_intercept=False, intercept_scaling=10, penalty=l1, solver=saga, score=(train=0.525, test=0.377), total=   0.0s\n",
      "[CV] C=7.59375, fit_intercept=False, intercept_scaling=10, penalty=l1, solver=saga \n",
      "[CV]  C=7.59375, fit_intercept=False, intercept_scaling=10, penalty=l1, solver=saga, score=(train=0.579, test=0.233), total=   0.0s\n",
      "[CV] C=7.59375, fit_intercept=False, intercept_scaling=10, penalty=l2, solver=liblinear \n",
      "[CV]  C=7.59375, fit_intercept=False, intercept_scaling=10, penalty=l2, solver=liblinear, score=(train=0.471, test=0.256), total=   0.0s\n",
      "[CV] C=7.59375, fit_intercept=False, intercept_scaling=10, penalty=l2, solver=liblinear \n"
     ]
    },
    {
     "name": "stderr",
     "output_type": "stream",
     "text": [
      "C:\\Users\\72445\\AppData\\Local\\Continuum\\anaconda3\\lib\\site-packages\\sklearn\\linear_model\\logistic.py:469: FutureWarning: Default multi_class will be changed to 'auto' in 0.22. Specify the multi_class option to silence this warning.\n",
      "  \"this warning.\", FutureWarning)\n",
      "C:\\Users\\72445\\AppData\\Local\\Continuum\\anaconda3\\lib\\site-packages\\sklearn\\linear_model\\logistic.py:469: FutureWarning: Default multi_class will be changed to 'auto' in 0.22. Specify the multi_class option to silence this warning.\n",
      "  \"this warning.\", FutureWarning)\n",
      "C:\\Users\\72445\\AppData\\Local\\Continuum\\anaconda3\\lib\\site-packages\\sklearn\\linear_model\\logistic.py:469: FutureWarning: Default multi_class will be changed to 'auto' in 0.22. Specify the multi_class option to silence this warning.\n",
      "  \"this warning.\", FutureWarning)\n",
      "C:\\Users\\72445\\AppData\\Local\\Continuum\\anaconda3\\lib\\site-packages\\sklearn\\linear_model\\logistic.py:469: FutureWarning: Default multi_class will be changed to 'auto' in 0.22. Specify the multi_class option to silence this warning.\n",
      "  \"this warning.\", FutureWarning)\n",
      "C:\\Users\\72445\\AppData\\Local\\Continuum\\anaconda3\\lib\\site-packages\\sklearn\\linear_model\\sag.py:337: ConvergenceWarning: The max_iter was reached which means the coef_ did not converge\n",
      "  \"the coef_ did not converge\", ConvergenceWarning)\n",
      "C:\\Users\\72445\\AppData\\Local\\Continuum\\anaconda3\\lib\\site-packages\\sklearn\\linear_model\\logistic.py:469: FutureWarning: Default multi_class will be changed to 'auto' in 0.22. Specify the multi_class option to silence this warning.\n",
      "  \"this warning.\", FutureWarning)\n",
      "C:\\Users\\72445\\AppData\\Local\\Continuum\\anaconda3\\lib\\site-packages\\sklearn\\linear_model\\sag.py:337: ConvergenceWarning: The max_iter was reached which means the coef_ did not converge\n",
      "  \"the coef_ did not converge\", ConvergenceWarning)\n",
      "C:\\Users\\72445\\AppData\\Local\\Continuum\\anaconda3\\lib\\site-packages\\sklearn\\linear_model\\logistic.py:469: FutureWarning: Default multi_class will be changed to 'auto' in 0.22. Specify the multi_class option to silence this warning.\n",
      "  \"this warning.\", FutureWarning)\n",
      "C:\\Users\\72445\\AppData\\Local\\Continuum\\anaconda3\\lib\\site-packages\\sklearn\\linear_model\\sag.py:337: ConvergenceWarning: The max_iter was reached which means the coef_ did not converge\n",
      "  \"the coef_ did not converge\", ConvergenceWarning)\n",
      "C:\\Users\\72445\\AppData\\Local\\Continuum\\anaconda3\\lib\\site-packages\\sklearn\\linear_model\\logistic.py:469: FutureWarning: Default multi_class will be changed to 'auto' in 0.22. Specify the multi_class option to silence this warning.\n",
      "  \"this warning.\", FutureWarning)\n",
      "C:\\Users\\72445\\AppData\\Local\\Continuum\\anaconda3\\lib\\site-packages\\sklearn\\linear_model\\logistic.py:469: FutureWarning: Default multi_class will be changed to 'auto' in 0.22. Specify the multi_class option to silence this warning.\n",
      "  \"this warning.\", FutureWarning)\n"
     ]
    },
    {
     "name": "stdout",
     "output_type": "stream",
     "text": [
      "[CV]  C=7.59375, fit_intercept=False, intercept_scaling=10, penalty=l2, solver=liblinear, score=(train=0.492, test=0.413), total=   0.0s\n",
      "[CV] C=7.59375, fit_intercept=False, intercept_scaling=10, penalty=l2, solver=liblinear \n",
      "[CV]  C=7.59375, fit_intercept=False, intercept_scaling=10, penalty=l2, solver=liblinear, score=(train=0.557, test=0.233), total=   0.0s\n",
      "[CV] C=7.59375, fit_intercept=False, intercept_scaling=10, penalty=l2, solver=saga \n",
      "[CV]  C=7.59375, fit_intercept=False, intercept_scaling=10, penalty=l2, solver=saga, score=(train=0.471, test=0.228), total=   0.0s\n",
      "[CV] C=7.59375, fit_intercept=False, intercept_scaling=10, penalty=l2, solver=saga \n",
      "[CV]  C=7.59375, fit_intercept=False, intercept_scaling=10, penalty=l2, solver=saga, score=(train=0.524, test=0.377), total=   0.0s\n",
      "[CV] C=7.59375, fit_intercept=False, intercept_scaling=10, penalty=l2, solver=saga \n",
      "[CV]  C=7.59375, fit_intercept=False, intercept_scaling=10, penalty=l2, solver=saga, score=(train=0.579, test=0.233), total=   0.0s\n",
      "[CV] C=7.59375, fit_intercept=False, intercept_scaling=50, penalty=l1, solver=liblinear \n",
      "[CV]  C=7.59375, fit_intercept=False, intercept_scaling=50, penalty=l1, solver=liblinear, score=(train=0.493, test=0.390), total=   0.0s\n",
      "[CV] C=7.59375, fit_intercept=False, intercept_scaling=50, penalty=l1, solver=liblinear \n",
      "[CV]  C=7.59375, fit_intercept=False, intercept_scaling=50, penalty=l1, solver=liblinear, score=(train=0.472, test=0.308), total=   0.0s\n",
      "[CV] C=7.59375, fit_intercept=False, intercept_scaling=50, penalty=l1, solver=liblinear \n"
     ]
    },
    {
     "name": "stderr",
     "output_type": "stream",
     "text": [
      "C:\\Users\\72445\\AppData\\Local\\Continuum\\anaconda3\\lib\\site-packages\\sklearn\\linear_model\\logistic.py:469: FutureWarning: Default multi_class will be changed to 'auto' in 0.22. Specify the multi_class option to silence this warning.\n",
      "  \"this warning.\", FutureWarning)\n",
      "C:\\Users\\72445\\AppData\\Local\\Continuum\\anaconda3\\lib\\site-packages\\sklearn\\linear_model\\logistic.py:469: FutureWarning: Default multi_class will be changed to 'auto' in 0.22. Specify the multi_class option to silence this warning.\n",
      "  \"this warning.\", FutureWarning)\n",
      "C:\\Users\\72445\\AppData\\Local\\Continuum\\anaconda3\\lib\\site-packages\\sklearn\\linear_model\\sag.py:337: ConvergenceWarning: The max_iter was reached which means the coef_ did not converge\n",
      "  \"the coef_ did not converge\", ConvergenceWarning)\n",
      "C:\\Users\\72445\\AppData\\Local\\Continuum\\anaconda3\\lib\\site-packages\\sklearn\\linear_model\\logistic.py:469: FutureWarning: Default multi_class will be changed to 'auto' in 0.22. Specify the multi_class option to silence this warning.\n",
      "  \"this warning.\", FutureWarning)\n",
      "C:\\Users\\72445\\AppData\\Local\\Continuum\\anaconda3\\lib\\site-packages\\sklearn\\linear_model\\sag.py:337: ConvergenceWarning: The max_iter was reached which means the coef_ did not converge\n",
      "  \"the coef_ did not converge\", ConvergenceWarning)\n",
      "C:\\Users\\72445\\AppData\\Local\\Continuum\\anaconda3\\lib\\site-packages\\sklearn\\linear_model\\logistic.py:469: FutureWarning: Default multi_class will be changed to 'auto' in 0.22. Specify the multi_class option to silence this warning.\n",
      "  \"this warning.\", FutureWarning)\n"
     ]
    },
    {
     "name": "stdout",
     "output_type": "stream",
     "text": [
      "[CV]  C=7.59375, fit_intercept=False, intercept_scaling=50, penalty=l1, solver=liblinear, score=(train=0.559, test=0.233), total=   0.0s\n",
      "[CV] C=7.59375, fit_intercept=False, intercept_scaling=50, penalty=l1, solver=saga \n",
      "[CV]  C=7.59375, fit_intercept=False, intercept_scaling=50, penalty=l1, solver=saga, score=(train=0.471, test=0.228), total=   0.1s\n",
      "[CV] C=7.59375, fit_intercept=False, intercept_scaling=50, penalty=l1, solver=saga \n",
      "[CV]  C=7.59375, fit_intercept=False, intercept_scaling=50, penalty=l1, solver=saga, score=(train=0.525, test=0.377), total=   0.0s\n",
      "[CV] C=7.59375, fit_intercept=False, intercept_scaling=50, penalty=l1, solver=saga \n",
      "[CV]  C=7.59375, fit_intercept=False, intercept_scaling=50, penalty=l1, solver=saga, score=(train=0.579, test=0.233), total=   0.0s\n",
      "[CV] C=7.59375, fit_intercept=False, intercept_scaling=50, penalty=l2, solver=liblinear \n",
      "[CV]  C=7.59375, fit_intercept=False, intercept_scaling=50, penalty=l2, solver=liblinear, score=(train=0.471, test=0.256), total=   0.0s"
     ]
    },
    {
     "name": "stderr",
     "output_type": "stream",
     "text": [
      "C:\\Users\\72445\\AppData\\Local\\Continuum\\anaconda3\\lib\\site-packages\\sklearn\\linear_model\\sag.py:337: ConvergenceWarning: The max_iter was reached which means the coef_ did not converge\n",
      "  \"the coef_ did not converge\", ConvergenceWarning)\n",
      "C:\\Users\\72445\\AppData\\Local\\Continuum\\anaconda3\\lib\\site-packages\\sklearn\\linear_model\\logistic.py:469: FutureWarning: Default multi_class will be changed to 'auto' in 0.22. Specify the multi_class option to silence this warning.\n",
      "  \"this warning.\", FutureWarning)\n",
      "C:\\Users\\72445\\AppData\\Local\\Continuum\\anaconda3\\lib\\site-packages\\sklearn\\linear_model\\logistic.py:469: FutureWarning: Default multi_class will be changed to 'auto' in 0.22. Specify the multi_class option to silence this warning.\n",
      "  \"this warning.\", FutureWarning)\n",
      "C:\\Users\\72445\\AppData\\Local\\Continuum\\anaconda3\\lib\\site-packages\\sklearn\\linear_model\\logistic.py:469: FutureWarning: Default multi_class will be changed to 'auto' in 0.22. Specify the multi_class option to silence this warning.\n",
      "  \"this warning.\", FutureWarning)\n",
      "C:\\Users\\72445\\AppData\\Local\\Continuum\\anaconda3\\lib\\site-packages\\sklearn\\linear_model\\logistic.py:469: FutureWarning: Default multi_class will be changed to 'auto' in 0.22. Specify the multi_class option to silence this warning.\n",
      "  \"this warning.\", FutureWarning)\n",
      "C:\\Users\\72445\\AppData\\Local\\Continuum\\anaconda3\\lib\\site-packages\\sklearn\\linear_model\\sag.py:337: ConvergenceWarning: The max_iter was reached which means the coef_ did not converge\n",
      "  \"the coef_ did not converge\", ConvergenceWarning)\n",
      "C:\\Users\\72445\\AppData\\Local\\Continuum\\anaconda3\\lib\\site-packages\\sklearn\\linear_model\\logistic.py:469: FutureWarning: Default multi_class will be changed to 'auto' in 0.22. Specify the multi_class option to silence this warning.\n",
      "  \"this warning.\", FutureWarning)\n",
      "C:\\Users\\72445\\AppData\\Local\\Continuum\\anaconda3\\lib\\site-packages\\sklearn\\linear_model\\sag.py:337: ConvergenceWarning: The max_iter was reached which means the coef_ did not converge\n",
      "  \"the coef_ did not converge\", ConvergenceWarning)\n"
     ]
    },
    {
     "name": "stdout",
     "output_type": "stream",
     "text": [
      "\n",
      "[CV] C=7.59375, fit_intercept=False, intercept_scaling=50, penalty=l2, solver=liblinear \n",
      "[CV]  C=7.59375, fit_intercept=False, intercept_scaling=50, penalty=l2, solver=liblinear, score=(train=0.492, test=0.413), total=   0.0s\n",
      "[CV] C=7.59375, fit_intercept=False, intercept_scaling=50, penalty=l2, solver=liblinear \n",
      "[CV]  C=7.59375, fit_intercept=False, intercept_scaling=50, penalty=l2, solver=liblinear, score=(train=0.557, test=0.233), total=   0.0s\n",
      "[CV] C=7.59375, fit_intercept=False, intercept_scaling=50, penalty=l2, solver=saga \n",
      "[CV]  C=7.59375, fit_intercept=False, intercept_scaling=50, penalty=l2, solver=saga, score=(train=0.471, test=0.228), total=   0.0s\n",
      "[CV] C=7.59375, fit_intercept=False, intercept_scaling=50, penalty=l2, solver=saga \n",
      "[CV]  C=7.59375, fit_intercept=False, intercept_scaling=50, penalty=l2, solver=saga, score=(train=0.524, test=0.377), total=   0.0s\n",
      "[CV] C=7.59375, fit_intercept=False, intercept_scaling=50, penalty=l2, solver=saga \n",
      "[CV]  C=7.59375, fit_intercept=False, intercept_scaling=50, penalty=l2, solver=saga, score=(train=0.579, test=0.233), total=   0.0s"
     ]
    },
    {
     "name": "stderr",
     "output_type": "stream",
     "text": [
      "C:\\Users\\72445\\AppData\\Local\\Continuum\\anaconda3\\lib\\site-packages\\sklearn\\linear_model\\logistic.py:469: FutureWarning: Default multi_class will be changed to 'auto' in 0.22. Specify the multi_class option to silence this warning.\n",
      "  \"this warning.\", FutureWarning)\n",
      "C:\\Users\\72445\\AppData\\Local\\Continuum\\anaconda3\\lib\\site-packages\\sklearn\\linear_model\\sag.py:337: ConvergenceWarning: The max_iter was reached which means the coef_ did not converge\n",
      "  \"the coef_ did not converge\", ConvergenceWarning)\n",
      "C:\\Users\\72445\\AppData\\Local\\Continuum\\anaconda3\\lib\\site-packages\\sklearn\\linear_model\\logistic.py:469: FutureWarning: Default multi_class will be changed to 'auto' in 0.22. Specify the multi_class option to silence this warning.\n",
      "  \"this warning.\", FutureWarning)\n",
      "C:\\Users\\72445\\AppData\\Local\\Continuum\\anaconda3\\lib\\site-packages\\sklearn\\linear_model\\logistic.py:469: FutureWarning: Default multi_class will be changed to 'auto' in 0.22. Specify the multi_class option to silence this warning.\n",
      "  \"this warning.\", FutureWarning)\n",
      "C:\\Users\\72445\\AppData\\Local\\Continuum\\anaconda3\\lib\\site-packages\\sklearn\\linear_model\\logistic.py:469: FutureWarning: Default multi_class will be changed to 'auto' in 0.22. Specify the multi_class option to silence this warning.\n",
      "  \"this warning.\", FutureWarning)\n"
     ]
    },
    {
     "name": "stdout",
     "output_type": "stream",
     "text": [
      "\n",
      "[CV] C=7.59375, fit_intercept=False, intercept_scaling=100, penalty=l1, solver=liblinear \n",
      "[CV]  C=7.59375, fit_intercept=False, intercept_scaling=100, penalty=l1, solver=liblinear, score=(train=0.493, test=0.390), total=   0.0s\n",
      "[CV] C=7.59375, fit_intercept=False, intercept_scaling=100, penalty=l1, solver=liblinear \n",
      "[CV]  C=7.59375, fit_intercept=False, intercept_scaling=100, penalty=l1, solver=liblinear, score=(train=0.472, test=0.308), total=   0.0s\n",
      "[CV] C=7.59375, fit_intercept=False, intercept_scaling=100, penalty=l1, solver=liblinear \n"
     ]
    },
    {
     "name": "stderr",
     "output_type": "stream",
     "text": [
      "C:\\Users\\72445\\AppData\\Local\\Continuum\\anaconda3\\lib\\site-packages\\sklearn\\linear_model\\logistic.py:469: FutureWarning: Default multi_class will be changed to 'auto' in 0.22. Specify the multi_class option to silence this warning.\n",
      "  \"this warning.\", FutureWarning)\n",
      "C:\\Users\\72445\\AppData\\Local\\Continuum\\anaconda3\\lib\\site-packages\\sklearn\\linear_model\\sag.py:337: ConvergenceWarning: The max_iter was reached which means the coef_ did not converge\n",
      "  \"the coef_ did not converge\", ConvergenceWarning)\n"
     ]
    },
    {
     "name": "stdout",
     "output_type": "stream",
     "text": [
      "[CV]  C=7.59375, fit_intercept=False, intercept_scaling=100, penalty=l1, solver=liblinear, score=(train=0.559, test=0.233), total=   0.0s\n",
      "[CV] C=7.59375, fit_intercept=False, intercept_scaling=100, penalty=l1, solver=saga \n",
      "[CV]  C=7.59375, fit_intercept=False, intercept_scaling=100, penalty=l1, solver=saga, score=(train=0.471, test=0.228), total=   0.0s\n",
      "[CV] C=7.59375, fit_intercept=False, intercept_scaling=100, penalty=l1, solver=saga \n",
      "[CV]  C=7.59375, fit_intercept=False, intercept_scaling=100, penalty=l1, solver=saga, score=(train=0.525, test=0.377), total=   0.1s\n",
      "[CV] C=7.59375, fit_intercept=False, intercept_scaling=100, penalty=l1, solver=saga \n"
     ]
    },
    {
     "name": "stderr",
     "output_type": "stream",
     "text": [
      "C:\\Users\\72445\\AppData\\Local\\Continuum\\anaconda3\\lib\\site-packages\\sklearn\\linear_model\\logistic.py:469: FutureWarning: Default multi_class will be changed to 'auto' in 0.22. Specify the multi_class option to silence this warning.\n",
      "  \"this warning.\", FutureWarning)\n",
      "C:\\Users\\72445\\AppData\\Local\\Continuum\\anaconda3\\lib\\site-packages\\sklearn\\linear_model\\sag.py:337: ConvergenceWarning: The max_iter was reached which means the coef_ did not converge\n",
      "  \"the coef_ did not converge\", ConvergenceWarning)\n",
      "C:\\Users\\72445\\AppData\\Local\\Continuum\\anaconda3\\lib\\site-packages\\sklearn\\linear_model\\logistic.py:469: FutureWarning: Default multi_class will be changed to 'auto' in 0.22. Specify the multi_class option to silence this warning.\n",
      "  \"this warning.\", FutureWarning)\n",
      "C:\\Users\\72445\\AppData\\Local\\Continuum\\anaconda3\\lib\\site-packages\\sklearn\\linear_model\\sag.py:337: ConvergenceWarning: The max_iter was reached which means the coef_ did not converge\n",
      "  \"the coef_ did not converge\", ConvergenceWarning)\n",
      "C:\\Users\\72445\\AppData\\Local\\Continuum\\anaconda3\\lib\\site-packages\\sklearn\\linear_model\\logistic.py:469: FutureWarning: Default multi_class will be changed to 'auto' in 0.22. Specify the multi_class option to silence this warning.\n",
      "  \"this warning.\", FutureWarning)\n",
      "C:\\Users\\72445\\AppData\\Local\\Continuum\\anaconda3\\lib\\site-packages\\sklearn\\linear_model\\logistic.py:469: FutureWarning: Default multi_class will be changed to 'auto' in 0.22. Specify the multi_class option to silence this warning.\n",
      "  \"this warning.\", FutureWarning)\n",
      "C:\\Users\\72445\\AppData\\Local\\Continuum\\anaconda3\\lib\\site-packages\\sklearn\\linear_model\\logistic.py:469: FutureWarning: Default multi_class will be changed to 'auto' in 0.22. Specify the multi_class option to silence this warning.\n",
      "  \"this warning.\", FutureWarning)\n"
     ]
    },
    {
     "name": "stdout",
     "output_type": "stream",
     "text": [
      "[CV]  C=7.59375, fit_intercept=False, intercept_scaling=100, penalty=l1, solver=saga, score=(train=0.579, test=0.233), total=   0.1s\n",
      "[CV] C=7.59375, fit_intercept=False, intercept_scaling=100, penalty=l2, solver=liblinear \n",
      "[CV]  C=7.59375, fit_intercept=False, intercept_scaling=100, penalty=l2, solver=liblinear, score=(train=0.471, test=0.256), total=   0.0s\n",
      "[CV] C=7.59375, fit_intercept=False, intercept_scaling=100, penalty=l2, solver=liblinear \n",
      "[CV]  C=7.59375, fit_intercept=False, intercept_scaling=100, penalty=l2, solver=liblinear, score=(train=0.492, test=0.413), total=   0.0s\n",
      "[CV] C=7.59375, fit_intercept=False, intercept_scaling=100, penalty=l2, solver=liblinear \n",
      "[CV]  C=7.59375, fit_intercept=False, intercept_scaling=100, penalty=l2, solver=liblinear, score=(train=0.557, test=0.233), total=   0.0s\n",
      "[CV] C=7.59375, fit_intercept=False, intercept_scaling=100, penalty=l2, solver=saga \n",
      "[CV]  C=7.59375, fit_intercept=False, intercept_scaling=100, penalty=l2, solver=saga, score=(train=0.471, test=0.228), total=   0.1s\n",
      "[CV] C=7.59375, fit_intercept=False, intercept_scaling=100, penalty=l2, solver=saga "
     ]
    },
    {
     "name": "stderr",
     "output_type": "stream",
     "text": [
      "C:\\Users\\72445\\AppData\\Local\\Continuum\\anaconda3\\lib\\site-packages\\sklearn\\linear_model\\logistic.py:469: FutureWarning: Default multi_class will be changed to 'auto' in 0.22. Specify the multi_class option to silence this warning.\n",
      "  \"this warning.\", FutureWarning)\n",
      "C:\\Users\\72445\\AppData\\Local\\Continuum\\anaconda3\\lib\\site-packages\\sklearn\\linear_model\\sag.py:337: ConvergenceWarning: The max_iter was reached which means the coef_ did not converge\n",
      "  \"the coef_ did not converge\", ConvergenceWarning)\n",
      "C:\\Users\\72445\\AppData\\Local\\Continuum\\anaconda3\\lib\\site-packages\\sklearn\\linear_model\\logistic.py:469: FutureWarning: Default multi_class will be changed to 'auto' in 0.22. Specify the multi_class option to silence this warning.\n",
      "  \"this warning.\", FutureWarning)\n",
      "C:\\Users\\72445\\AppData\\Local\\Continuum\\anaconda3\\lib\\site-packages\\sklearn\\linear_model\\sag.py:337: ConvergenceWarning: The max_iter was reached which means the coef_ did not converge\n",
      "  \"the coef_ did not converge\", ConvergenceWarning)\n",
      "C:\\Users\\72445\\AppData\\Local\\Continuum\\anaconda3\\lib\\site-packages\\sklearn\\linear_model\\logistic.py:469: FutureWarning: Default multi_class will be changed to 'auto' in 0.22. Specify the multi_class option to silence this warning.\n",
      "  \"this warning.\", FutureWarning)\n",
      "C:\\Users\\72445\\AppData\\Local\\Continuum\\anaconda3\\lib\\site-packages\\sklearn\\linear_model\\sag.py:337: ConvergenceWarning: The max_iter was reached which means the coef_ did not converge\n",
      "  \"the coef_ did not converge\", ConvergenceWarning)\n"
     ]
    },
    {
     "name": "stdout",
     "output_type": "stream",
     "text": [
      "\n",
      "[CV]  C=7.59375, fit_intercept=False, intercept_scaling=100, penalty=l2, solver=saga, score=(train=0.524, test=0.377), total=   0.0s\n",
      "[CV] C=7.59375, fit_intercept=False, intercept_scaling=100, penalty=l2, solver=saga \n",
      "[CV]  C=7.59375, fit_intercept=False, intercept_scaling=100, penalty=l2, solver=saga, score=(train=0.579, test=0.233), total=   0.0s\n",
      "[CV] C=57.6650390625, fit_intercept=True, intercept_scaling=1, penalty=l1, solver=liblinear \n",
      "[CV]  C=57.6650390625, fit_intercept=True, intercept_scaling=1, penalty=l1, solver=liblinear, score=(train=0.616, test=0.278), total=   0.0s\n",
      "[CV] C=57.6650390625, fit_intercept=True, intercept_scaling=1, penalty=l1, solver=liblinear \n"
     ]
    },
    {
     "name": "stderr",
     "output_type": "stream",
     "text": [
      "C:\\Users\\72445\\AppData\\Local\\Continuum\\anaconda3\\lib\\site-packages\\sklearn\\linear_model\\logistic.py:469: FutureWarning: Default multi_class will be changed to 'auto' in 0.22. Specify the multi_class option to silence this warning.\n",
      "  \"this warning.\", FutureWarning)\n",
      "C:\\Users\\72445\\AppData\\Local\\Continuum\\anaconda3\\lib\\site-packages\\sklearn\\linear_model\\logistic.py:469: FutureWarning: Default multi_class will be changed to 'auto' in 0.22. Specify the multi_class option to silence this warning.\n",
      "  \"this warning.\", FutureWarning)\n",
      "C:\\Users\\72445\\AppData\\Local\\Continuum\\anaconda3\\lib\\site-packages\\sklearn\\metrics\\classification.py:1437: UndefinedMetricWarning: F-score is ill-defined and being set to 0.0 in labels with no predicted samples.\n",
      "  'precision', 'predicted', average, warn_for)\n",
      "C:\\Users\\72445\\AppData\\Local\\Continuum\\anaconda3\\lib\\site-packages\\sklearn\\metrics\\classification.py:1437: UndefinedMetricWarning: F-score is ill-defined and being set to 0.0 in labels with no predicted samples.\n",
      "  'precision', 'predicted', average, warn_for)\n",
      "C:\\Users\\72445\\AppData\\Local\\Continuum\\anaconda3\\lib\\site-packages\\sklearn\\linear_model\\logistic.py:469: FutureWarning: Default multi_class will be changed to 'auto' in 0.22. Specify the multi_class option to silence this warning.\n",
      "  \"this warning.\", FutureWarning)\n"
     ]
    },
    {
     "name": "stdout",
     "output_type": "stream",
     "text": [
      "[CV]  C=57.6650390625, fit_intercept=True, intercept_scaling=1, penalty=l1, solver=liblinear, score=(train=0.462, test=0.285), total=   0.0s\n",
      "[CV] C=57.6650390625, fit_intercept=True, intercept_scaling=1, penalty=l1, solver=liblinear \n",
      "[CV]  C=57.6650390625, fit_intercept=True, intercept_scaling=1, penalty=l1, solver=liblinear, score=(train=0.683, test=0.203), total=   0.1s\n",
      "[CV] C=57.6650390625, fit_intercept=True, intercept_scaling=1, penalty=l1, solver=saga \n",
      "[CV]  C=57.6650390625, fit_intercept=True, intercept_scaling=1, penalty=l1, solver=saga, score=(train=0.510, test=0.327), total=   0.0s\n",
      "[CV] C=57.6650390625, fit_intercept=True, intercept_scaling=1, penalty=l1, solver=saga \n",
      "[CV]  C=57.6650390625, fit_intercept=True, intercept_scaling=1, penalty=l1, solver=saga, score=(train=0.467, test=0.292), total=   0.0s\n",
      "[CV] C=57.6650390625, fit_intercept=True, intercept_scaling=1, penalty=l1, solver=saga \n",
      "[CV]  C=57.6650390625, fit_intercept=True, intercept_scaling=1, penalty=l1, solver=saga, score=(train=0.522, test=0.225), total=   0.0s\n",
      "[CV] C=57.6650390625, fit_intercept=True, intercept_scaling=1, penalty=l2, solver=liblinear \n"
     ]
    },
    {
     "name": "stderr",
     "output_type": "stream",
     "text": [
      "C:\\Users\\72445\\AppData\\Local\\Continuum\\anaconda3\\lib\\site-packages\\sklearn\\linear_model\\logistic.py:469: FutureWarning: Default multi_class will be changed to 'auto' in 0.22. Specify the multi_class option to silence this warning.\n",
      "  \"this warning.\", FutureWarning)\n",
      "C:\\Users\\72445\\AppData\\Local\\Continuum\\anaconda3\\lib\\site-packages\\sklearn\\linear_model\\sag.py:337: ConvergenceWarning: The max_iter was reached which means the coef_ did not converge\n",
      "  \"the coef_ did not converge\", ConvergenceWarning)\n",
      "C:\\Users\\72445\\AppData\\Local\\Continuum\\anaconda3\\lib\\site-packages\\sklearn\\linear_model\\logistic.py:469: FutureWarning: Default multi_class will be changed to 'auto' in 0.22. Specify the multi_class option to silence this warning.\n",
      "  \"this warning.\", FutureWarning)\n",
      "C:\\Users\\72445\\AppData\\Local\\Continuum\\anaconda3\\lib\\site-packages\\sklearn\\linear_model\\sag.py:337: ConvergenceWarning: The max_iter was reached which means the coef_ did not converge\n",
      "  \"the coef_ did not converge\", ConvergenceWarning)\n",
      "C:\\Users\\72445\\AppData\\Local\\Continuum\\anaconda3\\lib\\site-packages\\sklearn\\linear_model\\logistic.py:469: FutureWarning: Default multi_class will be changed to 'auto' in 0.22. Specify the multi_class option to silence this warning.\n",
      "  \"this warning.\", FutureWarning)\n",
      "C:\\Users\\72445\\AppData\\Local\\Continuum\\anaconda3\\lib\\site-packages\\sklearn\\linear_model\\sag.py:337: ConvergenceWarning: The max_iter was reached which means the coef_ did not converge\n",
      "  \"the coef_ did not converge\", ConvergenceWarning)\n",
      "C:\\Users\\72445\\AppData\\Local\\Continuum\\anaconda3\\lib\\site-packages\\sklearn\\linear_model\\logistic.py:469: FutureWarning: Default multi_class will be changed to 'auto' in 0.22. Specify the multi_class option to silence this warning.\n",
      "  \"this warning.\", FutureWarning)\n",
      "C:\\Users\\72445\\AppData\\Local\\Continuum\\anaconda3\\lib\\site-packages\\sklearn\\linear_model\\logistic.py:469: FutureWarning: Default multi_class will be changed to 'auto' in 0.22. Specify the multi_class option to silence this warning.\n",
      "  \"this warning.\", FutureWarning)\n",
      "C:\\Users\\72445\\AppData\\Local\\Continuum\\anaconda3\\lib\\site-packages\\sklearn\\metrics\\classification.py:1437: UndefinedMetricWarning: F-score is ill-defined and being set to 0.0 in labels with no predicted samples.\n",
      "  'precision', 'predicted', average, warn_for)\n",
      "C:\\Users\\72445\\AppData\\Local\\Continuum\\anaconda3\\lib\\site-packages\\sklearn\\metrics\\classification.py:1437: UndefinedMetricWarning: F-score is ill-defined and being set to 0.0 in labels with no predicted samples.\n",
      "  'precision', 'predicted', average, warn_for)\n",
      "C:\\Users\\72445\\AppData\\Local\\Continuum\\anaconda3\\lib\\site-packages\\sklearn\\linear_model\\logistic.py:469: FutureWarning: Default multi_class will be changed to 'auto' in 0.22. Specify the multi_class option to silence this warning.\n",
      "  \"this warning.\", FutureWarning)\n",
      "C:\\Users\\72445\\AppData\\Local\\Continuum\\anaconda3\\lib\\site-packages\\sklearn\\linear_model\\logistic.py:469: FutureWarning: Default multi_class will be changed to 'auto' in 0.22. Specify the multi_class option to silence this warning.\n",
      "  \"this warning.\", FutureWarning)\n",
      "C:\\Users\\72445\\AppData\\Local\\Continuum\\anaconda3\\lib\\site-packages\\sklearn\\linear_model\\sag.py:337: ConvergenceWarning: The max_iter was reached which means the coef_ did not converge\n",
      "  \"the coef_ did not converge\", ConvergenceWarning)\n"
     ]
    },
    {
     "name": "stdout",
     "output_type": "stream",
     "text": [
      "[CV]  C=57.6650390625, fit_intercept=True, intercept_scaling=1, penalty=l2, solver=liblinear, score=(train=0.598, test=0.278), total=   0.0s\n",
      "[CV] C=57.6650390625, fit_intercept=True, intercept_scaling=1, penalty=l2, solver=liblinear \n",
      "[CV]  C=57.6650390625, fit_intercept=True, intercept_scaling=1, penalty=l2, solver=liblinear, score=(train=0.477, test=0.256), total=   0.0s\n",
      "[CV] C=57.6650390625, fit_intercept=True, intercept_scaling=1, penalty=l2, solver=liblinear \n",
      "[CV]  C=57.6650390625, fit_intercept=True, intercept_scaling=1, penalty=l2, solver=liblinear, score=(train=0.555, test=0.225), total=   0.0s\n",
      "[CV] C=57.6650390625, fit_intercept=True, intercept_scaling=1, penalty=l2, solver=saga \n",
      "[CV]  C=57.6650390625, fit_intercept=True, intercept_scaling=1, penalty=l2, solver=saga, score=(train=0.510, test=0.327), total=   0.1s\n",
      "[CV] C=57.6650390625, fit_intercept=True, intercept_scaling=1, penalty=l2, solver=saga \n",
      "[CV]  C=57.6650390625, fit_intercept=True, intercept_scaling=1, penalty=l2, solver=saga, score=(train=0.467, test=0.292), total=   0.0s"
     ]
    },
    {
     "name": "stderr",
     "output_type": "stream",
     "text": [
      "C:\\Users\\72445\\AppData\\Local\\Continuum\\anaconda3\\lib\\site-packages\\sklearn\\linear_model\\logistic.py:469: FutureWarning: Default multi_class will be changed to 'auto' in 0.22. Specify the multi_class option to silence this warning.\n",
      "  \"this warning.\", FutureWarning)\n",
      "C:\\Users\\72445\\AppData\\Local\\Continuum\\anaconda3\\lib\\site-packages\\sklearn\\linear_model\\sag.py:337: ConvergenceWarning: The max_iter was reached which means the coef_ did not converge\n",
      "  \"the coef_ did not converge\", ConvergenceWarning)\n",
      "C:\\Users\\72445\\AppData\\Local\\Continuum\\anaconda3\\lib\\site-packages\\sklearn\\linear_model\\logistic.py:469: FutureWarning: Default multi_class will be changed to 'auto' in 0.22. Specify the multi_class option to silence this warning.\n",
      "  \"this warning.\", FutureWarning)\n",
      "C:\\Users\\72445\\AppData\\Local\\Continuum\\anaconda3\\lib\\site-packages\\sklearn\\linear_model\\sag.py:337: ConvergenceWarning: The max_iter was reached which means the coef_ did not converge\n",
      "  \"the coef_ did not converge\", ConvergenceWarning)\n",
      "C:\\Users\\72445\\AppData\\Local\\Continuum\\anaconda3\\lib\\site-packages\\sklearn\\linear_model\\logistic.py:469: FutureWarning: Default multi_class will be changed to 'auto' in 0.22. Specify the multi_class option to silence this warning.\n",
      "  \"this warning.\", FutureWarning)\n",
      "C:\\Users\\72445\\AppData\\Local\\Continuum\\anaconda3\\lib\\site-packages\\sklearn\\linear_model\\logistic.py:469: FutureWarning: Default multi_class will be changed to 'auto' in 0.22. Specify the multi_class option to silence this warning.\n",
      "  \"this warning.\", FutureWarning)\n",
      "C:\\Users\\72445\\AppData\\Local\\Continuum\\anaconda3\\lib\\site-packages\\sklearn\\metrics\\classification.py:1437: UndefinedMetricWarning: F-score is ill-defined and being set to 0.0 in labels with no predicted samples.\n",
      "  'precision', 'predicted', average, warn_for)\n"
     ]
    },
    {
     "name": "stdout",
     "output_type": "stream",
     "text": [
      "\n",
      "[CV] C=57.6650390625, fit_intercept=True, intercept_scaling=1, penalty=l2, solver=saga \n",
      "[CV]  C=57.6650390625, fit_intercept=True, intercept_scaling=1, penalty=l2, solver=saga, score=(train=0.522, test=0.225), total=   0.0s\n",
      "[CV] C=57.6650390625, fit_intercept=True, intercept_scaling=10, penalty=l1, solver=liblinear \n",
      "[CV]  C=57.6650390625, fit_intercept=True, intercept_scaling=10, penalty=l1, solver=liblinear, score=(train=0.632, test=0.278), total=   0.0s\n",
      "[CV] C=57.6650390625, fit_intercept=True, intercept_scaling=10, penalty=l1, solver=liblinear \n",
      "[CV]  C=57.6650390625, fit_intercept=True, intercept_scaling=10, penalty=l1, solver=liblinear, score=(train=0.462, test=0.285), total=   0.1s\n",
      "[CV] C=57.6650390625, fit_intercept=True, intercept_scaling=10, penalty=l1, solver=liblinear \n"
     ]
    },
    {
     "name": "stderr",
     "output_type": "stream",
     "text": [
      "C:\\Users\\72445\\AppData\\Local\\Continuum\\anaconda3\\lib\\site-packages\\sklearn\\metrics\\classification.py:1437: UndefinedMetricWarning: F-score is ill-defined and being set to 0.0 in labels with no predicted samples.\n",
      "  'precision', 'predicted', average, warn_for)\n",
      "C:\\Users\\72445\\AppData\\Local\\Continuum\\anaconda3\\lib\\site-packages\\sklearn\\linear_model\\logistic.py:469: FutureWarning: Default multi_class will be changed to 'auto' in 0.22. Specify the multi_class option to silence this warning.\n",
      "  \"this warning.\", FutureWarning)\n",
      "C:\\Users\\72445\\AppData\\Local\\Continuum\\anaconda3\\lib\\site-packages\\sklearn\\linear_model\\logistic.py:469: FutureWarning: Default multi_class will be changed to 'auto' in 0.22. Specify the multi_class option to silence this warning.\n",
      "  \"this warning.\", FutureWarning)\n",
      "C:\\Users\\72445\\AppData\\Local\\Continuum\\anaconda3\\lib\\site-packages\\sklearn\\linear_model\\sag.py:337: ConvergenceWarning: The max_iter was reached which means the coef_ did not converge\n",
      "  \"the coef_ did not converge\", ConvergenceWarning)\n",
      "C:\\Users\\72445\\AppData\\Local\\Continuum\\anaconda3\\lib\\site-packages\\sklearn\\linear_model\\logistic.py:469: FutureWarning: Default multi_class will be changed to 'auto' in 0.22. Specify the multi_class option to silence this warning.\n",
      "  \"this warning.\", FutureWarning)\n",
      "C:\\Users\\72445\\AppData\\Local\\Continuum\\anaconda3\\lib\\site-packages\\sklearn\\linear_model\\sag.py:337: ConvergenceWarning: The max_iter was reached which means the coef_ did not converge\n",
      "  \"the coef_ did not converge\", ConvergenceWarning)\n",
      "C:\\Users\\72445\\AppData\\Local\\Continuum\\anaconda3\\lib\\site-packages\\sklearn\\linear_model\\logistic.py:469: FutureWarning: Default multi_class will be changed to 'auto' in 0.22. Specify the multi_class option to silence this warning.\n",
      "  \"this warning.\", FutureWarning)\n",
      "C:\\Users\\72445\\AppData\\Local\\Continuum\\anaconda3\\lib\\site-packages\\sklearn\\linear_model\\sag.py:337: ConvergenceWarning: The max_iter was reached which means the coef_ did not converge\n",
      "  \"the coef_ did not converge\", ConvergenceWarning)\n"
     ]
    },
    {
     "name": "stdout",
     "output_type": "stream",
     "text": [
      "[CV]  C=57.6650390625, fit_intercept=True, intercept_scaling=10, penalty=l1, solver=liblinear, score=(train=0.683, test=0.203), total=   0.1s\n",
      "[CV] C=57.6650390625, fit_intercept=True, intercept_scaling=10, penalty=l1, solver=saga \n",
      "[CV]  C=57.6650390625, fit_intercept=True, intercept_scaling=10, penalty=l1, solver=saga, score=(train=0.510, test=0.327), total=   0.0s\n",
      "[CV] C=57.6650390625, fit_intercept=True, intercept_scaling=10, penalty=l1, solver=saga \n",
      "[CV]  C=57.6650390625, fit_intercept=True, intercept_scaling=10, penalty=l1, solver=saga, score=(train=0.467, test=0.292), total=   0.0s\n",
      "[CV] C=57.6650390625, fit_intercept=True, intercept_scaling=10, penalty=l1, solver=saga \n",
      "[CV]  C=57.6650390625, fit_intercept=True, intercept_scaling=10, penalty=l1, solver=saga, score=(train=0.522, test=0.225), total=   0.0s\n",
      "[CV] C=57.6650390625, fit_intercept=True, intercept_scaling=10, penalty=l2, solver=liblinear \n",
      "[CV]  C=57.6650390625, fit_intercept=True, intercept_scaling=10, penalty=l2, solver=liblinear, score=(train=0.598, test=0.278), total=   0.0s\n",
      "[CV] C=57.6650390625, fit_intercept=True, intercept_scaling=10, penalty=l2, solver=liblinear \n"
     ]
    },
    {
     "name": "stderr",
     "output_type": "stream",
     "text": [
      "C:\\Users\\72445\\AppData\\Local\\Continuum\\anaconda3\\lib\\site-packages\\sklearn\\linear_model\\logistic.py:469: FutureWarning: Default multi_class will be changed to 'auto' in 0.22. Specify the multi_class option to silence this warning.\n",
      "  \"this warning.\", FutureWarning)\n",
      "C:\\Users\\72445\\AppData\\Local\\Continuum\\anaconda3\\lib\\site-packages\\sklearn\\linear_model\\logistic.py:469: FutureWarning: Default multi_class will be changed to 'auto' in 0.22. Specify the multi_class option to silence this warning.\n",
      "  \"this warning.\", FutureWarning)\n",
      "C:\\Users\\72445\\AppData\\Local\\Continuum\\anaconda3\\lib\\site-packages\\sklearn\\metrics\\classification.py:1437: UndefinedMetricWarning: F-score is ill-defined and being set to 0.0 in labels with no predicted samples.\n",
      "  'precision', 'predicted', average, warn_for)\n",
      "C:\\Users\\72445\\AppData\\Local\\Continuum\\anaconda3\\lib\\site-packages\\sklearn\\metrics\\classification.py:1437: UndefinedMetricWarning: F-score is ill-defined and being set to 0.0 in labels with no predicted samples.\n",
      "  'precision', 'predicted', average, warn_for)\n",
      "C:\\Users\\72445\\AppData\\Local\\Continuum\\anaconda3\\lib\\site-packages\\sklearn\\linear_model\\logistic.py:469: FutureWarning: Default multi_class will be changed to 'auto' in 0.22. Specify the multi_class option to silence this warning.\n",
      "  \"this warning.\", FutureWarning)\n",
      "C:\\Users\\72445\\AppData\\Local\\Continuum\\anaconda3\\lib\\site-packages\\sklearn\\linear_model\\logistic.py:469: FutureWarning: Default multi_class will be changed to 'auto' in 0.22. Specify the multi_class option to silence this warning.\n",
      "  \"this warning.\", FutureWarning)\n",
      "C:\\Users\\72445\\AppData\\Local\\Continuum\\anaconda3\\lib\\site-packages\\sklearn\\linear_model\\sag.py:337: ConvergenceWarning: The max_iter was reached which means the coef_ did not converge\n",
      "  \"the coef_ did not converge\", ConvergenceWarning)\n",
      "C:\\Users\\72445\\AppData\\Local\\Continuum\\anaconda3\\lib\\site-packages\\sklearn\\linear_model\\logistic.py:469: FutureWarning: Default multi_class will be changed to 'auto' in 0.22. Specify the multi_class option to silence this warning.\n",
      "  \"this warning.\", FutureWarning)\n",
      "C:\\Users\\72445\\AppData\\Local\\Continuum\\anaconda3\\lib\\site-packages\\sklearn\\linear_model\\sag.py:337: ConvergenceWarning: The max_iter was reached which means the coef_ did not converge\n",
      "  \"the coef_ did not converge\", ConvergenceWarning)\n",
      "C:\\Users\\72445\\AppData\\Local\\Continuum\\anaconda3\\lib\\site-packages\\sklearn\\linear_model\\logistic.py:469: FutureWarning: Default multi_class will be changed to 'auto' in 0.22. Specify the multi_class option to silence this warning.\n",
      "  \"this warning.\", FutureWarning)\n"
     ]
    },
    {
     "name": "stdout",
     "output_type": "stream",
     "text": [
      "[CV]  C=57.6650390625, fit_intercept=True, intercept_scaling=10, penalty=l2, solver=liblinear, score=(train=0.477, test=0.256), total=   0.0s\n",
      "[CV] C=57.6650390625, fit_intercept=True, intercept_scaling=10, penalty=l2, solver=liblinear \n",
      "[CV]  C=57.6650390625, fit_intercept=True, intercept_scaling=10, penalty=l2, solver=liblinear, score=(train=0.555, test=0.225), total=   0.0s\n",
      "[CV] C=57.6650390625, fit_intercept=True, intercept_scaling=10, penalty=l2, solver=saga \n",
      "[CV]  C=57.6650390625, fit_intercept=True, intercept_scaling=10, penalty=l2, solver=saga, score=(train=0.510, test=0.327), total=   0.0s\n",
      "[CV] C=57.6650390625, fit_intercept=True, intercept_scaling=10, penalty=l2, solver=saga \n",
      "[CV]  C=57.6650390625, fit_intercept=True, intercept_scaling=10, penalty=l2, solver=saga, score=(train=0.467, test=0.292), total=   0.0s\n",
      "[CV] C=57.6650390625, fit_intercept=True, intercept_scaling=10, penalty=l2, solver=saga \n",
      "[CV]  C=57.6650390625, fit_intercept=True, intercept_scaling=10, penalty=l2, solver=saga, score=(train=0.522, test=0.225), total=   0.0s\n",
      "[CV] C=57.6650390625, fit_intercept=True, intercept_scaling=50, penalty=l1, solver=liblinear \n",
      "[CV]  C=57.6650390625, fit_intercept=True, intercept_scaling=50, penalty=l1, solver=liblinear, score=(train=0.616, test=0.278), total=   0.0s\n",
      "[CV] C=57.6650390625, fit_intercept=True, intercept_scaling=50, penalty=l1, solver=liblinear \n",
      "[CV]  C=57.6650390625, fit_intercept=True, intercept_scaling=50, penalty=l1, solver=liblinear, score=(train=0.462, test=0.285), total=   0.0s\n",
      "[CV] C=57.6650390625, fit_intercept=True, intercept_scaling=50, penalty=l1, solver=liblinear \n"
     ]
    },
    {
     "name": "stderr",
     "output_type": "stream",
     "text": [
      "C:\\Users\\72445\\AppData\\Local\\Continuum\\anaconda3\\lib\\site-packages\\sklearn\\linear_model\\sag.py:337: ConvergenceWarning: The max_iter was reached which means the coef_ did not converge\n",
      "  \"the coef_ did not converge\", ConvergenceWarning)\n",
      "C:\\Users\\72445\\AppData\\Local\\Continuum\\anaconda3\\lib\\site-packages\\sklearn\\linear_model\\logistic.py:469: FutureWarning: Default multi_class will be changed to 'auto' in 0.22. Specify the multi_class option to silence this warning.\n",
      "  \"this warning.\", FutureWarning)\n",
      "C:\\Users\\72445\\AppData\\Local\\Continuum\\anaconda3\\lib\\site-packages\\sklearn\\linear_model\\logistic.py:469: FutureWarning: Default multi_class will be changed to 'auto' in 0.22. Specify the multi_class option to silence this warning.\n",
      "  \"this warning.\", FutureWarning)\n",
      "C:\\Users\\72445\\AppData\\Local\\Continuum\\anaconda3\\lib\\site-packages\\sklearn\\metrics\\classification.py:1437: UndefinedMetricWarning: F-score is ill-defined and being set to 0.0 in labels with no predicted samples.\n",
      "  'precision', 'predicted', average, warn_for)\n",
      "C:\\Users\\72445\\AppData\\Local\\Continuum\\anaconda3\\lib\\site-packages\\sklearn\\metrics\\classification.py:1437: UndefinedMetricWarning: F-score is ill-defined and being set to 0.0 in labels with no predicted samples.\n",
      "  'precision', 'predicted', average, warn_for)\n",
      "C:\\Users\\72445\\AppData\\Local\\Continuum\\anaconda3\\lib\\site-packages\\sklearn\\linear_model\\logistic.py:469: FutureWarning: Default multi_class will be changed to 'auto' in 0.22. Specify the multi_class option to silence this warning.\n",
      "  \"this warning.\", FutureWarning)\n",
      "C:\\Users\\72445\\AppData\\Local\\Continuum\\anaconda3\\lib\\site-packages\\sklearn\\svm\\base.py:929: ConvergenceWarning: Liblinear failed to converge, increase the number of iterations.\n",
      "  \"the number of iterations.\", ConvergenceWarning)\n",
      "C:\\Users\\72445\\AppData\\Local\\Continuum\\anaconda3\\lib\\site-packages\\sklearn\\linear_model\\logistic.py:469: FutureWarning: Default multi_class will be changed to 'auto' in 0.22. Specify the multi_class option to silence this warning.\n",
      "  \"this warning.\", FutureWarning)\n",
      "C:\\Users\\72445\\AppData\\Local\\Continuum\\anaconda3\\lib\\site-packages\\sklearn\\linear_model\\sag.py:337: ConvergenceWarning: The max_iter was reached which means the coef_ did not converge\n",
      "  \"the coef_ did not converge\", ConvergenceWarning)\n",
      "C:\\Users\\72445\\AppData\\Local\\Continuum\\anaconda3\\lib\\site-packages\\sklearn\\linear_model\\logistic.py:469: FutureWarning: Default multi_class will be changed to 'auto' in 0.22. Specify the multi_class option to silence this warning.\n",
      "  \"this warning.\", FutureWarning)\n",
      "C:\\Users\\72445\\AppData\\Local\\Continuum\\anaconda3\\lib\\site-packages\\sklearn\\linear_model\\sag.py:337: ConvergenceWarning: The max_iter was reached which means the coef_ did not converge\n",
      "  \"the coef_ did not converge\", ConvergenceWarning)\n",
      "C:\\Users\\72445\\AppData\\Local\\Continuum\\anaconda3\\lib\\site-packages\\sklearn\\linear_model\\logistic.py:469: FutureWarning: Default multi_class will be changed to 'auto' in 0.22. Specify the multi_class option to silence this warning.\n",
      "  \"this warning.\", FutureWarning)\n",
      "C:\\Users\\72445\\AppData\\Local\\Continuum\\anaconda3\\lib\\site-packages\\sklearn\\linear_model\\sag.py:337: ConvergenceWarning: The max_iter was reached which means the coef_ did not converge\n",
      "  \"the coef_ did not converge\", ConvergenceWarning)\n",
      "C:\\Users\\72445\\AppData\\Local\\Continuum\\anaconda3\\lib\\site-packages\\sklearn\\linear_model\\logistic.py:469: FutureWarning: Default multi_class will be changed to 'auto' in 0.22. Specify the multi_class option to silence this warning.\n",
      "  \"this warning.\", FutureWarning)\n",
      "C:\\Users\\72445\\AppData\\Local\\Continuum\\anaconda3\\lib\\site-packages\\sklearn\\linear_model\\logistic.py:469: FutureWarning: Default multi_class will be changed to 'auto' in 0.22. Specify the multi_class option to silence this warning.\n",
      "  \"this warning.\", FutureWarning)\n",
      "C:\\Users\\72445\\AppData\\Local\\Continuum\\anaconda3\\lib\\site-packages\\sklearn\\metrics\\classification.py:1437: UndefinedMetricWarning: F-score is ill-defined and being set to 0.0 in labels with no predicted samples.\n",
      "  'precision', 'predicted', average, warn_for)\n",
      "C:\\Users\\72445\\AppData\\Local\\Continuum\\anaconda3\\lib\\site-packages\\sklearn\\metrics\\classification.py:1437: UndefinedMetricWarning: F-score is ill-defined and being set to 0.0 in labels with no predicted samples.\n",
      "  'precision', 'predicted', average, warn_for)\n",
      "C:\\Users\\72445\\AppData\\Local\\Continuum\\anaconda3\\lib\\site-packages\\sklearn\\linear_model\\logistic.py:469: FutureWarning: Default multi_class will be changed to 'auto' in 0.22. Specify the multi_class option to silence this warning.\n",
      "  \"this warning.\", FutureWarning)\n",
      "C:\\Users\\72445\\AppData\\Local\\Continuum\\anaconda3\\lib\\site-packages\\sklearn\\linear_model\\logistic.py:469: FutureWarning: Default multi_class will be changed to 'auto' in 0.22. Specify the multi_class option to silence this warning.\n",
      "  \"this warning.\", FutureWarning)\n"
     ]
    },
    {
     "name": "stdout",
     "output_type": "stream",
     "text": [
      "[CV]  C=57.6650390625, fit_intercept=True, intercept_scaling=50, penalty=l1, solver=liblinear, score=(train=0.683, test=0.203), total=   0.1s\n",
      "[CV] C=57.6650390625, fit_intercept=True, intercept_scaling=50, penalty=l1, solver=saga \n",
      "[CV]  C=57.6650390625, fit_intercept=True, intercept_scaling=50, penalty=l1, solver=saga, score=(train=0.510, test=0.327), total=   0.0s\n",
      "[CV] C=57.6650390625, fit_intercept=True, intercept_scaling=50, penalty=l1, solver=saga \n",
      "[CV]  C=57.6650390625, fit_intercept=True, intercept_scaling=50, penalty=l1, solver=saga, score=(train=0.467, test=0.292), total=   0.0s\n",
      "[CV] C=57.6650390625, fit_intercept=True, intercept_scaling=50, penalty=l1, solver=saga \n",
      "[CV]  C=57.6650390625, fit_intercept=True, intercept_scaling=50, penalty=l1, solver=saga, score=(train=0.522, test=0.225), total=   0.0s\n",
      "[CV] C=57.6650390625, fit_intercept=True, intercept_scaling=50, penalty=l2, solver=liblinear \n",
      "[CV]  C=57.6650390625, fit_intercept=True, intercept_scaling=50, penalty=l2, solver=liblinear, score=(train=0.598, test=0.278), total=   0.0s\n",
      "[CV] C=57.6650390625, fit_intercept=True, intercept_scaling=50, penalty=l2, solver=liblinear \n",
      "[CV]  C=57.6650390625, fit_intercept=True, intercept_scaling=50, penalty=l2, solver=liblinear, score=(train=0.477, test=0.256), total=   0.0s\n",
      "[CV] C=57.6650390625, fit_intercept=True, intercept_scaling=50, penalty=l2, solver=liblinear \n",
      "[CV]  C=57.6650390625, fit_intercept=True, intercept_scaling=50, penalty=l2, solver=liblinear, score=(train=0.555, test=0.225), total=   0.0s\n",
      "[CV] C=57.6650390625, fit_intercept=True, intercept_scaling=50, penalty=l2, solver=saga \n"
     ]
    },
    {
     "name": "stderr",
     "output_type": "stream",
     "text": [
      "C:\\Users\\72445\\AppData\\Local\\Continuum\\anaconda3\\lib\\site-packages\\sklearn\\linear_model\\sag.py:337: ConvergenceWarning: The max_iter was reached which means the coef_ did not converge\n",
      "  \"the coef_ did not converge\", ConvergenceWarning)\n",
      "C:\\Users\\72445\\AppData\\Local\\Continuum\\anaconda3\\lib\\site-packages\\sklearn\\linear_model\\logistic.py:469: FutureWarning: Default multi_class will be changed to 'auto' in 0.22. Specify the multi_class option to silence this warning.\n",
      "  \"this warning.\", FutureWarning)\n",
      "C:\\Users\\72445\\AppData\\Local\\Continuum\\anaconda3\\lib\\site-packages\\sklearn\\linear_model\\sag.py:337: ConvergenceWarning: The max_iter was reached which means the coef_ did not converge\n",
      "  \"the coef_ did not converge\", ConvergenceWarning)\n",
      "C:\\Users\\72445\\AppData\\Local\\Continuum\\anaconda3\\lib\\site-packages\\sklearn\\linear_model\\logistic.py:469: FutureWarning: Default multi_class will be changed to 'auto' in 0.22. Specify the multi_class option to silence this warning.\n",
      "  \"this warning.\", FutureWarning)\n",
      "C:\\Users\\72445\\AppData\\Local\\Continuum\\anaconda3\\lib\\site-packages\\sklearn\\linear_model\\sag.py:337: ConvergenceWarning: The max_iter was reached which means the coef_ did not converge\n",
      "  \"the coef_ did not converge\", ConvergenceWarning)\n",
      "C:\\Users\\72445\\AppData\\Local\\Continuum\\anaconda3\\lib\\site-packages\\sklearn\\linear_model\\logistic.py:469: FutureWarning: Default multi_class will be changed to 'auto' in 0.22. Specify the multi_class option to silence this warning.\n",
      "  \"this warning.\", FutureWarning)\n",
      "C:\\Users\\72445\\AppData\\Local\\Continuum\\anaconda3\\lib\\site-packages\\sklearn\\linear_model\\logistic.py:469: FutureWarning: Default multi_class will be changed to 'auto' in 0.22. Specify the multi_class option to silence this warning.\n",
      "  \"this warning.\", FutureWarning)\n"
     ]
    },
    {
     "name": "stdout",
     "output_type": "stream",
     "text": [
      "[CV]  C=57.6650390625, fit_intercept=True, intercept_scaling=50, penalty=l2, solver=saga, score=(train=0.510, test=0.327), total=   0.0s\n",
      "[CV] C=57.6650390625, fit_intercept=True, intercept_scaling=50, penalty=l2, solver=saga \n",
      "[CV]  C=57.6650390625, fit_intercept=True, intercept_scaling=50, penalty=l2, solver=saga, score=(train=0.467, test=0.292), total=   0.0s\n",
      "[CV] C=57.6650390625, fit_intercept=True, intercept_scaling=50, penalty=l2, solver=saga \n",
      "[CV]  C=57.6650390625, fit_intercept=True, intercept_scaling=50, penalty=l2, solver=saga, score=(train=0.522, test=0.225), total=   0.0s\n",
      "[CV] C=57.6650390625, fit_intercept=True, intercept_scaling=100, penalty=l1, solver=liblinear \n",
      "[CV]  C=57.6650390625, fit_intercept=True, intercept_scaling=100, penalty=l1, solver=liblinear, score=(train=0.632, test=0.278), total=   0.0s\n",
      "[CV] C=57.6650390625, fit_intercept=True, intercept_scaling=100, penalty=l1, solver=liblinear \n",
      "[CV]  C=57.6650390625, fit_intercept=True, intercept_scaling=100, penalty=l1, solver=liblinear, score=(train=0.462, test=0.285), total=   0.0s\n",
      "[CV] C=57.6650390625, fit_intercept=True, intercept_scaling=100, penalty=l1, solver=liblinear \n"
     ]
    },
    {
     "name": "stderr",
     "output_type": "stream",
     "text": [
      "C:\\Users\\72445\\AppData\\Local\\Continuum\\anaconda3\\lib\\site-packages\\sklearn\\metrics\\classification.py:1437: UndefinedMetricWarning: F-score is ill-defined and being set to 0.0 in labels with no predicted samples.\n",
      "  'precision', 'predicted', average, warn_for)\n",
      "C:\\Users\\72445\\AppData\\Local\\Continuum\\anaconda3\\lib\\site-packages\\sklearn\\metrics\\classification.py:1437: UndefinedMetricWarning: F-score is ill-defined and being set to 0.0 in labels with no predicted samples.\n",
      "  'precision', 'predicted', average, warn_for)\n",
      "C:\\Users\\72445\\AppData\\Local\\Continuum\\anaconda3\\lib\\site-packages\\sklearn\\linear_model\\logistic.py:469: FutureWarning: Default multi_class will be changed to 'auto' in 0.22. Specify the multi_class option to silence this warning.\n",
      "  \"this warning.\", FutureWarning)\n",
      "C:\\Users\\72445\\AppData\\Local\\Continuum\\anaconda3\\lib\\site-packages\\sklearn\\svm\\base.py:929: ConvergenceWarning: Liblinear failed to converge, increase the number of iterations.\n",
      "  \"the number of iterations.\", ConvergenceWarning)\n",
      "C:\\Users\\72445\\AppData\\Local\\Continuum\\anaconda3\\lib\\site-packages\\sklearn\\linear_model\\logistic.py:469: FutureWarning: Default multi_class will be changed to 'auto' in 0.22. Specify the multi_class option to silence this warning.\n",
      "  \"this warning.\", FutureWarning)\n",
      "C:\\Users\\72445\\AppData\\Local\\Continuum\\anaconda3\\lib\\site-packages\\sklearn\\linear_model\\sag.py:337: ConvergenceWarning: The max_iter was reached which means the coef_ did not converge\n",
      "  \"the coef_ did not converge\", ConvergenceWarning)\n",
      "C:\\Users\\72445\\AppData\\Local\\Continuum\\anaconda3\\lib\\site-packages\\sklearn\\linear_model\\logistic.py:469: FutureWarning: Default multi_class will be changed to 'auto' in 0.22. Specify the multi_class option to silence this warning.\n",
      "  \"this warning.\", FutureWarning)\n",
      "C:\\Users\\72445\\AppData\\Local\\Continuum\\anaconda3\\lib\\site-packages\\sklearn\\linear_model\\sag.py:337: ConvergenceWarning: The max_iter was reached which means the coef_ did not converge\n",
      "  \"the coef_ did not converge\", ConvergenceWarning)\n",
      "C:\\Users\\72445\\AppData\\Local\\Continuum\\anaconda3\\lib\\site-packages\\sklearn\\linear_model\\logistic.py:469: FutureWarning: Default multi_class will be changed to 'auto' in 0.22. Specify the multi_class option to silence this warning.\n",
      "  \"this warning.\", FutureWarning)\n",
      "C:\\Users\\72445\\AppData\\Local\\Continuum\\anaconda3\\lib\\site-packages\\sklearn\\linear_model\\sag.py:337: ConvergenceWarning: The max_iter was reached which means the coef_ did not converge\n",
      "  \"the coef_ did not converge\", ConvergenceWarning)\n"
     ]
    },
    {
     "name": "stdout",
     "output_type": "stream",
     "text": [
      "[CV]  C=57.6650390625, fit_intercept=True, intercept_scaling=100, penalty=l1, solver=liblinear, score=(train=0.683, test=0.203), total=   0.0s\n",
      "[CV] C=57.6650390625, fit_intercept=True, intercept_scaling=100, penalty=l1, solver=saga \n",
      "[CV]  C=57.6650390625, fit_intercept=True, intercept_scaling=100, penalty=l1, solver=saga, score=(train=0.510, test=0.327), total=   0.0s\n",
      "[CV] C=57.6650390625, fit_intercept=True, intercept_scaling=100, penalty=l1, solver=saga \n",
      "[CV]  C=57.6650390625, fit_intercept=True, intercept_scaling=100, penalty=l1, solver=saga, score=(train=0.467, test=0.292), total=   0.0s\n",
      "[CV] C=57.6650390625, fit_intercept=True, intercept_scaling=100, penalty=l1, solver=saga \n",
      "[CV]  C=57.6650390625, fit_intercept=True, intercept_scaling=100, penalty=l1, solver=saga, score=(train=0.522, test=0.225), total=   0.0s\n",
      "[CV] C=57.6650390625, fit_intercept=True, intercept_scaling=100, penalty=l2, solver=liblinear \n",
      "[CV]  C=57.6650390625, fit_intercept=True, intercept_scaling=100, penalty=l2, solver=liblinear, score=(train=0.598, test=0.278), total=   0.0s\n",
      "[CV] C=57.6650390625, fit_intercept=True, intercept_scaling=100, penalty=l2, solver=liblinear \n",
      "[CV]  C=57.6650390625, fit_intercept=True, intercept_scaling=100, penalty=l2, solver=liblinear, score=(train=0.477, test=0.256), total=   0.0s\n",
      "[CV] C=57.6650390625, fit_intercept=True, intercept_scaling=100, penalty=l2, solver=liblinear \n",
      "[CV]  C=57.6650390625, fit_intercept=True, intercept_scaling=100, penalty=l2, solver=liblinear, score=(train=0.555, test=0.225), total=   0.0s"
     ]
    },
    {
     "name": "stderr",
     "output_type": "stream",
     "text": [
      "C:\\Users\\72445\\AppData\\Local\\Continuum\\anaconda3\\lib\\site-packages\\sklearn\\linear_model\\logistic.py:469: FutureWarning: Default multi_class will be changed to 'auto' in 0.22. Specify the multi_class option to silence this warning.\n",
      "  \"this warning.\", FutureWarning)\n",
      "C:\\Users\\72445\\AppData\\Local\\Continuum\\anaconda3\\lib\\site-packages\\sklearn\\linear_model\\logistic.py:469: FutureWarning: Default multi_class will be changed to 'auto' in 0.22. Specify the multi_class option to silence this warning.\n",
      "  \"this warning.\", FutureWarning)\n",
      "C:\\Users\\72445\\AppData\\Local\\Continuum\\anaconda3\\lib\\site-packages\\sklearn\\metrics\\classification.py:1437: UndefinedMetricWarning: F-score is ill-defined and being set to 0.0 in labels with no predicted samples.\n",
      "  'precision', 'predicted', average, warn_for)\n",
      "C:\\Users\\72445\\AppData\\Local\\Continuum\\anaconda3\\lib\\site-packages\\sklearn\\metrics\\classification.py:1437: UndefinedMetricWarning: F-score is ill-defined and being set to 0.0 in labels with no predicted samples.\n",
      "  'precision', 'predicted', average, warn_for)\n",
      "C:\\Users\\72445\\AppData\\Local\\Continuum\\anaconda3\\lib\\site-packages\\sklearn\\linear_model\\logistic.py:469: FutureWarning: Default multi_class will be changed to 'auto' in 0.22. Specify the multi_class option to silence this warning.\n",
      "  \"this warning.\", FutureWarning)\n",
      "C:\\Users\\72445\\AppData\\Local\\Continuum\\anaconda3\\lib\\site-packages\\sklearn\\linear_model\\logistic.py:469: FutureWarning: Default multi_class will be changed to 'auto' in 0.22. Specify the multi_class option to silence this warning.\n",
      "  \"this warning.\", FutureWarning)\n",
      "C:\\Users\\72445\\AppData\\Local\\Continuum\\anaconda3\\lib\\site-packages\\sklearn\\linear_model\\sag.py:337: ConvergenceWarning: The max_iter was reached which means the coef_ did not converge\n",
      "  \"the coef_ did not converge\", ConvergenceWarning)\n",
      "C:\\Users\\72445\\AppData\\Local\\Continuum\\anaconda3\\lib\\site-packages\\sklearn\\linear_model\\logistic.py:469: FutureWarning: Default multi_class will be changed to 'auto' in 0.22. Specify the multi_class option to silence this warning.\n",
      "  \"this warning.\", FutureWarning)\n",
      "C:\\Users\\72445\\AppData\\Local\\Continuum\\anaconda3\\lib\\site-packages\\sklearn\\linear_model\\sag.py:337: ConvergenceWarning: The max_iter was reached which means the coef_ did not converge\n",
      "  \"the coef_ did not converge\", ConvergenceWarning)\n",
      "C:\\Users\\72445\\AppData\\Local\\Continuum\\anaconda3\\lib\\site-packages\\sklearn\\linear_model\\logistic.py:469: FutureWarning: Default multi_class will be changed to 'auto' in 0.22. Specify the multi_class option to silence this warning.\n",
      "  \"this warning.\", FutureWarning)\n",
      "C:\\Users\\72445\\AppData\\Local\\Continuum\\anaconda3\\lib\\site-packages\\sklearn\\linear_model\\sag.py:337: ConvergenceWarning: The max_iter was reached which means the coef_ did not converge\n",
      "  \"the coef_ did not converge\", ConvergenceWarning)\n",
      "C:\\Users\\72445\\AppData\\Local\\Continuum\\anaconda3\\lib\\site-packages\\sklearn\\linear_model\\logistic.py:469: FutureWarning: Default multi_class will be changed to 'auto' in 0.22. Specify the multi_class option to silence this warning.\n",
      "  \"this warning.\", FutureWarning)\n",
      "C:\\Users\\72445\\AppData\\Local\\Continuum\\anaconda3\\lib\\site-packages\\sklearn\\linear_model\\logistic.py:469: FutureWarning: Default multi_class will be changed to 'auto' in 0.22. Specify the multi_class option to silence this warning.\n",
      "  \"this warning.\", FutureWarning)\n"
     ]
    },
    {
     "name": "stdout",
     "output_type": "stream",
     "text": [
      "\n",
      "[CV] C=57.6650390625, fit_intercept=True, intercept_scaling=100, penalty=l2, solver=saga \n",
      "[CV]  C=57.6650390625, fit_intercept=True, intercept_scaling=100, penalty=l2, solver=saga, score=(train=0.510, test=0.327), total=   0.0s\n",
      "[CV] C=57.6650390625, fit_intercept=True, intercept_scaling=100, penalty=l2, solver=saga \n",
      "[CV]  C=57.6650390625, fit_intercept=True, intercept_scaling=100, penalty=l2, solver=saga, score=(train=0.467, test=0.292), total=   0.0s\n",
      "[CV] C=57.6650390625, fit_intercept=True, intercept_scaling=100, penalty=l2, solver=saga \n",
      "[CV]  C=57.6650390625, fit_intercept=True, intercept_scaling=100, penalty=l2, solver=saga, score=(train=0.522, test=0.225), total=   0.0s\n",
      "[CV] C=57.6650390625, fit_intercept=False, intercept_scaling=1, penalty=l1, solver=liblinear \n",
      "[CV]  C=57.6650390625, fit_intercept=False, intercept_scaling=1, penalty=l1, solver=liblinear, score=(train=0.463, test=0.390), total=   0.0s\n",
      "[CV] C=57.6650390625, fit_intercept=False, intercept_scaling=1, penalty=l1, solver=liblinear \n",
      "[CV]  C=57.6650390625, fit_intercept=False, intercept_scaling=1, penalty=l1, solver=liblinear, score=(train=0.549, test=0.459), total=   0.0s\n",
      "[CV] C=57.6650390625, fit_intercept=False, intercept_scaling=1, penalty=l1, solver=liblinear \n"
     ]
    },
    {
     "name": "stderr",
     "output_type": "stream",
     "text": [
      "C:\\Users\\72445\\AppData\\Local\\Continuum\\anaconda3\\lib\\site-packages\\sklearn\\linear_model\\logistic.py:469: FutureWarning: Default multi_class will be changed to 'auto' in 0.22. Specify the multi_class option to silence this warning.\n",
      "  \"this warning.\", FutureWarning)\n",
      "C:\\Users\\72445\\AppData\\Local\\Continuum\\anaconda3\\lib\\site-packages\\sklearn\\linear_model\\logistic.py:469: FutureWarning: Default multi_class will be changed to 'auto' in 0.22. Specify the multi_class option to silence this warning.\n",
      "  \"this warning.\", FutureWarning)\n",
      "C:\\Users\\72445\\AppData\\Local\\Continuum\\anaconda3\\lib\\site-packages\\sklearn\\linear_model\\sag.py:337: ConvergenceWarning: The max_iter was reached which means the coef_ did not converge\n",
      "  \"the coef_ did not converge\", ConvergenceWarning)\n",
      "C:\\Users\\72445\\AppData\\Local\\Continuum\\anaconda3\\lib\\site-packages\\sklearn\\linear_model\\logistic.py:469: FutureWarning: Default multi_class will be changed to 'auto' in 0.22. Specify the multi_class option to silence this warning.\n",
      "  \"this warning.\", FutureWarning)\n",
      "C:\\Users\\72445\\AppData\\Local\\Continuum\\anaconda3\\lib\\site-packages\\sklearn\\linear_model\\sag.py:337: ConvergenceWarning: The max_iter was reached which means the coef_ did not converge\n",
      "  \"the coef_ did not converge\", ConvergenceWarning)\n",
      "C:\\Users\\72445\\AppData\\Local\\Continuum\\anaconda3\\lib\\site-packages\\sklearn\\linear_model\\logistic.py:469: FutureWarning: Default multi_class will be changed to 'auto' in 0.22. Specify the multi_class option to silence this warning.\n",
      "  \"this warning.\", FutureWarning)\n",
      "C:\\Users\\72445\\AppData\\Local\\Continuum\\anaconda3\\lib\\site-packages\\sklearn\\linear_model\\sag.py:337: ConvergenceWarning: The max_iter was reached which means the coef_ did not converge\n",
      "  \"the coef_ did not converge\", ConvergenceWarning)\n"
     ]
    },
    {
     "name": "stdout",
     "output_type": "stream",
     "text": [
      "[CV]  C=57.6650390625, fit_intercept=False, intercept_scaling=1, penalty=l1, solver=liblinear, score=(train=0.520, test=0.233), total=   0.0s\n",
      "[CV] C=57.6650390625, fit_intercept=False, intercept_scaling=1, penalty=l1, solver=saga \n",
      "[CV]  C=57.6650390625, fit_intercept=False, intercept_scaling=1, penalty=l1, solver=saga, score=(train=0.471, test=0.228), total=   0.0s\n",
      "[CV] C=57.6650390625, fit_intercept=False, intercept_scaling=1, penalty=l1, solver=saga \n",
      "[CV]  C=57.6650390625, fit_intercept=False, intercept_scaling=1, penalty=l1, solver=saga, score=(train=0.524, test=0.377), total=   0.0s\n",
      "[CV] C=57.6650390625, fit_intercept=False, intercept_scaling=1, penalty=l1, solver=saga \n",
      "[CV]  C=57.6650390625, fit_intercept=False, intercept_scaling=1, penalty=l1, solver=saga, score=(train=0.579, test=0.233), total=   0.0s\n",
      "[CV] C=57.6650390625, fit_intercept=False, intercept_scaling=1, penalty=l2, solver=liblinear \n",
      "[CV]  C=57.6650390625, fit_intercept=False, intercept_scaling=1, penalty=l2, solver=liblinear, score=(train=0.478, test=0.390), total=   0.0s\n",
      "[CV] C=57.6650390625, fit_intercept=False, intercept_scaling=1, penalty=l2, solver=liblinear \n",
      "[CV]  C=57.6650390625, fit_intercept=False, intercept_scaling=1, penalty=l2, solver=liblinear, score=(train=0.530, test=0.382), total=   0.0s\n",
      "[CV] C=57.6650390625, fit_intercept=False, intercept_scaling=1, penalty=l2, solver=liblinear \n",
      "[CV]  C=57.6650390625, fit_intercept=False, intercept_scaling=1, penalty=l2, solver=liblinear, score=(train=0.541, test=0.233), total=   0.0s"
     ]
    },
    {
     "name": "stderr",
     "output_type": "stream",
     "text": [
      "C:\\Users\\72445\\AppData\\Local\\Continuum\\anaconda3\\lib\\site-packages\\sklearn\\linear_model\\logistic.py:469: FutureWarning: Default multi_class will be changed to 'auto' in 0.22. Specify the multi_class option to silence this warning.\n",
      "  \"this warning.\", FutureWarning)\n",
      "C:\\Users\\72445\\AppData\\Local\\Continuum\\anaconda3\\lib\\site-packages\\sklearn\\linear_model\\logistic.py:469: FutureWarning: Default multi_class will be changed to 'auto' in 0.22. Specify the multi_class option to silence this warning.\n",
      "  \"this warning.\", FutureWarning)\n",
      "C:\\Users\\72445\\AppData\\Local\\Continuum\\anaconda3\\lib\\site-packages\\sklearn\\linear_model\\logistic.py:469: FutureWarning: Default multi_class will be changed to 'auto' in 0.22. Specify the multi_class option to silence this warning.\n",
      "  \"this warning.\", FutureWarning)\n",
      "C:\\Users\\72445\\AppData\\Local\\Continuum\\anaconda3\\lib\\site-packages\\sklearn\\linear_model\\logistic.py:469: FutureWarning: Default multi_class will be changed to 'auto' in 0.22. Specify the multi_class option to silence this warning.\n",
      "  \"this warning.\", FutureWarning)\n",
      "C:\\Users\\72445\\AppData\\Local\\Continuum\\anaconda3\\lib\\site-packages\\sklearn\\linear_model\\sag.py:337: ConvergenceWarning: The max_iter was reached which means the coef_ did not converge\n",
      "  \"the coef_ did not converge\", ConvergenceWarning)\n",
      "C:\\Users\\72445\\AppData\\Local\\Continuum\\anaconda3\\lib\\site-packages\\sklearn\\linear_model\\logistic.py:469: FutureWarning: Default multi_class will be changed to 'auto' in 0.22. Specify the multi_class option to silence this warning.\n",
      "  \"this warning.\", FutureWarning)\n",
      "C:\\Users\\72445\\AppData\\Local\\Continuum\\anaconda3\\lib\\site-packages\\sklearn\\linear_model\\sag.py:337: ConvergenceWarning: The max_iter was reached which means the coef_ did not converge\n",
      "  \"the coef_ did not converge\", ConvergenceWarning)\n",
      "C:\\Users\\72445\\AppData\\Local\\Continuum\\anaconda3\\lib\\site-packages\\sklearn\\linear_model\\logistic.py:469: FutureWarning: Default multi_class will be changed to 'auto' in 0.22. Specify the multi_class option to silence this warning.\n",
      "  \"this warning.\", FutureWarning)\n",
      "C:\\Users\\72445\\AppData\\Local\\Continuum\\anaconda3\\lib\\site-packages\\sklearn\\linear_model\\sag.py:337: ConvergenceWarning: The max_iter was reached which means the coef_ did not converge\n",
      "  \"the coef_ did not converge\", ConvergenceWarning)\n",
      "C:\\Users\\72445\\AppData\\Local\\Continuum\\anaconda3\\lib\\site-packages\\sklearn\\linear_model\\logistic.py:469: FutureWarning: Default multi_class will be changed to 'auto' in 0.22. Specify the multi_class option to silence this warning.\n",
      "  \"this warning.\", FutureWarning)\n"
     ]
    },
    {
     "name": "stdout",
     "output_type": "stream",
     "text": [
      "\n",
      "[CV] C=57.6650390625, fit_intercept=False, intercept_scaling=1, penalty=l2, solver=saga \n",
      "[CV]  C=57.6650390625, fit_intercept=False, intercept_scaling=1, penalty=l2, solver=saga, score=(train=0.471, test=0.228), total=   0.0s\n",
      "[CV] C=57.6650390625, fit_intercept=False, intercept_scaling=1, penalty=l2, solver=saga \n",
      "[CV]  C=57.6650390625, fit_intercept=False, intercept_scaling=1, penalty=l2, solver=saga, score=(train=0.524, test=0.377), total=   0.0s\n",
      "[CV] C=57.6650390625, fit_intercept=False, intercept_scaling=1, penalty=l2, solver=saga \n",
      "[CV]  C=57.6650390625, fit_intercept=False, intercept_scaling=1, penalty=l2, solver=saga, score=(train=0.579, test=0.233), total=   0.0s\n",
      "[CV] C=57.6650390625, fit_intercept=False, intercept_scaling=10, penalty=l1, solver=liblinear \n",
      "[CV]  C=57.6650390625, fit_intercept=False, intercept_scaling=10, penalty=l1, solver=liblinear, score=(train=0.463, test=0.390), total=   0.0s\n",
      "[CV] C=57.6650390625, fit_intercept=False, intercept_scaling=10, penalty=l1, solver=liblinear \n",
      "[CV]  C=57.6650390625, fit_intercept=False, intercept_scaling=10, penalty=l1, solver=liblinear, score=(train=0.549, test=0.459), total=   0.0s\n",
      "[CV] C=57.6650390625, fit_intercept=False, intercept_scaling=10, penalty=l1, solver=liblinear \n"
     ]
    },
    {
     "name": "stderr",
     "output_type": "stream",
     "text": [
      "C:\\Users\\72445\\AppData\\Local\\Continuum\\anaconda3\\lib\\site-packages\\sklearn\\linear_model\\logistic.py:469: FutureWarning: Default multi_class will be changed to 'auto' in 0.22. Specify the multi_class option to silence this warning.\n",
      "  \"this warning.\", FutureWarning)\n",
      "C:\\Users\\72445\\AppData\\Local\\Continuum\\anaconda3\\lib\\site-packages\\sklearn\\linear_model\\logistic.py:469: FutureWarning: Default multi_class will be changed to 'auto' in 0.22. Specify the multi_class option to silence this warning.\n",
      "  \"this warning.\", FutureWarning)\n",
      "C:\\Users\\72445\\AppData\\Local\\Continuum\\anaconda3\\lib\\site-packages\\sklearn\\linear_model\\logistic.py:469: FutureWarning: Default multi_class will be changed to 'auto' in 0.22. Specify the multi_class option to silence this warning.\n",
      "  \"this warning.\", FutureWarning)\n",
      "C:\\Users\\72445\\AppData\\Local\\Continuum\\anaconda3\\lib\\site-packages\\sklearn\\linear_model\\sag.py:337: ConvergenceWarning: The max_iter was reached which means the coef_ did not converge\n",
      "  \"the coef_ did not converge\", ConvergenceWarning)\n",
      "C:\\Users\\72445\\AppData\\Local\\Continuum\\anaconda3\\lib\\site-packages\\sklearn\\linear_model\\logistic.py:469: FutureWarning: Default multi_class will be changed to 'auto' in 0.22. Specify the multi_class option to silence this warning.\n",
      "  \"this warning.\", FutureWarning)\n",
      "C:\\Users\\72445\\AppData\\Local\\Continuum\\anaconda3\\lib\\site-packages\\sklearn\\linear_model\\sag.py:337: ConvergenceWarning: The max_iter was reached which means the coef_ did not converge\n",
      "  \"the coef_ did not converge\", ConvergenceWarning)\n",
      "C:\\Users\\72445\\AppData\\Local\\Continuum\\anaconda3\\lib\\site-packages\\sklearn\\linear_model\\logistic.py:469: FutureWarning: Default multi_class will be changed to 'auto' in 0.22. Specify the multi_class option to silence this warning.\n",
      "  \"this warning.\", FutureWarning)\n"
     ]
    },
    {
     "name": "stdout",
     "output_type": "stream",
     "text": [
      "[CV]  C=57.6650390625, fit_intercept=False, intercept_scaling=10, penalty=l1, solver=liblinear, score=(train=0.520, test=0.233), total=   0.0s\n",
      "[CV] C=57.6650390625, fit_intercept=False, intercept_scaling=10, penalty=l1, solver=saga \n",
      "[CV]  C=57.6650390625, fit_intercept=False, intercept_scaling=10, penalty=l1, solver=saga, score=(train=0.471, test=0.228), total=   0.0s\n",
      "[CV] C=57.6650390625, fit_intercept=False, intercept_scaling=10, penalty=l1, solver=saga \n",
      "[CV]  C=57.6650390625, fit_intercept=False, intercept_scaling=10, penalty=l1, solver=saga, score=(train=0.524, test=0.377), total=   0.0s\n",
      "[CV] C=57.6650390625, fit_intercept=False, intercept_scaling=10, penalty=l1, solver=saga \n"
     ]
    },
    {
     "name": "stderr",
     "output_type": "stream",
     "text": [
      "C:\\Users\\72445\\AppData\\Local\\Continuum\\anaconda3\\lib\\site-packages\\sklearn\\linear_model\\sag.py:337: ConvergenceWarning: The max_iter was reached which means the coef_ did not converge\n",
      "  \"the coef_ did not converge\", ConvergenceWarning)\n",
      "C:\\Users\\72445\\AppData\\Local\\Continuum\\anaconda3\\lib\\site-packages\\sklearn\\linear_model\\logistic.py:469: FutureWarning: Default multi_class will be changed to 'auto' in 0.22. Specify the multi_class option to silence this warning.\n",
      "  \"this warning.\", FutureWarning)\n",
      "C:\\Users\\72445\\AppData\\Local\\Continuum\\anaconda3\\lib\\site-packages\\sklearn\\linear_model\\logistic.py:469: FutureWarning: Default multi_class will be changed to 'auto' in 0.22. Specify the multi_class option to silence this warning.\n",
      "  \"this warning.\", FutureWarning)\n",
      "C:\\Users\\72445\\AppData\\Local\\Continuum\\anaconda3\\lib\\site-packages\\sklearn\\linear_model\\logistic.py:469: FutureWarning: Default multi_class will be changed to 'auto' in 0.22. Specify the multi_class option to silence this warning.\n",
      "  \"this warning.\", FutureWarning)\n",
      "C:\\Users\\72445\\AppData\\Local\\Continuum\\anaconda3\\lib\\site-packages\\sklearn\\linear_model\\logistic.py:469: FutureWarning: Default multi_class will be changed to 'auto' in 0.22. Specify the multi_class option to silence this warning.\n",
      "  \"this warning.\", FutureWarning)\n"
     ]
    },
    {
     "name": "stdout",
     "output_type": "stream",
     "text": [
      "[CV]  C=57.6650390625, fit_intercept=False, intercept_scaling=10, penalty=l1, solver=saga, score=(train=0.579, test=0.233), total=   0.1s\n",
      "[CV] C=57.6650390625, fit_intercept=False, intercept_scaling=10, penalty=l2, solver=liblinear \n",
      "[CV]  C=57.6650390625, fit_intercept=False, intercept_scaling=10, penalty=l2, solver=liblinear, score=(train=0.478, test=0.390), total=   0.0s\n",
      "[CV] C=57.6650390625, fit_intercept=False, intercept_scaling=10, penalty=l2, solver=liblinear \n",
      "[CV]  C=57.6650390625, fit_intercept=False, intercept_scaling=10, penalty=l2, solver=liblinear, score=(train=0.530, test=0.382), total=   0.0s\n",
      "[CV] C=57.6650390625, fit_intercept=False, intercept_scaling=10, penalty=l2, solver=liblinear \n",
      "[CV]  C=57.6650390625, fit_intercept=False, intercept_scaling=10, penalty=l2, solver=liblinear, score=(train=0.541, test=0.233), total=   0.0s\n",
      "[CV] C=57.6650390625, fit_intercept=False, intercept_scaling=10, penalty=l2, solver=saga \n",
      "[CV]  C=57.6650390625, fit_intercept=False, intercept_scaling=10, penalty=l2, solver=saga, score=(train=0.471, test=0.228), total=   0.0s\n",
      "[CV] C=57.6650390625, fit_intercept=False, intercept_scaling=10, penalty=l2, solver=saga \n",
      "[CV]  C=57.6650390625, fit_intercept=False, intercept_scaling=10, penalty=l2, solver=saga, score=(train=0.524, test=0.377), total=   0.0s\n",
      "[CV] C=57.6650390625, fit_intercept=False, intercept_scaling=10, penalty=l2, solver=saga \n",
      "[CV]  C=57.6650390625, fit_intercept=False, intercept_scaling=10, penalty=l2, solver=saga, score=(train=0.579, test=0.233), total=   0.0s\n",
      "[CV] C=57.6650390625, fit_intercept=False, intercept_scaling=50, penalty=l1, solver=liblinear \n",
      "[CV]  C=57.6650390625, fit_intercept=False, intercept_scaling=50, penalty=l1, solver=liblinear, score=(train=0.463, test=0.390), total=   0.0s\n",
      "[CV] C=57.6650390625, fit_intercept=False, intercept_scaling=50, penalty=l1, solver=liblinear \n",
      "[CV]  C=57.6650390625, fit_intercept=False, intercept_scaling=50, penalty=l1, solver=liblinear, score=(train=0.549, test=0.459), total=   0.0s\n",
      "[CV] C=57.6650390625, fit_intercept=False, intercept_scaling=50, penalty=l1, solver=liblinear \n",
      "[CV]  C=57.6650390625, fit_intercept=False, intercept_scaling=50, penalty=l1, solver=liblinear, score=(train=0.520, test=0.233), total=   0.0s\n",
      "[CV] C=57.6650390625, fit_intercept=False, intercept_scaling=50, penalty=l1, solver=saga \n"
     ]
    },
    {
     "name": "stderr",
     "output_type": "stream",
     "text": [
      "C:\\Users\\72445\\AppData\\Local\\Continuum\\anaconda3\\lib\\site-packages\\sklearn\\linear_model\\sag.py:337: ConvergenceWarning: The max_iter was reached which means the coef_ did not converge\n",
      "  \"the coef_ did not converge\", ConvergenceWarning)\n",
      "C:\\Users\\72445\\AppData\\Local\\Continuum\\anaconda3\\lib\\site-packages\\sklearn\\linear_model\\logistic.py:469: FutureWarning: Default multi_class will be changed to 'auto' in 0.22. Specify the multi_class option to silence this warning.\n",
      "  \"this warning.\", FutureWarning)\n",
      "C:\\Users\\72445\\AppData\\Local\\Continuum\\anaconda3\\lib\\site-packages\\sklearn\\linear_model\\sag.py:337: ConvergenceWarning: The max_iter was reached which means the coef_ did not converge\n",
      "  \"the coef_ did not converge\", ConvergenceWarning)\n",
      "C:\\Users\\72445\\AppData\\Local\\Continuum\\anaconda3\\lib\\site-packages\\sklearn\\linear_model\\logistic.py:469: FutureWarning: Default multi_class will be changed to 'auto' in 0.22. Specify the multi_class option to silence this warning.\n",
      "  \"this warning.\", FutureWarning)\n",
      "C:\\Users\\72445\\AppData\\Local\\Continuum\\anaconda3\\lib\\site-packages\\sklearn\\linear_model\\sag.py:337: ConvergenceWarning: The max_iter was reached which means the coef_ did not converge\n",
      "  \"the coef_ did not converge\", ConvergenceWarning)\n",
      "C:\\Users\\72445\\AppData\\Local\\Continuum\\anaconda3\\lib\\site-packages\\sklearn\\linear_model\\logistic.py:469: FutureWarning: Default multi_class will be changed to 'auto' in 0.22. Specify the multi_class option to silence this warning.\n",
      "  \"this warning.\", FutureWarning)\n",
      "C:\\Users\\72445\\AppData\\Local\\Continuum\\anaconda3\\lib\\site-packages\\sklearn\\linear_model\\logistic.py:469: FutureWarning: Default multi_class will be changed to 'auto' in 0.22. Specify the multi_class option to silence this warning.\n",
      "  \"this warning.\", FutureWarning)\n",
      "C:\\Users\\72445\\AppData\\Local\\Continuum\\anaconda3\\lib\\site-packages\\sklearn\\linear_model\\logistic.py:469: FutureWarning: Default multi_class will be changed to 'auto' in 0.22. Specify the multi_class option to silence this warning.\n",
      "  \"this warning.\", FutureWarning)\n",
      "C:\\Users\\72445\\AppData\\Local\\Continuum\\anaconda3\\lib\\site-packages\\sklearn\\linear_model\\logistic.py:469: FutureWarning: Default multi_class will be changed to 'auto' in 0.22. Specify the multi_class option to silence this warning.\n",
      "  \"this warning.\", FutureWarning)\n",
      "C:\\Users\\72445\\AppData\\Local\\Continuum\\anaconda3\\lib\\site-packages\\sklearn\\linear_model\\sag.py:337: ConvergenceWarning: The max_iter was reached which means the coef_ did not converge\n",
      "  \"the coef_ did not converge\", ConvergenceWarning)\n",
      "C:\\Users\\72445\\AppData\\Local\\Continuum\\anaconda3\\lib\\site-packages\\sklearn\\linear_model\\logistic.py:469: FutureWarning: Default multi_class will be changed to 'auto' in 0.22. Specify the multi_class option to silence this warning.\n",
      "  \"this warning.\", FutureWarning)\n",
      "C:\\Users\\72445\\AppData\\Local\\Continuum\\anaconda3\\lib\\site-packages\\sklearn\\linear_model\\sag.py:337: ConvergenceWarning: The max_iter was reached which means the coef_ did not converge\n",
      "  \"the coef_ did not converge\", ConvergenceWarning)\n",
      "C:\\Users\\72445\\AppData\\Local\\Continuum\\anaconda3\\lib\\site-packages\\sklearn\\linear_model\\logistic.py:469: FutureWarning: Default multi_class will be changed to 'auto' in 0.22. Specify the multi_class option to silence this warning.\n",
      "  \"this warning.\", FutureWarning)\n",
      "C:\\Users\\72445\\AppData\\Local\\Continuum\\anaconda3\\lib\\site-packages\\sklearn\\linear_model\\sag.py:337: ConvergenceWarning: The max_iter was reached which means the coef_ did not converge\n",
      "  \"the coef_ did not converge\", ConvergenceWarning)\n",
      "C:\\Users\\72445\\AppData\\Local\\Continuum\\anaconda3\\lib\\site-packages\\sklearn\\linear_model\\logistic.py:469: FutureWarning: Default multi_class will be changed to 'auto' in 0.22. Specify the multi_class option to silence this warning.\n",
      "  \"this warning.\", FutureWarning)\n",
      "C:\\Users\\72445\\AppData\\Local\\Continuum\\anaconda3\\lib\\site-packages\\sklearn\\linear_model\\logistic.py:469: FutureWarning: Default multi_class will be changed to 'auto' in 0.22. Specify the multi_class option to silence this warning.\n",
      "  \"this warning.\", FutureWarning)\n"
     ]
    },
    {
     "name": "stdout",
     "output_type": "stream",
     "text": [
      "[CV]  C=57.6650390625, fit_intercept=False, intercept_scaling=50, penalty=l1, solver=saga, score=(train=0.471, test=0.228), total=   0.0s\n",
      "[CV] C=57.6650390625, fit_intercept=False, intercept_scaling=50, penalty=l1, solver=saga \n",
      "[CV]  C=57.6650390625, fit_intercept=False, intercept_scaling=50, penalty=l1, solver=saga, score=(train=0.524, test=0.377), total=   0.0s\n",
      "[CV] C=57.6650390625, fit_intercept=False, intercept_scaling=50, penalty=l1, solver=saga \n",
      "[CV]  C=57.6650390625, fit_intercept=False, intercept_scaling=50, penalty=l1, solver=saga, score=(train=0.557, test=0.233), total=   0.0s\n",
      "[CV] C=57.6650390625, fit_intercept=False, intercept_scaling=50, penalty=l2, solver=liblinear \n",
      "[CV]  C=57.6650390625, fit_intercept=False, intercept_scaling=50, penalty=l2, solver=liblinear, score=(train=0.478, test=0.390), total=   0.0s\n",
      "[CV] C=57.6650390625, fit_intercept=False, intercept_scaling=50, penalty=l2, solver=liblinear \n",
      "[CV]  C=57.6650390625, fit_intercept=False, intercept_scaling=50, penalty=l2, solver=liblinear, score=(train=0.530, test=0.382), total=   0.0s\n",
      "[CV] C=57.6650390625, fit_intercept=False, intercept_scaling=50, penalty=l2, solver=liblinear \n",
      "[CV]  C=57.6650390625, fit_intercept=False, intercept_scaling=50, penalty=l2, solver=liblinear, score=(train=0.541, test=0.233), total=   0.0s\n",
      "[CV] C=57.6650390625, fit_intercept=False, intercept_scaling=50, penalty=l2, solver=saga \n",
      "[CV]  C=57.6650390625, fit_intercept=False, intercept_scaling=50, penalty=l2, solver=saga, score=(train=0.471, test=0.228), total=   0.0s\n",
      "[CV] C=57.6650390625, fit_intercept=False, intercept_scaling=50, penalty=l2, solver=saga \n",
      "[CV]  C=57.6650390625, fit_intercept=False, intercept_scaling=50, penalty=l2, solver=saga, score=(train=0.524, test=0.377), total=   0.0s\n",
      "[CV] C=57.6650390625, fit_intercept=False, intercept_scaling=50, penalty=l2, solver=saga \n",
      "[CV]  C=57.6650390625, fit_intercept=False, intercept_scaling=50, penalty=l2, solver=saga, score=(train=0.579, test=0.233), total=   0.0s\n",
      "[CV] C=57.6650390625, fit_intercept=False, intercept_scaling=100, penalty=l1, solver=liblinear \n",
      "[CV]  C=57.6650390625, fit_intercept=False, intercept_scaling=100, penalty=l1, solver=liblinear, score=(train=0.463, test=0.390), total=   0.0s\n",
      "[CV] C=57.6650390625, fit_intercept=False, intercept_scaling=100, penalty=l1, solver=liblinear \n",
      "[CV]  C=57.6650390625, fit_intercept=False, intercept_scaling=100, penalty=l1, solver=liblinear, score=(train=0.549, test=0.459), total=   0.0s\n",
      "[CV] C=57.6650390625, fit_intercept=False, intercept_scaling=100, penalty=l1, solver=liblinear \n"
     ]
    },
    {
     "name": "stderr",
     "output_type": "stream",
     "text": [
      "C:\\Users\\72445\\AppData\\Local\\Continuum\\anaconda3\\lib\\site-packages\\sklearn\\linear_model\\logistic.py:469: FutureWarning: Default multi_class will be changed to 'auto' in 0.22. Specify the multi_class option to silence this warning.\n",
      "  \"this warning.\", FutureWarning)\n",
      "C:\\Users\\72445\\AppData\\Local\\Continuum\\anaconda3\\lib\\site-packages\\sklearn\\linear_model\\logistic.py:469: FutureWarning: Default multi_class will be changed to 'auto' in 0.22. Specify the multi_class option to silence this warning.\n",
      "  \"this warning.\", FutureWarning)\n",
      "C:\\Users\\72445\\AppData\\Local\\Continuum\\anaconda3\\lib\\site-packages\\sklearn\\linear_model\\sag.py:337: ConvergenceWarning: The max_iter was reached which means the coef_ did not converge\n",
      "  \"the coef_ did not converge\", ConvergenceWarning)\n",
      "C:\\Users\\72445\\AppData\\Local\\Continuum\\anaconda3\\lib\\site-packages\\sklearn\\linear_model\\logistic.py:469: FutureWarning: Default multi_class will be changed to 'auto' in 0.22. Specify the multi_class option to silence this warning.\n",
      "  \"this warning.\", FutureWarning)\n",
      "C:\\Users\\72445\\AppData\\Local\\Continuum\\anaconda3\\lib\\site-packages\\sklearn\\linear_model\\sag.py:337: ConvergenceWarning: The max_iter was reached which means the coef_ did not converge\n",
      "  \"the coef_ did not converge\", ConvergenceWarning)\n",
      "C:\\Users\\72445\\AppData\\Local\\Continuum\\anaconda3\\lib\\site-packages\\sklearn\\linear_model\\logistic.py:469: FutureWarning: Default multi_class will be changed to 'auto' in 0.22. Specify the multi_class option to silence this warning.\n",
      "  \"this warning.\", FutureWarning)\n",
      "C:\\Users\\72445\\AppData\\Local\\Continuum\\anaconda3\\lib\\site-packages\\sklearn\\linear_model\\sag.py:337: ConvergenceWarning: The max_iter was reached which means the coef_ did not converge\n",
      "  \"the coef_ did not converge\", ConvergenceWarning)\n",
      "C:\\Users\\72445\\AppData\\Local\\Continuum\\anaconda3\\lib\\site-packages\\sklearn\\linear_model\\logistic.py:469: FutureWarning: Default multi_class will be changed to 'auto' in 0.22. Specify the multi_class option to silence this warning.\n",
      "  \"this warning.\", FutureWarning)\n",
      "C:\\Users\\72445\\AppData\\Local\\Continuum\\anaconda3\\lib\\site-packages\\sklearn\\linear_model\\logistic.py:469: FutureWarning: Default multi_class will be changed to 'auto' in 0.22. Specify the multi_class option to silence this warning.\n",
      "  \"this warning.\", FutureWarning)\n",
      "C:\\Users\\72445\\AppData\\Local\\Continuum\\anaconda3\\lib\\site-packages\\sklearn\\linear_model\\logistic.py:469: FutureWarning: Default multi_class will be changed to 'auto' in 0.22. Specify the multi_class option to silence this warning.\n",
      "  \"this warning.\", FutureWarning)\n",
      "C:\\Users\\72445\\AppData\\Local\\Continuum\\anaconda3\\lib\\site-packages\\sklearn\\linear_model\\logistic.py:469: FutureWarning: Default multi_class will be changed to 'auto' in 0.22. Specify the multi_class option to silence this warning.\n",
      "  \"this warning.\", FutureWarning)\n",
      "C:\\Users\\72445\\AppData\\Local\\Continuum\\anaconda3\\lib\\site-packages\\sklearn\\linear_model\\sag.py:337: ConvergenceWarning: The max_iter was reached which means the coef_ did not converge\n",
      "  \"the coef_ did not converge\", ConvergenceWarning)\n",
      "C:\\Users\\72445\\AppData\\Local\\Continuum\\anaconda3\\lib\\site-packages\\sklearn\\linear_model\\logistic.py:469: FutureWarning: Default multi_class will be changed to 'auto' in 0.22. Specify the multi_class option to silence this warning.\n",
      "  \"this warning.\", FutureWarning)\n"
     ]
    },
    {
     "name": "stdout",
     "output_type": "stream",
     "text": [
      "[CV]  C=57.6650390625, fit_intercept=False, intercept_scaling=100, penalty=l1, solver=liblinear, score=(train=0.520, test=0.233), total=   0.0s\n",
      "[CV] C=57.6650390625, fit_intercept=False, intercept_scaling=100, penalty=l1, solver=saga \n",
      "[CV]  C=57.6650390625, fit_intercept=False, intercept_scaling=100, penalty=l1, solver=saga, score=(train=0.471, test=0.228), total=   0.0s\n",
      "[CV] C=57.6650390625, fit_intercept=False, intercept_scaling=100, penalty=l1, solver=saga \n",
      "[CV]  C=57.6650390625, fit_intercept=False, intercept_scaling=100, penalty=l1, solver=saga, score=(train=0.524, test=0.377), total=   0.0s\n",
      "[CV] C=57.6650390625, fit_intercept=False, intercept_scaling=100, penalty=l1, solver=saga \n",
      "[CV]  C=57.6650390625, fit_intercept=False, intercept_scaling=100, penalty=l1, solver=saga, score=(train=0.579, test=0.233), total=   0.1s\n",
      "[CV] C=57.6650390625, fit_intercept=False, intercept_scaling=100, penalty=l2, solver=liblinear \n",
      "[CV]  C=57.6650390625, fit_intercept=False, intercept_scaling=100, penalty=l2, solver=liblinear, score=(train=0.478, test=0.390), total=   0.0s\n",
      "[CV] C=57.6650390625, fit_intercept=False, intercept_scaling=100, penalty=l2, solver=liblinear \n",
      "[CV]  C=57.6650390625, fit_intercept=False, intercept_scaling=100, penalty=l2, solver=liblinear, score=(train=0.530, test=0.382), total=   0.0s\n",
      "[CV] C=57.6650390625, fit_intercept=False, intercept_scaling=100, penalty=l2, solver=liblinear \n"
     ]
    },
    {
     "name": "stderr",
     "output_type": "stream",
     "text": [
      "C:\\Users\\72445\\AppData\\Local\\Continuum\\anaconda3\\lib\\site-packages\\sklearn\\linear_model\\sag.py:337: ConvergenceWarning: The max_iter was reached which means the coef_ did not converge\n",
      "  \"the coef_ did not converge\", ConvergenceWarning)\n",
      "C:\\Users\\72445\\AppData\\Local\\Continuum\\anaconda3\\lib\\site-packages\\sklearn\\linear_model\\logistic.py:469: FutureWarning: Default multi_class will be changed to 'auto' in 0.22. Specify the multi_class option to silence this warning.\n",
      "  \"this warning.\", FutureWarning)\n",
      "C:\\Users\\72445\\AppData\\Local\\Continuum\\anaconda3\\lib\\site-packages\\sklearn\\linear_model\\sag.py:337: ConvergenceWarning: The max_iter was reached which means the coef_ did not converge\n",
      "  \"the coef_ did not converge\", ConvergenceWarning)\n",
      "C:\\Users\\72445\\AppData\\Local\\Continuum\\anaconda3\\lib\\site-packages\\sklearn\\linear_model\\logistic.py:469: FutureWarning: Default multi_class will be changed to 'auto' in 0.22. Specify the multi_class option to silence this warning.\n",
      "  \"this warning.\", FutureWarning)\n",
      "C:\\Users\\72445\\AppData\\Local\\Continuum\\anaconda3\\lib\\site-packages\\sklearn\\linear_model\\logistic.py:469: FutureWarning: Default multi_class will be changed to 'auto' in 0.22. Specify the multi_class option to silence this warning.\n",
      "  \"this warning.\", FutureWarning)\n",
      "C:\\Users\\72445\\AppData\\Local\\Continuum\\anaconda3\\lib\\site-packages\\sklearn\\linear_model\\logistic.py:469: FutureWarning: Default multi_class will be changed to 'auto' in 0.22. Specify the multi_class option to silence this warning.\n",
      "  \"this warning.\", FutureWarning)\n",
      "C:\\Users\\72445\\AppData\\Local\\Continuum\\anaconda3\\lib\\site-packages\\sklearn\\linear_model\\logistic.py:469: FutureWarning: Default multi_class will be changed to 'auto' in 0.22. Specify the multi_class option to silence this warning.\n",
      "  \"this warning.\", FutureWarning)\n",
      "C:\\Users\\72445\\AppData\\Local\\Continuum\\anaconda3\\lib\\site-packages\\sklearn\\linear_model\\sag.py:337: ConvergenceWarning: The max_iter was reached which means the coef_ did not converge\n",
      "  \"the coef_ did not converge\", ConvergenceWarning)\n",
      "C:\\Users\\72445\\AppData\\Local\\Continuum\\anaconda3\\lib\\site-packages\\sklearn\\linear_model\\logistic.py:469: FutureWarning: Default multi_class will be changed to 'auto' in 0.22. Specify the multi_class option to silence this warning.\n",
      "  \"this warning.\", FutureWarning)\n",
      "C:\\Users\\72445\\AppData\\Local\\Continuum\\anaconda3\\lib\\site-packages\\sklearn\\linear_model\\sag.py:337: ConvergenceWarning: The max_iter was reached which means the coef_ did not converge\n",
      "  \"the coef_ did not converge\", ConvergenceWarning)\n"
     ]
    },
    {
     "name": "stdout",
     "output_type": "stream",
     "text": [
      "[CV]  C=57.6650390625, fit_intercept=False, intercept_scaling=100, penalty=l2, solver=liblinear, score=(train=0.541, test=0.233), total=   0.0s\n",
      "[CV] C=57.6650390625, fit_intercept=False, intercept_scaling=100, penalty=l2, solver=saga \n",
      "[CV]  C=57.6650390625, fit_intercept=False, intercept_scaling=100, penalty=l2, solver=saga, score=(train=0.471, test=0.228), total=   0.0s\n",
      "[CV] C=57.6650390625, fit_intercept=False, intercept_scaling=100, penalty=l2, solver=saga \n",
      "[CV]  C=57.6650390625, fit_intercept=False, intercept_scaling=100, penalty=l2, solver=saga, score=(train=0.524, test=0.377), total=   0.0s\n",
      "[CV] C=57.6650390625, fit_intercept=False, intercept_scaling=100, penalty=l2, solver=saga \n",
      "[CV]  C=57.6650390625, fit_intercept=False, intercept_scaling=100, penalty=l2, solver=saga, score=(train=0.579, test=0.233), total=   0.0s\n",
      "[CV] C=437.8938903808594, fit_intercept=True, intercept_scaling=1, penalty=l1, solver=liblinear \n",
      "[CV]  C=437.8938903808594, fit_intercept=True, intercept_scaling=1, penalty=l1, solver=liblinear, score=(train=0.632, test=0.278), total=   0.0s\n",
      "[CV] C=437.8938903808594, fit_intercept=True, intercept_scaling=1, penalty=l1, solver=liblinear \n"
     ]
    },
    {
     "name": "stderr",
     "output_type": "stream",
     "text": [
      "C:\\Users\\72445\\AppData\\Local\\Continuum\\anaconda3\\lib\\site-packages\\sklearn\\linear_model\\logistic.py:469: FutureWarning: Default multi_class will be changed to 'auto' in 0.22. Specify the multi_class option to silence this warning.\n",
      "  \"this warning.\", FutureWarning)\n",
      "C:\\Users\\72445\\AppData\\Local\\Continuum\\anaconda3\\lib\\site-packages\\sklearn\\linear_model\\sag.py:337: ConvergenceWarning: The max_iter was reached which means the coef_ did not converge\n",
      "  \"the coef_ did not converge\", ConvergenceWarning)\n",
      "C:\\Users\\72445\\AppData\\Local\\Continuum\\anaconda3\\lib\\site-packages\\sklearn\\linear_model\\logistic.py:469: FutureWarning: Default multi_class will be changed to 'auto' in 0.22. Specify the multi_class option to silence this warning.\n",
      "  \"this warning.\", FutureWarning)\n",
      "C:\\Users\\72445\\AppData\\Local\\Continuum\\anaconda3\\lib\\site-packages\\sklearn\\linear_model\\logistic.py:469: FutureWarning: Default multi_class will be changed to 'auto' in 0.22. Specify the multi_class option to silence this warning.\n",
      "  \"this warning.\", FutureWarning)\n",
      "C:\\Users\\72445\\AppData\\Local\\Continuum\\anaconda3\\lib\\site-packages\\sklearn\\metrics\\classification.py:1437: UndefinedMetricWarning: F-score is ill-defined and being set to 0.0 in labels with no predicted samples.\n",
      "  'precision', 'predicted', average, warn_for)\n",
      "C:\\Users\\72445\\AppData\\Local\\Continuum\\anaconda3\\lib\\site-packages\\sklearn\\linear_model\\logistic.py:469: FutureWarning: Default multi_class will be changed to 'auto' in 0.22. Specify the multi_class option to silence this warning.\n",
      "  \"this warning.\", FutureWarning)\n"
     ]
    },
    {
     "name": "stdout",
     "output_type": "stream",
     "text": [
      "[CV]  C=437.8938903808594, fit_intercept=True, intercept_scaling=1, penalty=l1, solver=liblinear, score=(train=0.547, test=0.285), total=   0.1s\n",
      "[CV] C=437.8938903808594, fit_intercept=True, intercept_scaling=1, penalty=l1, solver=liblinear \n",
      "[CV]  C=437.8938903808594, fit_intercept=True, intercept_scaling=1, penalty=l1, solver=liblinear, score=(train=0.683, test=0.203), total=   0.0s\n",
      "[CV] C=437.8938903808594, fit_intercept=True, intercept_scaling=1, penalty=l1, solver=saga \n",
      "[CV]  C=437.8938903808594, fit_intercept=True, intercept_scaling=1, penalty=l1, solver=saga, score=(train=0.510, test=0.327), total=   0.0s\n",
      "[CV] C=437.8938903808594, fit_intercept=True, intercept_scaling=1, penalty=l1, solver=saga \n",
      "[CV]  C=437.8938903808594, fit_intercept=True, intercept_scaling=1, penalty=l1, solver=saga, score=(train=0.467, test=0.292), total=   0.0s\n",
      "[CV] C=437.8938903808594, fit_intercept=True, intercept_scaling=1, penalty=l1, solver=saga \n",
      "[CV]  C=437.8938903808594, fit_intercept=True, intercept_scaling=1, penalty=l1, solver=saga, score=(train=0.522, test=0.225), total=   0.0s\n",
      "[CV] C=437.8938903808594, fit_intercept=True, intercept_scaling=1, penalty=l2, solver=liblinear \n",
      "[CV]  C=437.8938903808594, fit_intercept=True, intercept_scaling=1, penalty=l2, solver=liblinear, score=(train=0.632, test=0.278), total=   0.0s\n",
      "[CV] C=437.8938903808594, fit_intercept=True, intercept_scaling=1, penalty=l2, solver=liblinear \n"
     ]
    },
    {
     "name": "stderr",
     "output_type": "stream",
     "text": [
      "C:\\Users\\72445\\AppData\\Local\\Continuum\\anaconda3\\lib\\site-packages\\sklearn\\linear_model\\logistic.py:469: FutureWarning: Default multi_class will be changed to 'auto' in 0.22. Specify the multi_class option to silence this warning.\n",
      "  \"this warning.\", FutureWarning)\n",
      "C:\\Users\\72445\\AppData\\Local\\Continuum\\anaconda3\\lib\\site-packages\\sklearn\\linear_model\\sag.py:337: ConvergenceWarning: The max_iter was reached which means the coef_ did not converge\n",
      "  \"the coef_ did not converge\", ConvergenceWarning)\n",
      "C:\\Users\\72445\\AppData\\Local\\Continuum\\anaconda3\\lib\\site-packages\\sklearn\\linear_model\\logistic.py:469: FutureWarning: Default multi_class will be changed to 'auto' in 0.22. Specify the multi_class option to silence this warning.\n",
      "  \"this warning.\", FutureWarning)\n",
      "C:\\Users\\72445\\AppData\\Local\\Continuum\\anaconda3\\lib\\site-packages\\sklearn\\linear_model\\sag.py:337: ConvergenceWarning: The max_iter was reached which means the coef_ did not converge\n",
      "  \"the coef_ did not converge\", ConvergenceWarning)\n",
      "C:\\Users\\72445\\AppData\\Local\\Continuum\\anaconda3\\lib\\site-packages\\sklearn\\linear_model\\logistic.py:469: FutureWarning: Default multi_class will be changed to 'auto' in 0.22. Specify the multi_class option to silence this warning.\n",
      "  \"this warning.\", FutureWarning)\n",
      "C:\\Users\\72445\\AppData\\Local\\Continuum\\anaconda3\\lib\\site-packages\\sklearn\\linear_model\\sag.py:337: ConvergenceWarning: The max_iter was reached which means the coef_ did not converge\n",
      "  \"the coef_ did not converge\", ConvergenceWarning)\n",
      "C:\\Users\\72445\\AppData\\Local\\Continuum\\anaconda3\\lib\\site-packages\\sklearn\\linear_model\\logistic.py:469: FutureWarning: Default multi_class will be changed to 'auto' in 0.22. Specify the multi_class option to silence this warning.\n",
      "  \"this warning.\", FutureWarning)\n",
      "C:\\Users\\72445\\AppData\\Local\\Continuum\\anaconda3\\lib\\site-packages\\sklearn\\linear_model\\logistic.py:469: FutureWarning: Default multi_class will be changed to 'auto' in 0.22. Specify the multi_class option to silence this warning.\n",
      "  \"this warning.\", FutureWarning)\n",
      "C:\\Users\\72445\\AppData\\Local\\Continuum\\anaconda3\\lib\\site-packages\\sklearn\\metrics\\classification.py:1437: UndefinedMetricWarning: F-score is ill-defined and being set to 0.0 in labels with no predicted samples.\n",
      "  'precision', 'predicted', average, warn_for)\n",
      "C:\\Users\\72445\\AppData\\Local\\Continuum\\anaconda3\\lib\\site-packages\\sklearn\\linear_model\\logistic.py:469: FutureWarning: Default multi_class will be changed to 'auto' in 0.22. Specify the multi_class option to silence this warning.\n",
      "  \"this warning.\", FutureWarning)\n"
     ]
    },
    {
     "name": "stdout",
     "output_type": "stream",
     "text": [
      "[CV]  C=437.8938903808594, fit_intercept=True, intercept_scaling=1, penalty=l2, solver=liblinear, score=(train=0.564, test=0.284), total=   0.0s\n",
      "[CV] C=437.8938903808594, fit_intercept=True, intercept_scaling=1, penalty=l2, solver=liblinear \n",
      "[CV]  C=437.8938903808594, fit_intercept=True, intercept_scaling=1, penalty=l2, solver=liblinear, score=(train=0.667, test=0.203), total=   0.0s\n",
      "[CV] C=437.8938903808594, fit_intercept=True, intercept_scaling=1, penalty=l2, solver=saga \n",
      "[CV]  C=437.8938903808594, fit_intercept=True, intercept_scaling=1, penalty=l2, solver=saga, score=(train=0.510, test=0.327), total=   0.0s\n",
      "[CV] C=437.8938903808594, fit_intercept=True, intercept_scaling=1, penalty=l2, solver=saga \n",
      "[CV]  C=437.8938903808594, fit_intercept=True, intercept_scaling=1, penalty=l2, solver=saga, score=(train=0.467, test=0.292), total=   0.0s\n",
      "[CV] C=437.8938903808594, fit_intercept=True, intercept_scaling=1, penalty=l2, solver=saga \n",
      "[CV]  C=437.8938903808594, fit_intercept=True, intercept_scaling=1, penalty=l2, solver=saga, score=(train=0.522, test=0.225), total=   0.0s\n",
      "[CV] C=437.8938903808594, fit_intercept=True, intercept_scaling=10, penalty=l1, solver=liblinear \n",
      "[CV]  C=437.8938903808594, fit_intercept=True, intercept_scaling=10, penalty=l1, solver=liblinear, score=(train=0.632, test=0.278), total=   0.0s\n",
      "[CV] C=437.8938903808594, fit_intercept=True, intercept_scaling=10, penalty=l1, solver=liblinear \n"
     ]
    },
    {
     "name": "stderr",
     "output_type": "stream",
     "text": [
      "C:\\Users\\72445\\AppData\\Local\\Continuum\\anaconda3\\lib\\site-packages\\sklearn\\linear_model\\logistic.py:469: FutureWarning: Default multi_class will be changed to 'auto' in 0.22. Specify the multi_class option to silence this warning.\n",
      "  \"this warning.\", FutureWarning)\n",
      "C:\\Users\\72445\\AppData\\Local\\Continuum\\anaconda3\\lib\\site-packages\\sklearn\\linear_model\\sag.py:337: ConvergenceWarning: The max_iter was reached which means the coef_ did not converge\n",
      "  \"the coef_ did not converge\", ConvergenceWarning)\n",
      "C:\\Users\\72445\\AppData\\Local\\Continuum\\anaconda3\\lib\\site-packages\\sklearn\\linear_model\\logistic.py:469: FutureWarning: Default multi_class will be changed to 'auto' in 0.22. Specify the multi_class option to silence this warning.\n",
      "  \"this warning.\", FutureWarning)\n",
      "C:\\Users\\72445\\AppData\\Local\\Continuum\\anaconda3\\lib\\site-packages\\sklearn\\linear_model\\sag.py:337: ConvergenceWarning: The max_iter was reached which means the coef_ did not converge\n",
      "  \"the coef_ did not converge\", ConvergenceWarning)\n",
      "C:\\Users\\72445\\AppData\\Local\\Continuum\\anaconda3\\lib\\site-packages\\sklearn\\linear_model\\logistic.py:469: FutureWarning: Default multi_class will be changed to 'auto' in 0.22. Specify the multi_class option to silence this warning.\n",
      "  \"this warning.\", FutureWarning)\n",
      "C:\\Users\\72445\\AppData\\Local\\Continuum\\anaconda3\\lib\\site-packages\\sklearn\\linear_model\\sag.py:337: ConvergenceWarning: The max_iter was reached which means the coef_ did not converge\n",
      "  \"the coef_ did not converge\", ConvergenceWarning)\n",
      "C:\\Users\\72445\\AppData\\Local\\Continuum\\anaconda3\\lib\\site-packages\\sklearn\\linear_model\\logistic.py:469: FutureWarning: Default multi_class will be changed to 'auto' in 0.22. Specify the multi_class option to silence this warning.\n",
      "  \"this warning.\", FutureWarning)\n",
      "C:\\Users\\72445\\AppData\\Local\\Continuum\\anaconda3\\lib\\site-packages\\sklearn\\linear_model\\logistic.py:469: FutureWarning: Default multi_class will be changed to 'auto' in 0.22. Specify the multi_class option to silence this warning.\n",
      "  \"this warning.\", FutureWarning)\n",
      "C:\\Users\\72445\\AppData\\Local\\Continuum\\anaconda3\\lib\\site-packages\\sklearn\\metrics\\classification.py:1437: UndefinedMetricWarning: F-score is ill-defined and being set to 0.0 in labels with no predicted samples.\n",
      "  'precision', 'predicted', average, warn_for)\n",
      "C:\\Users\\72445\\AppData\\Local\\Continuum\\anaconda3\\lib\\site-packages\\sklearn\\linear_model\\logistic.py:469: FutureWarning: Default multi_class will be changed to 'auto' in 0.22. Specify the multi_class option to silence this warning.\n",
      "  \"this warning.\", FutureWarning)\n",
      "C:\\Users\\72445\\AppData\\Local\\Continuum\\anaconda3\\lib\\site-packages\\sklearn\\svm\\base.py:929: ConvergenceWarning: Liblinear failed to converge, increase the number of iterations.\n",
      "  \"the number of iterations.\", ConvergenceWarning)\n",
      "C:\\Users\\72445\\AppData\\Local\\Continuum\\anaconda3\\lib\\site-packages\\sklearn\\linear_model\\logistic.py:469: FutureWarning: Default multi_class will be changed to 'auto' in 0.22. Specify the multi_class option to silence this warning.\n",
      "  \"this warning.\", FutureWarning)\n",
      "C:\\Users\\72445\\AppData\\Local\\Continuum\\anaconda3\\lib\\site-packages\\sklearn\\linear_model\\sag.py:337: ConvergenceWarning: The max_iter was reached which means the coef_ did not converge\n",
      "  \"the coef_ did not converge\", ConvergenceWarning)\n"
     ]
    },
    {
     "name": "stdout",
     "output_type": "stream",
     "text": [
      "[CV]  C=437.8938903808594, fit_intercept=True, intercept_scaling=10, penalty=l1, solver=liblinear, score=(train=0.547, test=0.285), total=   0.0s\n",
      "[CV] C=437.8938903808594, fit_intercept=True, intercept_scaling=10, penalty=l1, solver=liblinear \n",
      "[CV]  C=437.8938903808594, fit_intercept=True, intercept_scaling=10, penalty=l1, solver=liblinear, score=(train=0.667, test=0.203), total=   0.0s\n",
      "[CV] C=437.8938903808594, fit_intercept=True, intercept_scaling=10, penalty=l1, solver=saga \n",
      "[CV]  C=437.8938903808594, fit_intercept=True, intercept_scaling=10, penalty=l1, solver=saga, score=(train=0.510, test=0.327), total=   0.0s\n",
      "[CV] C=437.8938903808594, fit_intercept=True, intercept_scaling=10, penalty=l1, solver=saga \n",
      "[CV]  C=437.8938903808594, fit_intercept=True, intercept_scaling=10, penalty=l1, solver=saga, score=(train=0.467, test=0.292), total=   0.0s\n",
      "[CV] C=437.8938903808594, fit_intercept=True, intercept_scaling=10, penalty=l1, solver=saga \n",
      "[CV]  C=437.8938903808594, fit_intercept=True, intercept_scaling=10, penalty=l1, solver=saga, score=(train=0.522, test=0.225), total=   0.0s\n",
      "[CV] C=437.8938903808594, fit_intercept=True, intercept_scaling=10, penalty=l2, solver=liblinear \n",
      "[CV]  C=437.8938903808594, fit_intercept=True, intercept_scaling=10, penalty=l2, solver=liblinear, score=(train=0.632, test=0.278), total=   0.0s\n",
      "[CV] C=437.8938903808594, fit_intercept=True, intercept_scaling=10, penalty=l2, solver=liblinear \n"
     ]
    },
    {
     "name": "stderr",
     "output_type": "stream",
     "text": [
      "C:\\Users\\72445\\AppData\\Local\\Continuum\\anaconda3\\lib\\site-packages\\sklearn\\linear_model\\logistic.py:469: FutureWarning: Default multi_class will be changed to 'auto' in 0.22. Specify the multi_class option to silence this warning.\n",
      "  \"this warning.\", FutureWarning)\n",
      "C:\\Users\\72445\\AppData\\Local\\Continuum\\anaconda3\\lib\\site-packages\\sklearn\\linear_model\\sag.py:337: ConvergenceWarning: The max_iter was reached which means the coef_ did not converge\n",
      "  \"the coef_ did not converge\", ConvergenceWarning)\n",
      "C:\\Users\\72445\\AppData\\Local\\Continuum\\anaconda3\\lib\\site-packages\\sklearn\\linear_model\\logistic.py:469: FutureWarning: Default multi_class will be changed to 'auto' in 0.22. Specify the multi_class option to silence this warning.\n",
      "  \"this warning.\", FutureWarning)\n",
      "C:\\Users\\72445\\AppData\\Local\\Continuum\\anaconda3\\lib\\site-packages\\sklearn\\linear_model\\sag.py:337: ConvergenceWarning: The max_iter was reached which means the coef_ did not converge\n",
      "  \"the coef_ did not converge\", ConvergenceWarning)\n",
      "C:\\Users\\72445\\AppData\\Local\\Continuum\\anaconda3\\lib\\site-packages\\sklearn\\linear_model\\logistic.py:469: FutureWarning: Default multi_class will be changed to 'auto' in 0.22. Specify the multi_class option to silence this warning.\n",
      "  \"this warning.\", FutureWarning)\n",
      "C:\\Users\\72445\\AppData\\Local\\Continuum\\anaconda3\\lib\\site-packages\\sklearn\\linear_model\\logistic.py:469: FutureWarning: Default multi_class will be changed to 'auto' in 0.22. Specify the multi_class option to silence this warning.\n",
      "  \"this warning.\", FutureWarning)\n",
      "C:\\Users\\72445\\AppData\\Local\\Continuum\\anaconda3\\lib\\site-packages\\sklearn\\metrics\\classification.py:1437: UndefinedMetricWarning: F-score is ill-defined and being set to 0.0 in labels with no predicted samples.\n",
      "  'precision', 'predicted', average, warn_for)\n",
      "C:\\Users\\72445\\AppData\\Local\\Continuum\\anaconda3\\lib\\site-packages\\sklearn\\linear_model\\logistic.py:469: FutureWarning: Default multi_class will be changed to 'auto' in 0.22. Specify the multi_class option to silence this warning.\n",
      "  \"this warning.\", FutureWarning)\n",
      "C:\\Users\\72445\\AppData\\Local\\Continuum\\anaconda3\\lib\\site-packages\\sklearn\\linear_model\\logistic.py:469: FutureWarning: Default multi_class will be changed to 'auto' in 0.22. Specify the multi_class option to silence this warning.\n",
      "  \"this warning.\", FutureWarning)\n",
      "C:\\Users\\72445\\AppData\\Local\\Continuum\\anaconda3\\lib\\site-packages\\sklearn\\linear_model\\sag.py:337: ConvergenceWarning: The max_iter was reached which means the coef_ did not converge\n",
      "  \"the coef_ did not converge\", ConvergenceWarning)\n"
     ]
    },
    {
     "name": "stdout",
     "output_type": "stream",
     "text": [
      "[CV]  C=437.8938903808594, fit_intercept=True, intercept_scaling=10, penalty=l2, solver=liblinear, score=(train=0.564, test=0.284), total=   0.0s\n",
      "[CV] C=437.8938903808594, fit_intercept=True, intercept_scaling=10, penalty=l2, solver=liblinear \n",
      "[CV]  C=437.8938903808594, fit_intercept=True, intercept_scaling=10, penalty=l2, solver=liblinear, score=(train=0.667, test=0.203), total=   0.0s\n",
      "[CV] C=437.8938903808594, fit_intercept=True, intercept_scaling=10, penalty=l2, solver=saga \n",
      "[CV]  C=437.8938903808594, fit_intercept=True, intercept_scaling=10, penalty=l2, solver=saga, score=(train=0.510, test=0.327), total=   0.0s\n",
      "[CV] C=437.8938903808594, fit_intercept=True, intercept_scaling=10, penalty=l2, solver=saga \n",
      "[CV]  C=437.8938903808594, fit_intercept=True, intercept_scaling=10, penalty=l2, solver=saga, score=(train=0.467, test=0.292), total=   0.1s\n",
      "[CV] C=437.8938903808594, fit_intercept=True, intercept_scaling=10, penalty=l2, solver=saga \n",
      "[CV]  C=437.8938903808594, fit_intercept=True, intercept_scaling=10, penalty=l2, solver=saga, score=(train=0.522, test=0.225), total=   0.0s"
     ]
    },
    {
     "name": "stderr",
     "output_type": "stream",
     "text": [
      "C:\\Users\\72445\\AppData\\Local\\Continuum\\anaconda3\\lib\\site-packages\\sklearn\\linear_model\\logistic.py:469: FutureWarning: Default multi_class will be changed to 'auto' in 0.22. Specify the multi_class option to silence this warning.\n",
      "  \"this warning.\", FutureWarning)\n",
      "C:\\Users\\72445\\AppData\\Local\\Continuum\\anaconda3\\lib\\site-packages\\sklearn\\linear_model\\sag.py:337: ConvergenceWarning: The max_iter was reached which means the coef_ did not converge\n",
      "  \"the coef_ did not converge\", ConvergenceWarning)\n",
      "C:\\Users\\72445\\AppData\\Local\\Continuum\\anaconda3\\lib\\site-packages\\sklearn\\linear_model\\logistic.py:469: FutureWarning: Default multi_class will be changed to 'auto' in 0.22. Specify the multi_class option to silence this warning.\n",
      "  \"this warning.\", FutureWarning)\n",
      "C:\\Users\\72445\\AppData\\Local\\Continuum\\anaconda3\\lib\\site-packages\\sklearn\\linear_model\\sag.py:337: ConvergenceWarning: The max_iter was reached which means the coef_ did not converge\n",
      "  \"the coef_ did not converge\", ConvergenceWarning)\n",
      "C:\\Users\\72445\\AppData\\Local\\Continuum\\anaconda3\\lib\\site-packages\\sklearn\\linear_model\\logistic.py:469: FutureWarning: Default multi_class will be changed to 'auto' in 0.22. Specify the multi_class option to silence this warning.\n",
      "  \"this warning.\", FutureWarning)\n",
      "C:\\Users\\72445\\AppData\\Local\\Continuum\\anaconda3\\lib\\site-packages\\sklearn\\linear_model\\logistic.py:469: FutureWarning: Default multi_class will be changed to 'auto' in 0.22. Specify the multi_class option to silence this warning.\n",
      "  \"this warning.\", FutureWarning)\n"
     ]
    },
    {
     "name": "stdout",
     "output_type": "stream",
     "text": [
      "\n",
      "[CV] C=437.8938903808594, fit_intercept=True, intercept_scaling=50, penalty=l1, solver=liblinear \n",
      "[CV]  C=437.8938903808594, fit_intercept=True, intercept_scaling=50, penalty=l1, solver=liblinear, score=(train=0.632, test=0.278), total=   0.0s\n",
      "[CV] C=437.8938903808594, fit_intercept=True, intercept_scaling=50, penalty=l1, solver=liblinear \n",
      "[CV]  C=437.8938903808594, fit_intercept=True, intercept_scaling=50, penalty=l1, solver=liblinear, score=(train=0.547, test=0.285), total=   0.1s\n",
      "[CV] C=437.8938903808594, fit_intercept=True, intercept_scaling=50, penalty=l1, solver=liblinear \n",
      "[CV]  C=437.8938903808594, fit_intercept=True, intercept_scaling=50, penalty=l1, solver=liblinear, score=(train=0.667, test=0.203), total=   0.0s"
     ]
    },
    {
     "name": "stderr",
     "output_type": "stream",
     "text": [
      "C:\\Users\\72445\\AppData\\Local\\Continuum\\anaconda3\\lib\\site-packages\\sklearn\\metrics\\classification.py:1437: UndefinedMetricWarning: F-score is ill-defined and being set to 0.0 in labels with no predicted samples.\n",
      "  'precision', 'predicted', average, warn_for)\n",
      "C:\\Users\\72445\\AppData\\Local\\Continuum\\anaconda3\\lib\\site-packages\\sklearn\\linear_model\\logistic.py:469: FutureWarning: Default multi_class will be changed to 'auto' in 0.22. Specify the multi_class option to silence this warning.\n",
      "  \"this warning.\", FutureWarning)\n",
      "C:\\Users\\72445\\AppData\\Local\\Continuum\\anaconda3\\lib\\site-packages\\sklearn\\svm\\base.py:929: ConvergenceWarning: Liblinear failed to converge, increase the number of iterations.\n",
      "  \"the number of iterations.\", ConvergenceWarning)\n",
      "C:\\Users\\72445\\AppData\\Local\\Continuum\\anaconda3\\lib\\site-packages\\sklearn\\linear_model\\logistic.py:469: FutureWarning: Default multi_class will be changed to 'auto' in 0.22. Specify the multi_class option to silence this warning.\n",
      "  \"this warning.\", FutureWarning)\n",
      "C:\\Users\\72445\\AppData\\Local\\Continuum\\anaconda3\\lib\\site-packages\\sklearn\\linear_model\\sag.py:337: ConvergenceWarning: The max_iter was reached which means the coef_ did not converge\n",
      "  \"the coef_ did not converge\", ConvergenceWarning)\n",
      "C:\\Users\\72445\\AppData\\Local\\Continuum\\anaconda3\\lib\\site-packages\\sklearn\\linear_model\\logistic.py:469: FutureWarning: Default multi_class will be changed to 'auto' in 0.22. Specify the multi_class option to silence this warning.\n",
      "  \"this warning.\", FutureWarning)\n",
      "C:\\Users\\72445\\AppData\\Local\\Continuum\\anaconda3\\lib\\site-packages\\sklearn\\linear_model\\sag.py:337: ConvergenceWarning: The max_iter was reached which means the coef_ did not converge\n",
      "  \"the coef_ did not converge\", ConvergenceWarning)\n",
      "C:\\Users\\72445\\AppData\\Local\\Continuum\\anaconda3\\lib\\site-packages\\sklearn\\linear_model\\logistic.py:469: FutureWarning: Default multi_class will be changed to 'auto' in 0.22. Specify the multi_class option to silence this warning.\n",
      "  \"this warning.\", FutureWarning)\n"
     ]
    },
    {
     "name": "stdout",
     "output_type": "stream",
     "text": [
      "\n",
      "[CV] C=437.8938903808594, fit_intercept=True, intercept_scaling=50, penalty=l1, solver=saga \n",
      "[CV]  C=437.8938903808594, fit_intercept=True, intercept_scaling=50, penalty=l1, solver=saga, score=(train=0.510, test=0.327), total=   0.0s\n",
      "[CV] C=437.8938903808594, fit_intercept=True, intercept_scaling=50, penalty=l1, solver=saga \n",
      "[CV]  C=437.8938903808594, fit_intercept=True, intercept_scaling=50, penalty=l1, solver=saga, score=(train=0.467, test=0.292), total=   0.0s\n",
      "[CV] C=437.8938903808594, fit_intercept=True, intercept_scaling=50, penalty=l1, solver=saga \n",
      "[CV]  C=437.8938903808594, fit_intercept=True, intercept_scaling=50, penalty=l1, solver=saga, score=(train=0.522, test=0.225), total=   0.0s\n",
      "[CV] C=437.8938903808594, fit_intercept=True, intercept_scaling=50, penalty=l2, solver=liblinear \n",
      "[CV]  C=437.8938903808594, fit_intercept=True, intercept_scaling=50, penalty=l2, solver=liblinear, score=(train=0.632, test=0.278), total=   0.0s\n",
      "[CV] C=437.8938903808594, fit_intercept=True, intercept_scaling=50, penalty=l2, solver=liblinear \n"
     ]
    },
    {
     "name": "stderr",
     "output_type": "stream",
     "text": [
      "C:\\Users\\72445\\AppData\\Local\\Continuum\\anaconda3\\lib\\site-packages\\sklearn\\linear_model\\sag.py:337: ConvergenceWarning: The max_iter was reached which means the coef_ did not converge\n",
      "  \"the coef_ did not converge\", ConvergenceWarning)\n",
      "C:\\Users\\72445\\AppData\\Local\\Continuum\\anaconda3\\lib\\site-packages\\sklearn\\linear_model\\logistic.py:469: FutureWarning: Default multi_class will be changed to 'auto' in 0.22. Specify the multi_class option to silence this warning.\n",
      "  \"this warning.\", FutureWarning)\n",
      "C:\\Users\\72445\\AppData\\Local\\Continuum\\anaconda3\\lib\\site-packages\\sklearn\\linear_model\\logistic.py:469: FutureWarning: Default multi_class will be changed to 'auto' in 0.22. Specify the multi_class option to silence this warning.\n",
      "  \"this warning.\", FutureWarning)\n",
      "C:\\Users\\72445\\AppData\\Local\\Continuum\\anaconda3\\lib\\site-packages\\sklearn\\metrics\\classification.py:1437: UndefinedMetricWarning: F-score is ill-defined and being set to 0.0 in labels with no predicted samples.\n",
      "  'precision', 'predicted', average, warn_for)\n",
      "C:\\Users\\72445\\AppData\\Local\\Continuum\\anaconda3\\lib\\site-packages\\sklearn\\linear_model\\logistic.py:469: FutureWarning: Default multi_class will be changed to 'auto' in 0.22. Specify the multi_class option to silence this warning.\n",
      "  \"this warning.\", FutureWarning)\n",
      "C:\\Users\\72445\\AppData\\Local\\Continuum\\anaconda3\\lib\\site-packages\\sklearn\\linear_model\\logistic.py:469: FutureWarning: Default multi_class will be changed to 'auto' in 0.22. Specify the multi_class option to silence this warning.\n",
      "  \"this warning.\", FutureWarning)\n",
      "C:\\Users\\72445\\AppData\\Local\\Continuum\\anaconda3\\lib\\site-packages\\sklearn\\linear_model\\sag.py:337: ConvergenceWarning: The max_iter was reached which means the coef_ did not converge\n",
      "  \"the coef_ did not converge\", ConvergenceWarning)\n"
     ]
    },
    {
     "name": "stdout",
     "output_type": "stream",
     "text": [
      "[CV]  C=437.8938903808594, fit_intercept=True, intercept_scaling=50, penalty=l2, solver=liblinear, score=(train=0.564, test=0.256), total=   0.1s\n",
      "[CV] C=437.8938903808594, fit_intercept=True, intercept_scaling=50, penalty=l2, solver=liblinear \n",
      "[CV]  C=437.8938903808594, fit_intercept=True, intercept_scaling=50, penalty=l2, solver=liblinear, score=(train=0.667, test=0.203), total=   0.0s\n",
      "[CV] C=437.8938903808594, fit_intercept=True, intercept_scaling=50, penalty=l2, solver=saga \n",
      "[CV]  C=437.8938903808594, fit_intercept=True, intercept_scaling=50, penalty=l2, solver=saga, score=(train=0.510, test=0.327), total=   0.0s\n",
      "[CV] C=437.8938903808594, fit_intercept=True, intercept_scaling=50, penalty=l2, solver=saga \n",
      "[CV]  C=437.8938903808594, fit_intercept=True, intercept_scaling=50, penalty=l2, solver=saga, score=(train=0.467, test=0.292), total=   0.0s\n",
      "[CV] C=437.8938903808594, fit_intercept=True, intercept_scaling=50, penalty=l2, solver=saga \n",
      "[CV]  C=437.8938903808594, fit_intercept=True, intercept_scaling=50, penalty=l2, solver=saga, score=(train=0.522, test=0.225), total=   0.0s\n",
      "[CV] C=437.8938903808594, fit_intercept=True, intercept_scaling=100, penalty=l1, solver=liblinear \n",
      "[CV]  C=437.8938903808594, fit_intercept=True, intercept_scaling=100, penalty=l1, solver=liblinear, score=(train=0.632, test=0.278), total=   0.0s\n",
      "[CV] C=437.8938903808594, fit_intercept=True, intercept_scaling=100, penalty=l1, solver=liblinear \n",
      "[CV]  C=437.8938903808594, fit_intercept=True, intercept_scaling=100, penalty=l1, solver=liblinear, score=(train=0.547, test=0.285), total=   0.0s\n",
      "[CV] C=437.8938903808594, fit_intercept=True, intercept_scaling=100, penalty=l1, solver=liblinear \n",
      "[CV]  C=437.8938903808594, fit_intercept=True, intercept_scaling=100, penalty=l1, solver=liblinear, score=(train=0.667, test=0.203), total=   0.0s\n",
      "[CV] C=437.8938903808594, fit_intercept=True, intercept_scaling=100, penalty=l1, solver=saga \n"
     ]
    },
    {
     "name": "stderr",
     "output_type": "stream",
     "text": [
      "C:\\Users\\72445\\AppData\\Local\\Continuum\\anaconda3\\lib\\site-packages\\sklearn\\linear_model\\logistic.py:469: FutureWarning: Default multi_class will be changed to 'auto' in 0.22. Specify the multi_class option to silence this warning.\n",
      "  \"this warning.\", FutureWarning)\n",
      "C:\\Users\\72445\\AppData\\Local\\Continuum\\anaconda3\\lib\\site-packages\\sklearn\\linear_model\\sag.py:337: ConvergenceWarning: The max_iter was reached which means the coef_ did not converge\n",
      "  \"the coef_ did not converge\", ConvergenceWarning)\n",
      "C:\\Users\\72445\\AppData\\Local\\Continuum\\anaconda3\\lib\\site-packages\\sklearn\\linear_model\\logistic.py:469: FutureWarning: Default multi_class will be changed to 'auto' in 0.22. Specify the multi_class option to silence this warning.\n",
      "  \"this warning.\", FutureWarning)\n",
      "C:\\Users\\72445\\AppData\\Local\\Continuum\\anaconda3\\lib\\site-packages\\sklearn\\linear_model\\sag.py:337: ConvergenceWarning: The max_iter was reached which means the coef_ did not converge\n",
      "  \"the coef_ did not converge\", ConvergenceWarning)\n",
      "C:\\Users\\72445\\AppData\\Local\\Continuum\\anaconda3\\lib\\site-packages\\sklearn\\linear_model\\logistic.py:469: FutureWarning: Default multi_class will be changed to 'auto' in 0.22. Specify the multi_class option to silence this warning.\n",
      "  \"this warning.\", FutureWarning)\n",
      "C:\\Users\\72445\\AppData\\Local\\Continuum\\anaconda3\\lib\\site-packages\\sklearn\\linear_model\\logistic.py:469: FutureWarning: Default multi_class will be changed to 'auto' in 0.22. Specify the multi_class option to silence this warning.\n",
      "  \"this warning.\", FutureWarning)\n",
      "C:\\Users\\72445\\AppData\\Local\\Continuum\\anaconda3\\lib\\site-packages\\sklearn\\metrics\\classification.py:1437: UndefinedMetricWarning: F-score is ill-defined and being set to 0.0 in labels with no predicted samples.\n",
      "  'precision', 'predicted', average, warn_for)\n",
      "C:\\Users\\72445\\AppData\\Local\\Continuum\\anaconda3\\lib\\site-packages\\sklearn\\linear_model\\logistic.py:469: FutureWarning: Default multi_class will be changed to 'auto' in 0.22. Specify the multi_class option to silence this warning.\n",
      "  \"this warning.\", FutureWarning)\n",
      "C:\\Users\\72445\\AppData\\Local\\Continuum\\anaconda3\\lib\\site-packages\\sklearn\\svm\\base.py:929: ConvergenceWarning: Liblinear failed to converge, increase the number of iterations.\n",
      "  \"the number of iterations.\", ConvergenceWarning)\n",
      "C:\\Users\\72445\\AppData\\Local\\Continuum\\anaconda3\\lib\\site-packages\\sklearn\\linear_model\\logistic.py:469: FutureWarning: Default multi_class will be changed to 'auto' in 0.22. Specify the multi_class option to silence this warning.\n",
      "  \"this warning.\", FutureWarning)\n",
      "C:\\Users\\72445\\AppData\\Local\\Continuum\\anaconda3\\lib\\site-packages\\sklearn\\linear_model\\sag.py:337: ConvergenceWarning: The max_iter was reached which means the coef_ did not converge\n",
      "  \"the coef_ did not converge\", ConvergenceWarning)\n",
      "C:\\Users\\72445\\AppData\\Local\\Continuum\\anaconda3\\lib\\site-packages\\sklearn\\linear_model\\logistic.py:469: FutureWarning: Default multi_class will be changed to 'auto' in 0.22. Specify the multi_class option to silence this warning.\n",
      "  \"this warning.\", FutureWarning)\n",
      "C:\\Users\\72445\\AppData\\Local\\Continuum\\anaconda3\\lib\\site-packages\\sklearn\\linear_model\\sag.py:337: ConvergenceWarning: The max_iter was reached which means the coef_ did not converge\n",
      "  \"the coef_ did not converge\", ConvergenceWarning)\n",
      "C:\\Users\\72445\\AppData\\Local\\Continuum\\anaconda3\\lib\\site-packages\\sklearn\\linear_model\\logistic.py:469: FutureWarning: Default multi_class will be changed to 'auto' in 0.22. Specify the multi_class option to silence this warning.\n",
      "  \"this warning.\", FutureWarning)\n",
      "C:\\Users\\72445\\AppData\\Local\\Continuum\\anaconda3\\lib\\site-packages\\sklearn\\linear_model\\sag.py:337: ConvergenceWarning: The max_iter was reached which means the coef_ did not converge\n",
      "  \"the coef_ did not converge\", ConvergenceWarning)\n"
     ]
    },
    {
     "name": "stdout",
     "output_type": "stream",
     "text": [
      "[CV]  C=437.8938903808594, fit_intercept=True, intercept_scaling=100, penalty=l1, solver=saga, score=(train=0.510, test=0.327), total=   0.0s\n",
      "[CV] C=437.8938903808594, fit_intercept=True, intercept_scaling=100, penalty=l1, solver=saga \n",
      "[CV]  C=437.8938903808594, fit_intercept=True, intercept_scaling=100, penalty=l1, solver=saga, score=(train=0.467, test=0.292), total=   0.0s\n",
      "[CV] C=437.8938903808594, fit_intercept=True, intercept_scaling=100, penalty=l1, solver=saga \n",
      "[CV]  C=437.8938903808594, fit_intercept=True, intercept_scaling=100, penalty=l1, solver=saga, score=(train=0.522, test=0.225), total=   0.0s\n",
      "[CV] C=437.8938903808594, fit_intercept=True, intercept_scaling=100, penalty=l2, solver=liblinear \n",
      "[CV]  C=437.8938903808594, fit_intercept=True, intercept_scaling=100, penalty=l2, solver=liblinear, score=(train=0.632, test=0.278), total=   0.0s\n",
      "[CV] C=437.8938903808594, fit_intercept=True, intercept_scaling=100, penalty=l2, solver=liblinear \n",
      "[CV]  C=437.8938903808594, fit_intercept=True, intercept_scaling=100, penalty=l2, solver=liblinear, score=(train=0.564, test=0.256), total=   0.0s\n",
      "[CV] C=437.8938903808594, fit_intercept=True, intercept_scaling=100, penalty=l2, solver=liblinear \n",
      "[CV]  C=437.8938903808594, fit_intercept=True, intercept_scaling=100, penalty=l2, solver=liblinear, score=(train=0.667, test=0.203), total=   0.0s\n",
      "[CV] C=437.8938903808594, fit_intercept=True, intercept_scaling=100, penalty=l2, solver=saga \n",
      "[CV]  C=437.8938903808594, fit_intercept=True, intercept_scaling=100, penalty=l2, solver=saga, score=(train=0.510, test=0.327), total=   0.0s\n",
      "[CV] C=437.8938903808594, fit_intercept=True, intercept_scaling=100, penalty=l2, solver=saga \n",
      "[CV]  C=437.8938903808594, fit_intercept=True, intercept_scaling=100, penalty=l2, solver=saga, score=(train=0.467, test=0.292), total=   0.0s\n",
      "[CV] C=437.8938903808594, fit_intercept=True, intercept_scaling=100, penalty=l2, solver=saga \n",
      "[CV]  C=437.8938903808594, fit_intercept=True, intercept_scaling=100, penalty=l2, solver=saga, score=(train=0.522, test=0.225), total=   0.0s\n",
      "[CV] C=437.8938903808594, fit_intercept=False, intercept_scaling=1, penalty=l1, solver=liblinear \n",
      "[CV]  C=437.8938903808594, fit_intercept=False, intercept_scaling=1, penalty=l1, solver=liblinear, score=(train=0.439, test=0.390), total=   0.0s\n",
      "[CV] C=437.8938903808594, fit_intercept=False, intercept_scaling=1, penalty=l1, solver=liblinear \n",
      "[CV]  C=437.8938903808594, fit_intercept=False, intercept_scaling=1, penalty=l1, solver=liblinear, score=(train=0.549, test=0.459), total=   0.0s"
     ]
    },
    {
     "name": "stderr",
     "output_type": "stream",
     "text": [
      "C:\\Users\\72445\\AppData\\Local\\Continuum\\anaconda3\\lib\\site-packages\\sklearn\\linear_model\\logistic.py:469: FutureWarning: Default multi_class will be changed to 'auto' in 0.22. Specify the multi_class option to silence this warning.\n",
      "  \"this warning.\", FutureWarning)\n",
      "C:\\Users\\72445\\AppData\\Local\\Continuum\\anaconda3\\lib\\site-packages\\sklearn\\linear_model\\logistic.py:469: FutureWarning: Default multi_class will be changed to 'auto' in 0.22. Specify the multi_class option to silence this warning.\n",
      "  \"this warning.\", FutureWarning)\n",
      "C:\\Users\\72445\\AppData\\Local\\Continuum\\anaconda3\\lib\\site-packages\\sklearn\\metrics\\classification.py:1437: UndefinedMetricWarning: F-score is ill-defined and being set to 0.0 in labels with no predicted samples.\n",
      "  'precision', 'predicted', average, warn_for)\n",
      "C:\\Users\\72445\\AppData\\Local\\Continuum\\anaconda3\\lib\\site-packages\\sklearn\\linear_model\\logistic.py:469: FutureWarning: Default multi_class will be changed to 'auto' in 0.22. Specify the multi_class option to silence this warning.\n",
      "  \"this warning.\", FutureWarning)\n",
      "C:\\Users\\72445\\AppData\\Local\\Continuum\\anaconda3\\lib\\site-packages\\sklearn\\linear_model\\logistic.py:469: FutureWarning: Default multi_class will be changed to 'auto' in 0.22. Specify the multi_class option to silence this warning.\n",
      "  \"this warning.\", FutureWarning)\n",
      "C:\\Users\\72445\\AppData\\Local\\Continuum\\anaconda3\\lib\\site-packages\\sklearn\\linear_model\\sag.py:337: ConvergenceWarning: The max_iter was reached which means the coef_ did not converge\n",
      "  \"the coef_ did not converge\", ConvergenceWarning)\n",
      "C:\\Users\\72445\\AppData\\Local\\Continuum\\anaconda3\\lib\\site-packages\\sklearn\\linear_model\\logistic.py:469: FutureWarning: Default multi_class will be changed to 'auto' in 0.22. Specify the multi_class option to silence this warning.\n",
      "  \"this warning.\", FutureWarning)\n",
      "C:\\Users\\72445\\AppData\\Local\\Continuum\\anaconda3\\lib\\site-packages\\sklearn\\linear_model\\sag.py:337: ConvergenceWarning: The max_iter was reached which means the coef_ did not converge\n",
      "  \"the coef_ did not converge\", ConvergenceWarning)\n",
      "C:\\Users\\72445\\AppData\\Local\\Continuum\\anaconda3\\lib\\site-packages\\sklearn\\linear_model\\logistic.py:469: FutureWarning: Default multi_class will be changed to 'auto' in 0.22. Specify the multi_class option to silence this warning.\n",
      "  \"this warning.\", FutureWarning)\n",
      "C:\\Users\\72445\\AppData\\Local\\Continuum\\anaconda3\\lib\\site-packages\\sklearn\\linear_model\\sag.py:337: ConvergenceWarning: The max_iter was reached which means the coef_ did not converge\n",
      "  \"the coef_ did not converge\", ConvergenceWarning)\n",
      "C:\\Users\\72445\\AppData\\Local\\Continuum\\anaconda3\\lib\\site-packages\\sklearn\\linear_model\\logistic.py:469: FutureWarning: Default multi_class will be changed to 'auto' in 0.22. Specify the multi_class option to silence this warning.\n",
      "  \"this warning.\", FutureWarning)\n",
      "C:\\Users\\72445\\AppData\\Local\\Continuum\\anaconda3\\lib\\site-packages\\sklearn\\linear_model\\logistic.py:469: FutureWarning: Default multi_class will be changed to 'auto' in 0.22. Specify the multi_class option to silence this warning.\n",
      "  \"this warning.\", FutureWarning)\n",
      "C:\\Users\\72445\\AppData\\Local\\Continuum\\anaconda3\\lib\\site-packages\\sklearn\\linear_model\\logistic.py:469: FutureWarning: Default multi_class will be changed to 'auto' in 0.22. Specify the multi_class option to silence this warning.\n",
      "  \"this warning.\", FutureWarning)\n",
      "C:\\Users\\72445\\AppData\\Local\\Continuum\\anaconda3\\lib\\site-packages\\sklearn\\linear_model\\logistic.py:469: FutureWarning: Default multi_class will be changed to 'auto' in 0.22. Specify the multi_class option to silence this warning.\n",
      "  \"this warning.\", FutureWarning)\n",
      "C:\\Users\\72445\\AppData\\Local\\Continuum\\anaconda3\\lib\\site-packages\\sklearn\\linear_model\\sag.py:337: ConvergenceWarning: The max_iter was reached which means the coef_ did not converge\n",
      "  \"the coef_ did not converge\", ConvergenceWarning)\n"
     ]
    },
    {
     "name": "stdout",
     "output_type": "stream",
     "text": [
      "\n",
      "[CV] C=437.8938903808594, fit_intercept=False, intercept_scaling=1, penalty=l1, solver=liblinear \n",
      "[CV]  C=437.8938903808594, fit_intercept=False, intercept_scaling=1, penalty=l1, solver=liblinear, score=(train=0.541, test=0.233), total=   0.0s\n",
      "[CV] C=437.8938903808594, fit_intercept=False, intercept_scaling=1, penalty=l1, solver=saga \n",
      "[CV]  C=437.8938903808594, fit_intercept=False, intercept_scaling=1, penalty=l1, solver=saga, score=(train=0.471, test=0.228), total=   0.0s\n",
      "[CV] C=437.8938903808594, fit_intercept=False, intercept_scaling=1, penalty=l1, solver=saga \n",
      "[CV]  C=437.8938903808594, fit_intercept=False, intercept_scaling=1, penalty=l1, solver=saga, score=(train=0.524, test=0.377), total=   0.0s\n",
      "[CV] C=437.8938903808594, fit_intercept=False, intercept_scaling=1, penalty=l1, solver=saga \n",
      "[CV]  C=437.8938903808594, fit_intercept=False, intercept_scaling=1, penalty=l1, solver=saga, score=(train=0.579, test=0.233), total=   0.0s\n",
      "[CV] C=437.8938903808594, fit_intercept=False, intercept_scaling=1, penalty=l2, solver=liblinear \n",
      "[CV]  C=437.8938903808594, fit_intercept=False, intercept_scaling=1, penalty=l2, solver=liblinear, score=(train=0.439, test=0.390), total=   0.0s\n",
      "[CV] C=437.8938903808594, fit_intercept=False, intercept_scaling=1, penalty=l2, solver=liblinear \n",
      "[CV]  C=437.8938903808594, fit_intercept=False, intercept_scaling=1, penalty=l2, solver=liblinear, score=(train=0.567, test=0.459), total=   0.0s\n",
      "[CV] C=437.8938903808594, fit_intercept=False, intercept_scaling=1, penalty=l2, solver=liblinear \n",
      "[CV]  C=437.8938903808594, fit_intercept=False, intercept_scaling=1, penalty=l2, solver=liblinear, score=(train=0.541, test=0.233), total=   0.0s\n",
      "[CV] C=437.8938903808594, fit_intercept=False, intercept_scaling=1, penalty=l2, solver=saga \n",
      "[CV]  C=437.8938903808594, fit_intercept=False, intercept_scaling=1, penalty=l2, solver=saga, score=(train=0.471, test=0.228), total=   0.0s\n",
      "[CV] C=437.8938903808594, fit_intercept=False, intercept_scaling=1, penalty=l2, solver=saga \n",
      "[CV]  C=437.8938903808594, fit_intercept=False, intercept_scaling=1, penalty=l2, solver=saga, score=(train=0.524, test=0.377), total=   0.0s\n",
      "[CV] C=437.8938903808594, fit_intercept=False, intercept_scaling=1, penalty=l2, solver=saga \n",
      "[CV]  C=437.8938903808594, fit_intercept=False, intercept_scaling=1, penalty=l2, solver=saga, score=(train=0.579, test=0.233), total=   0.0s\n",
      "[CV] C=437.8938903808594, fit_intercept=False, intercept_scaling=10, penalty=l1, solver=liblinear \n"
     ]
    },
    {
     "name": "stderr",
     "output_type": "stream",
     "text": [
      "C:\\Users\\72445\\AppData\\Local\\Continuum\\anaconda3\\lib\\site-packages\\sklearn\\linear_model\\logistic.py:469: FutureWarning: Default multi_class will be changed to 'auto' in 0.22. Specify the multi_class option to silence this warning.\n",
      "  \"this warning.\", FutureWarning)\n",
      "C:\\Users\\72445\\AppData\\Local\\Continuum\\anaconda3\\lib\\site-packages\\sklearn\\linear_model\\sag.py:337: ConvergenceWarning: The max_iter was reached which means the coef_ did not converge\n",
      "  \"the coef_ did not converge\", ConvergenceWarning)\n",
      "C:\\Users\\72445\\AppData\\Local\\Continuum\\anaconda3\\lib\\site-packages\\sklearn\\linear_model\\logistic.py:469: FutureWarning: Default multi_class will be changed to 'auto' in 0.22. Specify the multi_class option to silence this warning.\n",
      "  \"this warning.\", FutureWarning)\n",
      "C:\\Users\\72445\\AppData\\Local\\Continuum\\anaconda3\\lib\\site-packages\\sklearn\\linear_model\\sag.py:337: ConvergenceWarning: The max_iter was reached which means the coef_ did not converge\n",
      "  \"the coef_ did not converge\", ConvergenceWarning)\n",
      "C:\\Users\\72445\\AppData\\Local\\Continuum\\anaconda3\\lib\\site-packages\\sklearn\\linear_model\\logistic.py:469: FutureWarning: Default multi_class will be changed to 'auto' in 0.22. Specify the multi_class option to silence this warning.\n",
      "  \"this warning.\", FutureWarning)\n",
      "C:\\Users\\72445\\AppData\\Local\\Continuum\\anaconda3\\lib\\site-packages\\sklearn\\linear_model\\logistic.py:469: FutureWarning: Default multi_class will be changed to 'auto' in 0.22. Specify the multi_class option to silence this warning.\n",
      "  \"this warning.\", FutureWarning)\n",
      "C:\\Users\\72445\\AppData\\Local\\Continuum\\anaconda3\\lib\\site-packages\\sklearn\\linear_model\\logistic.py:469: FutureWarning: Default multi_class will be changed to 'auto' in 0.22. Specify the multi_class option to silence this warning.\n",
      "  \"this warning.\", FutureWarning)\n",
      "C:\\Users\\72445\\AppData\\Local\\Continuum\\anaconda3\\lib\\site-packages\\sklearn\\linear_model\\logistic.py:469: FutureWarning: Default multi_class will be changed to 'auto' in 0.22. Specify the multi_class option to silence this warning.\n",
      "  \"this warning.\", FutureWarning)\n",
      "C:\\Users\\72445\\AppData\\Local\\Continuum\\anaconda3\\lib\\site-packages\\sklearn\\linear_model\\sag.py:337: ConvergenceWarning: The max_iter was reached which means the coef_ did not converge\n",
      "  \"the coef_ did not converge\", ConvergenceWarning)\n",
      "C:\\Users\\72445\\AppData\\Local\\Continuum\\anaconda3\\lib\\site-packages\\sklearn\\linear_model\\logistic.py:469: FutureWarning: Default multi_class will be changed to 'auto' in 0.22. Specify the multi_class option to silence this warning.\n",
      "  \"this warning.\", FutureWarning)\n",
      "C:\\Users\\72445\\AppData\\Local\\Continuum\\anaconda3\\lib\\site-packages\\sklearn\\linear_model\\sag.py:337: ConvergenceWarning: The max_iter was reached which means the coef_ did not converge\n",
      "  \"the coef_ did not converge\", ConvergenceWarning)\n",
      "C:\\Users\\72445\\AppData\\Local\\Continuum\\anaconda3\\lib\\site-packages\\sklearn\\linear_model\\logistic.py:469: FutureWarning: Default multi_class will be changed to 'auto' in 0.22. Specify the multi_class option to silence this warning.\n",
      "  \"this warning.\", FutureWarning)\n",
      "C:\\Users\\72445\\AppData\\Local\\Continuum\\anaconda3\\lib\\site-packages\\sklearn\\linear_model\\sag.py:337: ConvergenceWarning: The max_iter was reached which means the coef_ did not converge\n",
      "  \"the coef_ did not converge\", ConvergenceWarning)\n",
      "C:\\Users\\72445\\AppData\\Local\\Continuum\\anaconda3\\lib\\site-packages\\sklearn\\linear_model\\logistic.py:469: FutureWarning: Default multi_class will be changed to 'auto' in 0.22. Specify the multi_class option to silence this warning.\n",
      "  \"this warning.\", FutureWarning)\n",
      "C:\\Users\\72445\\AppData\\Local\\Continuum\\anaconda3\\lib\\site-packages\\sklearn\\linear_model\\logistic.py:469: FutureWarning: Default multi_class will be changed to 'auto' in 0.22. Specify the multi_class option to silence this warning.\n",
      "  \"this warning.\", FutureWarning)\n"
     ]
    },
    {
     "name": "stdout",
     "output_type": "stream",
     "text": [
      "[CV]  C=437.8938903808594, fit_intercept=False, intercept_scaling=10, penalty=l1, solver=liblinear, score=(train=0.439, test=0.390), total=   0.0s\n",
      "[CV] C=437.8938903808594, fit_intercept=False, intercept_scaling=10, penalty=l1, solver=liblinear \n",
      "[CV]  C=437.8938903808594, fit_intercept=False, intercept_scaling=10, penalty=l1, solver=liblinear, score=(train=0.549, test=0.459), total=   0.1s\n",
      "[CV] C=437.8938903808594, fit_intercept=False, intercept_scaling=10, penalty=l1, solver=liblinear \n",
      "[CV]  C=437.8938903808594, fit_intercept=False, intercept_scaling=10, penalty=l1, solver=liblinear, score=(train=0.541, test=0.233), total=   0.0s\n",
      "[CV] C=437.8938903808594, fit_intercept=False, intercept_scaling=10, penalty=l1, solver=saga \n",
      "[CV]  C=437.8938903808594, fit_intercept=False, intercept_scaling=10, penalty=l1, solver=saga, score=(train=0.471, test=0.228), total=   0.0s\n",
      "[CV] C=437.8938903808594, fit_intercept=False, intercept_scaling=10, penalty=l1, solver=saga \n",
      "[CV]  C=437.8938903808594, fit_intercept=False, intercept_scaling=10, penalty=l1, solver=saga, score=(train=0.524, test=0.377), total=   0.0s\n",
      "[CV] C=437.8938903808594, fit_intercept=False, intercept_scaling=10, penalty=l1, solver=saga \n"
     ]
    },
    {
     "name": "stderr",
     "output_type": "stream",
     "text": [
      "C:\\Users\\72445\\AppData\\Local\\Continuum\\anaconda3\\lib\\site-packages\\sklearn\\linear_model\\logistic.py:469: FutureWarning: Default multi_class will be changed to 'auto' in 0.22. Specify the multi_class option to silence this warning.\n",
      "  \"this warning.\", FutureWarning)\n",
      "C:\\Users\\72445\\AppData\\Local\\Continuum\\anaconda3\\lib\\site-packages\\sklearn\\linear_model\\logistic.py:469: FutureWarning: Default multi_class will be changed to 'auto' in 0.22. Specify the multi_class option to silence this warning.\n",
      "  \"this warning.\", FutureWarning)\n",
      "C:\\Users\\72445\\AppData\\Local\\Continuum\\anaconda3\\lib\\site-packages\\sklearn\\linear_model\\sag.py:337: ConvergenceWarning: The max_iter was reached which means the coef_ did not converge\n",
      "  \"the coef_ did not converge\", ConvergenceWarning)\n",
      "C:\\Users\\72445\\AppData\\Local\\Continuum\\anaconda3\\lib\\site-packages\\sklearn\\linear_model\\logistic.py:469: FutureWarning: Default multi_class will be changed to 'auto' in 0.22. Specify the multi_class option to silence this warning.\n",
      "  \"this warning.\", FutureWarning)\n",
      "C:\\Users\\72445\\AppData\\Local\\Continuum\\anaconda3\\lib\\site-packages\\sklearn\\linear_model\\sag.py:337: ConvergenceWarning: The max_iter was reached which means the coef_ did not converge\n",
      "  \"the coef_ did not converge\", ConvergenceWarning)\n",
      "C:\\Users\\72445\\AppData\\Local\\Continuum\\anaconda3\\lib\\site-packages\\sklearn\\linear_model\\logistic.py:469: FutureWarning: Default multi_class will be changed to 'auto' in 0.22. Specify the multi_class option to silence this warning.\n",
      "  \"this warning.\", FutureWarning)\n",
      "C:\\Users\\72445\\AppData\\Local\\Continuum\\anaconda3\\lib\\site-packages\\sklearn\\linear_model\\sag.py:337: ConvergenceWarning: The max_iter was reached which means the coef_ did not converge\n",
      "  \"the coef_ did not converge\", ConvergenceWarning)\n",
      "C:\\Users\\72445\\AppData\\Local\\Continuum\\anaconda3\\lib\\site-packages\\sklearn\\linear_model\\logistic.py:469: FutureWarning: Default multi_class will be changed to 'auto' in 0.22. Specify the multi_class option to silence this warning.\n",
      "  \"this warning.\", FutureWarning)\n",
      "C:\\Users\\72445\\AppData\\Local\\Continuum\\anaconda3\\lib\\site-packages\\sklearn\\linear_model\\logistic.py:469: FutureWarning: Default multi_class will be changed to 'auto' in 0.22. Specify the multi_class option to silence this warning.\n",
      "  \"this warning.\", FutureWarning)\n",
      "C:\\Users\\72445\\AppData\\Local\\Continuum\\anaconda3\\lib\\site-packages\\sklearn\\linear_model\\logistic.py:469: FutureWarning: Default multi_class will be changed to 'auto' in 0.22. Specify the multi_class option to silence this warning.\n",
      "  \"this warning.\", FutureWarning)\n"
     ]
    },
    {
     "name": "stdout",
     "output_type": "stream",
     "text": [
      "[CV]  C=437.8938903808594, fit_intercept=False, intercept_scaling=10, penalty=l1, solver=saga, score=(train=0.579, test=0.233), total=   0.0s\n",
      "[CV] C=437.8938903808594, fit_intercept=False, intercept_scaling=10, penalty=l2, solver=liblinear \n",
      "[CV]  C=437.8938903808594, fit_intercept=False, intercept_scaling=10, penalty=l2, solver=liblinear, score=(train=0.439, test=0.390), total=   0.0s\n",
      "[CV] C=437.8938903808594, fit_intercept=False, intercept_scaling=10, penalty=l2, solver=liblinear \n",
      "[CV]  C=437.8938903808594, fit_intercept=False, intercept_scaling=10, penalty=l2, solver=liblinear, score=(train=0.567, test=0.459), total=   0.0s\n",
      "[CV] C=437.8938903808594, fit_intercept=False, intercept_scaling=10, penalty=l2, solver=liblinear \n",
      "[CV]  C=437.8938903808594, fit_intercept=False, intercept_scaling=10, penalty=l2, solver=liblinear, score=(train=0.541, test=0.233), total=   0.0s\n",
      "[CV] C=437.8938903808594, fit_intercept=False, intercept_scaling=10, penalty=l2, solver=saga \n",
      "[CV]  C=437.8938903808594, fit_intercept=False, intercept_scaling=10, penalty=l2, solver=saga, score=(train=0.471, test=0.228), total=   0.0s\n",
      "[CV] C=437.8938903808594, fit_intercept=False, intercept_scaling=10, penalty=l2, solver=saga \n",
      "[CV]  C=437.8938903808594, fit_intercept=False, intercept_scaling=10, penalty=l2, solver=saga, score=(train=0.524, test=0.377), total=   0.0s\n",
      "[CV] C=437.8938903808594, fit_intercept=False, intercept_scaling=10, penalty=l2, solver=saga \n",
      "[CV]  C=437.8938903808594, fit_intercept=False, intercept_scaling=10, penalty=l2, solver=saga, score=(train=0.579, test=0.233), total=   0.0s\n",
      "[CV] C=437.8938903808594, fit_intercept=False, intercept_scaling=50, penalty=l1, solver=liblinear \n"
     ]
    },
    {
     "name": "stderr",
     "output_type": "stream",
     "text": [
      "C:\\Users\\72445\\AppData\\Local\\Continuum\\anaconda3\\lib\\site-packages\\sklearn\\linear_model\\logistic.py:469: FutureWarning: Default multi_class will be changed to 'auto' in 0.22. Specify the multi_class option to silence this warning.\n",
      "  \"this warning.\", FutureWarning)\n",
      "C:\\Users\\72445\\AppData\\Local\\Continuum\\anaconda3\\lib\\site-packages\\sklearn\\linear_model\\sag.py:337: ConvergenceWarning: The max_iter was reached which means the coef_ did not converge\n",
      "  \"the coef_ did not converge\", ConvergenceWarning)\n",
      "C:\\Users\\72445\\AppData\\Local\\Continuum\\anaconda3\\lib\\site-packages\\sklearn\\linear_model\\logistic.py:469: FutureWarning: Default multi_class will be changed to 'auto' in 0.22. Specify the multi_class option to silence this warning.\n",
      "  \"this warning.\", FutureWarning)\n",
      "C:\\Users\\72445\\AppData\\Local\\Continuum\\anaconda3\\lib\\site-packages\\sklearn\\linear_model\\sag.py:337: ConvergenceWarning: The max_iter was reached which means the coef_ did not converge\n",
      "  \"the coef_ did not converge\", ConvergenceWarning)\n",
      "C:\\Users\\72445\\AppData\\Local\\Continuum\\anaconda3\\lib\\site-packages\\sklearn\\linear_model\\logistic.py:469: FutureWarning: Default multi_class will be changed to 'auto' in 0.22. Specify the multi_class option to silence this warning.\n",
      "  \"this warning.\", FutureWarning)\n",
      "C:\\Users\\72445\\AppData\\Local\\Continuum\\anaconda3\\lib\\site-packages\\sklearn\\linear_model\\sag.py:337: ConvergenceWarning: The max_iter was reached which means the coef_ did not converge\n",
      "  \"the coef_ did not converge\", ConvergenceWarning)\n",
      "C:\\Users\\72445\\AppData\\Local\\Continuum\\anaconda3\\lib\\site-packages\\sklearn\\linear_model\\logistic.py:469: FutureWarning: Default multi_class will be changed to 'auto' in 0.22. Specify the multi_class option to silence this warning.\n",
      "  \"this warning.\", FutureWarning)\n",
      "C:\\Users\\72445\\AppData\\Local\\Continuum\\anaconda3\\lib\\site-packages\\sklearn\\linear_model\\logistic.py:469: FutureWarning: Default multi_class will be changed to 'auto' in 0.22. Specify the multi_class option to silence this warning.\n",
      "  \"this warning.\", FutureWarning)\n"
     ]
    },
    {
     "name": "stdout",
     "output_type": "stream",
     "text": [
      "[CV]  C=437.8938903808594, fit_intercept=False, intercept_scaling=50, penalty=l1, solver=liblinear, score=(train=0.439, test=0.390), total=   0.0s\n",
      "[CV] C=437.8938903808594, fit_intercept=False, intercept_scaling=50, penalty=l1, solver=liblinear \n",
      "[CV]  C=437.8938903808594, fit_intercept=False, intercept_scaling=50, penalty=l1, solver=liblinear, score=(train=0.549, test=0.459), total=   0.0s\n",
      "[CV] C=437.8938903808594, fit_intercept=False, intercept_scaling=50, penalty=l1, solver=liblinear \n",
      "[CV]  C=437.8938903808594, fit_intercept=False, intercept_scaling=50, penalty=l1, solver=liblinear, score=(train=0.541, test=0.233), total=   0.0s\n",
      "[CV] C=437.8938903808594, fit_intercept=False, intercept_scaling=50, penalty=l1, solver=saga \n",
      "[CV]  C=437.8938903808594, fit_intercept=False, intercept_scaling=50, penalty=l1, solver=saga, score=(train=0.471, test=0.228), total=   0.0s\n",
      "[CV] C=437.8938903808594, fit_intercept=False, intercept_scaling=50, penalty=l1, solver=saga \n",
      "[CV]  C=437.8938903808594, fit_intercept=False, intercept_scaling=50, penalty=l1, solver=saga, score=(train=0.524, test=0.377), total=   0.0s\n",
      "[CV] C=437.8938903808594, fit_intercept=False, intercept_scaling=50, penalty=l1, solver=saga \n",
      "[CV]  C=437.8938903808594, fit_intercept=False, intercept_scaling=50, penalty=l1, solver=saga, score=(train=0.579, test=0.233), total=   0.0s\n",
      "[CV] C=437.8938903808594, fit_intercept=False, intercept_scaling=50, penalty=l2, solver=liblinear \n",
      "[CV]  C=437.8938903808594, fit_intercept=False, intercept_scaling=50, penalty=l2, solver=liblinear, score=(train=0.439, test=0.390), total=   0.0s\n",
      "[CV] C=437.8938903808594, fit_intercept=False, intercept_scaling=50, penalty=l2, solver=liblinear \n",
      "[CV]  C=437.8938903808594, fit_intercept=False, intercept_scaling=50, penalty=l2, solver=liblinear, score=(train=0.567, test=0.459), total=   0.0s\n",
      "[CV] C=437.8938903808594, fit_intercept=False, intercept_scaling=50, penalty=l2, solver=liblinear \n",
      "[CV]  C=437.8938903808594, fit_intercept=False, intercept_scaling=50, penalty=l2, solver=liblinear, score=(train=0.541, test=0.233), total=   0.0s\n",
      "[CV] C=437.8938903808594, fit_intercept=False, intercept_scaling=50, penalty=l2, solver=saga \n"
     ]
    },
    {
     "name": "stderr",
     "output_type": "stream",
     "text": [
      "C:\\Users\\72445\\AppData\\Local\\Continuum\\anaconda3\\lib\\site-packages\\sklearn\\linear_model\\logistic.py:469: FutureWarning: Default multi_class will be changed to 'auto' in 0.22. Specify the multi_class option to silence this warning.\n",
      "  \"this warning.\", FutureWarning)\n",
      "C:\\Users\\72445\\AppData\\Local\\Continuum\\anaconda3\\lib\\site-packages\\sklearn\\linear_model\\logistic.py:469: FutureWarning: Default multi_class will be changed to 'auto' in 0.22. Specify the multi_class option to silence this warning.\n",
      "  \"this warning.\", FutureWarning)\n",
      "C:\\Users\\72445\\AppData\\Local\\Continuum\\anaconda3\\lib\\site-packages\\sklearn\\linear_model\\sag.py:337: ConvergenceWarning: The max_iter was reached which means the coef_ did not converge\n",
      "  \"the coef_ did not converge\", ConvergenceWarning)\n",
      "C:\\Users\\72445\\AppData\\Local\\Continuum\\anaconda3\\lib\\site-packages\\sklearn\\linear_model\\logistic.py:469: FutureWarning: Default multi_class will be changed to 'auto' in 0.22. Specify the multi_class option to silence this warning.\n",
      "  \"this warning.\", FutureWarning)\n",
      "C:\\Users\\72445\\AppData\\Local\\Continuum\\anaconda3\\lib\\site-packages\\sklearn\\linear_model\\sag.py:337: ConvergenceWarning: The max_iter was reached which means the coef_ did not converge\n",
      "  \"the coef_ did not converge\", ConvergenceWarning)\n",
      "C:\\Users\\72445\\AppData\\Local\\Continuum\\anaconda3\\lib\\site-packages\\sklearn\\linear_model\\logistic.py:469: FutureWarning: Default multi_class will be changed to 'auto' in 0.22. Specify the multi_class option to silence this warning.\n",
      "  \"this warning.\", FutureWarning)\n",
      "C:\\Users\\72445\\AppData\\Local\\Continuum\\anaconda3\\lib\\site-packages\\sklearn\\linear_model\\sag.py:337: ConvergenceWarning: The max_iter was reached which means the coef_ did not converge\n",
      "  \"the coef_ did not converge\", ConvergenceWarning)\n",
      "C:\\Users\\72445\\AppData\\Local\\Continuum\\anaconda3\\lib\\site-packages\\sklearn\\linear_model\\logistic.py:469: FutureWarning: Default multi_class will be changed to 'auto' in 0.22. Specify the multi_class option to silence this warning.\n",
      "  \"this warning.\", FutureWarning)\n",
      "C:\\Users\\72445\\AppData\\Local\\Continuum\\anaconda3\\lib\\site-packages\\sklearn\\linear_model\\logistic.py:469: FutureWarning: Default multi_class will be changed to 'auto' in 0.22. Specify the multi_class option to silence this warning.\n",
      "  \"this warning.\", FutureWarning)\n",
      "C:\\Users\\72445\\AppData\\Local\\Continuum\\anaconda3\\lib\\site-packages\\sklearn\\linear_model\\logistic.py:469: FutureWarning: Default multi_class will be changed to 'auto' in 0.22. Specify the multi_class option to silence this warning.\n",
      "  \"this warning.\", FutureWarning)\n",
      "C:\\Users\\72445\\AppData\\Local\\Continuum\\anaconda3\\lib\\site-packages\\sklearn\\linear_model\\logistic.py:469: FutureWarning: Default multi_class will be changed to 'auto' in 0.22. Specify the multi_class option to silence this warning.\n",
      "  \"this warning.\", FutureWarning)\n",
      "C:\\Users\\72445\\AppData\\Local\\Continuum\\anaconda3\\lib\\site-packages\\sklearn\\linear_model\\sag.py:337: ConvergenceWarning: The max_iter was reached which means the coef_ did not converge\n",
      "  \"the coef_ did not converge\", ConvergenceWarning)\n",
      "C:\\Users\\72445\\AppData\\Local\\Continuum\\anaconda3\\lib\\site-packages\\sklearn\\linear_model\\logistic.py:469: FutureWarning: Default multi_class will be changed to 'auto' in 0.22. Specify the multi_class option to silence this warning.\n",
      "  \"this warning.\", FutureWarning)\n",
      "C:\\Users\\72445\\AppData\\Local\\Continuum\\anaconda3\\lib\\site-packages\\sklearn\\linear_model\\sag.py:337: ConvergenceWarning: The max_iter was reached which means the coef_ did not converge\n",
      "  \"the coef_ did not converge\", ConvergenceWarning)\n",
      "C:\\Users\\72445\\AppData\\Local\\Continuum\\anaconda3\\lib\\site-packages\\sklearn\\linear_model\\logistic.py:469: FutureWarning: Default multi_class will be changed to 'auto' in 0.22. Specify the multi_class option to silence this warning.\n",
      "  \"this warning.\", FutureWarning)\n",
      "C:\\Users\\72445\\AppData\\Local\\Continuum\\anaconda3\\lib\\site-packages\\sklearn\\linear_model\\sag.py:337: ConvergenceWarning: The max_iter was reached which means the coef_ did not converge\n",
      "  \"the coef_ did not converge\", ConvergenceWarning)\n"
     ]
    },
    {
     "name": "stdout",
     "output_type": "stream",
     "text": [
      "[CV]  C=437.8938903808594, fit_intercept=False, intercept_scaling=50, penalty=l2, solver=saga, score=(train=0.471, test=0.228), total=   0.0s\n",
      "[CV] C=437.8938903808594, fit_intercept=False, intercept_scaling=50, penalty=l2, solver=saga \n",
      "[CV]  C=437.8938903808594, fit_intercept=False, intercept_scaling=50, penalty=l2, solver=saga, score=(train=0.524, test=0.377), total=   0.0s\n",
      "[CV] C=437.8938903808594, fit_intercept=False, intercept_scaling=50, penalty=l2, solver=saga \n",
      "[CV]  C=437.8938903808594, fit_intercept=False, intercept_scaling=50, penalty=l2, solver=saga, score=(train=0.579, test=0.233), total=   0.0s\n",
      "[CV] C=437.8938903808594, fit_intercept=False, intercept_scaling=100, penalty=l1, solver=liblinear \n",
      "[CV]  C=437.8938903808594, fit_intercept=False, intercept_scaling=100, penalty=l1, solver=liblinear, score=(train=0.439, test=0.390), total=   0.0s\n",
      "[CV] C=437.8938903808594, fit_intercept=False, intercept_scaling=100, penalty=l1, solver=liblinear \n",
      "[CV]  C=437.8938903808594, fit_intercept=False, intercept_scaling=100, penalty=l1, solver=liblinear, score=(train=0.549, test=0.459), total=   0.0s\n",
      "[CV] C=437.8938903808594, fit_intercept=False, intercept_scaling=100, penalty=l1, solver=liblinear \n",
      "[CV]  C=437.8938903808594, fit_intercept=False, intercept_scaling=100, penalty=l1, solver=liblinear, score=(train=0.541, test=0.233), total=   0.0s\n",
      "[CV] C=437.8938903808594, fit_intercept=False, intercept_scaling=100, penalty=l1, solver=saga \n",
      "[CV]  C=437.8938903808594, fit_intercept=False, intercept_scaling=100, penalty=l1, solver=saga, score=(train=0.471, test=0.228), total=   0.0s\n",
      "[CV] C=437.8938903808594, fit_intercept=False, intercept_scaling=100, penalty=l1, solver=saga \n",
      "[CV]  C=437.8938903808594, fit_intercept=False, intercept_scaling=100, penalty=l1, solver=saga, score=(train=0.524, test=0.377), total=   0.0s\n",
      "[CV] C=437.8938903808594, fit_intercept=False, intercept_scaling=100, penalty=l1, solver=saga \n",
      "[CV]  C=437.8938903808594, fit_intercept=False, intercept_scaling=100, penalty=l1, solver=saga, score=(train=0.579, test=0.233), total=   0.0s"
     ]
    },
    {
     "name": "stderr",
     "output_type": "stream",
     "text": [
      "C:\\Users\\72445\\AppData\\Local\\Continuum\\anaconda3\\lib\\site-packages\\sklearn\\linear_model\\logistic.py:469: FutureWarning: Default multi_class will be changed to 'auto' in 0.22. Specify the multi_class option to silence this warning.\n",
      "  \"this warning.\", FutureWarning)\n",
      "C:\\Users\\72445\\AppData\\Local\\Continuum\\anaconda3\\lib\\site-packages\\sklearn\\linear_model\\logistic.py:469: FutureWarning: Default multi_class will be changed to 'auto' in 0.22. Specify the multi_class option to silence this warning.\n",
      "  \"this warning.\", FutureWarning)\n",
      "C:\\Users\\72445\\AppData\\Local\\Continuum\\anaconda3\\lib\\site-packages\\sklearn\\linear_model\\logistic.py:469: FutureWarning: Default multi_class will be changed to 'auto' in 0.22. Specify the multi_class option to silence this warning.\n",
      "  \"this warning.\", FutureWarning)\n",
      "C:\\Users\\72445\\AppData\\Local\\Continuum\\anaconda3\\lib\\site-packages\\sklearn\\linear_model\\logistic.py:469: FutureWarning: Default multi_class will be changed to 'auto' in 0.22. Specify the multi_class option to silence this warning.\n",
      "  \"this warning.\", FutureWarning)\n",
      "C:\\Users\\72445\\AppData\\Local\\Continuum\\anaconda3\\lib\\site-packages\\sklearn\\linear_model\\sag.py:337: ConvergenceWarning: The max_iter was reached which means the coef_ did not converge\n",
      "  \"the coef_ did not converge\", ConvergenceWarning)\n",
      "C:\\Users\\72445\\AppData\\Local\\Continuum\\anaconda3\\lib\\site-packages\\sklearn\\linear_model\\logistic.py:469: FutureWarning: Default multi_class will be changed to 'auto' in 0.22. Specify the multi_class option to silence this warning.\n",
      "  \"this warning.\", FutureWarning)\n",
      "C:\\Users\\72445\\AppData\\Local\\Continuum\\anaconda3\\lib\\site-packages\\sklearn\\linear_model\\sag.py:337: ConvergenceWarning: The max_iter was reached which means the coef_ did not converge\n",
      "  \"the coef_ did not converge\", ConvergenceWarning)\n",
      "C:\\Users\\72445\\AppData\\Local\\Continuum\\anaconda3\\lib\\site-packages\\sklearn\\linear_model\\logistic.py:469: FutureWarning: Default multi_class will be changed to 'auto' in 0.22. Specify the multi_class option to silence this warning.\n",
      "  \"this warning.\", FutureWarning)\n",
      "C:\\Users\\72445\\AppData\\Local\\Continuum\\anaconda3\\lib\\site-packages\\sklearn\\linear_model\\sag.py:337: ConvergenceWarning: The max_iter was reached which means the coef_ did not converge\n",
      "  \"the coef_ did not converge\", ConvergenceWarning)\n",
      "C:\\Users\\72445\\AppData\\Local\\Continuum\\anaconda3\\lib\\site-packages\\sklearn\\linear_model\\logistic.py:469: FutureWarning: Default multi_class will be changed to 'auto' in 0.22. Specify the multi_class option to silence this warning.\n",
      "  \"this warning.\", FutureWarning)\n"
     ]
    },
    {
     "name": "stdout",
     "output_type": "stream",
     "text": [
      "\n",
      "[CV] C=437.8938903808594, fit_intercept=False, intercept_scaling=100, penalty=l2, solver=liblinear \n",
      "[CV]  C=437.8938903808594, fit_intercept=False, intercept_scaling=100, penalty=l2, solver=liblinear, score=(train=0.439, test=0.390), total=   0.1s\n",
      "[CV] C=437.8938903808594, fit_intercept=False, intercept_scaling=100, penalty=l2, solver=liblinear \n",
      "[CV]  C=437.8938903808594, fit_intercept=False, intercept_scaling=100, penalty=l2, solver=liblinear, score=(train=0.567, test=0.459), total=   0.0s\n",
      "[CV] C=437.8938903808594, fit_intercept=False, intercept_scaling=100, penalty=l2, solver=liblinear \n",
      "[CV]  C=437.8938903808594, fit_intercept=False, intercept_scaling=100, penalty=l2, solver=liblinear, score=(train=0.541, test=0.233), total=   0.0s\n",
      "[CV] C=437.8938903808594, fit_intercept=False, intercept_scaling=100, penalty=l2, solver=saga \n",
      "[CV]  C=437.8938903808594, fit_intercept=False, intercept_scaling=100, penalty=l2, solver=saga, score=(train=0.471, test=0.228), total=   0.0s\n",
      "[CV] C=437.8938903808594, fit_intercept=False, intercept_scaling=100, penalty=l2, solver=saga \n",
      "[CV]  C=437.8938903808594, fit_intercept=False, intercept_scaling=100, penalty=l2, solver=saga, score=(train=0.524, test=0.377), total=   0.0s\n",
      "[CV] C=437.8938903808594, fit_intercept=False, intercept_scaling=100, penalty=l2, solver=saga \n",
      "[CV]  C=437.8938903808594, fit_intercept=False, intercept_scaling=100, penalty=l2, solver=saga, score=(train=0.579, test=0.233), total=   0.0s\n"
     ]
    },
    {
     "name": "stderr",
     "output_type": "stream",
     "text": [
      "C:\\Users\\72445\\AppData\\Local\\Continuum\\anaconda3\\lib\\site-packages\\sklearn\\linear_model\\logistic.py:469: FutureWarning: Default multi_class will be changed to 'auto' in 0.22. Specify the multi_class option to silence this warning.\n",
      "  \"this warning.\", FutureWarning)\n",
      "C:\\Users\\72445\\AppData\\Local\\Continuum\\anaconda3\\lib\\site-packages\\sklearn\\linear_model\\logistic.py:469: FutureWarning: Default multi_class will be changed to 'auto' in 0.22. Specify the multi_class option to silence this warning.\n",
      "  \"this warning.\", FutureWarning)\n",
      "C:\\Users\\72445\\AppData\\Local\\Continuum\\anaconda3\\lib\\site-packages\\sklearn\\linear_model\\logistic.py:469: FutureWarning: Default multi_class will be changed to 'auto' in 0.22. Specify the multi_class option to silence this warning.\n",
      "  \"this warning.\", FutureWarning)\n",
      "C:\\Users\\72445\\AppData\\Local\\Continuum\\anaconda3\\lib\\site-packages\\sklearn\\linear_model\\sag.py:337: ConvergenceWarning: The max_iter was reached which means the coef_ did not converge\n",
      "  \"the coef_ did not converge\", ConvergenceWarning)\n",
      "C:\\Users\\72445\\AppData\\Local\\Continuum\\anaconda3\\lib\\site-packages\\sklearn\\linear_model\\logistic.py:469: FutureWarning: Default multi_class will be changed to 'auto' in 0.22. Specify the multi_class option to silence this warning.\n",
      "  \"this warning.\", FutureWarning)\n",
      "C:\\Users\\72445\\AppData\\Local\\Continuum\\anaconda3\\lib\\site-packages\\sklearn\\linear_model\\sag.py:337: ConvergenceWarning: The max_iter was reached which means the coef_ did not converge\n",
      "  \"the coef_ did not converge\", ConvergenceWarning)\n",
      "C:\\Users\\72445\\AppData\\Local\\Continuum\\anaconda3\\lib\\site-packages\\sklearn\\linear_model\\logistic.py:469: FutureWarning: Default multi_class will be changed to 'auto' in 0.22. Specify the multi_class option to silence this warning.\n",
      "  \"this warning.\", FutureWarning)\n",
      "C:\\Users\\72445\\AppData\\Local\\Continuum\\anaconda3\\lib\\site-packages\\sklearn\\linear_model\\sag.py:337: ConvergenceWarning: The max_iter was reached which means the coef_ did not converge\n",
      "  \"the coef_ did not converge\", ConvergenceWarning)\n",
      "[Parallel(n_jobs=1)]: Done 384 out of 384 | elapsed:   11.6s finished\n",
      "C:\\Users\\72445\\AppData\\Local\\Continuum\\anaconda3\\lib\\site-packages\\sklearn\\model_selection\\_search.py:813: DeprecationWarning: The default of the `iid` parameter will change from True to False in version 0.22 and will be removed in 0.24. This will change numeric results when test-set sizes are unequal.\n",
      "  DeprecationWarning)\n",
      "C:\\Users\\72445\\AppData\\Local\\Continuum\\anaconda3\\lib\\site-packages\\sklearn\\linear_model\\logistic.py:469: FutureWarning: Default multi_class will be changed to 'auto' in 0.22. Specify the multi_class option to silence this warning.\n",
      "  \"this warning.\", FutureWarning)\n"
     ]
    },
    {
     "data": {
      "text/plain": [
       "GridSearchCV(cv=3, error_score='raise-deprecating',\n",
       "             estimator=LogisticRegression(C=1.0, class_weight=None, dual=False,\n",
       "                                          fit_intercept=True,\n",
       "                                          intercept_scaling=1, l1_ratio=None,\n",
       "                                          max_iter=100, multi_class='warn',\n",
       "                                          n_jobs=None, penalty='l2',\n",
       "                                          random_state=None, solver='warn',\n",
       "                                          tol=0.0001, verbose=0,\n",
       "                                          warm_start=False),\n",
       "             iid='warn', n_jobs=None,\n",
       "             param_grid={'C': [1.0, 7.59375, 57.6650390625, 437.8938903808594],\n",
       "                         'fit_intercept': [True, False],\n",
       "                         'intercept_scaling': [1, 10, 50, 100],\n",
       "                         'penalty': ['l1', 'l2'],\n",
       "                         'solver': ['liblinear', 'saga']},\n",
       "             pre_dispatch='2*n_jobs', refit=True, return_train_score=True,\n",
       "             scoring='f1_macro', verbose=5)"
      ]
     },
     "execution_count": 12,
     "metadata": {},
     "output_type": "execute_result"
    }
   ],
   "source": [
    "search = GridSearchCV(clf, params, cv=3, return_train_score=True, verbose=5, scoring='f1_macro')\n",
    "\n",
    "search.fit(X,y)"
   ]
  },
  {
   "cell_type": "markdown",
   "metadata": {},
   "source": [
    "### Tuned Results"
   ]
  },
  {
   "cell_type": "code",
   "execution_count": 13,
   "metadata": {},
   "outputs": [
    {
     "name": "stdout",
     "output_type": "stream",
     "text": [
      "Mean Training Score: 0.5190979252173615\n",
      "Mean Testing Score: 0.5544365293812604\n",
      "\n",
      "Best Parameter Found:\n"
     ]
    },
    {
     "data": {
      "text/plain": [
       "{'C': 57.6650390625,\n",
       " 'fit_intercept': False,\n",
       " 'intercept_scaling': 1,\n",
       " 'penalty': 'l1',\n",
       " 'solver': 'liblinear'}"
      ]
     },
     "execution_count": 13,
     "metadata": {},
     "output_type": "execute_result"
    }
   ],
   "source": [
    "print(\"Mean Training Score:\", np.mean(search.cv_results_['mean_train_score']))\n",
    "print(\"Mean Testing Score:\", search.score(X, y))\n",
    "print(\"\\nBest Parameter Found:\")\n",
    "search.best_params_"
   ]
  },
  {
   "cell_type": "markdown",
   "metadata": {},
   "source": [
    "### Model with the Best Parameters"
   ]
  },
  {
   "cell_type": "code",
   "execution_count": 14,
   "metadata": {},
   "outputs": [
    {
     "name": "stderr",
     "output_type": "stream",
     "text": [
      "C:\\Users\\72445\\AppData\\Local\\Continuum\\anaconda3\\lib\\site-packages\\sklearn\\linear_model\\logistic.py:469: FutureWarning: Default multi_class will be changed to 'auto' in 0.22. Specify the multi_class option to silence this warning.\n",
      "  \"this warning.\", FutureWarning)\n"
     ]
    },
    {
     "data": {
      "text/plain": [
       "LogisticRegression(C=57.6650390625, class_weight=None, dual=False,\n",
       "                   fit_intercept=False, intercept_scaling=1, l1_ratio=None,\n",
       "                   max_iter=100, multi_class='warn', n_jobs=None, penalty='l1',\n",
       "                   random_state=None, solver='liblinear', tol=0.0001, verbose=0,\n",
       "                   warm_start=False)"
      ]
     },
     "execution_count": 14,
     "metadata": {},
     "output_type": "execute_result"
    }
   ],
   "source": [
    "search_clf = search.best_estimator_\n",
    "\n",
    "search_clf.fit(X_train, y_train)"
   ]
  },
  {
   "cell_type": "markdown",
   "metadata": {},
   "source": [
    "#### Results from Optimum Parameters"
   ]
  },
  {
   "cell_type": "code",
   "execution_count": 15,
   "metadata": {},
   "outputs": [
    {
     "name": "stdout",
     "output_type": "stream",
     "text": [
      "              precision    recall  f1-score   support\n",
      "\n",
      "        Sell       0.67      0.44      0.53         9\n",
      "         Buy       0.67      0.57      0.62         7\n",
      "        Hold       0.20      1.00      0.33         1\n",
      "\n",
      "    accuracy                           0.53        17\n",
      "   macro avg       0.51      0.67      0.49        17\n",
      "weighted avg       0.64      0.53      0.56        17\n",
      "\n"
     ]
    }
   ],
   "source": [
    "# Classifier predictions\n",
    "s_pred = search_clf.predict(X_test)\n",
    "\n",
    "#Printing out results\n",
    "report = classification_report(y_test, s_pred, target_names=['Sell', 'Buy', 'Hold'])\n",
    "print(report)"
   ]
  },
  {
   "cell_type": "markdown",
   "metadata": {},
   "source": [
    "### Confusion Matrix for Optimum Parameters"
   ]
  },
  {
   "cell_type": "code",
   "execution_count": 16,
   "metadata": {},
   "outputs": [
    {
     "data": {
      "image/png": "[encoded data removed]",
      "text/plain": [
       "<Figure size 864x432 with 2 Axes>"
      ]
     },
     "metadata": {
      "needs_background": "light"
     },
     "output_type": "display_data"
    }
   ],
   "source": [
    "plot_confusion_matrix(y_test, s_pred, title=\"Confusion Matrix\")\n",
    "np.set_printoptions(precision=1)\n",
    "# Plot non-normalized confusion matrix\n",
    "plt.show()"
   ]
  },
  {
   "cell_type": "code",
   "execution_count": null,
   "metadata": {},
   "outputs": [],
   "source": []
  }
 ],
 "metadata": {
  "kernelspec": {
   "display_name": "Python 3",
   "language": "python",
   "name": "python3"
  },
  "language_info": {
   "codemirror_mode": {
    "name": "ipython",
    "version": 3
   },
   "file_extension": ".py",
   "mimetype": "text/x-python",
   "name": "python",
   "nbconvert_exporter": "python",
   "pygments_lexer": "ipython3",
   "version": "3.7.3"
  }
 },
 "nbformat": 4,
 "nbformat_minor": 2
}
